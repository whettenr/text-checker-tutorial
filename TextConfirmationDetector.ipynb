{
 "cells": [
  {
   "cell_type": "code",
   "execution_count": 1,
   "id": "86e97467",
   "metadata": {},
   "outputs": [],
   "source": [
    "import numpy as np\n",
    "import pandas as pd\n",
    "import matplotlib.pyplot as plt # make figs.\n",
    "import re\n",
    "%matplotlib inline"
   ]
  },
  {
   "attachments": {},
   "cell_type": "markdown",
   "id": "84e2a1c6",
   "metadata": {},
   "source": [
    "## Read in and clean data"
   ]
  },
  {
   "cell_type": "code",
   "execution_count": 2,
   "id": "29736abb",
   "metadata": {},
   "outputs": [
    {
     "data": {
      "text/plain": [
       "[\"Hi [boss/coworker], just wanted to let you know that I finished the project and it's ready for your review. Let me know if you need anything else from me.\",\n",
       " '',\n",
       " \"Good morning [boss/coworker], I'm running a few minutes late today due to traffic. I should be in the office by [time].\",\n",
       " '']"
      ]
     },
     "execution_count": 2,
     "metadata": {},
     "output_type": "execute_result"
    }
   ],
   "source": [
    "pos_sents = open('pos_sentences.txt', 'r').read().splitlines() # read in data line-by-line\n",
    "neg_sents = open('neg_sentences.txt', 'r').read().splitlines()\n",
    "neg_sents[:4] # this line outputs the first 4 lines"
   ]
  },
  {
   "cell_type": "code",
   "execution_count": 3,
   "id": "bd28614c",
   "metadata": {},
   "outputs": [],
   "source": [
    "pos_sents = [s for s in pos_sents if s]\n",
    "neg_sents = [s for s in neg_sents if s]"
   ]
  },
  {
   "cell_type": "code",
   "execution_count": 4,
   "id": "4fbbc7f1",
   "metadata": {},
   "outputs": [
    {
     "data": {
      "text/plain": [
       "\"Good morning [boss/coworker], I'm running a few minutes late today due to traffic. I should be in the office by [time].\""
      ]
     },
     "execution_count": 4,
     "metadata": {},
     "output_type": "execute_result"
    }
   ],
   "source": [
    "neg_sents[1]"
   ]
  },
  {
   "cell_type": "code",
   "execution_count": 5,
   "id": "74aeaedf",
   "metadata": {},
   "outputs": [
    {
     "data": {
      "text/plain": [
       "\"Good morning I'm running a few minutes late today due to traffic. I should be in the office by\""
      ]
     },
     "execution_count": 5,
     "metadata": {},
     "output_type": "execute_result"
    }
   ],
   "source": [
    "re.sub('.\\[(.*?)\\].', '', neg_sents[1]) "
   ]
  },
  {
   "cell_type": "code",
   "execution_count": 6,
   "id": "dd4390fc",
   "metadata": {},
   "outputs": [],
   "source": [
    "neg_sents = [re.sub('.\\[(.*?)\\].', '', s) for s in neg_sents]"
   ]
  },
  {
   "cell_type": "code",
   "execution_count": 7,
   "id": "9907fa12",
   "metadata": {},
   "outputs": [
    {
     "name": "stdout",
     "output_type": "stream",
     "text": [
      "Train pos:  101\n",
      "Val pos:  26\n",
      "Train neg:  76\n",
      "Val neg:  20\n"
     ]
    }
   ],
   "source": [
    "train_pos = pos_sents[:int(len(pos_sents) * .8)]\n",
    "val_pos = pos_sents[int(len(pos_sents) * .8):]\n",
    "\n",
    "train_neg = neg_sents[:int(len(neg_sents) * .8)]\n",
    "val_neg = neg_sents[int(len(neg_sents) * .8):]\n",
    "\n",
    "print('Train pos: ', len(train_pos))\n",
    "print('Val pos: ', len(val_pos))\n",
    "print('Train neg: ', len(train_neg))\n",
    "print('Val neg: ', len(val_neg))\n",
    "\n",
    "# expected output\n",
    "# Train pos:  101\n",
    "# Val pos:  26\n",
    "# Train neg:  76\n",
    "# Val neg:  20\n"
   ]
  },
  {
   "cell_type": "code",
   "execution_count": 8,
   "id": "0f24033a",
   "metadata": {},
   "outputs": [
    {
     "data": {
      "text/plain": [
       "[1, 1, 0, 0, 0]"
      ]
     },
     "execution_count": 8,
     "metadata": {},
     "output_type": "execute_result"
    }
   ],
   "source": [
    "# [0] * len(train_pos) + [0] * len(train_neg)\n",
    "[1] * 2 + [0] * 3"
   ]
  },
  {
   "cell_type": "code",
   "execution_count": 9,
   "id": "1514e3a0",
   "metadata": {},
   "outputs": [
    {
     "data": {
      "text/html": [
       "<div>\n",
       "<style scoped>\n",
       "    .dataframe tbody tr th:only-of-type {\n",
       "        vertical-align: middle;\n",
       "    }\n",
       "\n",
       "    .dataframe tbody tr th {\n",
       "        vertical-align: top;\n",
       "    }\n",
       "\n",
       "    .dataframe thead th {\n",
       "        text-align: right;\n",
       "    }\n",
       "</style>\n",
       "<table border=\"1\" class=\"dataframe\">\n",
       "  <thead>\n",
       "    <tr style=\"text-align: right;\">\n",
       "      <th></th>\n",
       "      <th>target</th>\n",
       "      <th>text</th>\n",
       "    </tr>\n",
       "  </thead>\n",
       "  <tbody>\n",
       "    <tr>\n",
       "      <th>0</th>\n",
       "      <td>1</td>\n",
       "      <td>I can't stand working for this jerk. I'm so do...</td>\n",
       "    </tr>\n",
       "    <tr>\n",
       "      <th>1</th>\n",
       "      <td>1</td>\n",
       "      <td>I don't know how we're going to get this proje...</td>\n",
       "    </tr>\n",
       "    <tr>\n",
       "      <th>2</th>\n",
       "      <td>1</td>\n",
       "      <td>I'm so bored. Can't wait to get out of here an...</td>\n",
       "    </tr>\n",
       "    <tr>\n",
       "      <th>3</th>\n",
       "      <td>1</td>\n",
       "      <td>I'm calling in sick tomorrow. I can't handle a...</td>\n",
       "    </tr>\n",
       "    <tr>\n",
       "      <th>4</th>\n",
       "      <td>1</td>\n",
       "      <td>I just got offered a job with better pay and b...</td>\n",
       "    </tr>\n",
       "  </tbody>\n",
       "</table>\n",
       "</div>"
      ],
      "text/plain": [
       "   target                                               text\n",
       "0       1  I can't stand working for this jerk. I'm so do...\n",
       "1       1  I don't know how we're going to get this proje...\n",
       "2       1  I'm so bored. Can't wait to get out of here an...\n",
       "3       1  I'm calling in sick tomorrow. I can't handle a...\n",
       "4       1  I just got offered a job with better pay and b..."
      ]
     },
     "execution_count": 9,
     "metadata": {},
     "output_type": "execute_result"
    }
   ],
   "source": [
    "train_df = pd.DataFrame({\n",
    "    'target': [1] * len(train_pos) + [0] * len(train_neg),\n",
    "    'text': train_pos + train_neg,\n",
    "})\n",
    "\n",
    "val_df = pd.DataFrame({\n",
    "    'target': [1] * len(val_pos) + [0] * len(val_neg),\n",
    "    'text': val_pos + val_neg,\n",
    "})\n",
    "\n",
    "train_df.head()"
   ]
  },
  {
   "attachments": {},
   "cell_type": "markdown",
   "id": "8dee85ac",
   "metadata": {},
   "source": [
    "## EDA\n",
    "\n",
    "(Explore data)"
   ]
  },
  {
   "cell_type": "code",
   "execution_count": 10,
   "id": "702362cf",
   "metadata": {},
   "outputs": [],
   "source": [
    "# combine all text together\n",
    "pos_all = ' '.join(train_df[train_df.target == 1].text)\n",
    "neg_all = ' '.join(train_df[train_df.target == 0].text)\n",
    "\n"
   ]
  },
  {
   "cell_type": "code",
   "execution_count": 11,
   "id": "5c9b9b3e",
   "metadata": {},
   "outputs": [
    {
     "data": {
      "image/png": "[encoded data removed]",
      "text/plain": [
       "<Figure size 1200x800 with 1 Axes>"
      ]
     },
     "metadata": {},
     "output_type": "display_data"
    }
   ],
   "source": [
    "from wordcloud import WordCloud\n",
    "\n",
    "cloud = WordCloud(max_words=100,width=480, height=480, background_color='black', colormap='Reds')\n",
    "cloud.generate_from_text(pos_all)\n",
    "\n",
    "# cloud = WordCloud(max_words=100,width=480, height=480, background_color='black', colormap='Greens')\n",
    "# cloud.generate_from_text(neg_all)\n",
    "\n",
    "plt.figure(figsize=(12,8), dpi=100)\n",
    "plt.imshow(cloud)\n",
    "plt.axis('off')\n",
    "\n",
    "# plt.savefig('pos_sent_cloud.png', bbox_inches='tight', pad_inches=0, dpi=1000)\n",
    "# plt.savefig('neg_sent_cloud.png', bbox_inches='tight', pad_inches=0, dpi=1000)\n",
    "plt.show()\n"
   ]
  },
  {
   "cell_type": "code",
   "execution_count": 12,
   "id": "e0c57667",
   "metadata": {},
   "outputs": [
    {
     "name": "stdout",
     "output_type": "stream",
     "text": [
      "I\t114\n",
      "to\t80\n",
      "I'm\t59\n",
      "going\t35\n",
      "a\t35\n",
      "this\t25\n",
      "the\t24\n",
      "can't\t22\n",
      "my\t20\n",
      "have\t19\n"
     ]
    }
   ],
   "source": [
    "from collections import Counter\n",
    "\n",
    "pos_frequencies = Counter(pos_all.split())\n",
    "\n",
    "for word, freq in pos_frequencies.most_common(10):\n",
    "    print(\"{}\\t{}\".format(word, freq))\n"
   ]
  },
  {
   "cell_type": "code",
   "execution_count": 13,
   "id": "abc15705",
   "metadata": {},
   "outputs": [
    {
     "name": "stdout",
     "output_type": "stream",
     "text": [
      "to\t92\n",
      "the\t71\n",
      "I\t66\n",
      "you\t62\n",
      "a\t41\n",
      "Hi\t36\n",
      "for\t36\n",
      "wanted\t35\n",
      "I'm\t25\n",
      "be\t25\n"
     ]
    }
   ],
   "source": [
    "neg_frequencies = Counter(neg_all.split())\n",
    "\n",
    "for word, freq in neg_frequencies.most_common(10):\n",
    "    print(\"{}\\t{}\".format(word, freq))"
   ]
  },
  {
   "cell_type": "code",
   "execution_count": 14,
   "id": "fe44f290",
   "metadata": {},
   "outputs": [],
   "source": [
    "# cleaning more\n",
    "# nltk.download('omw-1.4')\n",
    "from nltk.stem import WordNetLemmatizer\n",
    "from nltk.corpus import stopwords\n",
    "\n",
    "wn = WordNetLemmatizer()\n",
    "sw = stopwords.words('english')\n",
    "\n",
    "def process_text(x):\n",
    "    x = x.lower()\n",
    "    tokens = x.split()\n",
    "    tokens = [tok for tok in tokens if tok.isalnum()]\n",
    "    tokens = [tok for tok in tokens if tok not in sw]\n",
    "    tokens = [wn.lemmatize(tok) for tok in tokens]\n",
    "    return \" \".join(tokens)\n",
    "\n",
    "train_df['processed_text'] = train_df.text.apply(process_text)\n",
    "val_df['processed_text'] = val_df.text.apply(process_text)"
   ]
  },
  {
   "cell_type": "code",
   "execution_count": 15,
   "id": "5ec6fa2a",
   "metadata": {},
   "outputs": [
    {
     "name": "stdout",
     "output_type": "stream",
     "text": [
      "going\t35\n",
      "need\t14\n",
      "take\t10\n",
      "late\t10\n",
      "believe\t8\n",
      "think\t8\n",
      "like\t7\n",
      "come\t7\n",
      "get\t6\n",
      "wait\t6\n"
     ]
    }
   ],
   "source": [
    "pos_frequencies_processed = Counter(process_text(pos_all).split())\n",
    "\n",
    "for word, freq in pos_frequencies_processed.most_common(10):\n",
    "    print(\"{}\\t{}\".format(word, freq))"
   ]
  },
  {
   "cell_type": "code",
   "execution_count": 16,
   "id": "2570e731",
   "metadata": {},
   "outputs": [
    {
     "name": "stdout",
     "output_type": "stream",
     "text": [
      "hi\t36\n",
      "wanted\t35\n",
      "good\t26\n",
      "professor\t20\n",
      "need\t17\n",
      "let\t13\n",
      "know\t13\n",
      "next\t10\n",
      "anything\t9\n",
      "morning\t9\n"
     ]
    }
   ],
   "source": [
    "neg_frequencies_processed = Counter(process_text(neg_all).split())\n",
    "\n",
    "for word, freq in neg_frequencies_processed.most_common(10):\n",
    "    print(\"{}\\t{}\".format(word, freq))"
   ]
  },
  {
   "attachments": {},
   "cell_type": "markdown",
   "id": "b4cb4a36",
   "metadata": {},
   "source": [
    "# Naive Bayes Classifier\n",
    "\n",
    "[Scikit-Learn Description](https://scikit-learn.org/stable/modules/naive_bayes.html#:~:text=Naive%20Bayes%20methods%20are%20a,value%20of%20the%20class%20variable.)\n",
    "\n",
    "*Bayes' Theorem:*\n",
    "\n",
    "$P(y|x_1, ..., x_n) = \\frac{P(y)P(x_1, ..., x_n|y)}{P(x_1, ..., x_n)}$ \n",
    "\n",
    "\n",
    "*The naive assumption (conditional independence)*\n",
    "\n",
    "$P(x_i|y, x_1, ..., x_n) = P(x_i|y)$ \n",
    "\n",
    "\n",
    "*Plugging assumtion in*\n",
    "\n",
    "$P(x_i|y, x_1, ..., x_n) \\propto P(y)\\Pi^{n}_{i=1}P(x_i|y)$ \n",
    "\n",
    "\n"
   ]
  },
  {
   "cell_type": "code",
   "execution_count": 17,
   "id": "fa5ea0fa",
   "metadata": {},
   "outputs": [
    {
     "name": "stdout",
     "output_type": "stream",
     "text": [
      "prob pos:  0.571\n",
      "prob neg:  0.429\n"
     ]
    },
    {
     "data": {
      "text/plain": [
       "True"
      ]
     },
     "execution_count": 17,
     "metadata": {},
     "output_type": "execute_result"
    }
   ],
   "source": [
    "# first let's get p(y == 1)\n",
    "# note mean of target is the same as (count of y==1) / (total count)\n",
    "\n",
    "pos_prob = train_df['target'].mean() \n",
    "print('prob pos: ', pos_prob.round(3))\n",
    "\n",
    "# now let's get p(y == 0)\n",
    "# similarly use mean trick to calculate (count of y==0) / (total count)\n",
    "\n",
    "neg_prob = (train_df['target'] == 0 ).mean()\n",
    "print('prob neg: ', neg_prob.round(3))\n",
    "\n",
    "# check for probabilit y distribution (should sum to 1)\n",
    "pos_prob + neg_prob == 1\n",
    "\n",
    "# expected output\n",
    "# prob pos:  0.571\n",
    "# prob neg:  0.429\n",
    "# True"
   ]
  },
  {
   "cell_type": "code",
   "execution_count": 18,
   "id": "98a99b24",
   "metadata": {},
   "outputs": [],
   "source": [
    "# now get P(x_i, y)\n",
    "def prob_wgt(word, target):\n",
    "  if target == 1:\n",
    "    count = pos_frequencies[word]\n",
    "    total = sum(pos_frequencies.values())\n",
    "  if target == 0:\n",
    "    count = neg_frequencies[word]\n",
    "    total = sum(neg_frequencies.values())\n",
    "  # smoothing\n",
    "  if count == 0:\n",
    "    count = 1e-5\n",
    "  return count/total\n",
    "\n",
    "# def prob_wgt(word, target):\n",
    "#   if target == 1:\n",
    "#     count = pos_frequencies_processed[word]\n",
    "#     total = sum(pos_frequencies_processed.values())\n",
    "#   if target == 0:\n",
    "#     count = neg_frequencies_processed[word]\n",
    "#     total = sum(neg_frequencies_processed.values())\n",
    "#   if count == 0:\n",
    "#     count = 1e-5\n",
    "#   return count/total"
   ]
  },
  {
   "cell_type": "code",
   "execution_count": 19,
   "id": "da66f9e7",
   "metadata": {},
   "outputs": [
    {
     "data": {
      "text/plain": [
       "0.0007062146892655367"
      ]
     },
     "execution_count": 19,
     "metadata": {},
     "output_type": "execute_result"
    }
   ],
   "source": [
    "prob_wgt('morning', 1)\n",
    "# 0.0007062146892655367"
   ]
  },
  {
   "cell_type": "code",
   "execution_count": 20,
   "id": "a806dc88",
   "metadata": {},
   "outputs": [
    {
     "data": {
      "text/plain": [
       "0.0056568196103079825"
      ]
     },
     "execution_count": 20,
     "metadata": {},
     "output_type": "execute_result"
    }
   ],
   "source": [
    "prob_wgt('morning', 0)\n",
    "# 0.0056568196103079825"
   ]
  },
  {
   "attachments": {},
   "cell_type": "markdown",
   "id": "2ac19220",
   "metadata": {},
   "source": [
    "Morning is more likely to come from class 0 than lass 1."
   ]
  },
  {
   "cell_type": "code",
   "execution_count": 21,
   "id": "a9c4689c",
   "metadata": {},
   "outputs": [
    {
     "data": {
      "text/plain": [
       "array([1, 0])"
      ]
     },
     "execution_count": 21,
     "metadata": {},
     "output_type": "execute_result"
    }
   ],
   "source": [
    "train_df.target.unique()"
   ]
  },
  {
   "cell_type": "code",
   "execution_count": 22,
   "id": "6a19a29d",
   "metadata": {},
   "outputs": [],
   "source": [
    "def predict_target(text):\n",
    "  probs = {}\n",
    "  for cat in [0,1]:\n",
    "    # print(f'Class: {cat}')\n",
    "    nll = 0\n",
    "    for w in text.split():\n",
    "      nll += -np.log(prob_wgt(w, cat))\n",
    "      # print(f'word: {w}\\t prob: {prob_wgt(w, cat):.5f}\\t current nll: {nll:.2f}')\n",
    "    probs[cat] = nll\n",
    "\n",
    "  # print(probs)\n",
    "  \n",
    "  if (probs[0] - np.log(pos_prob)) < (probs[1] - np.log(pos_prob)):\n",
    "    return 0  \n",
    "  if probs[0] >= probs[1]:\n",
    "    return 1 \n",
    "  \n",
    "  \n"
   ]
  },
  {
   "cell_type": "code",
   "execution_count": 23,
   "id": "bd866d15",
   "metadata": {},
   "outputs": [
    {
     "data": {
      "text/plain": [
       "1"
      ]
     },
     "execution_count": 23,
     "metadata": {},
     "output_type": "execute_result"
    }
   ],
   "source": [
    "predict_target(\"I hate you\")\n",
    "\n",
    "# Class: 0\n",
    "# word: hate\t prob: 0.00000\t current nll: 18.89\n",
    "# word: you\t prob: 0.03897\t current nll: 22.13\n",
    "# Class: 1\n",
    "# word: hate\t prob: 0.00212\t current nll: 6.16\n",
    "# word: you\t prob: 0.01271\t current nll: 10.52\n",
    "# 1"
   ]
  },
  {
   "cell_type": "code",
   "execution_count": 24,
   "id": "ac833497",
   "metadata": {},
   "outputs": [
    {
     "data": {
      "text/html": [
       "<div>\n",
       "<style scoped>\n",
       "    .dataframe tbody tr th:only-of-type {\n",
       "        vertical-align: middle;\n",
       "    }\n",
       "\n",
       "    .dataframe tbody tr th {\n",
       "        vertical-align: top;\n",
       "    }\n",
       "\n",
       "    .dataframe thead th {\n",
       "        text-align: right;\n",
       "    }\n",
       "</style>\n",
       "<table border=\"1\" class=\"dataframe\">\n",
       "  <thead>\n",
       "    <tr style=\"text-align: right;\">\n",
       "      <th></th>\n",
       "      <th>target</th>\n",
       "      <th>text</th>\n",
       "      <th>processed_text</th>\n",
       "    </tr>\n",
       "  </thead>\n",
       "  <tbody>\n",
       "    <tr>\n",
       "      <th>0</th>\n",
       "      <td>1</td>\n",
       "      <td>I'm so mad at my partner right now. I can't be...</td>\n",
       "      <td>mad partner right believe</td>\n",
       "    </tr>\n",
       "    <tr>\n",
       "      <th>1</th>\n",
       "      <td>1</td>\n",
       "      <td>I'm going to fake being sick tomorrow so I can...</td>\n",
       "      <td>going fake sick tomorrow skip</td>\n",
       "    </tr>\n",
       "    <tr>\n",
       "      <th>2</th>\n",
       "      <td>1</td>\n",
       "      <td>I don't know how to tell my friend that I don'...</td>\n",
       "      <td>know tell friend want hang</td>\n",
       "    </tr>\n",
       "    <tr>\n",
       "      <th>3</th>\n",
       "      <td>1</td>\n",
       "      <td>I can't stand this professor. They have no ide...</td>\n",
       "      <td>stand idea teach</td>\n",
       "    </tr>\n",
       "    <tr>\n",
       "      <th>4</th>\n",
       "      <td>1</td>\n",
       "      <td>I'm going to cheat on this test. I need to pass.</td>\n",
       "      <td>going cheat need</td>\n",
       "    </tr>\n",
       "  </tbody>\n",
       "</table>\n",
       "</div>"
      ],
      "text/plain": [
       "   target                                               text  \\\n",
       "0       1  I'm so mad at my partner right now. I can't be...   \n",
       "1       1  I'm going to fake being sick tomorrow so I can...   \n",
       "2       1  I don't know how to tell my friend that I don'...   \n",
       "3       1  I can't stand this professor. They have no ide...   \n",
       "4       1   I'm going to cheat on this test. I need to pass.   \n",
       "\n",
       "                  processed_text  \n",
       "0      mad partner right believe  \n",
       "1  going fake sick tomorrow skip  \n",
       "2     know tell friend want hang  \n",
       "3               stand idea teach  \n",
       "4               going cheat need  "
      ]
     },
     "execution_count": 24,
     "metadata": {},
     "output_type": "execute_result"
    }
   ],
   "source": [
    "val_df.head()"
   ]
  },
  {
   "cell_type": "code",
   "execution_count": 25,
   "id": "8c935207",
   "metadata": {},
   "outputs": [],
   "source": [
    "train_df['nb_prediction'] = train_df.text.apply(predict_target)\n",
    "val_df['nb_prediction'] = val_df.text.apply(predict_target)\n"
   ]
  },
  {
   "cell_type": "code",
   "execution_count": 26,
   "id": "48de8663",
   "metadata": {},
   "outputs": [
    {
     "name": "stdout",
     "output_type": "stream",
     "text": [
      "train acc:  1.0\n",
      "val acc:    0.9565\n"
     ]
    }
   ],
   "source": [
    "print('train acc: ', (train_df.target == train_df.nb_prediction).mean().round(4))\n",
    "print('val acc:   ', (val_df.target == val_df.nb_prediction).mean().round(4))\n",
    "\n",
    "# train acc:  1.0\n",
    "# val acc:    0.9565"
   ]
  },
  {
   "cell_type": "code",
   "execution_count": 27,
   "id": "9328e0ae",
   "metadata": {},
   "outputs": [
    {
     "data": {
      "text/html": [
       "<div>\n",
       "<style scoped>\n",
       "    .dataframe tbody tr th:only-of-type {\n",
       "        vertical-align: middle;\n",
       "    }\n",
       "\n",
       "    .dataframe tbody tr th {\n",
       "        vertical-align: top;\n",
       "    }\n",
       "\n",
       "    .dataframe thead th {\n",
       "        text-align: right;\n",
       "    }\n",
       "</style>\n",
       "<table border=\"1\" class=\"dataframe\">\n",
       "  <thead>\n",
       "    <tr style=\"text-align: right;\">\n",
       "      <th></th>\n",
       "      <th>0</th>\n",
       "      <th>1</th>\n",
       "    </tr>\n",
       "  </thead>\n",
       "  <tbody>\n",
       "    <tr>\n",
       "      <th>0</th>\n",
       "      <td>76</td>\n",
       "      <td>0</td>\n",
       "    </tr>\n",
       "    <tr>\n",
       "      <th>1</th>\n",
       "      <td>0</td>\n",
       "      <td>101</td>\n",
       "    </tr>\n",
       "  </tbody>\n",
       "</table>\n",
       "</div>"
      ],
      "text/plain": [
       "    0    1\n",
       "0  76    0\n",
       "1   0  101"
      ]
     },
     "execution_count": 27,
     "metadata": {},
     "output_type": "execute_result"
    }
   ],
   "source": [
    "from sklearn.metrics import confusion_matrix\n",
    "\n",
    "pd.DataFrame(confusion_matrix(train_df.target, train_df.nb_prediction))\n"
   ]
  },
  {
   "cell_type": "code",
   "execution_count": 28,
   "id": "3e3a7303",
   "metadata": {},
   "outputs": [
    {
     "data": {
      "text/html": [
       "<div>\n",
       "<style scoped>\n",
       "    .dataframe tbody tr th:only-of-type {\n",
       "        vertical-align: middle;\n",
       "    }\n",
       "\n",
       "    .dataframe tbody tr th {\n",
       "        vertical-align: top;\n",
       "    }\n",
       "\n",
       "    .dataframe thead th {\n",
       "        text-align: right;\n",
       "    }\n",
       "</style>\n",
       "<table border=\"1\" class=\"dataframe\">\n",
       "  <thead>\n",
       "    <tr style=\"text-align: right;\">\n",
       "      <th></th>\n",
       "      <th>0</th>\n",
       "      <th>1</th>\n",
       "    </tr>\n",
       "  </thead>\n",
       "  <tbody>\n",
       "    <tr>\n",
       "      <th>0</th>\n",
       "      <td>20</td>\n",
       "      <td>0</td>\n",
       "    </tr>\n",
       "    <tr>\n",
       "      <th>1</th>\n",
       "      <td>2</td>\n",
       "      <td>24</td>\n",
       "    </tr>\n",
       "  </tbody>\n",
       "</table>\n",
       "</div>"
      ],
      "text/plain": [
       "    0   1\n",
       "0  20   0\n",
       "1   2  24"
      ]
     },
     "execution_count": 28,
     "metadata": {},
     "output_type": "execute_result"
    }
   ],
   "source": [
    "pd.DataFrame(confusion_matrix(val_df.target, val_df.nb_prediction))"
   ]
  },
  {
   "cell_type": "code",
   "execution_count": 29,
   "id": "b5639da0",
   "metadata": {},
   "outputs": [
    {
     "data": {
      "text/html": [
       "<div>\n",
       "<style scoped>\n",
       "    .dataframe tbody tr th:only-of-type {\n",
       "        vertical-align: middle;\n",
       "    }\n",
       "\n",
       "    .dataframe tbody tr th {\n",
       "        vertical-align: top;\n",
       "    }\n",
       "\n",
       "    .dataframe thead th {\n",
       "        text-align: right;\n",
       "    }\n",
       "</style>\n",
       "<table border=\"1\" class=\"dataframe\">\n",
       "  <thead>\n",
       "    <tr style=\"text-align: right;\">\n",
       "      <th></th>\n",
       "      <th>text</th>\n",
       "      <th>target</th>\n",
       "      <th>nb_prediction</th>\n",
       "    </tr>\n",
       "  </thead>\n",
       "  <tbody>\n",
       "    <tr>\n",
       "      <th>12</th>\n",
       "      <td>I hate my in-laws. They drive me crazy every t...</td>\n",
       "      <td>1</td>\n",
       "      <td>0</td>\n",
       "    </tr>\n",
       "    <tr>\n",
       "      <th>25</th>\n",
       "      <td>I'm going to talk badly about my friend to our...</td>\n",
       "      <td>1</td>\n",
       "      <td>0</td>\n",
       "    </tr>\n",
       "  </tbody>\n",
       "</table>\n",
       "</div>"
      ],
      "text/plain": [
       "                                                 text  target  nb_prediction\n",
       "12  I hate my in-laws. They drive me crazy every t...       1              0\n",
       "25  I'm going to talk badly about my friend to our...       1              0"
      ]
     },
     "execution_count": 29,
     "metadata": {},
     "output_type": "execute_result"
    }
   ],
   "source": [
    "val_df[val_df.target != val_df.nb_prediction][['text', 'target', 'nb_prediction']]\n"
   ]
  },
  {
   "cell_type": "code",
   "execution_count": 30,
   "id": "99b8bedd",
   "metadata": {},
   "outputs": [
    {
     "data": {
      "text/plain": [
       "\"I'm going to talk badly about my friend to our mutual friends. They need to know the truth.\""
      ]
     },
     "execution_count": 30,
     "metadata": {},
     "output_type": "execute_result"
    }
   ],
   "source": [
    "val_df[val_df.target != val_df.nb_prediction].text[25]\n"
   ]
  },
  {
   "cell_type": "code",
   "execution_count": 31,
   "id": "2598f687",
   "metadata": {},
   "outputs": [
    {
     "data": {
      "text/plain": [
       "1"
      ]
     },
     "execution_count": 31,
     "metadata": {},
     "output_type": "execute_result"
    }
   ],
   "source": [
    "predict_target(\"I'm going to the gym\")"
   ]
  },
  {
   "attachments": {},
   "cell_type": "markdown",
   "id": "fc07e316",
   "metadata": {},
   "source": [
    "## TF-IDF w/Random Forest"
   ]
  },
  {
   "cell_type": "markdown",
   "id": "cd8e4bd9",
   "metadata": {},
   "source": []
  },
  {
   "cell_type": "code",
   "execution_count": 115,
   "id": "bd641c8e",
   "metadata": {},
   "outputs": [
    {
     "data": {
      "text/plain": [
       "<177x459 sparse matrix of type '<class 'numpy.float64'>'\n",
       "\twith 1293 stored elements in Compressed Sparse Row format>"
      ]
     },
     "execution_count": 115,
     "metadata": {},
     "output_type": "execute_result"
    }
   ],
   "source": [
    "from sklearn.feature_extraction.text import TfidfVectorizer\n",
    "from sklearn.ensemble import RandomForestClassifier\n",
    "\n",
    "vectorizer = TfidfVectorizer(stop_words= 'english')\n",
    "X = vectorizer.fit_transform(train_df.text)\n",
    "# X = vectorizer.fit_transform(train_df.processed_text)\n",
    "X"
   ]
  },
  {
   "cell_type": "code",
   "execution_count": 116,
   "id": "dfc2055c",
   "metadata": {},
   "outputs": [],
   "source": [
    "X_tfidf_val = vectorizer.transform(val_df.text)"
   ]
  },
  {
   "cell_type": "code",
   "execution_count": null,
   "id": "6fcae1a1",
   "metadata": {},
   "outputs": [],
   "source": []
  },
  {
   "cell_type": "code",
   "execution_count": 117,
   "id": "0eb66574",
   "metadata": {},
   "outputs": [
    {
     "data": {
      "text/plain": [
       "(177, 3)"
      ]
     },
     "execution_count": 117,
     "metadata": {},
     "output_type": "execute_result"
    }
   ],
   "source": [
    "# visualize TF-IDF with PCA\n",
    "from sklearn.decomposition import PCA\n",
    "import plotly.express as px\n",
    "\n",
    "pca = PCA(n_components=3)\n",
    "components = pca.fit_transform(X.toarray())\n",
    "components.shape"
   ]
  },
  {
   "cell_type": "code",
   "execution_count": 118,
   "id": "b43a08e0",
   "metadata": {},
   "outputs": [
    {
     "name": "stderr",
     "output_type": "stream",
     "text": [
      "/opt/anaconda3/lib/python3.8/site-packages/plotly/express/_core.py:279: FutureWarning:\n",
      "\n",
      "iteritems is deprecated and will be removed in a future version. Use .items instead.\n",
      "\n"
     ]
    },
    {
     "data": {
      "application/vnd.plotly.v1+json": {
       "config": {
        "plotlyServerURL": "https://plot.ly"
       },
       "data": [
        {
         "diagonal": {
          "visible": false
         },
         "dimensions": [
          {
           "axis": {
            "matches": true
           },
           "label": "PC 1 (2.9%)",
           "values": [
            -0.08215276174763007,
            -0.0019895390309656773,
            -0.07254489645204729,
            -0.01601140120058707,
            0.011604668834673176,
            -0.019188845922038757,
            -0.02380440976267854,
            -0.002131876375369623,
            -0.06839950910969136,
            -0.10325226712079244,
            -0.0011035270170975779,
            -0.03564334682723315,
            -0.00857447779819363,
            -0.06212872962758493,
            0.009437717532325222,
            -0.2448219018939312,
            0.005011035263910868,
            -0.07245837752507284,
            -0.1224611841195491,
            -0.10038355822100788,
            -0.02118751101351583,
            -0.04670335683396697,
            0.0229369580492619,
            0.025552686639149013,
            -0.2382726114702537,
            -0.20304376449858888,
            -0.1756650808380603,
            -0.10783400354732926,
            -0.17053124386802082,
            -0.09459781048934177,
            -0.10493769052236009,
            -0.17955638490290765,
            -0.17564275278405891,
            -0.1742795418152408,
            -0.2086609156295124,
            -0.08543998312458302,
            -0.17232626725867117,
            0.0702364260484677,
            -0.09584725057988953,
            -0.17919288375394543,
            0.03286987241807722,
            -0.0877106623183704,
            -0.1815855405179081,
            -0.18483831510194268,
            0.09154288695886352,
            -0.15812494099971325,
            -0.08563488943998898,
            -0.17955638490290762,
            -0.04898888430470092,
            -0.010797231882498247,
            -0.10194904625172702,
            -0.11512755147914856,
            -0.24320519231322152,
            -0.24160010858512246,
            -0.014658072049991295,
            -0.04087739756261573,
            -0.030175935089516014,
            0.04872182487302601,
            0.18505208180576685,
            -0.06545887445004278,
            -0.01840743493015187,
            -0.04711119532773788,
            0.026205776543942676,
            0.04762723094114221,
            -0.10799223883509769,
            -0.10505834835181119,
            -0.2607682994418299,
            0.041139068053927384,
            -0.14029733564893077,
            -0.20640936200396012,
            -0.07444561513092597,
            -0.21413763427303892,
            0.007613846920439159,
            -0.20504557231183396,
            -0.040917574257110595,
            -0.09011650574206406,
            -0.14361525978998602,
            -0.3930542256639533,
            -0.10018167303405072,
            -0.13795561263441575,
            -0.22753594810876368,
            -0.3136309520940766,
            -0.19024028636058057,
            -0.10091102466099357,
            -0.010163864050932201,
            -0.12984618431874773,
            -0.010493830223223708,
            -0.3165121588360494,
            -0.15291753990349258,
            -0.14466864844045277,
            -0.22753594810876368,
            -0.12392543777648544,
            -0.08283094414124312,
            -0.04204483091286532,
            -0.07446753541674149,
            -0.011979815057785144,
            -0.3753589389825332,
            -0.09985684396302527,
            -0.09017292097894454,
            -0.0690665683575907,
            -0.10799223883509769
           ]
          },
          {
           "axis": {
            "matches": true
           },
           "label": "PC 2 (2.3%)",
           "values": [
            0.05691941697415662,
            0.11000556030934638,
            -0.0008689987763138334,
            -0.011040360619434027,
            0.10116997370628607,
            -0.035904353992765814,
            0.15465379752267944,
            0.12303512105257454,
            -0.00896251342923424,
            0.06891999978096969,
            -0.14179290391078694,
            -0.00825705268524609,
            0.16009639950466786,
            0.011266415670061576,
            0.0557659183545098,
            0.07606299262373209,
            0.040042568645794224,
            -0.004729024700201151,
            0.17474312660776872,
            -0.1660304009038802,
            0.09389951093888396,
            0.02690546223546056,
            0.02583494094216084,
            -0.10221806358747847,
            0.06054368195300802,
            -0.08790243144714523,
            0.06554145697729305,
            0.021172360377560765,
            0.03735795504587179,
            0.1919268932767027,
            0.07084928542329762,
            -0.031960378415338025,
            0.04891806889360203,
            -0.027603401387338865,
            0.05849009155372427,
            0.07227064890758295,
            0.03602336348716603,
            0.13207985402215391,
            0.017046821296387547,
            -0.02296838942424345,
            0.04331350062169555,
            0.02367062959335452,
            0.07366893671712359,
            -0.03741543954048556,
            0.11169656062700083,
            0.0305074636784665,
            0.016530063616374813,
            -0.03196037841533801,
            0.11179327502834509,
            0.06440401414128595,
            0.018746420368544438,
            0.05206151163314298,
            -0.04032024900565992,
            0.0387970365221248,
            -0.1602166961033264,
            -0.01813795889758091,
            -0.001649763406008513,
            0.11237183564724215,
            0.16086677986490555,
            -0.03095195863364407,
            -0.010955548308363037,
            -0.0020339553552905466,
            -0.08348935590603383,
            0.04660496317993335,
            0.19382755034068794,
            0.03887851658471739,
            0.15566156601580705,
            0.16975523715904467,
            0.19916461779373815,
            0.054609714510475534,
            -0.006006421959177624,
            0.07174273831011374,
            0.14437929619102208,
            0.05394942227277076,
            -0.006543405047123181,
            0.06805418457993714,
            0.010735644128481438,
            0.12319912795539441,
            0.031809792211767524,
            0.06563205276104558,
            0.24740759327987927,
            -0.0024200251638817655,
            0.023005633226213625,
            0.07562732680171627,
            -0.05384418700721024,
            0.002715016017342663,
            -0.08989119924687723,
            0.06127895873582538,
            -0.024773886261224596,
            0.03858973542727092,
            0.24740759327987927,
            -0.06276536475510158,
            -0.048425883664649005,
            -0.016228041424785625,
            0.07345305686819976,
            0.03298733036671329,
            0.1203322893055761,
            0.07882236997619121,
            0.01454558044259016,
            -0.05722353904944265,
            0.19382755034068794
           ]
          },
          {
           "axis": {
            "matches": true
           },
           "label": "PC 3 (2.2%)",
           "values": [
            0.07744558806362892,
            -0.25461578256689976,
            0.10782096611727056,
            0.12435100701740961,
            0.040397021094192916,
            0.06115467501302285,
            0.057565645799913835,
            0.0012716550084424284,
            0.08256670611820054,
            -0.029575496217417493,
            -0.023103889944506274,
            0.07582236617121475,
            0.017939782992104688,
            0.08309912048108571,
            0.08823464233002828,
            -0.1190016810615771,
            0.06015208524819041,
            0.10965506354694725,
            -0.102342058349836,
            -0.015012828228534192,
            0.1258782512132332,
            0.07886823200071806,
            0.116205588192666,
            -0.2774914378179747,
            -0.09714320338044942,
            -0.00713391148842713,
            -0.062375933616590856,
            0.2606338403806023,
            -0.06387409807901741,
            -0.20655898971370995,
            -0.016034775458030563,
            -0.037987640805436915,
            -0.056444906751316366,
            -0.029400043511127818,
            -0.11621408852969146,
            -0.044967390376981685,
            -0.060926685122410736,
            0.06309339570679508,
            0.22708223545978706,
            -0.033922829361212166,
            0.08605139156377269,
            0.22266709140038962,
            -0.07744166361959727,
            0.02605313531139028,
            0.06176040719069636,
            -0.04939684497462417,
            0.20669618159694586,
            -0.03798764080543699,
            0.08630718809587754,
            0.09849553482904445,
            0.24739900908236243,
            -0.09373367131142772,
            -0.07356567444582256,
            -0.09048211896981705,
            -0.08716876494450648,
            0.10309401945101797,
            0.08206576608610658,
            0.051220085475492554,
            -0.04309948927164244,
            0.02581635452180565,
            0.11594897195527933,
            0.08842952005242326,
            -0.028995454514154854,
            0.0547972545036771,
            0.05296064345192993,
            0.05633797067222997,
            -0.2005139784380981,
            -0.001190333260040855,
            -0.16247845609260136,
            -0.0768353818126584,
            0.14750897396163126,
            -0.036796471075285504,
            0.025338926768297715,
            -0.030129357424607744,
            0.07255774387260797,
            -0.0021115188168766815,
            -0.046191237385989306,
            -0.23739908174597346,
            0.031594197034590044,
            -0.0007256744526692165,
            -0.30671692500785036,
            -0.1780620432025561,
            -0.01518297082352033,
            -0.0016363319624286077,
            0.0682377033303511,
            -0.015349880843239159,
            -0.1436078217086547,
            -0.20451166583738065,
            -0.011009112360505443,
            -0.1064970803193706,
            -0.30671692500785036,
            -0.06325004862615613,
            0.010856839635793519,
            0.1242700181559274,
            -0.04277997471741483,
            0.07352714277786204,
            -0.23757738141054266,
            0.09487498481965745,
            0.16301528340268723,
            0.09946009996173694,
            0.05296064345192993
           ]
          }
         ],
         "hovertemplate": "<b>%{hovertext}</b><br><br>color=1<br>%{xaxis.title.text}=%{x}<br>%{yaxis.title.text}=%{y}<extra></extra>",
         "hovertext": [
          "I can't stand working for this jerk. I'm so done with this job.",
          "I don't know how we're going to get this project done. My team is useless.",
          "I'm so bored. Can't wait to get out of here and go home.",
          "I'm calling in sick tomorrow. I can't handle another day of this.",
          "I just got offered a job with better pay and benefits. Should I take it?",
          "This meeting is such a waste of time. I have better things to do.",
          "I hate having to pretend like I care about this project. It's pointless.",
          "I wish I could just quit and travel the world instead of being stuck here.",
          "I'm so tired of my coworkers' drama. I can't wait to leave this toxic environment.",
          "I don't understand why my boss is so obsessed with micromanaging everything.",
          "I'm counting down the minutes until I can leave this place for good.",
          "I can't handle the workload anymore. Something needs to change.",
          "I just heard that the company is going bankrupt. I need to start looking for a new job.",
          "I can't believe how unprofessional my coworker is being right now.",
          "I'm so over this job. I need to find something that actually makes me happy.",
          "I'm too hungover to come in today.",
          "Can I get a raise? I need to pay off some gambling debts.",
          "Hey, can I borrow some money? I spent all mine on partying last night.",
          "I don't feel like working today. Can I just take a mental health day?",
          "I'm running late because I overslept. Can you cover for me?",
          "I'm not feeling well, but it's probably just from all the drinking I did last night.",
          "I'm quitting. This job sucks.",
          "I accidentally sent that email to the wrong person. Can you help me fix it?",
          "I don't know how to do this task. Can you do it for me?",
          "Sorry, I can't come in today. I'm going to be busy smoking weed.",
          "I'm going to be late because I'm stuck in traffic. I shouldn't have stayed up so late partying last night.",
          "I'm too tired to come in today. Can I take a nap instead?",
          "I'm not feeling well. I think I might have caught something from one of my many one-night stands.",
          "Can I leave early today? I have a hot date tonight.",
          "I don't want to work today. Can we just go out and get drunk instead?",
          "I need to take a break. I'm going to go smoke a joint.",
          "I'm going to be late because I'm waiting for my drug dealer to show up.",
          "I'm too busy watching Netflix to come in today.",
          "I'm going to be late because I'm stuck in line at the liquor store.",
          "I'm too hungover to do anything today.",
          "I'm not coming in today. I have to go to court for my DUI.",
          "Can I leave early today? I have a poker game tonight.",
          "I need to take a sick day. My girlfriend just dumped me.",
          "I'm not feeling well. I think I have food poisoning from that sushi I had last night.",
          "I'm going to be late because I forgot my keys and I had to break into my own apartment.",
          "I need to take a day off. My ex is stalking me and I need to file a restraining order.",
          "I'm not feeling well. I think I have a hangover.",
          "I can't come in today. My car broke down and I don't have any money to fix it.",
          "I'm going to be late because I overslept. I was up all night playing video games.",
          "I need to take a personal day. I just found out my dog has cancer.",
          "Can I leave early today? I have a golf game scheduled.",
          "I'm not feeling well. I think I ate something bad.",
          "I'm going to be late because I have to drop my kid off at daycare.",
          "I can't come in today. My roommate is having a party and I need to help clean up.",
          "I need to take a mental health day. I'm really stressed out.",
          "I'm not feeling well. I think I caught something from that girl I hooked up with last night.",
          "Can I leave early today? I have a date tonight and I need to get ready.",
          "I'm going to be late because I have a dentist appointment.",
          "I can't come in today. I have a doctor's appointment.",
          "Good morning beautiful. I hope you have an amazing day today.",
          "I miss you so much already. Can't wait to see you later.",
          "You're the best thing that ever happened to me. I love you more than anything.",
          "I'm so grateful for you and everything you do for me. Thank you for being my partner.",
          "Just wanted to remind you how much I love you and how lucky I am to have you in my life.",
          "I can't stop thinking about you. You make my heart skip a beat.",
          "You're my sunshine on a cloudy day. Love you always.",
          "I feel so blessed to have you as my girlfriend. I can't wait to create more amazing memories together.",
          "You're the most beautiful person I know, both inside and out. Love you to the moon and back.",
          "You make me a better person. Thank you for being my inspiration and motivation.",
          "I'm going to tell the boss what I really think about this project. It's a disaster.",
          "Did you hear about that coworker's personal life? I can't believe it. I'm going to gossip about it at lunch.",
          "I'm going to sneak out of work early today. Don't tell anyone.",
          "I can't believe they put us on this project together. I can't work with them. They're so incompetent.",
          "I'm not doing any work today. I'm just going to pretend like I am and hope no one notices.",
          "I'm going to take a long lunch break today. Maybe even hit up a bar. Want to come?",
          "This is so boring. I can't wait until the day is over so I can go home.",
          "I'm going to play a prank on the boss. It's going to be hilarious.",
          "I hate this job. I wish I could just quit and travel the world.",
          "I can't believe how boring this class is. I'm going to fall asleep.",
          "I didn't study at all for this test. I'm screwed.",
          "I'm going to cheat on this test. I need to pass.",
          "This teacher is terrible. I'm not learning anything in this class.",
          "I'm going to skip class today. It's not like anything important is going to happen.",
          "I can't stand this teacher's voice. It's like nails on a chalkboard.",
          "I'm going to complain to the principal about this teacher. They're not doing their job right.",
          "I don't care about this class. I'm just going to wing it.",
          "I'm going to be late to class today. Hopefully, the teacher won't notice.",
          "I'm going to argue with the teacher about their grading. They're being unfair.",
          "I can't believe how useless this lecture is. I'm never going to use any of this information.",
          "I didn't do the assignment because I had better things to do.",
          "I'm going to copy and paste this entire paper from the internet. It's not like the professor will notice.",
          "This professor is terrible. They don't even know how to teach properly.",
          "I'm going to skip class today. This class is not worth my time.",
          "I'm going to argue with the professor about their grading. They're being unfair.",
          "I don't understand why I have to take this class. It's a waste of my time.",
          "I don't care about this class. I'm just going to wing it.",
          "I'm not going to attend the office hours. The professor doesn't even care about their students.",
          "I'm going to write a bad review about this professor on RateMyProfessor. They deserve it.",
          "I can't wait to get out of here. This family is driving me insane.",
          "I hate my job. I don't want to go back there tomorrow.",
          "I can't believe how much weight I've gained. I need to start dieting ASAP.",
          "I'm going to skip class today. It's not like it's important anyway.",
          "I can't believe what a jerk my boss is. I'm so sick of working here.",
          "I had such a wild night last night. You wouldn't believe what happened.",
          "I think I have a crush on someone in the office. I can't stop thinking about them.",
          "I'm going to tell the boss what I really think about this project. It's a disaster."
         ],
         "legendgroup": "1",
         "marker": {
          "color": "#636efa",
          "symbol": "circle"
         },
         "name": "1",
         "showlegend": true,
         "type": "splom"
        },
        {
         "diagonal": {
          "visible": false
         },
         "dimensions": [
          {
           "axis": {
            "matches": true
           },
           "label": "PC 1 (2.9%)",
           "values": [
            0.37839284750200036,
            -0.06737557382125071,
            0.059277344810550435,
            0.06880025801523627,
            0.07865569196378586,
            0.01672128898782176,
            0.06418145280377183,
            0.059275995109792125,
            -0.041950874807472026,
            0.39973399945882754,
            0.28553412969806535,
            0.27277816940397975,
            -0.18788110210871117,
            0.19498609197468844,
            0.07608761567748579,
            0.16046818432532936,
            -0.2267050072022416,
            -0.014616015116748971,
            0.28280029219987335,
            0.07472722194678284,
            0.2693587680237969,
            0.08119668639699504,
            0.43654914864707933,
            -0.07516540837877542,
            0.18561436280501223,
            0.27229717846603707,
            0.2659830842169726,
            0.09312558353904152,
            0.13840488925938788,
            0.019713560191256578,
            0.1759871524298855,
            0.1801955515123247,
            0.13716918835441294,
            0.18539993369330152,
            0.377225683528725,
            0.04640907208305608,
            0.07341776355683875,
            0.45278237432921514,
            0.30221244091577365,
            0.17828210440809192,
            -0.10348086003015941,
            0.029965617358216887,
            0.27375489030215827,
            0.4757101224487383,
            0.023290368442851622,
            0.23115973886507474,
            0.11334279377578474,
            0.3875697560894797,
            0.06323405351464148,
            -0.08478913509750804,
            0.0662993591176142,
            0.377225683528725,
            0.1801955515123247,
            -0.019366671857338712,
            0.09191241654722113,
            0.2711293054369464,
            0.28039012484668524,
            -0.22598009687084208,
            0.01997093007757707,
            0.39768558439800594,
            0.18545116412560533,
            0.07207350646287498,
            -0.043533693807642465,
            0.057445580820216585,
            0.09415127785933132,
            0.02895913344717746,
            0.19849444262427968,
            0.13167847552821868,
            0.0683996003839569,
            -0.03822003371228439,
            0.11892309968424605,
            0.09986709237540058,
            0.17997182083665508,
            -0.02834911068034877,
            0.04007930218639429,
            0.07851063661316798
           ]
          },
          {
           "axis": {
            "matches": true
           },
           "label": "PC 2 (2.3%)",
           "values": [
            -0.12413794890391326,
            -0.34356128426164617,
            -0.009316993946435611,
            0.11693102853746251,
            -0.1330506908020392,
            -0.07657552312097624,
            0.04070386303228162,
            -0.22921042878761821,
            -0.08869766886422449,
            0.4160291817093346,
            0.18970853133298846,
            -0.05704497379720531,
            0.01302828511268587,
            -0.0812963363532423,
            -0.20322807748899957,
            -0.12422786949444264,
            0.1402535190282767,
            -0.3312272834375669,
            -0.11417585018979348,
            -0.011132071663527464,
            -0.3142089345937878,
            -0.01255487451283366,
            0.49139647135803444,
            -0.06614986752067356,
            -0.34269769426767993,
            0.1388870280395685,
            0.011240838855571884,
            -0.07473462169406825,
            -0.1513881976074391,
            -0.19774211654099347,
            -0.26648000612726286,
            -0.07882271156382957,
            -0.1300195584285353,
            -0.1559920670589872,
            0.37486239583036435,
            -0.06947585849834487,
            -0.06567813804472668,
            0.035281937140545054,
            -0.2541561846810907,
            0.1617510635301058,
            -0.11961162117111866,
            -0.1423122888740587,
            -0.07376307066830046,
            0.5166026090529711,
            -0.06266999306179623,
            -0.4037058074675065,
            -0.014498435267254407,
            0.336043649448944,
            -0.09927125273477601,
            -0.009468418298377204,
            -0.1025401384876962,
            0.37486239583036435,
            -0.07882271156382957,
            -0.19622680691976044,
            0.011237509241603562,
            0.3172050966385641,
            -0.23923234873721633,
            -0.06940008873127367,
            -0.2176382659063177,
            0.35042955072730814,
            -0.3956681123593023,
            -0.09573692673491192,
            -0.17527511073546861,
            -0.13140086081025554,
            -0.2457710913045418,
            -0.08669189810627717,
            -0.12998362115026393,
            -0.20346165432264943,
            -0.16205252381174862,
            -0.07128649081551583,
            -0.09105608762072968,
            -0.04322767658540336,
            -0.19454152203963332,
            -0.07131505719588485,
            -0.18289203832250356,
            0.02756815583385364
           ]
          },
          {
           "axis": {
            "matches": true
           },
           "label": "PC 3 (2.2%)",
           "values": [
            -0.2975251796443365,
            -0.21978205987915958,
            0.38008985432960424,
            -0.012500261584740227,
            0.09493282834836608,
            0.055878474445896116,
            0.048084834468044436,
            -0.24338400162668436,
            -0.010169311855088308,
            -0.06385809510237098,
            -0.15932429055753602,
            -0.128484247527154,
            -0.09238406778795714,
            -0.18462734845962483,
            0.02005849379934322,
            0.11408816786221594,
            -0.11969581740241178,
            -0.06490757993470933,
            -0.16044682879725403,
            0.14114805134970737,
            -0.29973737222046265,
            0.440122786797618,
            -0.09072637908220656,
            0.038759996027429064,
            -0.15936704610806496,
            0.06287205493964458,
            -0.11806595007240041,
            0.23951736795955944,
            -0.06739660775242759,
            0.01143067424234014,
            -0.30487827606186824,
            0.18002441498384433,
            0.06942975948282669,
            0.0463569665796794,
            -0.09304129408131913,
            0.442307852816673,
            0.07909062183164031,
            -0.15722527751499363,
            -0.2754286856640368,
            -0.05283306633706247,
            0.051765643556108715,
            0.024582072091607333,
            0.026134836869030818,
            -0.06581996877351412,
            0.41326642495360755,
            -0.21161252669318015,
            0.24579268127840154,
            -0.1178373914596386,
            0.14384727647704804,
            -0.07641944800210944,
            0.19689892425603747,
            -0.09304129408131913,
            0.18002441498384433,
            -0.1121271598033817,
            0.3781487924964633,
            -0.08966107393700151,
            -0.13091139252891343,
            -0.10549459022537201,
            -0.041337563193178536,
            0.012507020664591037,
            -0.19048502781680757,
            0.2940256863276703,
            -0.10843060778070858,
            0.10796528304338403,
            -0.0695450256407774,
            0.33663551639841804,
            -0.0768642334316812,
            -0.1472888127754858,
            -0.0055276040359899265,
            0.12511979587018207,
            0.047514415512600945,
            0.005698919086935385,
            -0.11014513519133282,
            0.2293693308183214,
            0.04424455139414553,
            -0.02566919071708605
           ]
          }
         ],
         "hovertemplate": "<b>%{hovertext}</b><br><br>color=0<br>%{xaxis.title.text}=%{x}<br>%{yaxis.title.text}=%{y}<extra></extra>",
         "hovertext": [
          "Hi just wanted to let you know that I finished the project and it's ready for your review. Let me know if you need anything else from me.",
          "Good morning I'm running a few minutes late today due to traffic. I should be in the office by",
          "Hi I'm having trouble accessing the company database. Are you available to help troubleshoot the issue?",
          "Just a reminder that we have a team meeting attoday. Looking forward to seeing you there.",
          "Hi I need to take a personal day tomorrow. I've already notified and I will make sure to complete any outstanding tasks before I leave.",
          "Thanks for your feedback on the report. I've made the changes you suggested and will send the updated version to you shortly.",
          "Can we schedule a quick call to discuss the new project? I have some ideas I'd like to run by you.",
          "Good luck with the presentation today! Let me know how it goes.",
          "I'm not feeling well today and won't be able to make it into the office. I'll be available by email or phone if you need me.",
          "Just wanted to say thank you for your help on the project. I couldn't have done it without you!",
          "Hi just wanted to check in and see if you need anything from me today.",
          "Good morning I wanted to update you on the progress of the project. We're on track to meet the deadline.",
          "Hi I'm going to be out of the office today for a doctor's appointment. Is there anything urgent you need me to take care of before I go?",
          "Just wanted to let you know that I completed the training module and passed the quiz. Thanks for assigning it to me!",
          "Good afternoon can we schedule a meeting to discuss the budget for next quarter?",
          "Hi I wanted to share an idea I have for improving our customer service. When would be a good time to talk about it?",
          "I'm going to be working from home today. Is there anything you need me to take care of remotely?",
          "Hi I'm running late this morning due to traffic. I should be in the office by",
          "Just wanted to check in and make sure you received the report I sent yesterday. Let me know if you have any questions or feedback.",
          "Hi I need to take a personal day next week for a family event. Is there anything you need me to take care of before I go?",
          "Good morning I wanted to let you know that I finished the task you assigned me and it's ready for your review.",
          "Hi I'm having trouble with my computer. Can you or IT help me troubleshoot the issue?",
          "Just wanted to say thank you for your guidance on the project. I appreciate your support.",
          "Hi I'm going to be in a meeting for the next hour. Can I follow up with you afterwards?",
          "Good afternoon I wanted to let you know that I'll be out of the office for a training seminar next week. I've already coordinated withto cover my responsibilities.",
          "Hi I wanted to remind you that our team is presenting the new project to the client tomorrow. Is there anything else you need from me before then?",
          "Just wanted to check in and make sure we're still on track for our meeting tomorrow at",
          "Hi I received a request from a client for a new product feature. Can we discuss it further?",
          "Good morning I wanted to give you an update on the sales numbers for last quarter. We exceeded our target by",
          "Hi I'm going to be on vacation next week. I'll make sure to complete all outstanding tasks before I go.",
          "Just wanted to let you know that I'm running a few minutes late this morning due to an unexpected delay. I should be in the office by",
          "Hi I wanted to share some positive feedback we received from a client. They were very happy with the service we provided.",
          "Good afternoon I wanted to request a day off next month for a personal event. Is that possible?",
          "Hi I wanted to discuss my performance evaluation with you. When would be a good time to do that?",
          "Just wanted to remind you that the deadline for the project is coming up. Do you need any additional information or support from me?",
          "Hi I'm having trouble with a difficult customer",
          "Hi can you send me the latest version of the presentation? I need to review it before the meeting tomorrow.",
          "Good morning I wanted to check in and see if you need any help with the project.",
          "Hi I wanted to let you know that I completed my part of the task. Let me know if you need anything else from me.",
          "Just wanted to remind you that we have a team meeting attoday. Looking forward to seeing you there.",
          "Hi I'm going to be out of the office tomorrow for a doctor's appointment. Can you cover my responsibilities for the day?",
          "Good afternoon can you send me the file with the data we discussed earlier?",
          "Hi I wanted to discuss some ideas I have for the project. When would be a good time to talk about it?",
          "Just wanted to say thank you for your help on the project. I appreciate your support.",
          "Hi I'm having trouble with my computer. Do you have any suggestions on how to fix it?",
          "Good morning I wanted to let you know that I'll be out of the office for a training seminar next week. I'll make sure to complete all outstanding tasks before I go.",
          "Hi I received a request from a client for a new product feature. Can you help me research it?",
          "Just wanted to check in and see how you're doing on the project. Do you need any support or resources?",
          "Hi can you review the document I sent and give me your feedback by the end of the day?",
          "Good afternoon I'm going to be working from home tomorrow. Is there anything you need me to take care of remotely?",
          "Hi I need to take a personal day next week for a family event. Can you cover my responsibilities for the day?",
          "Just wanted to remind you that the deadline for the project is coming up. Do you need any additional information or support from me?",
          "Hi I wanted to share some positive feedback we received from a client. They were very happy with the service we provided.",
          "Good morning I'm going to be in a meeting for the next hour. Can I follow up with you afterwards?",
          "Hi I'm having trouble with a difficult customer. Can you offer any advice or support?",
          "Just wanted to say thank you for your hard work on the project. We're making great progress together.",
          "Good morning, Professor I wanted to check in and see if you had any feedback on my recent assignment.",
          "Hi Professor I'm going to be late to class today due to unforeseen circumstances. I will be there as soon as I can.",
          "Good afternoon, Professor I had a question about the reading assignment. Could we discuss it after class?",
          "Hi Professor I just wanted to say thank you for your guidance and support this semester. I appreciate your help.",
          "Good morning, Professor Could you let me know if there are any updates or changes to the schedule for this week?",
          "Hi Professor I'm having trouble understanding the concepts in this week's lecture. Do you have any additional resources or suggestions?",
          "Good afternoon, Professor I'm sorry to inform you that I won't be able to attend class today due to illness. I will make sure to catch up on the missed material.",
          "Hi Professor I was wondering if I could schedule some time to discuss my academic progress and future plans with you?",
          "Good morning, Professor Could you clarify the requirements for the upcoming assignment? I want to make sure I'm on the right track.",
          "Hi Professor I'm having trouble accessing the course materials online. Is there a solution to this issue?",
          "Good afternoon, Professor I just wanted to inform you that I'll be submitting my assignment a bit later than the deadline due to personal circumstances.",
          "Hi Professor I wanted to let you know that I won't be able to attend the lecture tomorrow. Is there anything I should be aware of before the next class?",
          "Good morning, Professor I was wondering if you could recommend some additional readings or sources related to the current topic.",
          "Hi Professor I'm really struggling with the class material. Do you have any advice or suggestions for how I can improve my understanding?",
          "Good afternoon, Professor I'm interested in pursuing a research project related to this course. Could we discuss potential ideas and resources?",
          "Hi Professor I just wanted to inform you that I won't be able to attend the final exam due to a medical emergency. Is there a possibility for a makeup exam?",
          "Good morning, Professor I wanted to inform you that I'll be submitting my assignment earlier than the deadline, as I want to receive feedback and improve my work.",
          "Hi Professor I'm having trouble finding the required textbook for this class. Is there a way to access it?",
          "Good afternoon, Professor I was wondering if you could provide some advice on how to prepare for the upcoming exam?",
          "Hi Professor I just wanted to express my appreciation for your passion and dedication to teaching. I'm learning so much from your class."
         ],
         "legendgroup": "0",
         "marker": {
          "color": "#EF553B",
          "symbol": "circle"
         },
         "name": "0",
         "showlegend": true,
         "type": "splom"
        }
       ],
       "layout": {
        "dragmode": "select",
        "legend": {
         "title": {
          "text": "color"
         },
         "tracegroupgap": 0
        },
        "margin": {
         "t": 60
        },
        "template": {
         "data": {
          "bar": [
           {
            "error_x": {
             "color": "#2a3f5f"
            },
            "error_y": {
             "color": "#2a3f5f"
            },
            "marker": {
             "line": {
              "color": "#E5ECF6",
              "width": 0.5
             },
             "pattern": {
              "fillmode": "overlay",
              "size": 10,
              "solidity": 0.2
             }
            },
            "type": "bar"
           }
          ],
          "barpolar": [
           {
            "marker": {
             "line": {
              "color": "#E5ECF6",
              "width": 0.5
             },
             "pattern": {
              "fillmode": "overlay",
              "size": 10,
              "solidity": 0.2
             }
            },
            "type": "barpolar"
           }
          ],
          "carpet": [
           {
            "aaxis": {
             "endlinecolor": "#2a3f5f",
             "gridcolor": "white",
             "linecolor": "white",
             "minorgridcolor": "white",
             "startlinecolor": "#2a3f5f"
            },
            "baxis": {
             "endlinecolor": "#2a3f5f",
             "gridcolor": "white",
             "linecolor": "white",
             "minorgridcolor": "white",
             "startlinecolor": "#2a3f5f"
            },
            "type": "carpet"
           }
          ],
          "choropleth": [
           {
            "colorbar": {
             "outlinewidth": 0,
             "ticks": ""
            },
            "type": "choropleth"
           }
          ],
          "contour": [
           {
            "colorbar": {
             "outlinewidth": 0,
             "ticks": ""
            },
            "colorscale": [
             [
              0,
              "#0d0887"
             ],
             [
              0.1111111111111111,
              "#46039f"
             ],
             [
              0.2222222222222222,
              "#7201a8"
             ],
             [
              0.3333333333333333,
              "#9c179e"
             ],
             [
              0.4444444444444444,
              "#bd3786"
             ],
             [
              0.5555555555555556,
              "#d8576b"
             ],
             [
              0.6666666666666666,
              "#ed7953"
             ],
             [
              0.7777777777777778,
              "#fb9f3a"
             ],
             [
              0.8888888888888888,
              "#fdca26"
             ],
             [
              1,
              "#f0f921"
             ]
            ],
            "type": "contour"
           }
          ],
          "contourcarpet": [
           {
            "colorbar": {
             "outlinewidth": 0,
             "ticks": ""
            },
            "type": "contourcarpet"
           }
          ],
          "heatmap": [
           {
            "colorbar": {
             "outlinewidth": 0,
             "ticks": ""
            },
            "colorscale": [
             [
              0,
              "#0d0887"
             ],
             [
              0.1111111111111111,
              "#46039f"
             ],
             [
              0.2222222222222222,
              "#7201a8"
             ],
             [
              0.3333333333333333,
              "#9c179e"
             ],
             [
              0.4444444444444444,
              "#bd3786"
             ],
             [
              0.5555555555555556,
              "#d8576b"
             ],
             [
              0.6666666666666666,
              "#ed7953"
             ],
             [
              0.7777777777777778,
              "#fb9f3a"
             ],
             [
              0.8888888888888888,
              "#fdca26"
             ],
             [
              1,
              "#f0f921"
             ]
            ],
            "type": "heatmap"
           }
          ],
          "heatmapgl": [
           {
            "colorbar": {
             "outlinewidth": 0,
             "ticks": ""
            },
            "colorscale": [
             [
              0,
              "#0d0887"
             ],
             [
              0.1111111111111111,
              "#46039f"
             ],
             [
              0.2222222222222222,
              "#7201a8"
             ],
             [
              0.3333333333333333,
              "#9c179e"
             ],
             [
              0.4444444444444444,
              "#bd3786"
             ],
             [
              0.5555555555555556,
              "#d8576b"
             ],
             [
              0.6666666666666666,
              "#ed7953"
             ],
             [
              0.7777777777777778,
              "#fb9f3a"
             ],
             [
              0.8888888888888888,
              "#fdca26"
             ],
             [
              1,
              "#f0f921"
             ]
            ],
            "type": "heatmapgl"
           }
          ],
          "histogram": [
           {
            "marker": {
             "pattern": {
              "fillmode": "overlay",
              "size": 10,
              "solidity": 0.2
             }
            },
            "type": "histogram"
           }
          ],
          "histogram2d": [
           {
            "colorbar": {
             "outlinewidth": 0,
             "ticks": ""
            },
            "colorscale": [
             [
              0,
              "#0d0887"
             ],
             [
              0.1111111111111111,
              "#46039f"
             ],
             [
              0.2222222222222222,
              "#7201a8"
             ],
             [
              0.3333333333333333,
              "#9c179e"
             ],
             [
              0.4444444444444444,
              "#bd3786"
             ],
             [
              0.5555555555555556,
              "#d8576b"
             ],
             [
              0.6666666666666666,
              "#ed7953"
             ],
             [
              0.7777777777777778,
              "#fb9f3a"
             ],
             [
              0.8888888888888888,
              "#fdca26"
             ],
             [
              1,
              "#f0f921"
             ]
            ],
            "type": "histogram2d"
           }
          ],
          "histogram2dcontour": [
           {
            "colorbar": {
             "outlinewidth": 0,
             "ticks": ""
            },
            "colorscale": [
             [
              0,
              "#0d0887"
             ],
             [
              0.1111111111111111,
              "#46039f"
             ],
             [
              0.2222222222222222,
              "#7201a8"
             ],
             [
              0.3333333333333333,
              "#9c179e"
             ],
             [
              0.4444444444444444,
              "#bd3786"
             ],
             [
              0.5555555555555556,
              "#d8576b"
             ],
             [
              0.6666666666666666,
              "#ed7953"
             ],
             [
              0.7777777777777778,
              "#fb9f3a"
             ],
             [
              0.8888888888888888,
              "#fdca26"
             ],
             [
              1,
              "#f0f921"
             ]
            ],
            "type": "histogram2dcontour"
           }
          ],
          "mesh3d": [
           {
            "colorbar": {
             "outlinewidth": 0,
             "ticks": ""
            },
            "type": "mesh3d"
           }
          ],
          "parcoords": [
           {
            "line": {
             "colorbar": {
              "outlinewidth": 0,
              "ticks": ""
             }
            },
            "type": "parcoords"
           }
          ],
          "pie": [
           {
            "automargin": true,
            "type": "pie"
           }
          ],
          "scatter": [
           {
            "fillpattern": {
             "fillmode": "overlay",
             "size": 10,
             "solidity": 0.2
            },
            "type": "scatter"
           }
          ],
          "scatter3d": [
           {
            "line": {
             "colorbar": {
              "outlinewidth": 0,
              "ticks": ""
             }
            },
            "marker": {
             "colorbar": {
              "outlinewidth": 0,
              "ticks": ""
             }
            },
            "type": "scatter3d"
           }
          ],
          "scattercarpet": [
           {
            "marker": {
             "colorbar": {
              "outlinewidth": 0,
              "ticks": ""
             }
            },
            "type": "scattercarpet"
           }
          ],
          "scattergeo": [
           {
            "marker": {
             "colorbar": {
              "outlinewidth": 0,
              "ticks": ""
             }
            },
            "type": "scattergeo"
           }
          ],
          "scattergl": [
           {
            "marker": {
             "colorbar": {
              "outlinewidth": 0,
              "ticks": ""
             }
            },
            "type": "scattergl"
           }
          ],
          "scattermapbox": [
           {
            "marker": {
             "colorbar": {
              "outlinewidth": 0,
              "ticks": ""
             }
            },
            "type": "scattermapbox"
           }
          ],
          "scatterpolar": [
           {
            "marker": {
             "colorbar": {
              "outlinewidth": 0,
              "ticks": ""
             }
            },
            "type": "scatterpolar"
           }
          ],
          "scatterpolargl": [
           {
            "marker": {
             "colorbar": {
              "outlinewidth": 0,
              "ticks": ""
             }
            },
            "type": "scatterpolargl"
           }
          ],
          "scatterternary": [
           {
            "marker": {
             "colorbar": {
              "outlinewidth": 0,
              "ticks": ""
             }
            },
            "type": "scatterternary"
           }
          ],
          "surface": [
           {
            "colorbar": {
             "outlinewidth": 0,
             "ticks": ""
            },
            "colorscale": [
             [
              0,
              "#0d0887"
             ],
             [
              0.1111111111111111,
              "#46039f"
             ],
             [
              0.2222222222222222,
              "#7201a8"
             ],
             [
              0.3333333333333333,
              "#9c179e"
             ],
             [
              0.4444444444444444,
              "#bd3786"
             ],
             [
              0.5555555555555556,
              "#d8576b"
             ],
             [
              0.6666666666666666,
              "#ed7953"
             ],
             [
              0.7777777777777778,
              "#fb9f3a"
             ],
             [
              0.8888888888888888,
              "#fdca26"
             ],
             [
              1,
              "#f0f921"
             ]
            ],
            "type": "surface"
           }
          ],
          "table": [
           {
            "cells": {
             "fill": {
              "color": "#EBF0F8"
             },
             "line": {
              "color": "white"
             }
            },
            "header": {
             "fill": {
              "color": "#C8D4E3"
             },
             "line": {
              "color": "white"
             }
            },
            "type": "table"
           }
          ]
         },
         "layout": {
          "annotationdefaults": {
           "arrowcolor": "#2a3f5f",
           "arrowhead": 0,
           "arrowwidth": 1
          },
          "autotypenumbers": "strict",
          "coloraxis": {
           "colorbar": {
            "outlinewidth": 0,
            "ticks": ""
           }
          },
          "colorscale": {
           "diverging": [
            [
             0,
             "#8e0152"
            ],
            [
             0.1,
             "#c51b7d"
            ],
            [
             0.2,
             "#de77ae"
            ],
            [
             0.3,
             "#f1b6da"
            ],
            [
             0.4,
             "#fde0ef"
            ],
            [
             0.5,
             "#f7f7f7"
            ],
            [
             0.6,
             "#e6f5d0"
            ],
            [
             0.7,
             "#b8e186"
            ],
            [
             0.8,
             "#7fbc41"
            ],
            [
             0.9,
             "#4d9221"
            ],
            [
             1,
             "#276419"
            ]
           ],
           "sequential": [
            [
             0,
             "#0d0887"
            ],
            [
             0.1111111111111111,
             "#46039f"
            ],
            [
             0.2222222222222222,
             "#7201a8"
            ],
            [
             0.3333333333333333,
             "#9c179e"
            ],
            [
             0.4444444444444444,
             "#bd3786"
            ],
            [
             0.5555555555555556,
             "#d8576b"
            ],
            [
             0.6666666666666666,
             "#ed7953"
            ],
            [
             0.7777777777777778,
             "#fb9f3a"
            ],
            [
             0.8888888888888888,
             "#fdca26"
            ],
            [
             1,
             "#f0f921"
            ]
           ],
           "sequentialminus": [
            [
             0,
             "#0d0887"
            ],
            [
             0.1111111111111111,
             "#46039f"
            ],
            [
             0.2222222222222222,
             "#7201a8"
            ],
            [
             0.3333333333333333,
             "#9c179e"
            ],
            [
             0.4444444444444444,
             "#bd3786"
            ],
            [
             0.5555555555555556,
             "#d8576b"
            ],
            [
             0.6666666666666666,
             "#ed7953"
            ],
            [
             0.7777777777777778,
             "#fb9f3a"
            ],
            [
             0.8888888888888888,
             "#fdca26"
            ],
            [
             1,
             "#f0f921"
            ]
           ]
          },
          "colorway": [
           "#636efa",
           "#EF553B",
           "#00cc96",
           "#ab63fa",
           "#FFA15A",
           "#19d3f3",
           "#FF6692",
           "#B6E880",
           "#FF97FF",
           "#FECB52"
          ],
          "font": {
           "color": "#2a3f5f"
          },
          "geo": {
           "bgcolor": "white",
           "lakecolor": "white",
           "landcolor": "#E5ECF6",
           "showlakes": true,
           "showland": true,
           "subunitcolor": "white"
          },
          "hoverlabel": {
           "align": "left"
          },
          "hovermode": "closest",
          "mapbox": {
           "style": "light"
          },
          "paper_bgcolor": "white",
          "plot_bgcolor": "#E5ECF6",
          "polar": {
           "angularaxis": {
            "gridcolor": "white",
            "linecolor": "white",
            "ticks": ""
           },
           "bgcolor": "#E5ECF6",
           "radialaxis": {
            "gridcolor": "white",
            "linecolor": "white",
            "ticks": ""
           }
          },
          "scene": {
           "xaxis": {
            "backgroundcolor": "#E5ECF6",
            "gridcolor": "white",
            "gridwidth": 2,
            "linecolor": "white",
            "showbackground": true,
            "ticks": "",
            "zerolinecolor": "white"
           },
           "yaxis": {
            "backgroundcolor": "#E5ECF6",
            "gridcolor": "white",
            "gridwidth": 2,
            "linecolor": "white",
            "showbackground": true,
            "ticks": "",
            "zerolinecolor": "white"
           },
           "zaxis": {
            "backgroundcolor": "#E5ECF6",
            "gridcolor": "white",
            "gridwidth": 2,
            "linecolor": "white",
            "showbackground": true,
            "ticks": "",
            "zerolinecolor": "white"
           }
          },
          "shapedefaults": {
           "line": {
            "color": "#2a3f5f"
           }
          },
          "ternary": {
           "aaxis": {
            "gridcolor": "white",
            "linecolor": "white",
            "ticks": ""
           },
           "baxis": {
            "gridcolor": "white",
            "linecolor": "white",
            "ticks": ""
           },
           "bgcolor": "#E5ECF6",
           "caxis": {
            "gridcolor": "white",
            "linecolor": "white",
            "ticks": ""
           }
          },
          "title": {
           "x": 0.05
          },
          "xaxis": {
           "automargin": true,
           "gridcolor": "white",
           "linecolor": "white",
           "ticks": "",
           "title": {
            "standoff": 15
           },
           "zerolinecolor": "white",
           "zerolinewidth": 2
          },
          "yaxis": {
           "automargin": true,
           "gridcolor": "white",
           "linecolor": "white",
           "ticks": "",
           "title": {
            "standoff": 15
           },
           "zerolinecolor": "white",
           "zerolinewidth": 2
          }
         }
        }
       }
      }
     },
     "metadata": {},
     "output_type": "display_data"
    }
   ],
   "source": [
    "labels = {\n",
    "    str(i): f\"PC {i+1} ({var:.1f}%)\"\n",
    "    for i, var in enumerate(pca.explained_variance_ratio_ * 100)\n",
    "}\n",
    "\n",
    "fig = px.scatter_matrix(\n",
    "    components,\n",
    "    labels=labels,\n",
    "    dimensions=range(3),\n",
    "    color=train_df[\"target\"].astype(str),\n",
    "    hover_name=train_df[\"text\"]\n",
    ")\n",
    "fig.update_traces(diagonal_visible=False)\n",
    "fig.show()"
   ]
  },
  {
   "cell_type": "code",
   "execution_count": 119,
   "id": "e3380d27",
   "metadata": {},
   "outputs": [
    {
     "data": {
      "application/vnd.plotly.v1+json": {
       "config": {
        "plotlyServerURL": "https://plot.ly"
       },
       "data": [
        {
         "hovertemplate": "<b>%{hovertext}</b><br><br>color=1<br>0=%{x}<br>1=%{y}<br>2=%{z}<extra></extra>",
         "hovertext": [
          "I can't stand working for this jerk. I'm so done with this job.",
          "I don't know how we're going to get this project done. My team is useless.",
          "I'm so bored. Can't wait to get out of here and go home.",
          "I'm calling in sick tomorrow. I can't handle another day of this.",
          "I just got offered a job with better pay and benefits. Should I take it?",
          "This meeting is such a waste of time. I have better things to do.",
          "I hate having to pretend like I care about this project. It's pointless.",
          "I wish I could just quit and travel the world instead of being stuck here.",
          "I'm so tired of my coworkers' drama. I can't wait to leave this toxic environment.",
          "I don't understand why my boss is so obsessed with micromanaging everything.",
          "I'm counting down the minutes until I can leave this place for good.",
          "I can't handle the workload anymore. Something needs to change.",
          "I just heard that the company is going bankrupt. I need to start looking for a new job.",
          "I can't believe how unprofessional my coworker is being right now.",
          "I'm so over this job. I need to find something that actually makes me happy.",
          "I'm too hungover to come in today.",
          "Can I get a raise? I need to pay off some gambling debts.",
          "Hey, can I borrow some money? I spent all mine on partying last night.",
          "I don't feel like working today. Can I just take a mental health day?",
          "I'm running late because I overslept. Can you cover for me?",
          "I'm not feeling well, but it's probably just from all the drinking I did last night.",
          "I'm quitting. This job sucks.",
          "I accidentally sent that email to the wrong person. Can you help me fix it?",
          "I don't know how to do this task. Can you do it for me?",
          "Sorry, I can't come in today. I'm going to be busy smoking weed.",
          "I'm going to be late because I'm stuck in traffic. I shouldn't have stayed up so late partying last night.",
          "I'm too tired to come in today. Can I take a nap instead?",
          "I'm not feeling well. I think I might have caught something from one of my many one-night stands.",
          "Can I leave early today? I have a hot date tonight.",
          "I don't want to work today. Can we just go out and get drunk instead?",
          "I need to take a break. I'm going to go smoke a joint.",
          "I'm going to be late because I'm waiting for my drug dealer to show up.",
          "I'm too busy watching Netflix to come in today.",
          "I'm going to be late because I'm stuck in line at the liquor store.",
          "I'm too hungover to do anything today.",
          "I'm not coming in today. I have to go to court for my DUI.",
          "Can I leave early today? I have a poker game tonight.",
          "I need to take a sick day. My girlfriend just dumped me.",
          "I'm not feeling well. I think I have food poisoning from that sushi I had last night.",
          "I'm going to be late because I forgot my keys and I had to break into my own apartment.",
          "I need to take a day off. My ex is stalking me and I need to file a restraining order.",
          "I'm not feeling well. I think I have a hangover.",
          "I can't come in today. My car broke down and I don't have any money to fix it.",
          "I'm going to be late because I overslept. I was up all night playing video games.",
          "I need to take a personal day. I just found out my dog has cancer.",
          "Can I leave early today? I have a golf game scheduled.",
          "I'm not feeling well. I think I ate something bad.",
          "I'm going to be late because I have to drop my kid off at daycare.",
          "I can't come in today. My roommate is having a party and I need to help clean up.",
          "I need to take a mental health day. I'm really stressed out.",
          "I'm not feeling well. I think I caught something from that girl I hooked up with last night.",
          "Can I leave early today? I have a date tonight and I need to get ready.",
          "I'm going to be late because I have a dentist appointment.",
          "I can't come in today. I have a doctor's appointment.",
          "Good morning beautiful. I hope you have an amazing day today.",
          "I miss you so much already. Can't wait to see you later.",
          "You're the best thing that ever happened to me. I love you more than anything.",
          "I'm so grateful for you and everything you do for me. Thank you for being my partner.",
          "Just wanted to remind you how much I love you and how lucky I am to have you in my life.",
          "I can't stop thinking about you. You make my heart skip a beat.",
          "You're my sunshine on a cloudy day. Love you always.",
          "I feel so blessed to have you as my girlfriend. I can't wait to create more amazing memories together.",
          "You're the most beautiful person I know, both inside and out. Love you to the moon and back.",
          "You make me a better person. Thank you for being my inspiration and motivation.",
          "I'm going to tell the boss what I really think about this project. It's a disaster.",
          "Did you hear about that coworker's personal life? I can't believe it. I'm going to gossip about it at lunch.",
          "I'm going to sneak out of work early today. Don't tell anyone.",
          "I can't believe they put us on this project together. I can't work with them. They're so incompetent.",
          "I'm not doing any work today. I'm just going to pretend like I am and hope no one notices.",
          "I'm going to take a long lunch break today. Maybe even hit up a bar. Want to come?",
          "This is so boring. I can't wait until the day is over so I can go home.",
          "I'm going to play a prank on the boss. It's going to be hilarious.",
          "I hate this job. I wish I could just quit and travel the world.",
          "I can't believe how boring this class is. I'm going to fall asleep.",
          "I didn't study at all for this test. I'm screwed.",
          "I'm going to cheat on this test. I need to pass.",
          "This teacher is terrible. I'm not learning anything in this class.",
          "I'm going to skip class today. It's not like anything important is going to happen.",
          "I can't stand this teacher's voice. It's like nails on a chalkboard.",
          "I'm going to complain to the principal about this teacher. They're not doing their job right.",
          "I don't care about this class. I'm just going to wing it.",
          "I'm going to be late to class today. Hopefully, the teacher won't notice.",
          "I'm going to argue with the teacher about their grading. They're being unfair.",
          "I can't believe how useless this lecture is. I'm never going to use any of this information.",
          "I didn't do the assignment because I had better things to do.",
          "I'm going to copy and paste this entire paper from the internet. It's not like the professor will notice.",
          "This professor is terrible. They don't even know how to teach properly.",
          "I'm going to skip class today. This class is not worth my time.",
          "I'm going to argue with the professor about their grading. They're being unfair.",
          "I don't understand why I have to take this class. It's a waste of my time.",
          "I don't care about this class. I'm just going to wing it.",
          "I'm not going to attend the office hours. The professor doesn't even care about their students.",
          "I'm going to write a bad review about this professor on RateMyProfessor. They deserve it.",
          "I can't wait to get out of here. This family is driving me insane.",
          "I hate my job. I don't want to go back there tomorrow.",
          "I can't believe how much weight I've gained. I need to start dieting ASAP.",
          "I'm going to skip class today. It's not like it's important anyway.",
          "I can't believe what a jerk my boss is. I'm so sick of working here.",
          "I had such a wild night last night. You wouldn't believe what happened.",
          "I think I have a crush on someone in the office. I can't stop thinking about them.",
          "I'm going to tell the boss what I really think about this project. It's a disaster."
         ],
         "legendgroup": "1",
         "marker": {
          "color": "#636efa",
          "symbol": "circle"
         },
         "mode": "markers",
         "name": "1",
         "scene": "scene",
         "showlegend": true,
         "type": "scatter3d",
         "x": [
          -0.08215276174763007,
          -0.0019895390309656773,
          -0.07254489645204729,
          -0.01601140120058707,
          0.011604668834673176,
          -0.019188845922038757,
          -0.02380440976267854,
          -0.002131876375369623,
          -0.06839950910969136,
          -0.10325226712079244,
          -0.0011035270170975779,
          -0.03564334682723315,
          -0.00857447779819363,
          -0.06212872962758493,
          0.009437717532325222,
          -0.2448219018939312,
          0.005011035263910868,
          -0.07245837752507284,
          -0.1224611841195491,
          -0.10038355822100788,
          -0.02118751101351583,
          -0.04670335683396697,
          0.0229369580492619,
          0.025552686639149013,
          -0.2382726114702537,
          -0.20304376449858888,
          -0.1756650808380603,
          -0.10783400354732926,
          -0.17053124386802082,
          -0.09459781048934177,
          -0.10493769052236009,
          -0.17955638490290765,
          -0.17564275278405891,
          -0.1742795418152408,
          -0.2086609156295124,
          -0.08543998312458302,
          -0.17232626725867117,
          0.0702364260484677,
          -0.09584725057988953,
          -0.17919288375394543,
          0.03286987241807722,
          -0.0877106623183704,
          -0.1815855405179081,
          -0.18483831510194268,
          0.09154288695886352,
          -0.15812494099971325,
          -0.08563488943998898,
          -0.17955638490290762,
          -0.04898888430470092,
          -0.010797231882498247,
          -0.10194904625172702,
          -0.11512755147914856,
          -0.24320519231322152,
          -0.24160010858512246,
          -0.014658072049991295,
          -0.04087739756261573,
          -0.030175935089516014,
          0.04872182487302601,
          0.18505208180576685,
          -0.06545887445004278,
          -0.01840743493015187,
          -0.04711119532773788,
          0.026205776543942676,
          0.04762723094114221,
          -0.10799223883509769,
          -0.10505834835181119,
          -0.2607682994418299,
          0.041139068053927384,
          -0.14029733564893077,
          -0.20640936200396012,
          -0.07444561513092597,
          -0.21413763427303892,
          0.007613846920439159,
          -0.20504557231183396,
          -0.040917574257110595,
          -0.09011650574206406,
          -0.14361525978998602,
          -0.3930542256639533,
          -0.10018167303405072,
          -0.13795561263441575,
          -0.22753594810876368,
          -0.3136309520940766,
          -0.19024028636058057,
          -0.10091102466099357,
          -0.010163864050932201,
          -0.12984618431874773,
          -0.010493830223223708,
          -0.3165121588360494,
          -0.15291753990349258,
          -0.14466864844045277,
          -0.22753594810876368,
          -0.12392543777648544,
          -0.08283094414124312,
          -0.04204483091286532,
          -0.07446753541674149,
          -0.011979815057785144,
          -0.3753589389825332,
          -0.09985684396302527,
          -0.09017292097894454,
          -0.0690665683575907,
          -0.10799223883509769
         ],
         "y": [
          0.05691941697415662,
          0.11000556030934638,
          -0.0008689987763138334,
          -0.011040360619434027,
          0.10116997370628607,
          -0.035904353992765814,
          0.15465379752267944,
          0.12303512105257454,
          -0.00896251342923424,
          0.06891999978096969,
          -0.14179290391078694,
          -0.00825705268524609,
          0.16009639950466786,
          0.011266415670061576,
          0.0557659183545098,
          0.07606299262373209,
          0.040042568645794224,
          -0.004729024700201151,
          0.17474312660776872,
          -0.1660304009038802,
          0.09389951093888396,
          0.02690546223546056,
          0.02583494094216084,
          -0.10221806358747847,
          0.06054368195300802,
          -0.08790243144714523,
          0.06554145697729305,
          0.021172360377560765,
          0.03735795504587179,
          0.1919268932767027,
          0.07084928542329762,
          -0.031960378415338025,
          0.04891806889360203,
          -0.027603401387338865,
          0.05849009155372427,
          0.07227064890758295,
          0.03602336348716603,
          0.13207985402215391,
          0.017046821296387547,
          -0.02296838942424345,
          0.04331350062169555,
          0.02367062959335452,
          0.07366893671712359,
          -0.03741543954048556,
          0.11169656062700083,
          0.0305074636784665,
          0.016530063616374813,
          -0.03196037841533801,
          0.11179327502834509,
          0.06440401414128595,
          0.018746420368544438,
          0.05206151163314298,
          -0.04032024900565992,
          0.0387970365221248,
          -0.1602166961033264,
          -0.01813795889758091,
          -0.001649763406008513,
          0.11237183564724215,
          0.16086677986490555,
          -0.03095195863364407,
          -0.010955548308363037,
          -0.0020339553552905466,
          -0.08348935590603383,
          0.04660496317993335,
          0.19382755034068794,
          0.03887851658471739,
          0.15566156601580705,
          0.16975523715904467,
          0.19916461779373815,
          0.054609714510475534,
          -0.006006421959177624,
          0.07174273831011374,
          0.14437929619102208,
          0.05394942227277076,
          -0.006543405047123181,
          0.06805418457993714,
          0.010735644128481438,
          0.12319912795539441,
          0.031809792211767524,
          0.06563205276104558,
          0.24740759327987927,
          -0.0024200251638817655,
          0.023005633226213625,
          0.07562732680171627,
          -0.05384418700721024,
          0.002715016017342663,
          -0.08989119924687723,
          0.06127895873582538,
          -0.024773886261224596,
          0.03858973542727092,
          0.24740759327987927,
          -0.06276536475510158,
          -0.048425883664649005,
          -0.016228041424785625,
          0.07345305686819976,
          0.03298733036671329,
          0.1203322893055761,
          0.07882236997619121,
          0.01454558044259016,
          -0.05722353904944265,
          0.19382755034068794
         ],
         "z": [
          0.07744558806362892,
          -0.25461578256689976,
          0.10782096611727056,
          0.12435100701740961,
          0.040397021094192916,
          0.06115467501302285,
          0.057565645799913835,
          0.0012716550084424284,
          0.08256670611820054,
          -0.029575496217417493,
          -0.023103889944506274,
          0.07582236617121475,
          0.017939782992104688,
          0.08309912048108571,
          0.08823464233002828,
          -0.1190016810615771,
          0.06015208524819041,
          0.10965506354694725,
          -0.102342058349836,
          -0.015012828228534192,
          0.1258782512132332,
          0.07886823200071806,
          0.116205588192666,
          -0.2774914378179747,
          -0.09714320338044942,
          -0.00713391148842713,
          -0.062375933616590856,
          0.2606338403806023,
          -0.06387409807901741,
          -0.20655898971370995,
          -0.016034775458030563,
          -0.037987640805436915,
          -0.056444906751316366,
          -0.029400043511127818,
          -0.11621408852969146,
          -0.044967390376981685,
          -0.060926685122410736,
          0.06309339570679508,
          0.22708223545978706,
          -0.033922829361212166,
          0.08605139156377269,
          0.22266709140038962,
          -0.07744166361959727,
          0.02605313531139028,
          0.06176040719069636,
          -0.04939684497462417,
          0.20669618159694586,
          -0.03798764080543699,
          0.08630718809587754,
          0.09849553482904445,
          0.24739900908236243,
          -0.09373367131142772,
          -0.07356567444582256,
          -0.09048211896981705,
          -0.08716876494450648,
          0.10309401945101797,
          0.08206576608610658,
          0.051220085475492554,
          -0.04309948927164244,
          0.02581635452180565,
          0.11594897195527933,
          0.08842952005242326,
          -0.028995454514154854,
          0.0547972545036771,
          0.05296064345192993,
          0.05633797067222997,
          -0.2005139784380981,
          -0.001190333260040855,
          -0.16247845609260136,
          -0.0768353818126584,
          0.14750897396163126,
          -0.036796471075285504,
          0.025338926768297715,
          -0.030129357424607744,
          0.07255774387260797,
          -0.0021115188168766815,
          -0.046191237385989306,
          -0.23739908174597346,
          0.031594197034590044,
          -0.0007256744526692165,
          -0.30671692500785036,
          -0.1780620432025561,
          -0.01518297082352033,
          -0.0016363319624286077,
          0.0682377033303511,
          -0.015349880843239159,
          -0.1436078217086547,
          -0.20451166583738065,
          -0.011009112360505443,
          -0.1064970803193706,
          -0.30671692500785036,
          -0.06325004862615613,
          0.010856839635793519,
          0.1242700181559274,
          -0.04277997471741483,
          0.07352714277786204,
          -0.23757738141054266,
          0.09487498481965745,
          0.16301528340268723,
          0.09946009996173694,
          0.05296064345192993
         ]
        },
        {
         "hovertemplate": "<b>%{hovertext}</b><br><br>color=0<br>0=%{x}<br>1=%{y}<br>2=%{z}<extra></extra>",
         "hovertext": [
          "Hi just wanted to let you know that I finished the project and it's ready for your review. Let me know if you need anything else from me.",
          "Good morning I'm running a few minutes late today due to traffic. I should be in the office by",
          "Hi I'm having trouble accessing the company database. Are you available to help troubleshoot the issue?",
          "Just a reminder that we have a team meeting attoday. Looking forward to seeing you there.",
          "Hi I need to take a personal day tomorrow. I've already notified and I will make sure to complete any outstanding tasks before I leave.",
          "Thanks for your feedback on the report. I've made the changes you suggested and will send the updated version to you shortly.",
          "Can we schedule a quick call to discuss the new project? I have some ideas I'd like to run by you.",
          "Good luck with the presentation today! Let me know how it goes.",
          "I'm not feeling well today and won't be able to make it into the office. I'll be available by email or phone if you need me.",
          "Just wanted to say thank you for your help on the project. I couldn't have done it without you!",
          "Hi just wanted to check in and see if you need anything from me today.",
          "Good morning I wanted to update you on the progress of the project. We're on track to meet the deadline.",
          "Hi I'm going to be out of the office today for a doctor's appointment. Is there anything urgent you need me to take care of before I go?",
          "Just wanted to let you know that I completed the training module and passed the quiz. Thanks for assigning it to me!",
          "Good afternoon can we schedule a meeting to discuss the budget for next quarter?",
          "Hi I wanted to share an idea I have for improving our customer service. When would be a good time to talk about it?",
          "I'm going to be working from home today. Is there anything you need me to take care of remotely?",
          "Hi I'm running late this morning due to traffic. I should be in the office by",
          "Just wanted to check in and make sure you received the report I sent yesterday. Let me know if you have any questions or feedback.",
          "Hi I need to take a personal day next week for a family event. Is there anything you need me to take care of before I go?",
          "Good morning I wanted to let you know that I finished the task you assigned me and it's ready for your review.",
          "Hi I'm having trouble with my computer. Can you or IT help me troubleshoot the issue?",
          "Just wanted to say thank you for your guidance on the project. I appreciate your support.",
          "Hi I'm going to be in a meeting for the next hour. Can I follow up with you afterwards?",
          "Good afternoon I wanted to let you know that I'll be out of the office for a training seminar next week. I've already coordinated withto cover my responsibilities.",
          "Hi I wanted to remind you that our team is presenting the new project to the client tomorrow. Is there anything else you need from me before then?",
          "Just wanted to check in and make sure we're still on track for our meeting tomorrow at",
          "Hi I received a request from a client for a new product feature. Can we discuss it further?",
          "Good morning I wanted to give you an update on the sales numbers for last quarter. We exceeded our target by",
          "Hi I'm going to be on vacation next week. I'll make sure to complete all outstanding tasks before I go.",
          "Just wanted to let you know that I'm running a few minutes late this morning due to an unexpected delay. I should be in the office by",
          "Hi I wanted to share some positive feedback we received from a client. They were very happy with the service we provided.",
          "Good afternoon I wanted to request a day off next month for a personal event. Is that possible?",
          "Hi I wanted to discuss my performance evaluation with you. When would be a good time to do that?",
          "Just wanted to remind you that the deadline for the project is coming up. Do you need any additional information or support from me?",
          "Hi I'm having trouble with a difficult customer",
          "Hi can you send me the latest version of the presentation? I need to review it before the meeting tomorrow.",
          "Good morning I wanted to check in and see if you need any help with the project.",
          "Hi I wanted to let you know that I completed my part of the task. Let me know if you need anything else from me.",
          "Just wanted to remind you that we have a team meeting attoday. Looking forward to seeing you there.",
          "Hi I'm going to be out of the office tomorrow for a doctor's appointment. Can you cover my responsibilities for the day?",
          "Good afternoon can you send me the file with the data we discussed earlier?",
          "Hi I wanted to discuss some ideas I have for the project. When would be a good time to talk about it?",
          "Just wanted to say thank you for your help on the project. I appreciate your support.",
          "Hi I'm having trouble with my computer. Do you have any suggestions on how to fix it?",
          "Good morning I wanted to let you know that I'll be out of the office for a training seminar next week. I'll make sure to complete all outstanding tasks before I go.",
          "Hi I received a request from a client for a new product feature. Can you help me research it?",
          "Just wanted to check in and see how you're doing on the project. Do you need any support or resources?",
          "Hi can you review the document I sent and give me your feedback by the end of the day?",
          "Good afternoon I'm going to be working from home tomorrow. Is there anything you need me to take care of remotely?",
          "Hi I need to take a personal day next week for a family event. Can you cover my responsibilities for the day?",
          "Just wanted to remind you that the deadline for the project is coming up. Do you need any additional information or support from me?",
          "Hi I wanted to share some positive feedback we received from a client. They were very happy with the service we provided.",
          "Good morning I'm going to be in a meeting for the next hour. Can I follow up with you afterwards?",
          "Hi I'm having trouble with a difficult customer. Can you offer any advice or support?",
          "Just wanted to say thank you for your hard work on the project. We're making great progress together.",
          "Good morning, Professor I wanted to check in and see if you had any feedback on my recent assignment.",
          "Hi Professor I'm going to be late to class today due to unforeseen circumstances. I will be there as soon as I can.",
          "Good afternoon, Professor I had a question about the reading assignment. Could we discuss it after class?",
          "Hi Professor I just wanted to say thank you for your guidance and support this semester. I appreciate your help.",
          "Good morning, Professor Could you let me know if there are any updates or changes to the schedule for this week?",
          "Hi Professor I'm having trouble understanding the concepts in this week's lecture. Do you have any additional resources or suggestions?",
          "Good afternoon, Professor I'm sorry to inform you that I won't be able to attend class today due to illness. I will make sure to catch up on the missed material.",
          "Hi Professor I was wondering if I could schedule some time to discuss my academic progress and future plans with you?",
          "Good morning, Professor Could you clarify the requirements for the upcoming assignment? I want to make sure I'm on the right track.",
          "Hi Professor I'm having trouble accessing the course materials online. Is there a solution to this issue?",
          "Good afternoon, Professor I just wanted to inform you that I'll be submitting my assignment a bit later than the deadline due to personal circumstances.",
          "Hi Professor I wanted to let you know that I won't be able to attend the lecture tomorrow. Is there anything I should be aware of before the next class?",
          "Good morning, Professor I was wondering if you could recommend some additional readings or sources related to the current topic.",
          "Hi Professor I'm really struggling with the class material. Do you have any advice or suggestions for how I can improve my understanding?",
          "Good afternoon, Professor I'm interested in pursuing a research project related to this course. Could we discuss potential ideas and resources?",
          "Hi Professor I just wanted to inform you that I won't be able to attend the final exam due to a medical emergency. Is there a possibility for a makeup exam?",
          "Good morning, Professor I wanted to inform you that I'll be submitting my assignment earlier than the deadline, as I want to receive feedback and improve my work.",
          "Hi Professor I'm having trouble finding the required textbook for this class. Is there a way to access it?",
          "Good afternoon, Professor I was wondering if you could provide some advice on how to prepare for the upcoming exam?",
          "Hi Professor I just wanted to express my appreciation for your passion and dedication to teaching. I'm learning so much from your class."
         ],
         "legendgroup": "0",
         "marker": {
          "color": "#EF553B",
          "symbol": "circle"
         },
         "mode": "markers",
         "name": "0",
         "scene": "scene",
         "showlegend": true,
         "type": "scatter3d",
         "x": [
          0.37839284750200036,
          -0.06737557382125071,
          0.059277344810550435,
          0.06880025801523627,
          0.07865569196378586,
          0.01672128898782176,
          0.06418145280377183,
          0.059275995109792125,
          -0.041950874807472026,
          0.39973399945882754,
          0.28553412969806535,
          0.27277816940397975,
          -0.18788110210871117,
          0.19498609197468844,
          0.07608761567748579,
          0.16046818432532936,
          -0.2267050072022416,
          -0.014616015116748971,
          0.28280029219987335,
          0.07472722194678284,
          0.2693587680237969,
          0.08119668639699504,
          0.43654914864707933,
          -0.07516540837877542,
          0.18561436280501223,
          0.27229717846603707,
          0.2659830842169726,
          0.09312558353904152,
          0.13840488925938788,
          0.019713560191256578,
          0.1759871524298855,
          0.1801955515123247,
          0.13716918835441294,
          0.18539993369330152,
          0.377225683528725,
          0.04640907208305608,
          0.07341776355683875,
          0.45278237432921514,
          0.30221244091577365,
          0.17828210440809192,
          -0.10348086003015941,
          0.029965617358216887,
          0.27375489030215827,
          0.4757101224487383,
          0.023290368442851622,
          0.23115973886507474,
          0.11334279377578474,
          0.3875697560894797,
          0.06323405351464148,
          -0.08478913509750804,
          0.0662993591176142,
          0.377225683528725,
          0.1801955515123247,
          -0.019366671857338712,
          0.09191241654722113,
          0.2711293054369464,
          0.28039012484668524,
          -0.22598009687084208,
          0.01997093007757707,
          0.39768558439800594,
          0.18545116412560533,
          0.07207350646287498,
          -0.043533693807642465,
          0.057445580820216585,
          0.09415127785933132,
          0.02895913344717746,
          0.19849444262427968,
          0.13167847552821868,
          0.0683996003839569,
          -0.03822003371228439,
          0.11892309968424605,
          0.09986709237540058,
          0.17997182083665508,
          -0.02834911068034877,
          0.04007930218639429,
          0.07851063661316798
         ],
         "y": [
          -0.12413794890391326,
          -0.34356128426164617,
          -0.009316993946435611,
          0.11693102853746251,
          -0.1330506908020392,
          -0.07657552312097624,
          0.04070386303228162,
          -0.22921042878761821,
          -0.08869766886422449,
          0.4160291817093346,
          0.18970853133298846,
          -0.05704497379720531,
          0.01302828511268587,
          -0.0812963363532423,
          -0.20322807748899957,
          -0.12422786949444264,
          0.1402535190282767,
          -0.3312272834375669,
          -0.11417585018979348,
          -0.011132071663527464,
          -0.3142089345937878,
          -0.01255487451283366,
          0.49139647135803444,
          -0.06614986752067356,
          -0.34269769426767993,
          0.1388870280395685,
          0.011240838855571884,
          -0.07473462169406825,
          -0.1513881976074391,
          -0.19774211654099347,
          -0.26648000612726286,
          -0.07882271156382957,
          -0.1300195584285353,
          -0.1559920670589872,
          0.37486239583036435,
          -0.06947585849834487,
          -0.06567813804472668,
          0.035281937140545054,
          -0.2541561846810907,
          0.1617510635301058,
          -0.11961162117111866,
          -0.1423122888740587,
          -0.07376307066830046,
          0.5166026090529711,
          -0.06266999306179623,
          -0.4037058074675065,
          -0.014498435267254407,
          0.336043649448944,
          -0.09927125273477601,
          -0.009468418298377204,
          -0.1025401384876962,
          0.37486239583036435,
          -0.07882271156382957,
          -0.19622680691976044,
          0.011237509241603562,
          0.3172050966385641,
          -0.23923234873721633,
          -0.06940008873127367,
          -0.2176382659063177,
          0.35042955072730814,
          -0.3956681123593023,
          -0.09573692673491192,
          -0.17527511073546861,
          -0.13140086081025554,
          -0.2457710913045418,
          -0.08669189810627717,
          -0.12998362115026393,
          -0.20346165432264943,
          -0.16205252381174862,
          -0.07128649081551583,
          -0.09105608762072968,
          -0.04322767658540336,
          -0.19454152203963332,
          -0.07131505719588485,
          -0.18289203832250356,
          0.02756815583385364
         ],
         "z": [
          -0.2975251796443365,
          -0.21978205987915958,
          0.38008985432960424,
          -0.012500261584740227,
          0.09493282834836608,
          0.055878474445896116,
          0.048084834468044436,
          -0.24338400162668436,
          -0.010169311855088308,
          -0.06385809510237098,
          -0.15932429055753602,
          -0.128484247527154,
          -0.09238406778795714,
          -0.18462734845962483,
          0.02005849379934322,
          0.11408816786221594,
          -0.11969581740241178,
          -0.06490757993470933,
          -0.16044682879725403,
          0.14114805134970737,
          -0.29973737222046265,
          0.440122786797618,
          -0.09072637908220656,
          0.038759996027429064,
          -0.15936704610806496,
          0.06287205493964458,
          -0.11806595007240041,
          0.23951736795955944,
          -0.06739660775242759,
          0.01143067424234014,
          -0.30487827606186824,
          0.18002441498384433,
          0.06942975948282669,
          0.0463569665796794,
          -0.09304129408131913,
          0.442307852816673,
          0.07909062183164031,
          -0.15722527751499363,
          -0.2754286856640368,
          -0.05283306633706247,
          0.051765643556108715,
          0.024582072091607333,
          0.026134836869030818,
          -0.06581996877351412,
          0.41326642495360755,
          -0.21161252669318015,
          0.24579268127840154,
          -0.1178373914596386,
          0.14384727647704804,
          -0.07641944800210944,
          0.19689892425603747,
          -0.09304129408131913,
          0.18002441498384433,
          -0.1121271598033817,
          0.3781487924964633,
          -0.08966107393700151,
          -0.13091139252891343,
          -0.10549459022537201,
          -0.041337563193178536,
          0.012507020664591037,
          -0.19048502781680757,
          0.2940256863276703,
          -0.10843060778070858,
          0.10796528304338403,
          -0.0695450256407774,
          0.33663551639841804,
          -0.0768642334316812,
          -0.1472888127754858,
          -0.0055276040359899265,
          0.12511979587018207,
          0.047514415512600945,
          0.005698919086935385,
          -0.11014513519133282,
          0.2293693308183214,
          0.04424455139414553,
          -0.02566919071708605
         ]
        }
       ],
       "layout": {
        "legend": {
         "title": {
          "text": "color"
         },
         "tracegroupgap": 0
        },
        "margin": {
         "t": 60
        },
        "scene": {
         "domain": {
          "x": [
           0,
           1
          ],
          "y": [
           0,
           1
          ]
         },
         "xaxis": {
          "title": {
           "text": "0"
          }
         },
         "yaxis": {
          "title": {
           "text": "1"
          }
         },
         "zaxis": {
          "title": {
           "text": "2"
          }
         }
        },
        "template": {
         "data": {
          "bar": [
           {
            "error_x": {
             "color": "#2a3f5f"
            },
            "error_y": {
             "color": "#2a3f5f"
            },
            "marker": {
             "line": {
              "color": "#E5ECF6",
              "width": 0.5
             },
             "pattern": {
              "fillmode": "overlay",
              "size": 10,
              "solidity": 0.2
             }
            },
            "type": "bar"
           }
          ],
          "barpolar": [
           {
            "marker": {
             "line": {
              "color": "#E5ECF6",
              "width": 0.5
             },
             "pattern": {
              "fillmode": "overlay",
              "size": 10,
              "solidity": 0.2
             }
            },
            "type": "barpolar"
           }
          ],
          "carpet": [
           {
            "aaxis": {
             "endlinecolor": "#2a3f5f",
             "gridcolor": "white",
             "linecolor": "white",
             "minorgridcolor": "white",
             "startlinecolor": "#2a3f5f"
            },
            "baxis": {
             "endlinecolor": "#2a3f5f",
             "gridcolor": "white",
             "linecolor": "white",
             "minorgridcolor": "white",
             "startlinecolor": "#2a3f5f"
            },
            "type": "carpet"
           }
          ],
          "choropleth": [
           {
            "colorbar": {
             "outlinewidth": 0,
             "ticks": ""
            },
            "type": "choropleth"
           }
          ],
          "contour": [
           {
            "colorbar": {
             "outlinewidth": 0,
             "ticks": ""
            },
            "colorscale": [
             [
              0,
              "#0d0887"
             ],
             [
              0.1111111111111111,
              "#46039f"
             ],
             [
              0.2222222222222222,
              "#7201a8"
             ],
             [
              0.3333333333333333,
              "#9c179e"
             ],
             [
              0.4444444444444444,
              "#bd3786"
             ],
             [
              0.5555555555555556,
              "#d8576b"
             ],
             [
              0.6666666666666666,
              "#ed7953"
             ],
             [
              0.7777777777777778,
              "#fb9f3a"
             ],
             [
              0.8888888888888888,
              "#fdca26"
             ],
             [
              1,
              "#f0f921"
             ]
            ],
            "type": "contour"
           }
          ],
          "contourcarpet": [
           {
            "colorbar": {
             "outlinewidth": 0,
             "ticks": ""
            },
            "type": "contourcarpet"
           }
          ],
          "heatmap": [
           {
            "colorbar": {
             "outlinewidth": 0,
             "ticks": ""
            },
            "colorscale": [
             [
              0,
              "#0d0887"
             ],
             [
              0.1111111111111111,
              "#46039f"
             ],
             [
              0.2222222222222222,
              "#7201a8"
             ],
             [
              0.3333333333333333,
              "#9c179e"
             ],
             [
              0.4444444444444444,
              "#bd3786"
             ],
             [
              0.5555555555555556,
              "#d8576b"
             ],
             [
              0.6666666666666666,
              "#ed7953"
             ],
             [
              0.7777777777777778,
              "#fb9f3a"
             ],
             [
              0.8888888888888888,
              "#fdca26"
             ],
             [
              1,
              "#f0f921"
             ]
            ],
            "type": "heatmap"
           }
          ],
          "heatmapgl": [
           {
            "colorbar": {
             "outlinewidth": 0,
             "ticks": ""
            },
            "colorscale": [
             [
              0,
              "#0d0887"
             ],
             [
              0.1111111111111111,
              "#46039f"
             ],
             [
              0.2222222222222222,
              "#7201a8"
             ],
             [
              0.3333333333333333,
              "#9c179e"
             ],
             [
              0.4444444444444444,
              "#bd3786"
             ],
             [
              0.5555555555555556,
              "#d8576b"
             ],
             [
              0.6666666666666666,
              "#ed7953"
             ],
             [
              0.7777777777777778,
              "#fb9f3a"
             ],
             [
              0.8888888888888888,
              "#fdca26"
             ],
             [
              1,
              "#f0f921"
             ]
            ],
            "type": "heatmapgl"
           }
          ],
          "histogram": [
           {
            "marker": {
             "pattern": {
              "fillmode": "overlay",
              "size": 10,
              "solidity": 0.2
             }
            },
            "type": "histogram"
           }
          ],
          "histogram2d": [
           {
            "colorbar": {
             "outlinewidth": 0,
             "ticks": ""
            },
            "colorscale": [
             [
              0,
              "#0d0887"
             ],
             [
              0.1111111111111111,
              "#46039f"
             ],
             [
              0.2222222222222222,
              "#7201a8"
             ],
             [
              0.3333333333333333,
              "#9c179e"
             ],
             [
              0.4444444444444444,
              "#bd3786"
             ],
             [
              0.5555555555555556,
              "#d8576b"
             ],
             [
              0.6666666666666666,
              "#ed7953"
             ],
             [
              0.7777777777777778,
              "#fb9f3a"
             ],
             [
              0.8888888888888888,
              "#fdca26"
             ],
             [
              1,
              "#f0f921"
             ]
            ],
            "type": "histogram2d"
           }
          ],
          "histogram2dcontour": [
           {
            "colorbar": {
             "outlinewidth": 0,
             "ticks": ""
            },
            "colorscale": [
             [
              0,
              "#0d0887"
             ],
             [
              0.1111111111111111,
              "#46039f"
             ],
             [
              0.2222222222222222,
              "#7201a8"
             ],
             [
              0.3333333333333333,
              "#9c179e"
             ],
             [
              0.4444444444444444,
              "#bd3786"
             ],
             [
              0.5555555555555556,
              "#d8576b"
             ],
             [
              0.6666666666666666,
              "#ed7953"
             ],
             [
              0.7777777777777778,
              "#fb9f3a"
             ],
             [
              0.8888888888888888,
              "#fdca26"
             ],
             [
              1,
              "#f0f921"
             ]
            ],
            "type": "histogram2dcontour"
           }
          ],
          "mesh3d": [
           {
            "colorbar": {
             "outlinewidth": 0,
             "ticks": ""
            },
            "type": "mesh3d"
           }
          ],
          "parcoords": [
           {
            "line": {
             "colorbar": {
              "outlinewidth": 0,
              "ticks": ""
             }
            },
            "type": "parcoords"
           }
          ],
          "pie": [
           {
            "automargin": true,
            "type": "pie"
           }
          ],
          "scatter": [
           {
            "fillpattern": {
             "fillmode": "overlay",
             "size": 10,
             "solidity": 0.2
            },
            "type": "scatter"
           }
          ],
          "scatter3d": [
           {
            "line": {
             "colorbar": {
              "outlinewidth": 0,
              "ticks": ""
             }
            },
            "marker": {
             "colorbar": {
              "outlinewidth": 0,
              "ticks": ""
             }
            },
            "type": "scatter3d"
           }
          ],
          "scattercarpet": [
           {
            "marker": {
             "colorbar": {
              "outlinewidth": 0,
              "ticks": ""
             }
            },
            "type": "scattercarpet"
           }
          ],
          "scattergeo": [
           {
            "marker": {
             "colorbar": {
              "outlinewidth": 0,
              "ticks": ""
             }
            },
            "type": "scattergeo"
           }
          ],
          "scattergl": [
           {
            "marker": {
             "colorbar": {
              "outlinewidth": 0,
              "ticks": ""
             }
            },
            "type": "scattergl"
           }
          ],
          "scattermapbox": [
           {
            "marker": {
             "colorbar": {
              "outlinewidth": 0,
              "ticks": ""
             }
            },
            "type": "scattermapbox"
           }
          ],
          "scatterpolar": [
           {
            "marker": {
             "colorbar": {
              "outlinewidth": 0,
              "ticks": ""
             }
            },
            "type": "scatterpolar"
           }
          ],
          "scatterpolargl": [
           {
            "marker": {
             "colorbar": {
              "outlinewidth": 0,
              "ticks": ""
             }
            },
            "type": "scatterpolargl"
           }
          ],
          "scatterternary": [
           {
            "marker": {
             "colorbar": {
              "outlinewidth": 0,
              "ticks": ""
             }
            },
            "type": "scatterternary"
           }
          ],
          "surface": [
           {
            "colorbar": {
             "outlinewidth": 0,
             "ticks": ""
            },
            "colorscale": [
             [
              0,
              "#0d0887"
             ],
             [
              0.1111111111111111,
              "#46039f"
             ],
             [
              0.2222222222222222,
              "#7201a8"
             ],
             [
              0.3333333333333333,
              "#9c179e"
             ],
             [
              0.4444444444444444,
              "#bd3786"
             ],
             [
              0.5555555555555556,
              "#d8576b"
             ],
             [
              0.6666666666666666,
              "#ed7953"
             ],
             [
              0.7777777777777778,
              "#fb9f3a"
             ],
             [
              0.8888888888888888,
              "#fdca26"
             ],
             [
              1,
              "#f0f921"
             ]
            ],
            "type": "surface"
           }
          ],
          "table": [
           {
            "cells": {
             "fill": {
              "color": "#EBF0F8"
             },
             "line": {
              "color": "white"
             }
            },
            "header": {
             "fill": {
              "color": "#C8D4E3"
             },
             "line": {
              "color": "white"
             }
            },
            "type": "table"
           }
          ]
         },
         "layout": {
          "annotationdefaults": {
           "arrowcolor": "#2a3f5f",
           "arrowhead": 0,
           "arrowwidth": 1
          },
          "autotypenumbers": "strict",
          "coloraxis": {
           "colorbar": {
            "outlinewidth": 0,
            "ticks": ""
           }
          },
          "colorscale": {
           "diverging": [
            [
             0,
             "#8e0152"
            ],
            [
             0.1,
             "#c51b7d"
            ],
            [
             0.2,
             "#de77ae"
            ],
            [
             0.3,
             "#f1b6da"
            ],
            [
             0.4,
             "#fde0ef"
            ],
            [
             0.5,
             "#f7f7f7"
            ],
            [
             0.6,
             "#e6f5d0"
            ],
            [
             0.7,
             "#b8e186"
            ],
            [
             0.8,
             "#7fbc41"
            ],
            [
             0.9,
             "#4d9221"
            ],
            [
             1,
             "#276419"
            ]
           ],
           "sequential": [
            [
             0,
             "#0d0887"
            ],
            [
             0.1111111111111111,
             "#46039f"
            ],
            [
             0.2222222222222222,
             "#7201a8"
            ],
            [
             0.3333333333333333,
             "#9c179e"
            ],
            [
             0.4444444444444444,
             "#bd3786"
            ],
            [
             0.5555555555555556,
             "#d8576b"
            ],
            [
             0.6666666666666666,
             "#ed7953"
            ],
            [
             0.7777777777777778,
             "#fb9f3a"
            ],
            [
             0.8888888888888888,
             "#fdca26"
            ],
            [
             1,
             "#f0f921"
            ]
           ],
           "sequentialminus": [
            [
             0,
             "#0d0887"
            ],
            [
             0.1111111111111111,
             "#46039f"
            ],
            [
             0.2222222222222222,
             "#7201a8"
            ],
            [
             0.3333333333333333,
             "#9c179e"
            ],
            [
             0.4444444444444444,
             "#bd3786"
            ],
            [
             0.5555555555555556,
             "#d8576b"
            ],
            [
             0.6666666666666666,
             "#ed7953"
            ],
            [
             0.7777777777777778,
             "#fb9f3a"
            ],
            [
             0.8888888888888888,
             "#fdca26"
            ],
            [
             1,
             "#f0f921"
            ]
           ]
          },
          "colorway": [
           "#636efa",
           "#EF553B",
           "#00cc96",
           "#ab63fa",
           "#FFA15A",
           "#19d3f3",
           "#FF6692",
           "#B6E880",
           "#FF97FF",
           "#FECB52"
          ],
          "font": {
           "color": "#2a3f5f"
          },
          "geo": {
           "bgcolor": "white",
           "lakecolor": "white",
           "landcolor": "#E5ECF6",
           "showlakes": true,
           "showland": true,
           "subunitcolor": "white"
          },
          "hoverlabel": {
           "align": "left"
          },
          "hovermode": "closest",
          "mapbox": {
           "style": "light"
          },
          "paper_bgcolor": "white",
          "plot_bgcolor": "#E5ECF6",
          "polar": {
           "angularaxis": {
            "gridcolor": "white",
            "linecolor": "white",
            "ticks": ""
           },
           "bgcolor": "#E5ECF6",
           "radialaxis": {
            "gridcolor": "white",
            "linecolor": "white",
            "ticks": ""
           }
          },
          "scene": {
           "xaxis": {
            "backgroundcolor": "#E5ECF6",
            "gridcolor": "white",
            "gridwidth": 2,
            "linecolor": "white",
            "showbackground": true,
            "ticks": "",
            "zerolinecolor": "white"
           },
           "yaxis": {
            "backgroundcolor": "#E5ECF6",
            "gridcolor": "white",
            "gridwidth": 2,
            "linecolor": "white",
            "showbackground": true,
            "ticks": "",
            "zerolinecolor": "white"
           },
           "zaxis": {
            "backgroundcolor": "#E5ECF6",
            "gridcolor": "white",
            "gridwidth": 2,
            "linecolor": "white",
            "showbackground": true,
            "ticks": "",
            "zerolinecolor": "white"
           }
          },
          "shapedefaults": {
           "line": {
            "color": "#2a3f5f"
           }
          },
          "ternary": {
           "aaxis": {
            "gridcolor": "white",
            "linecolor": "white",
            "ticks": ""
           },
           "baxis": {
            "gridcolor": "white",
            "linecolor": "white",
            "ticks": ""
           },
           "bgcolor": "#E5ECF6",
           "caxis": {
            "gridcolor": "white",
            "linecolor": "white",
            "ticks": ""
           }
          },
          "title": {
           "x": 0.05
          },
          "xaxis": {
           "automargin": true,
           "gridcolor": "white",
           "linecolor": "white",
           "ticks": "",
           "title": {
            "standoff": 15
           },
           "zerolinecolor": "white",
           "zerolinewidth": 2
          },
          "yaxis": {
           "automargin": true,
           "gridcolor": "white",
           "linecolor": "white",
           "ticks": "",
           "title": {
            "standoff": 15
           },
           "zerolinecolor": "white",
           "zerolinewidth": 2
          }
         }
        }
       }
      }
     },
     "metadata": {},
     "output_type": "display_data"
    }
   ],
   "source": [
    "fig = px.scatter_3d(pd.DataFrame(components), \n",
    "                    x=0, y=1, z=2, \n",
    "                    color=train_df[\"target\"].astype(str),\n",
    "                    hover_name=train_df[\"text\"]\n",
    ")\n",
    "fig.show()"
   ]
  },
  {
   "cell_type": "code",
   "execution_count": 73,
   "id": "ed9e8c84",
   "metadata": {},
   "outputs": [
    {
     "name": "stdout",
     "output_type": "stream",
     "text": [
      "Train accuracy:  0.966\n",
      "Validation accuracy:  0.913\n"
     ]
    }
   ],
   "source": [
    "rf = RandomForestClassifier(max_depth=10, n_estimators=7, n_jobs=-1)\n",
    "rf.fit(X, train_df.target)\n",
    "\n",
    "y_pred_train = rf.predict(X)\n",
    "print('Train accuracy: ', (train_df.target == y_pred_train).mean().round(3))\n",
    "\n",
    "y_pred_val = rf.predict(X_tfidf_val)\n",
    "print('Validation accuracy: ', (val_df.target == y_pred_val).mean().round(3))"
   ]
  },
  {
   "cell_type": "code",
   "execution_count": 74,
   "id": "1ec29aec",
   "metadata": {},
   "outputs": [
    {
     "name": "stdout",
     "output_type": "stream",
     "text": [
      "Feature ranking:\n",
      "1. feature 175 (0.164085)\n",
      "2. feature 437 (0.102590)\n",
      "3. feature 215 (0.066480)\n",
      "4. feature 300 (0.043398)\n",
      "5. feature 132 (0.041178)\n",
      "6. feature 414 (0.039718)\n",
      "7. feature 154 (0.031463)\n",
      "8. feature 227 (0.029563)\n",
      "9. feature 168 (0.022290)\n",
      "10. feature 8 (0.022071)\n",
      "\n",
      "\n",
      "hi\n",
      "wanted\n",
      "let\n",
      "professor\n",
      "feedback\n",
      "trouble\n",
      "good\n",
      "make\n",
      "having\n",
      "afternoon\n"
     ]
    },
    {
     "name": "stderr",
     "output_type": "stream",
     "text": [
      "/opt/anaconda3/lib/python3.8/site-packages/sklearn/utils/deprecation.py:87: FutureWarning:\n",
      "\n",
      "Function get_feature_names is deprecated; get_feature_names is deprecated in 1.0 and will be removed in 1.2. Please use get_feature_names_out instead.\n",
      "\n"
     ]
    }
   ],
   "source": [
    "importances = rf.feature_importances_\n",
    "std = np.std([tree.feature_importances_ for tree in rf.estimators_],\n",
    "             axis=0)\n",
    "indices = np.argsort(importances)[::-1]\n",
    "\n",
    "# Print the feature ranking\n",
    "print(\"Feature ranking:\")\n",
    "\n",
    "top_word_indicies = []\n",
    "for f in range(10):\n",
    "    print(\"%d. feature %d (%f)\" % (f + 1, indices[f], importances[indices[f]]))\n",
    "    top_word_indicies.append(indices[f])\n",
    "\n",
    "print(\"\\n\")\n",
    "\n",
    "\n",
    "# Print top features   \n",
    "for ind in top_word_indicies:\n",
    "    print(vectorizer.get_feature_names()[ind])"
   ]
  },
  {
   "cell_type": "code",
   "execution_count": 36,
   "id": "5eeb43be",
   "metadata": {},
   "outputs": [],
   "source": [
    "# pos_frequencies['Hi']\n",
    "# neg_frequencies['Hi']"
   ]
  },
  {
   "attachments": {},
   "cell_type": "markdown",
   "id": "af7dea66",
   "metadata": {},
   "source": [
    "## Sentence Embedding"
   ]
  },
  {
   "cell_type": "code",
   "execution_count": 88,
   "id": "859f342a",
   "metadata": {},
   "outputs": [
    {
     "name": "stderr",
     "output_type": "stream",
     "text": [
      "/opt/anaconda3/lib/python3.8/site-packages/huggingface_hub/file_download.py:588: FutureWarning:\n",
      "\n",
      "`cached_download` is the legacy way to download files from the HF hub, please consider upgrading to `hf_hub_download`\n",
      "\n"
     ]
    }
   ],
   "source": [
    "from sentence_transformers import SentenceTransformer, util\n",
    "minilm = SentenceTransformer('sentence-transformers/all-MiniLM-L6-v2')"
   ]
  },
  {
   "cell_type": "code",
   "execution_count": 89,
   "id": "e48448a4",
   "metadata": {},
   "outputs": [
    {
     "data": {
      "text/html": [
       "<div>\n",
       "<style scoped>\n",
       "    .dataframe tbody tr th:only-of-type {\n",
       "        vertical-align: middle;\n",
       "    }\n",
       "\n",
       "    .dataframe tbody tr th {\n",
       "        vertical-align: top;\n",
       "    }\n",
       "\n",
       "    .dataframe thead th {\n",
       "        text-align: right;\n",
       "    }\n",
       "</style>\n",
       "<table border=\"1\" class=\"dataframe\">\n",
       "  <thead>\n",
       "    <tr style=\"text-align: right;\">\n",
       "      <th></th>\n",
       "      <th>target</th>\n",
       "      <th>text</th>\n",
       "      <th>processed_text</th>\n",
       "      <th>nb_prediction</th>\n",
       "    </tr>\n",
       "  </thead>\n",
       "  <tbody>\n",
       "    <tr>\n",
       "      <th>0</th>\n",
       "      <td>1</td>\n",
       "      <td>I can't stand working for this jerk. I'm so do...</td>\n",
       "      <td>stand working done</td>\n",
       "      <td>1</td>\n",
       "    </tr>\n",
       "    <tr>\n",
       "      <th>1</th>\n",
       "      <td>1</td>\n",
       "      <td>I don't know how we're going to get this proje...</td>\n",
       "      <td>know going get project team</td>\n",
       "      <td>1</td>\n",
       "    </tr>\n",
       "    <tr>\n",
       "      <th>2</th>\n",
       "      <td>1</td>\n",
       "      <td>I'm so bored. Can't wait to get out of here an...</td>\n",
       "      <td>wait get go</td>\n",
       "      <td>1</td>\n",
       "    </tr>\n",
       "    <tr>\n",
       "      <th>3</th>\n",
       "      <td>1</td>\n",
       "      <td>I'm calling in sick tomorrow. I can't handle a...</td>\n",
       "      <td>calling sick handle another day</td>\n",
       "      <td>1</td>\n",
       "    </tr>\n",
       "    <tr>\n",
       "      <th>4</th>\n",
       "      <td>1</td>\n",
       "      <td>I just got offered a job with better pay and b...</td>\n",
       "      <td>got offered job better pay take</td>\n",
       "      <td>1</td>\n",
       "    </tr>\n",
       "  </tbody>\n",
       "</table>\n",
       "</div>"
      ],
      "text/plain": [
       "   target                                               text  \\\n",
       "0       1  I can't stand working for this jerk. I'm so do...   \n",
       "1       1  I don't know how we're going to get this proje...   \n",
       "2       1  I'm so bored. Can't wait to get out of here an...   \n",
       "3       1  I'm calling in sick tomorrow. I can't handle a...   \n",
       "4       1  I just got offered a job with better pay and b...   \n",
       "\n",
       "                    processed_text  nb_prediction  \n",
       "0               stand working done              1  \n",
       "1      know going get project team              1  \n",
       "2                      wait get go              1  \n",
       "3  calling sick handle another day              1  \n",
       "4  got offered job better pay take              1  "
      ]
     },
     "execution_count": 89,
     "metadata": {},
     "output_type": "execute_result"
    }
   ],
   "source": [
    "train_df.head()"
   ]
  },
  {
   "cell_type": "code",
   "execution_count": 90,
   "id": "9204d043",
   "metadata": {},
   "outputs": [],
   "source": [
    "embeddings_train = minilm.encode(train_df.text, convert_to_tensor=True)"
   ]
  },
  {
   "cell_type": "code",
   "execution_count": 91,
   "id": "acc12c16",
   "metadata": {},
   "outputs": [],
   "source": [
    "embeddings_val = minilm.encode(val_df.text, convert_to_tensor=True)"
   ]
  },
  {
   "cell_type": "code",
   "execution_count": 92,
   "id": "348692f8",
   "metadata": {},
   "outputs": [
    {
     "data": {
      "text/plain": [
       "torch.Size([177, 384])"
      ]
     },
     "execution_count": 92,
     "metadata": {},
     "output_type": "execute_result"
    }
   ],
   "source": [
    "embeddings_train.shape"
   ]
  },
  {
   "cell_type": "code",
   "execution_count": 93,
   "id": "3ef50ccd",
   "metadata": {},
   "outputs": [
    {
     "data": {
      "text/plain": [
       "(177, 3)"
      ]
     },
     "execution_count": 93,
     "metadata": {},
     "output_type": "execute_result"
    }
   ],
   "source": [
    "# visualize embeddings with PCA\n",
    "from sklearn.decomposition import PCA\n",
    "import plotly.express as px\n",
    "\n",
    "pca = PCA(n_components=3)\n",
    "components = pca.fit_transform(embeddings_train)\n",
    "components.shape"
   ]
  },
  {
   "cell_type": "code",
   "execution_count": 96,
   "id": "19b1fe34",
   "metadata": {},
   "outputs": [
    {
     "name": "stderr",
     "output_type": "stream",
     "text": [
      "/opt/anaconda3/lib/python3.8/site-packages/plotly/express/_core.py:279: FutureWarning:\n",
      "\n",
      "iteritems is deprecated and will be removed in a future version. Use .items instead.\n",
      "\n"
     ]
    },
    {
     "data": {
      "application/vnd.plotly.v1+json": {
       "config": {
        "plotlyServerURL": "https://plot.ly"
       },
       "data": [
        {
         "diagonal": {
          "visible": false
         },
         "dimensions": [
          {
           "axis": {
            "matches": true
           },
           "label": "PC 1 (10.4%)",
           "values": [
            0.11210629234619715,
            -0.19537524308767862,
            0.40589007717065023,
            0.368607278696461,
            0.05149921312738961,
            0.01984673096401362,
            -0.09922247302816888,
            0.258940060383861,
            0.1924394900139447,
            -0.10258416926248567,
            0.2157976591258878,
            -0.012420794501143567,
            -0.004010849240966703,
            0.06891224890472919,
            0.14873939031013603,
            0.5159522124949087,
            0.17356869628409724,
            0.27146345077214323,
            0.41284390652643477,
            0.12328577398451687,
            0.3727762582940727,
            0.14741330496013175,
            -0.10716588293822053,
            -0.17896827725806197,
            0.32891141820765246,
            0.4386342520851327,
            0.4141110374746412,
            0.4010148804041015,
            0.4360837346263355,
            0.49750124326470097,
            0.4639791174589699,
            0.27818065195791736,
            0.3157505356878115,
            0.31945323909391166,
            0.4990832334271027,
            0.3152897216513132,
            0.3804488949041349,
            0.4532897282909311,
            0.3285776775090743,
            0.32765720844978213,
            0.2897080833818164,
            0.4924645186997825,
            0.4071947850469315,
            0.2930404675867384,
            0.263987090944296,
            0.35248357321971796,
            0.37377510903872657,
            0.3177409169738998,
            0.3972397128668414,
            0.33516237094385376,
            0.3661153269867976,
            0.45113483566438184,
            0.2518170723070235,
            0.40957665457016,
            0.17342425530795072,
            0.24664041237359366,
            0.11595906925779546,
            -0.021604320232042045,
            0.061824303740826966,
            0.16993665614090886,
            0.1379035376206081,
            0.06254374478670295,
            0.12097011686491688,
            -0.046404859745765345,
            -0.22778644822080577,
            0.11687115358952012,
            0.30308115207740577,
            -0.25450631120853906,
            0.23585819886381756,
            0.416110610870665,
            0.322246120603469,
            0.192036714681981,
            0.1434463573737701,
            0.036320601565879886,
            -0.14786062224889265,
            -0.004507154479266811,
            -0.26831896003672023,
            0.08465003201841158,
            -0.11329464860234548,
            -0.1510008741291494,
            -0.07727621016255729,
            0.005391933282947318,
            -0.17351841190684508,
            -0.28427734446989045,
            -0.3093083515912902,
            -0.33685671563002967,
            -0.31169799053709,
            -0.05292038328474389,
            -0.2579893569127226,
            -0.1820743436518946,
            -0.07727621016255729,
            0.010242751148290988,
            -0.3378582443612341,
            0.3410422412344596,
            0.2968967324036456,
            0.08030140350275974,
            0.0442595019280071,
            0.12054414159115727,
            0.27861727591812896,
            0.16590534244715816,
            -0.22778644822080577
           ]
          },
          {
           "axis": {
            "matches": true
           },
           "label": "PC 2 (6.9%)",
           "values": [
            0.03474475226040262,
            -0.11116384711084733,
            -0.006369754320625047,
            0.0391876925450892,
            -0.027561692168263718,
            -0.010330611479371343,
            0.14589591301080207,
            0.004228500526606462,
            0.05672288369338005,
            0.12245734844637714,
            -0.037804354823355986,
            -0.18412905675195942,
            -0.21585921283823795,
            0.07647974284475008,
            -0.13020500983996464,
            0.05246240788921678,
            -0.0905792541032687,
            -0.08901340901291643,
            -0.022326295697330543,
            -0.051163636441359746,
            0.08034904427050288,
            0.03291499630678124,
            -0.053353161926575514,
            -0.033164737059759315,
            -0.07133940851048455,
            0.10403869597424387,
            0.05548558046754834,
            0.11178905265502603,
            0.018567800047310557,
            0.011464505533788362,
            0.036452644153203005,
            -0.052395070477334375,
            -0.006762276546911994,
            -0.00020529440113538193,
            0.07703470834614894,
            -0.007589553898806323,
            0.031658005939175914,
            -0.03920978567956749,
            0.0319555254103938,
            0.003915756028172351,
            -0.1254549696130772,
            0.07619889333818264,
            -0.1167710472033754,
            0.07335279878214315,
            -0.10815437625712782,
            0.023557697398801508,
            0.09776073596866694,
            0.0958311781904329,
            0.044192481449708526,
            -0.002287150743920823,
            0.0703121892869139,
            0.002093582886128366,
            0.14295893080238228,
            0.059269404606847986,
            -0.17187182718576874,
            -0.09243468980016009,
            -0.1437699365709255,
            -0.27917055030108695,
            -0.34025268789091667,
            -0.007796907906186903,
            -0.17839625429447453,
            -0.20220458754218756,
            -0.203036102600662,
            -0.14177957362271745,
            -0.03967444467101121,
            0.09874263894529137,
            0.06473643047054244,
            -0.16899025729768133,
            0.060771189469786,
            -0.0656499621576563,
            0.04374667309458198,
            0.0877279944034228,
            0.062144575476569354,
            0.46595449319518,
            0.419559087383638,
            0.26865994768919377,
            0.5363889163508624,
            0.45725370379665375,
            0.4148485685019741,
            0.42566761351327065,
            0.39938276915406645,
            0.44110042462875826,
            0.5470819497828172,
            0.42883207659473543,
            0.27376898542867456,
            0.3866797568158516,
            0.5863159253703597,
            0.5272930090881509,
            0.6020484848290633,
            0.5055670335141452,
            0.39938276915406645,
            0.5320204056823997,
            0.28368667674487724,
            -0.05267476932612998,
            0.16432669177407597,
            -0.08206781244026023,
            0.5088898062831463,
            0.11022852427228301,
            0.021953955802514052,
            0.08998061950271755,
            -0.03967444467101121
           ]
          },
          {
           "axis": {
            "matches": true
           },
           "label": "PC 3 (5.5%)",
           "values": [
            -0.4277765391807753,
            -0.10178663473780122,
            -0.017112663530638225,
            -0.007163066331797591,
            -0.27439633440872396,
            0.022642941644932562,
            -0.24144014009942708,
            -0.336116057625078,
            -0.3188286583066854,
            -0.3513908753479698,
            -0.06766061164834493,
            -0.30242041315634904,
            -0.2984109429502222,
            -0.40891279693338667,
            -0.3077443297375885,
            0.08962942957976372,
            -0.2047909919875738,
            0.027301454885020837,
            0.011299126251139017,
            0.08856317865549267,
            -0.2290317029850679,
            -0.3807192416981054,
            -0.2616839513682154,
            -0.09434690776413998,
            0.22711234534525404,
            0.18763649644055136,
            0.22938031679985796,
            -0.2063055990572513,
            0.23296524096057666,
            0.1455889658725343,
            0.010787572106600422,
            0.13088209607517534,
            0.0459421628042296,
            0.11367351375876865,
            -0.007623167756988186,
            0.12176717071859101,
            0.22589724677716125,
            -0.07475038182276159,
            -0.212211413298553,
            0.1137224395747765,
            -0.07678648264310671,
            -0.10065956118228708,
            0.027822853180797344,
            0.11165900377687468,
            0.018741183681013115,
            0.2696641160577227,
            -0.23641715769323857,
            0.0948957269147331,
            0.12323793850055517,
            0.037488794353458074,
            -0.30613470697224826,
            0.32942979693487245,
            0.16081826987800463,
            0.16458378548230948,
            -0.003413169856738367,
            -0.020878371249845384,
            -0.405566369867761,
            -0.20792319055120373,
            -0.21202283707529207,
            -0.3474782915413024,
            -0.26430221584343544,
            -0.31599693959194325,
            -0.22279233950462918,
            -0.24636828877062547,
            -0.2739924098798672,
            -0.28216897128644847,
            0.12699986465221516,
            -0.31815064853366265,
            0.05189701471644619,
            0.21425727434201927,
            0.05387993028306306,
            -0.11265452781574392,
            -0.44999726282378844,
            0.05035819137357952,
            -0.0973275521055851,
            0.03634766930682964,
            -0.1728034664117194,
            0.19699516646491527,
            -0.34341717140647393,
            -0.2132073741664125,
            -0.01729427102002473,
            0.1755603128384041,
            -0.1387789002186564,
            -0.09686970434768534,
            0.000018001662555780655,
            -0.08770009634076058,
            -0.2901530284252198,
            0.17685241398596305,
            -0.11535611282006425,
            -0.01198672013423055,
            -0.01729427102002473,
            0.031915303176798956,
            -0.15992828652018556,
            -0.24783580453527246,
            -0.21684249636789366,
            -0.20503515279771067,
            0.17994636109440623,
            -0.4556069735683594,
            -0.28085002051717856,
            -0.35937023084518444,
            -0.2739924098798672
           ]
          }
         ],
         "hovertemplate": "<b>%{hovertext}</b><br><br>color=1<br>%{xaxis.title.text}=%{x}<br>%{yaxis.title.text}=%{y}<extra></extra>",
         "hovertext": [
          "I can't stand working for this jerk. I'm so done with this job.",
          "I don't know how we're going to get this project done. My team is useless.",
          "I'm so bored. Can't wait to get out of here and go home.",
          "I'm calling in sick tomorrow. I can't handle another day of this.",
          "I just got offered a job with better pay and benefits. Should I take it?",
          "This meeting is such a waste of time. I have better things to do.",
          "I hate having to pretend like I care about this project. It's pointless.",
          "I wish I could just quit and travel the world instead of being stuck here.",
          "I'm so tired of my coworkers' drama. I can't wait to leave this toxic environment.",
          "I don't understand why my boss is so obsessed with micromanaging everything.",
          "I'm counting down the minutes until I can leave this place for good.",
          "I can't handle the workload anymore. Something needs to change.",
          "I just heard that the company is going bankrupt. I need to start looking for a new job.",
          "I can't believe how unprofessional my coworker is being right now.",
          "I'm so over this job. I need to find something that actually makes me happy.",
          "I'm too hungover to come in today.",
          "Can I get a raise? I need to pay off some gambling debts.",
          "Hey, can I borrow some money? I spent all mine on partying last night.",
          "I don't feel like working today. Can I just take a mental health day?",
          "I'm running late because I overslept. Can you cover for me?",
          "I'm not feeling well, but it's probably just from all the drinking I did last night.",
          "I'm quitting. This job sucks.",
          "I accidentally sent that email to the wrong person. Can you help me fix it?",
          "I don't know how to do this task. Can you do it for me?",
          "Sorry, I can't come in today. I'm going to be busy smoking weed.",
          "I'm going to be late because I'm stuck in traffic. I shouldn't have stayed up so late partying last night.",
          "I'm too tired to come in today. Can I take a nap instead?",
          "I'm not feeling well. I think I might have caught something from one of my many one-night stands.",
          "Can I leave early today? I have a hot date tonight.",
          "I don't want to work today. Can we just go out and get drunk instead?",
          "I need to take a break. I'm going to go smoke a joint.",
          "I'm going to be late because I'm waiting for my drug dealer to show up.",
          "I'm too busy watching Netflix to come in today.",
          "I'm going to be late because I'm stuck in line at the liquor store.",
          "I'm too hungover to do anything today.",
          "I'm not coming in today. I have to go to court for my DUI.",
          "Can I leave early today? I have a poker game tonight.",
          "I need to take a sick day. My girlfriend just dumped me.",
          "I'm not feeling well. I think I have food poisoning from that sushi I had last night.",
          "I'm going to be late because I forgot my keys and I had to break into my own apartment.",
          "I need to take a day off. My ex is stalking me and I need to file a restraining order.",
          "I'm not feeling well. I think I have a hangover.",
          "I can't come in today. My car broke down and I don't have any money to fix it.",
          "I'm going to be late because I overslept. I was up all night playing video games.",
          "I need to take a personal day. I just found out my dog has cancer.",
          "Can I leave early today? I have a golf game scheduled.",
          "I'm not feeling well. I think I ate something bad.",
          "I'm going to be late because I have to drop my kid off at daycare.",
          "I can't come in today. My roommate is having a party and I need to help clean up.",
          "I need to take a mental health day. I'm really stressed out.",
          "I'm not feeling well. I think I caught something from that girl I hooked up with last night.",
          "Can I leave early today? I have a date tonight and I need to get ready.",
          "I'm going to be late because I have a dentist appointment.",
          "I can't come in today. I have a doctor's appointment.",
          "Good morning beautiful. I hope you have an amazing day today.",
          "I miss you so much already. Can't wait to see you later.",
          "You're the best thing that ever happened to me. I love you more than anything.",
          "I'm so grateful for you and everything you do for me. Thank you for being my partner.",
          "Just wanted to remind you how much I love you and how lucky I am to have you in my life.",
          "I can't stop thinking about you. You make my heart skip a beat.",
          "You're my sunshine on a cloudy day. Love you always.",
          "I feel so blessed to have you as my girlfriend. I can't wait to create more amazing memories together.",
          "You're the most beautiful person I know, both inside and out. Love you to the moon and back.",
          "You make me a better person. Thank you for being my inspiration and motivation.",
          "I'm going to tell the boss what I really think about this project. It's a disaster.",
          "Did you hear about that coworker's personal life? I can't believe it. I'm going to gossip about it at lunch.",
          "I'm going to sneak out of work early today. Don't tell anyone.",
          "I can't believe they put us on this project together. I can't work with them. They're so incompetent.",
          "I'm not doing any work today. I'm just going to pretend like I am and hope no one notices.",
          "I'm going to take a long lunch break today. Maybe even hit up a bar. Want to come?",
          "This is so boring. I can't wait until the day is over so I can go home.",
          "I'm going to play a prank on the boss. It's going to be hilarious.",
          "I hate this job. I wish I could just quit and travel the world.",
          "I can't believe how boring this class is. I'm going to fall asleep.",
          "I didn't study at all for this test. I'm screwed.",
          "I'm going to cheat on this test. I need to pass.",
          "This teacher is terrible. I'm not learning anything in this class.",
          "I'm going to skip class today. It's not like anything important is going to happen.",
          "I can't stand this teacher's voice. It's like nails on a chalkboard.",
          "I'm going to complain to the principal about this teacher. They're not doing their job right.",
          "I don't care about this class. I'm just going to wing it.",
          "I'm going to be late to class today. Hopefully, the teacher won't notice.",
          "I'm going to argue with the teacher about their grading. They're being unfair.",
          "I can't believe how useless this lecture is. I'm never going to use any of this information.",
          "I didn't do the assignment because I had better things to do.",
          "I'm going to copy and paste this entire paper from the internet. It's not like the professor will notice.",
          "This professor is terrible. They don't even know how to teach properly.",
          "I'm going to skip class today. This class is not worth my time.",
          "I'm going to argue with the professor about their grading. They're being unfair.",
          "I don't understand why I have to take this class. It's a waste of my time.",
          "I don't care about this class. I'm just going to wing it.",
          "I'm not going to attend the office hours. The professor doesn't even care about their students.",
          "I'm going to write a bad review about this professor on RateMyProfessor. They deserve it.",
          "I can't wait to get out of here. This family is driving me insane.",
          "I hate my job. I don't want to go back there tomorrow.",
          "I can't believe how much weight I've gained. I need to start dieting ASAP.",
          "I'm going to skip class today. It's not like it's important anyway.",
          "I can't believe what a jerk my boss is. I'm so sick of working here.",
          "I had such a wild night last night. You wouldn't believe what happened.",
          "I think I have a crush on someone in the office. I can't stop thinking about them.",
          "I'm going to tell the boss what I really think about this project. It's a disaster."
         ],
         "legendgroup": "1",
         "marker": {
          "color": "#636efa",
          "symbol": "circle"
         },
         "name": "1",
         "showlegend": true,
         "type": "splom"
        },
        {
         "diagonal": {
          "visible": false
         },
         "dimensions": [
          {
           "axis": {
            "matches": true
           },
           "label": "PC 1 (10.4%)",
           "values": [
            -0.4939190298296154,
            0.2230496077377926,
            -0.19142946143213738,
            0.08479234256096727,
            0.24875849299096361,
            -0.38727750959057117,
            -0.24537638277527563,
            -0.31399195632841365,
            0.2580656908175751,
            -0.22031988172445963,
            -0.05553579266860167,
            -0.3618973894558006,
            0.3030475581157725,
            -0.29923657161157263,
            -0.11552381704368435,
            -0.20859167403348514,
            0.26483810794791773,
            0.1979720445563097,
            -0.33815427013046623,
            0.3869985306637565,
            -0.262886425184745,
            -0.14122651458722352,
            -0.45302601832952594,
            0.07435257150858773,
            -0.18188439540791584,
            -0.22101883091266225,
            -0.10351364762814937,
            -0.369072534717531,
            -0.10112710915847799,
            -0.013478628172429416,
            0.06431557604028922,
            -0.3630044624231118,
            0.19544734892726945,
            -0.2292156724574406,
            -0.35896407118105506,
            -0.15758571335383278,
            -0.3807856592737982,
            -0.4257953927545231,
            -0.2727734044963026,
            0.09774320904446364,
            0.24375585795468666,
            -0.39135618331344174,
            -0.24011160548336735,
            -0.38353435570894806,
            -0.03917384096640235,
            -0.17154455343172467,
            -0.3718458463320396,
            -0.46435420405847244,
            -0.4306866503674513,
            0.24285737674350663,
            0.24594851757825195,
            -0.35896407118105506,
            -0.3630044624231118,
            0.10915113693569096,
            -0.18835215532805852,
            -0.3980070515196983,
            -0.515235312359605,
            -0.13305545257720355,
            -0.41528980729646475,
            -0.46865974627730295,
            -0.24096587631158695,
            -0.4985499343386889,
            -0.15875779833444917,
            -0.23858541735205518,
            -0.4814275638140439,
            -0.3305704687564488,
            -0.4531881556841403,
            -0.1780153200916957,
            -0.46336576816467184,
            -0.4280873562810161,
            -0.49738886872159316,
            -0.015677848557371095,
            -0.48808007331863346,
            -0.3504552475228165,
            -0.1648319790458624,
            -0.4320003777084952
           ]
          },
          {
           "axis": {
            "matches": true
           },
           "label": "PC 2 (6.9%)",
           "values": [
            -0.28951113939990347,
            -0.12488190569970085,
            -0.24695565738886716,
            -0.26662277458040456,
            -0.19811030674037367,
            -0.21919879992288094,
            -0.25178906628468073,
            -0.13836039298945646,
            -0.15985557468160722,
            -0.1804553418726218,
            -0.3387914548987957,
            -0.3542380492072033,
            -0.01998446470266552,
            -0.02651026910810917,
            -0.14256185553762604,
            -0.27584585381771803,
            -0.23906019520205474,
            -0.15482876586779523,
            -0.26862748336244635,
            -0.11471136555902024,
            -0.21383263559478263,
            -0.2005934264393195,
            -0.265667735846503,
            -0.20918573389318035,
            -0.1374920204407152,
            -0.34551625896168564,
            -0.23606650006879915,
            -0.42622485873785154,
            -0.3017968046577239,
            -0.15794069933095076,
            -0.20115447385244836,
            -0.4195251910274556,
            -0.22959683112731744,
            -0.11967757870420262,
            -0.3572946125305974,
            -0.12820825991178827,
            -0.08294706042621858,
            -0.2048187081200443,
            -0.30320888219920317,
            -0.29521699852923117,
            -0.01644815448794216,
            -0.22125345235978502,
            -0.15122390374270653,
            -0.27559998310226047,
            -0.1762464690977599,
            -0.10791681960359005,
            -0.43172882041731514,
            -0.3802932724430285,
            -0.15856147472343224,
            -0.24092506770378294,
            -0.1332933101272637,
            -0.3572946125305974,
            -0.4195251910274556,
            -0.1922357886572026,
            -0.1986658857384522,
            -0.31085212045963634,
            0.16014986817139348,
            0.29515370381113554,
            0.3570514147630488,
            0.16503292342534634,
            0.050641175922252764,
            0.2436501173693918,
            0.31487426884181885,
            0.008441957423845126,
            0.1790344387659039,
            0.2557046789791938,
            0.1258245821920498,
            0.3910987308205716,
            0.18920692646591156,
            0.46922389792678665,
            0.040487322688093595,
            0.21922162815233517,
            0.049694385228543234,
            0.34639452428615053,
            0.3081550877408194,
            0.22445130988318532
           ]
          },
          {
           "axis": {
            "matches": true
           },
           "label": "PC 3 (5.5%)",
           "values": [
            0.12097694682816745,
            0.3115227767196899,
            -0.20171892659881446,
            0.17934582107319894,
            0.3255503235788238,
            -0.15304733246635832,
            0.15657182091884328,
            0.09290653927572033,
            0.16258037317259386,
            -0.055154551774430384,
            0.24988063603867194,
            0.18582244954430285,
            0.23394821581703462,
            0.07401115931881003,
            0.306325770994569,
            0.058908092681691594,
            0.04270299256922012,
            0.3282930747761883,
            -0.003003592439301821,
            0.2620703336819259,
            0.10783459647757698,
            -0.21215718413432724,
            -0.06025583542697745,
            0.27522985012818246,
            0.20118378424821207,
            0.19980997002683748,
            0.27849551650251675,
            -0.15303525622291828,
            0.016319384645772348,
            0.23885861618495002,
            0.28457402053668474,
            -0.27172741913010484,
            0.22377207722119447,
            0.15752047977746916,
            0.17942562456442365,
            -0.24655449245341957,
            0.10893335581930029,
            0.11141726554151649,
            0.16235955927688916,
            0.20011285139269028,
            0.26147746070827926,
            0.10313852837619118,
            0.1777538424858476,
            -0.08031754728982064,
            -0.2542897567776302,
            0.23498718250914877,
            -0.2224933798302832,
            -0.014812105229620261,
            0.0074624604163900645,
            0.1123665398245493,
            0.286750622103409,
            0.17942562456442365,
            -0.27172741913010484,
            0.2671906639944501,
            -0.2819952880617153,
            -0.05384363296226729,
            0.12133336695729086,
            0.4865450110841504,
            0.18572512439303696,
            0.10745420996628385,
            0.31387792157853045,
            0.09055281863862412,
            0.29181714328896785,
            0.33001072103536,
            0.23910104465201873,
            0.0019294129235106268,
            0.2607013092072427,
            0.34527413094340237,
            0.15766835258941234,
            0.03723780454643395,
            0.03245698739642884,
            0.1577972187453923,
            0.21277206024492482,
            0.1305397462632395,
            0.2346910263697693,
            0.010647641744874484
           ]
          }
         ],
         "hovertemplate": "<b>%{hovertext}</b><br><br>color=0<br>%{xaxis.title.text}=%{x}<br>%{yaxis.title.text}=%{y}<extra></extra>",
         "hovertext": [
          "Hi just wanted to let you know that I finished the project and it's ready for your review. Let me know if you need anything else from me.",
          "Good morning I'm running a few minutes late today due to traffic. I should be in the office by",
          "Hi I'm having trouble accessing the company database. Are you available to help troubleshoot the issue?",
          "Just a reminder that we have a team meeting attoday. Looking forward to seeing you there.",
          "Hi I need to take a personal day tomorrow. I've already notified and I will make sure to complete any outstanding tasks before I leave.",
          "Thanks for your feedback on the report. I've made the changes you suggested and will send the updated version to you shortly.",
          "Can we schedule a quick call to discuss the new project? I have some ideas I'd like to run by you.",
          "Good luck with the presentation today! Let me know how it goes.",
          "I'm not feeling well today and won't be able to make it into the office. I'll be available by email or phone if you need me.",
          "Just wanted to say thank you for your help on the project. I couldn't have done it without you!",
          "Hi just wanted to check in and see if you need anything from me today.",
          "Good morning I wanted to update you on the progress of the project. We're on track to meet the deadline.",
          "Hi I'm going to be out of the office today for a doctor's appointment. Is there anything urgent you need me to take care of before I go?",
          "Just wanted to let you know that I completed the training module and passed the quiz. Thanks for assigning it to me!",
          "Good afternoon can we schedule a meeting to discuss the budget for next quarter?",
          "Hi I wanted to share an idea I have for improving our customer service. When would be a good time to talk about it?",
          "I'm going to be working from home today. Is there anything you need me to take care of remotely?",
          "Hi I'm running late this morning due to traffic. I should be in the office by",
          "Just wanted to check in and make sure you received the report I sent yesterday. Let me know if you have any questions or feedback.",
          "Hi I need to take a personal day next week for a family event. Is there anything you need me to take care of before I go?",
          "Good morning I wanted to let you know that I finished the task you assigned me and it's ready for your review.",
          "Hi I'm having trouble with my computer. Can you or IT help me troubleshoot the issue?",
          "Just wanted to say thank you for your guidance on the project. I appreciate your support.",
          "Hi I'm going to be in a meeting for the next hour. Can I follow up with you afterwards?",
          "Good afternoon I wanted to let you know that I'll be out of the office for a training seminar next week. I've already coordinated withto cover my responsibilities.",
          "Hi I wanted to remind you that our team is presenting the new project to the client tomorrow. Is there anything else you need from me before then?",
          "Just wanted to check in and make sure we're still on track for our meeting tomorrow at",
          "Hi I received a request from a client for a new product feature. Can we discuss it further?",
          "Good morning I wanted to give you an update on the sales numbers for last quarter. We exceeded our target by",
          "Hi I'm going to be on vacation next week. I'll make sure to complete all outstanding tasks before I go.",
          "Just wanted to let you know that I'm running a few minutes late this morning due to an unexpected delay. I should be in the office by",
          "Hi I wanted to share some positive feedback we received from a client. They were very happy with the service we provided.",
          "Good afternoon I wanted to request a day off next month for a personal event. Is that possible?",
          "Hi I wanted to discuss my performance evaluation with you. When would be a good time to do that?",
          "Just wanted to remind you that the deadline for the project is coming up. Do you need any additional information or support from me?",
          "Hi I'm having trouble with a difficult customer",
          "Hi can you send me the latest version of the presentation? I need to review it before the meeting tomorrow.",
          "Good morning I wanted to check in and see if you need any help with the project.",
          "Hi I wanted to let you know that I completed my part of the task. Let me know if you need anything else from me.",
          "Just wanted to remind you that we have a team meeting attoday. Looking forward to seeing you there.",
          "Hi I'm going to be out of the office tomorrow for a doctor's appointment. Can you cover my responsibilities for the day?",
          "Good afternoon can you send me the file with the data we discussed earlier?",
          "Hi I wanted to discuss some ideas I have for the project. When would be a good time to talk about it?",
          "Just wanted to say thank you for your help on the project. I appreciate your support.",
          "Hi I'm having trouble with my computer. Do you have any suggestions on how to fix it?",
          "Good morning I wanted to let you know that I'll be out of the office for a training seminar next week. I'll make sure to complete all outstanding tasks before I go.",
          "Hi I received a request from a client for a new product feature. Can you help me research it?",
          "Just wanted to check in and see how you're doing on the project. Do you need any support or resources?",
          "Hi can you review the document I sent and give me your feedback by the end of the day?",
          "Good afternoon I'm going to be working from home tomorrow. Is there anything you need me to take care of remotely?",
          "Hi I need to take a personal day next week for a family event. Can you cover my responsibilities for the day?",
          "Just wanted to remind you that the deadline for the project is coming up. Do you need any additional information or support from me?",
          "Hi I wanted to share some positive feedback we received from a client. They were very happy with the service we provided.",
          "Good morning I'm going to be in a meeting for the next hour. Can I follow up with you afterwards?",
          "Hi I'm having trouble with a difficult customer. Can you offer any advice or support?",
          "Just wanted to say thank you for your hard work on the project. We're making great progress together.",
          "Good morning, Professor I wanted to check in and see if you had any feedback on my recent assignment.",
          "Hi Professor I'm going to be late to class today due to unforeseen circumstances. I will be there as soon as I can.",
          "Good afternoon, Professor I had a question about the reading assignment. Could we discuss it after class?",
          "Hi Professor I just wanted to say thank you for your guidance and support this semester. I appreciate your help.",
          "Good morning, Professor Could you let me know if there are any updates or changes to the schedule for this week?",
          "Hi Professor I'm having trouble understanding the concepts in this week's lecture. Do you have any additional resources or suggestions?",
          "Good afternoon, Professor I'm sorry to inform you that I won't be able to attend class today due to illness. I will make sure to catch up on the missed material.",
          "Hi Professor I was wondering if I could schedule some time to discuss my academic progress and future plans with you?",
          "Good morning, Professor Could you clarify the requirements for the upcoming assignment? I want to make sure I'm on the right track.",
          "Hi Professor I'm having trouble accessing the course materials online. Is there a solution to this issue?",
          "Good afternoon, Professor I just wanted to inform you that I'll be submitting my assignment a bit later than the deadline due to personal circumstances.",
          "Hi Professor I wanted to let you know that I won't be able to attend the lecture tomorrow. Is there anything I should be aware of before the next class?",
          "Good morning, Professor I was wondering if you could recommend some additional readings or sources related to the current topic.",
          "Hi Professor I'm really struggling with the class material. Do you have any advice or suggestions for how I can improve my understanding?",
          "Good afternoon, Professor I'm interested in pursuing a research project related to this course. Could we discuss potential ideas and resources?",
          "Hi Professor I just wanted to inform you that I won't be able to attend the final exam due to a medical emergency. Is there a possibility for a makeup exam?",
          "Good morning, Professor I wanted to inform you that I'll be submitting my assignment earlier than the deadline, as I want to receive feedback and improve my work.",
          "Hi Professor I'm having trouble finding the required textbook for this class. Is there a way to access it?",
          "Good afternoon, Professor I was wondering if you could provide some advice on how to prepare for the upcoming exam?",
          "Hi Professor I just wanted to express my appreciation for your passion and dedication to teaching. I'm learning so much from your class."
         ],
         "legendgroup": "0",
         "marker": {
          "color": "#EF553B",
          "symbol": "circle"
         },
         "name": "0",
         "showlegend": true,
         "type": "splom"
        }
       ],
       "layout": {
        "dragmode": "select",
        "legend": {
         "title": {
          "text": "color"
         },
         "tracegroupgap": 0
        },
        "margin": {
         "t": 60
        },
        "template": {
         "data": {
          "bar": [
           {
            "error_x": {
             "color": "#2a3f5f"
            },
            "error_y": {
             "color": "#2a3f5f"
            },
            "marker": {
             "line": {
              "color": "#E5ECF6",
              "width": 0.5
             },
             "pattern": {
              "fillmode": "overlay",
              "size": 10,
              "solidity": 0.2
             }
            },
            "type": "bar"
           }
          ],
          "barpolar": [
           {
            "marker": {
             "line": {
              "color": "#E5ECF6",
              "width": 0.5
             },
             "pattern": {
              "fillmode": "overlay",
              "size": 10,
              "solidity": 0.2
             }
            },
            "type": "barpolar"
           }
          ],
          "carpet": [
           {
            "aaxis": {
             "endlinecolor": "#2a3f5f",
             "gridcolor": "white",
             "linecolor": "white",
             "minorgridcolor": "white",
             "startlinecolor": "#2a3f5f"
            },
            "baxis": {
             "endlinecolor": "#2a3f5f",
             "gridcolor": "white",
             "linecolor": "white",
             "minorgridcolor": "white",
             "startlinecolor": "#2a3f5f"
            },
            "type": "carpet"
           }
          ],
          "choropleth": [
           {
            "colorbar": {
             "outlinewidth": 0,
             "ticks": ""
            },
            "type": "choropleth"
           }
          ],
          "contour": [
           {
            "colorbar": {
             "outlinewidth": 0,
             "ticks": ""
            },
            "colorscale": [
             [
              0,
              "#0d0887"
             ],
             [
              0.1111111111111111,
              "#46039f"
             ],
             [
              0.2222222222222222,
              "#7201a8"
             ],
             [
              0.3333333333333333,
              "#9c179e"
             ],
             [
              0.4444444444444444,
              "#bd3786"
             ],
             [
              0.5555555555555556,
              "#d8576b"
             ],
             [
              0.6666666666666666,
              "#ed7953"
             ],
             [
              0.7777777777777778,
              "#fb9f3a"
             ],
             [
              0.8888888888888888,
              "#fdca26"
             ],
             [
              1,
              "#f0f921"
             ]
            ],
            "type": "contour"
           }
          ],
          "contourcarpet": [
           {
            "colorbar": {
             "outlinewidth": 0,
             "ticks": ""
            },
            "type": "contourcarpet"
           }
          ],
          "heatmap": [
           {
            "colorbar": {
             "outlinewidth": 0,
             "ticks": ""
            },
            "colorscale": [
             [
              0,
              "#0d0887"
             ],
             [
              0.1111111111111111,
              "#46039f"
             ],
             [
              0.2222222222222222,
              "#7201a8"
             ],
             [
              0.3333333333333333,
              "#9c179e"
             ],
             [
              0.4444444444444444,
              "#bd3786"
             ],
             [
              0.5555555555555556,
              "#d8576b"
             ],
             [
              0.6666666666666666,
              "#ed7953"
             ],
             [
              0.7777777777777778,
              "#fb9f3a"
             ],
             [
              0.8888888888888888,
              "#fdca26"
             ],
             [
              1,
              "#f0f921"
             ]
            ],
            "type": "heatmap"
           }
          ],
          "heatmapgl": [
           {
            "colorbar": {
             "outlinewidth": 0,
             "ticks": ""
            },
            "colorscale": [
             [
              0,
              "#0d0887"
             ],
             [
              0.1111111111111111,
              "#46039f"
             ],
             [
              0.2222222222222222,
              "#7201a8"
             ],
             [
              0.3333333333333333,
              "#9c179e"
             ],
             [
              0.4444444444444444,
              "#bd3786"
             ],
             [
              0.5555555555555556,
              "#d8576b"
             ],
             [
              0.6666666666666666,
              "#ed7953"
             ],
             [
              0.7777777777777778,
              "#fb9f3a"
             ],
             [
              0.8888888888888888,
              "#fdca26"
             ],
             [
              1,
              "#f0f921"
             ]
            ],
            "type": "heatmapgl"
           }
          ],
          "histogram": [
           {
            "marker": {
             "pattern": {
              "fillmode": "overlay",
              "size": 10,
              "solidity": 0.2
             }
            },
            "type": "histogram"
           }
          ],
          "histogram2d": [
           {
            "colorbar": {
             "outlinewidth": 0,
             "ticks": ""
            },
            "colorscale": [
             [
              0,
              "#0d0887"
             ],
             [
              0.1111111111111111,
              "#46039f"
             ],
             [
              0.2222222222222222,
              "#7201a8"
             ],
             [
              0.3333333333333333,
              "#9c179e"
             ],
             [
              0.4444444444444444,
              "#bd3786"
             ],
             [
              0.5555555555555556,
              "#d8576b"
             ],
             [
              0.6666666666666666,
              "#ed7953"
             ],
             [
              0.7777777777777778,
              "#fb9f3a"
             ],
             [
              0.8888888888888888,
              "#fdca26"
             ],
             [
              1,
              "#f0f921"
             ]
            ],
            "type": "histogram2d"
           }
          ],
          "histogram2dcontour": [
           {
            "colorbar": {
             "outlinewidth": 0,
             "ticks": ""
            },
            "colorscale": [
             [
              0,
              "#0d0887"
             ],
             [
              0.1111111111111111,
              "#46039f"
             ],
             [
              0.2222222222222222,
              "#7201a8"
             ],
             [
              0.3333333333333333,
              "#9c179e"
             ],
             [
              0.4444444444444444,
              "#bd3786"
             ],
             [
              0.5555555555555556,
              "#d8576b"
             ],
             [
              0.6666666666666666,
              "#ed7953"
             ],
             [
              0.7777777777777778,
              "#fb9f3a"
             ],
             [
              0.8888888888888888,
              "#fdca26"
             ],
             [
              1,
              "#f0f921"
             ]
            ],
            "type": "histogram2dcontour"
           }
          ],
          "mesh3d": [
           {
            "colorbar": {
             "outlinewidth": 0,
             "ticks": ""
            },
            "type": "mesh3d"
           }
          ],
          "parcoords": [
           {
            "line": {
             "colorbar": {
              "outlinewidth": 0,
              "ticks": ""
             }
            },
            "type": "parcoords"
           }
          ],
          "pie": [
           {
            "automargin": true,
            "type": "pie"
           }
          ],
          "scatter": [
           {
            "fillpattern": {
             "fillmode": "overlay",
             "size": 10,
             "solidity": 0.2
            },
            "type": "scatter"
           }
          ],
          "scatter3d": [
           {
            "line": {
             "colorbar": {
              "outlinewidth": 0,
              "ticks": ""
             }
            },
            "marker": {
             "colorbar": {
              "outlinewidth": 0,
              "ticks": ""
             }
            },
            "type": "scatter3d"
           }
          ],
          "scattercarpet": [
           {
            "marker": {
             "colorbar": {
              "outlinewidth": 0,
              "ticks": ""
             }
            },
            "type": "scattercarpet"
           }
          ],
          "scattergeo": [
           {
            "marker": {
             "colorbar": {
              "outlinewidth": 0,
              "ticks": ""
             }
            },
            "type": "scattergeo"
           }
          ],
          "scattergl": [
           {
            "marker": {
             "colorbar": {
              "outlinewidth": 0,
              "ticks": ""
             }
            },
            "type": "scattergl"
           }
          ],
          "scattermapbox": [
           {
            "marker": {
             "colorbar": {
              "outlinewidth": 0,
              "ticks": ""
             }
            },
            "type": "scattermapbox"
           }
          ],
          "scatterpolar": [
           {
            "marker": {
             "colorbar": {
              "outlinewidth": 0,
              "ticks": ""
             }
            },
            "type": "scatterpolar"
           }
          ],
          "scatterpolargl": [
           {
            "marker": {
             "colorbar": {
              "outlinewidth": 0,
              "ticks": ""
             }
            },
            "type": "scatterpolargl"
           }
          ],
          "scatterternary": [
           {
            "marker": {
             "colorbar": {
              "outlinewidth": 0,
              "ticks": ""
             }
            },
            "type": "scatterternary"
           }
          ],
          "surface": [
           {
            "colorbar": {
             "outlinewidth": 0,
             "ticks": ""
            },
            "colorscale": [
             [
              0,
              "#0d0887"
             ],
             [
              0.1111111111111111,
              "#46039f"
             ],
             [
              0.2222222222222222,
              "#7201a8"
             ],
             [
              0.3333333333333333,
              "#9c179e"
             ],
             [
              0.4444444444444444,
              "#bd3786"
             ],
             [
              0.5555555555555556,
              "#d8576b"
             ],
             [
              0.6666666666666666,
              "#ed7953"
             ],
             [
              0.7777777777777778,
              "#fb9f3a"
             ],
             [
              0.8888888888888888,
              "#fdca26"
             ],
             [
              1,
              "#f0f921"
             ]
            ],
            "type": "surface"
           }
          ],
          "table": [
           {
            "cells": {
             "fill": {
              "color": "#EBF0F8"
             },
             "line": {
              "color": "white"
             }
            },
            "header": {
             "fill": {
              "color": "#C8D4E3"
             },
             "line": {
              "color": "white"
             }
            },
            "type": "table"
           }
          ]
         },
         "layout": {
          "annotationdefaults": {
           "arrowcolor": "#2a3f5f",
           "arrowhead": 0,
           "arrowwidth": 1
          },
          "autotypenumbers": "strict",
          "coloraxis": {
           "colorbar": {
            "outlinewidth": 0,
            "ticks": ""
           }
          },
          "colorscale": {
           "diverging": [
            [
             0,
             "#8e0152"
            ],
            [
             0.1,
             "#c51b7d"
            ],
            [
             0.2,
             "#de77ae"
            ],
            [
             0.3,
             "#f1b6da"
            ],
            [
             0.4,
             "#fde0ef"
            ],
            [
             0.5,
             "#f7f7f7"
            ],
            [
             0.6,
             "#e6f5d0"
            ],
            [
             0.7,
             "#b8e186"
            ],
            [
             0.8,
             "#7fbc41"
            ],
            [
             0.9,
             "#4d9221"
            ],
            [
             1,
             "#276419"
            ]
           ],
           "sequential": [
            [
             0,
             "#0d0887"
            ],
            [
             0.1111111111111111,
             "#46039f"
            ],
            [
             0.2222222222222222,
             "#7201a8"
            ],
            [
             0.3333333333333333,
             "#9c179e"
            ],
            [
             0.4444444444444444,
             "#bd3786"
            ],
            [
             0.5555555555555556,
             "#d8576b"
            ],
            [
             0.6666666666666666,
             "#ed7953"
            ],
            [
             0.7777777777777778,
             "#fb9f3a"
            ],
            [
             0.8888888888888888,
             "#fdca26"
            ],
            [
             1,
             "#f0f921"
            ]
           ],
           "sequentialminus": [
            [
             0,
             "#0d0887"
            ],
            [
             0.1111111111111111,
             "#46039f"
            ],
            [
             0.2222222222222222,
             "#7201a8"
            ],
            [
             0.3333333333333333,
             "#9c179e"
            ],
            [
             0.4444444444444444,
             "#bd3786"
            ],
            [
             0.5555555555555556,
             "#d8576b"
            ],
            [
             0.6666666666666666,
             "#ed7953"
            ],
            [
             0.7777777777777778,
             "#fb9f3a"
            ],
            [
             0.8888888888888888,
             "#fdca26"
            ],
            [
             1,
             "#f0f921"
            ]
           ]
          },
          "colorway": [
           "#636efa",
           "#EF553B",
           "#00cc96",
           "#ab63fa",
           "#FFA15A",
           "#19d3f3",
           "#FF6692",
           "#B6E880",
           "#FF97FF",
           "#FECB52"
          ],
          "font": {
           "color": "#2a3f5f"
          },
          "geo": {
           "bgcolor": "white",
           "lakecolor": "white",
           "landcolor": "#E5ECF6",
           "showlakes": true,
           "showland": true,
           "subunitcolor": "white"
          },
          "hoverlabel": {
           "align": "left"
          },
          "hovermode": "closest",
          "mapbox": {
           "style": "light"
          },
          "paper_bgcolor": "white",
          "plot_bgcolor": "#E5ECF6",
          "polar": {
           "angularaxis": {
            "gridcolor": "white",
            "linecolor": "white",
            "ticks": ""
           },
           "bgcolor": "#E5ECF6",
           "radialaxis": {
            "gridcolor": "white",
            "linecolor": "white",
            "ticks": ""
           }
          },
          "scene": {
           "xaxis": {
            "backgroundcolor": "#E5ECF6",
            "gridcolor": "white",
            "gridwidth": 2,
            "linecolor": "white",
            "showbackground": true,
            "ticks": "",
            "zerolinecolor": "white"
           },
           "yaxis": {
            "backgroundcolor": "#E5ECF6",
            "gridcolor": "white",
            "gridwidth": 2,
            "linecolor": "white",
            "showbackground": true,
            "ticks": "",
            "zerolinecolor": "white"
           },
           "zaxis": {
            "backgroundcolor": "#E5ECF6",
            "gridcolor": "white",
            "gridwidth": 2,
            "linecolor": "white",
            "showbackground": true,
            "ticks": "",
            "zerolinecolor": "white"
           }
          },
          "shapedefaults": {
           "line": {
            "color": "#2a3f5f"
           }
          },
          "ternary": {
           "aaxis": {
            "gridcolor": "white",
            "linecolor": "white",
            "ticks": ""
           },
           "baxis": {
            "gridcolor": "white",
            "linecolor": "white",
            "ticks": ""
           },
           "bgcolor": "#E5ECF6",
           "caxis": {
            "gridcolor": "white",
            "linecolor": "white",
            "ticks": ""
           }
          },
          "title": {
           "x": 0.05
          },
          "xaxis": {
           "automargin": true,
           "gridcolor": "white",
           "linecolor": "white",
           "ticks": "",
           "title": {
            "standoff": 15
           },
           "zerolinecolor": "white",
           "zerolinewidth": 2
          },
          "yaxis": {
           "automargin": true,
           "gridcolor": "white",
           "linecolor": "white",
           "ticks": "",
           "title": {
            "standoff": 15
           },
           "zerolinecolor": "white",
           "zerolinewidth": 2
          }
         }
        }
       }
      }
     },
     "metadata": {},
     "output_type": "display_data"
    }
   ],
   "source": [
    "labels = {\n",
    "    str(i): f\"PC {i+1} ({var:.1f}%)\"\n",
    "    for i, var in enumerate(pca.explained_variance_ratio_ * 100)\n",
    "}\n",
    "\n",
    "fig = px.scatter_matrix(\n",
    "    components,\n",
    "    labels=labels,\n",
    "    dimensions=range(3),\n",
    "    color=train_df[\"target\"].astype(str),\n",
    "    hover_name=train_df[\"text\"]\n",
    ")\n",
    "fig.update_traces(diagonal_visible=False)\n",
    "fig.show()"
   ]
  },
  {
   "cell_type": "code",
   "execution_count": 97,
   "id": "1427f93c",
   "metadata": {},
   "outputs": [
    {
     "data": {
      "application/vnd.plotly.v1+json": {
       "config": {
        "plotlyServerURL": "https://plot.ly"
       },
       "data": [
        {
         "hovertemplate": "<b>%{hovertext}</b><br><br>color=1<br>0=%{x}<br>1=%{y}<br>2=%{z}<extra></extra>",
         "hovertext": [
          "I can't stand working for this jerk. I'm so done with this job.",
          "I don't know how we're going to get this project done. My team is useless.",
          "I'm so bored. Can't wait to get out of here and go home.",
          "I'm calling in sick tomorrow. I can't handle another day of this.",
          "I just got offered a job with better pay and benefits. Should I take it?",
          "This meeting is such a waste of time. I have better things to do.",
          "I hate having to pretend like I care about this project. It's pointless.",
          "I wish I could just quit and travel the world instead of being stuck here.",
          "I'm so tired of my coworkers' drama. I can't wait to leave this toxic environment.",
          "I don't understand why my boss is so obsessed with micromanaging everything.",
          "I'm counting down the minutes until I can leave this place for good.",
          "I can't handle the workload anymore. Something needs to change.",
          "I just heard that the company is going bankrupt. I need to start looking for a new job.",
          "I can't believe how unprofessional my coworker is being right now.",
          "I'm so over this job. I need to find something that actually makes me happy.",
          "I'm too hungover to come in today.",
          "Can I get a raise? I need to pay off some gambling debts.",
          "Hey, can I borrow some money? I spent all mine on partying last night.",
          "I don't feel like working today. Can I just take a mental health day?",
          "I'm running late because I overslept. Can you cover for me?",
          "I'm not feeling well, but it's probably just from all the drinking I did last night.",
          "I'm quitting. This job sucks.",
          "I accidentally sent that email to the wrong person. Can you help me fix it?",
          "I don't know how to do this task. Can you do it for me?",
          "Sorry, I can't come in today. I'm going to be busy smoking weed.",
          "I'm going to be late because I'm stuck in traffic. I shouldn't have stayed up so late partying last night.",
          "I'm too tired to come in today. Can I take a nap instead?",
          "I'm not feeling well. I think I might have caught something from one of my many one-night stands.",
          "Can I leave early today? I have a hot date tonight.",
          "I don't want to work today. Can we just go out and get drunk instead?",
          "I need to take a break. I'm going to go smoke a joint.",
          "I'm going to be late because I'm waiting for my drug dealer to show up.",
          "I'm too busy watching Netflix to come in today.",
          "I'm going to be late because I'm stuck in line at the liquor store.",
          "I'm too hungover to do anything today.",
          "I'm not coming in today. I have to go to court for my DUI.",
          "Can I leave early today? I have a poker game tonight.",
          "I need to take a sick day. My girlfriend just dumped me.",
          "I'm not feeling well. I think I have food poisoning from that sushi I had last night.",
          "I'm going to be late because I forgot my keys and I had to break into my own apartment.",
          "I need to take a day off. My ex is stalking me and I need to file a restraining order.",
          "I'm not feeling well. I think I have a hangover.",
          "I can't come in today. My car broke down and I don't have any money to fix it.",
          "I'm going to be late because I overslept. I was up all night playing video games.",
          "I need to take a personal day. I just found out my dog has cancer.",
          "Can I leave early today? I have a golf game scheduled.",
          "I'm not feeling well. I think I ate something bad.",
          "I'm going to be late because I have to drop my kid off at daycare.",
          "I can't come in today. My roommate is having a party and I need to help clean up.",
          "I need to take a mental health day. I'm really stressed out.",
          "I'm not feeling well. I think I caught something from that girl I hooked up with last night.",
          "Can I leave early today? I have a date tonight and I need to get ready.",
          "I'm going to be late because I have a dentist appointment.",
          "I can't come in today. I have a doctor's appointment.",
          "Good morning beautiful. I hope you have an amazing day today.",
          "I miss you so much already. Can't wait to see you later.",
          "You're the best thing that ever happened to me. I love you more than anything.",
          "I'm so grateful for you and everything you do for me. Thank you for being my partner.",
          "Just wanted to remind you how much I love you and how lucky I am to have you in my life.",
          "I can't stop thinking about you. You make my heart skip a beat.",
          "You're my sunshine on a cloudy day. Love you always.",
          "I feel so blessed to have you as my girlfriend. I can't wait to create more amazing memories together.",
          "You're the most beautiful person I know, both inside and out. Love you to the moon and back.",
          "You make me a better person. Thank you for being my inspiration and motivation.",
          "I'm going to tell the boss what I really think about this project. It's a disaster.",
          "Did you hear about that coworker's personal life? I can't believe it. I'm going to gossip about it at lunch.",
          "I'm going to sneak out of work early today. Don't tell anyone.",
          "I can't believe they put us on this project together. I can't work with them. They're so incompetent.",
          "I'm not doing any work today. I'm just going to pretend like I am and hope no one notices.",
          "I'm going to take a long lunch break today. Maybe even hit up a bar. Want to come?",
          "This is so boring. I can't wait until the day is over so I can go home.",
          "I'm going to play a prank on the boss. It's going to be hilarious.",
          "I hate this job. I wish I could just quit and travel the world.",
          "I can't believe how boring this class is. I'm going to fall asleep.",
          "I didn't study at all for this test. I'm screwed.",
          "I'm going to cheat on this test. I need to pass.",
          "This teacher is terrible. I'm not learning anything in this class.",
          "I'm going to skip class today. It's not like anything important is going to happen.",
          "I can't stand this teacher's voice. It's like nails on a chalkboard.",
          "I'm going to complain to the principal about this teacher. They're not doing their job right.",
          "I don't care about this class. I'm just going to wing it.",
          "I'm going to be late to class today. Hopefully, the teacher won't notice.",
          "I'm going to argue with the teacher about their grading. They're being unfair.",
          "I can't believe how useless this lecture is. I'm never going to use any of this information.",
          "I didn't do the assignment because I had better things to do.",
          "I'm going to copy and paste this entire paper from the internet. It's not like the professor will notice.",
          "This professor is terrible. They don't even know how to teach properly.",
          "I'm going to skip class today. This class is not worth my time.",
          "I'm going to argue with the professor about their grading. They're being unfair.",
          "I don't understand why I have to take this class. It's a waste of my time.",
          "I don't care about this class. I'm just going to wing it.",
          "I'm not going to attend the office hours. The professor doesn't even care about their students.",
          "I'm going to write a bad review about this professor on RateMyProfessor. They deserve it.",
          "I can't wait to get out of here. This family is driving me insane.",
          "I hate my job. I don't want to go back there tomorrow.",
          "I can't believe how much weight I've gained. I need to start dieting ASAP.",
          "I'm going to skip class today. It's not like it's important anyway.",
          "I can't believe what a jerk my boss is. I'm so sick of working here.",
          "I had such a wild night last night. You wouldn't believe what happened.",
          "I think I have a crush on someone in the office. I can't stop thinking about them.",
          "I'm going to tell the boss what I really think about this project. It's a disaster."
         ],
         "legendgroup": "1",
         "marker": {
          "color": "#636efa",
          "symbol": "circle"
         },
         "mode": "markers",
         "name": "1",
         "scene": "scene",
         "showlegend": true,
         "type": "scatter3d",
         "x": [
          0.11210629234619715,
          -0.19537524308767862,
          0.40589007717065023,
          0.368607278696461,
          0.05149921312738961,
          0.01984673096401362,
          -0.09922247302816888,
          0.258940060383861,
          0.1924394900139447,
          -0.10258416926248567,
          0.2157976591258878,
          -0.012420794501143567,
          -0.004010849240966703,
          0.06891224890472919,
          0.14873939031013603,
          0.5159522124949087,
          0.17356869628409724,
          0.27146345077214323,
          0.41284390652643477,
          0.12328577398451687,
          0.3727762582940727,
          0.14741330496013175,
          -0.10716588293822053,
          -0.17896827725806197,
          0.32891141820765246,
          0.4386342520851327,
          0.4141110374746412,
          0.4010148804041015,
          0.4360837346263355,
          0.49750124326470097,
          0.4639791174589699,
          0.27818065195791736,
          0.3157505356878115,
          0.31945323909391166,
          0.4990832334271027,
          0.3152897216513132,
          0.3804488949041349,
          0.4532897282909311,
          0.3285776775090743,
          0.32765720844978213,
          0.2897080833818164,
          0.4924645186997825,
          0.4071947850469315,
          0.2930404675867384,
          0.263987090944296,
          0.35248357321971796,
          0.37377510903872657,
          0.3177409169738998,
          0.3972397128668414,
          0.33516237094385376,
          0.3661153269867976,
          0.45113483566438184,
          0.2518170723070235,
          0.40957665457016,
          0.17342425530795072,
          0.24664041237359366,
          0.11595906925779546,
          -0.021604320232042045,
          0.061824303740826966,
          0.16993665614090886,
          0.1379035376206081,
          0.06254374478670295,
          0.12097011686491688,
          -0.046404859745765345,
          -0.22778644822080577,
          0.11687115358952012,
          0.30308115207740577,
          -0.25450631120853906,
          0.23585819886381756,
          0.416110610870665,
          0.322246120603469,
          0.192036714681981,
          0.1434463573737701,
          0.036320601565879886,
          -0.14786062224889265,
          -0.004507154479266811,
          -0.26831896003672023,
          0.08465003201841158,
          -0.11329464860234548,
          -0.1510008741291494,
          -0.07727621016255729,
          0.005391933282947318,
          -0.17351841190684508,
          -0.28427734446989045,
          -0.3093083515912902,
          -0.33685671563002967,
          -0.31169799053709,
          -0.05292038328474389,
          -0.2579893569127226,
          -0.1820743436518946,
          -0.07727621016255729,
          0.010242751148290988,
          -0.3378582443612341,
          0.3410422412344596,
          0.2968967324036456,
          0.08030140350275974,
          0.0442595019280071,
          0.12054414159115727,
          0.27861727591812896,
          0.16590534244715816,
          -0.22778644822080577
         ],
         "y": [
          0.03474475226040262,
          -0.11116384711084733,
          -0.006369754320625047,
          0.0391876925450892,
          -0.027561692168263718,
          -0.010330611479371343,
          0.14589591301080207,
          0.004228500526606462,
          0.05672288369338005,
          0.12245734844637714,
          -0.037804354823355986,
          -0.18412905675195942,
          -0.21585921283823795,
          0.07647974284475008,
          -0.13020500983996464,
          0.05246240788921678,
          -0.0905792541032687,
          -0.08901340901291643,
          -0.022326295697330543,
          -0.051163636441359746,
          0.08034904427050288,
          0.03291499630678124,
          -0.053353161926575514,
          -0.033164737059759315,
          -0.07133940851048455,
          0.10403869597424387,
          0.05548558046754834,
          0.11178905265502603,
          0.018567800047310557,
          0.011464505533788362,
          0.036452644153203005,
          -0.052395070477334375,
          -0.006762276546911994,
          -0.00020529440113538193,
          0.07703470834614894,
          -0.007589553898806323,
          0.031658005939175914,
          -0.03920978567956749,
          0.0319555254103938,
          0.003915756028172351,
          -0.1254549696130772,
          0.07619889333818264,
          -0.1167710472033754,
          0.07335279878214315,
          -0.10815437625712782,
          0.023557697398801508,
          0.09776073596866694,
          0.0958311781904329,
          0.044192481449708526,
          -0.002287150743920823,
          0.0703121892869139,
          0.002093582886128366,
          0.14295893080238228,
          0.059269404606847986,
          -0.17187182718576874,
          -0.09243468980016009,
          -0.1437699365709255,
          -0.27917055030108695,
          -0.34025268789091667,
          -0.007796907906186903,
          -0.17839625429447453,
          -0.20220458754218756,
          -0.203036102600662,
          -0.14177957362271745,
          -0.03967444467101121,
          0.09874263894529137,
          0.06473643047054244,
          -0.16899025729768133,
          0.060771189469786,
          -0.0656499621576563,
          0.04374667309458198,
          0.0877279944034228,
          0.062144575476569354,
          0.46595449319518,
          0.419559087383638,
          0.26865994768919377,
          0.5363889163508624,
          0.45725370379665375,
          0.4148485685019741,
          0.42566761351327065,
          0.39938276915406645,
          0.44110042462875826,
          0.5470819497828172,
          0.42883207659473543,
          0.27376898542867456,
          0.3866797568158516,
          0.5863159253703597,
          0.5272930090881509,
          0.6020484848290633,
          0.5055670335141452,
          0.39938276915406645,
          0.5320204056823997,
          0.28368667674487724,
          -0.05267476932612998,
          0.16432669177407597,
          -0.08206781244026023,
          0.5088898062831463,
          0.11022852427228301,
          0.021953955802514052,
          0.08998061950271755,
          -0.03967444467101121
         ],
         "z": [
          -0.4277765391807753,
          -0.10178663473780122,
          -0.017112663530638225,
          -0.007163066331797591,
          -0.27439633440872396,
          0.022642941644932562,
          -0.24144014009942708,
          -0.336116057625078,
          -0.3188286583066854,
          -0.3513908753479698,
          -0.06766061164834493,
          -0.30242041315634904,
          -0.2984109429502222,
          -0.40891279693338667,
          -0.3077443297375885,
          0.08962942957976372,
          -0.2047909919875738,
          0.027301454885020837,
          0.011299126251139017,
          0.08856317865549267,
          -0.2290317029850679,
          -0.3807192416981054,
          -0.2616839513682154,
          -0.09434690776413998,
          0.22711234534525404,
          0.18763649644055136,
          0.22938031679985796,
          -0.2063055990572513,
          0.23296524096057666,
          0.1455889658725343,
          0.010787572106600422,
          0.13088209607517534,
          0.0459421628042296,
          0.11367351375876865,
          -0.007623167756988186,
          0.12176717071859101,
          0.22589724677716125,
          -0.07475038182276159,
          -0.212211413298553,
          0.1137224395747765,
          -0.07678648264310671,
          -0.10065956118228708,
          0.027822853180797344,
          0.11165900377687468,
          0.018741183681013115,
          0.2696641160577227,
          -0.23641715769323857,
          0.0948957269147331,
          0.12323793850055517,
          0.037488794353458074,
          -0.30613470697224826,
          0.32942979693487245,
          0.16081826987800463,
          0.16458378548230948,
          -0.003413169856738367,
          -0.020878371249845384,
          -0.405566369867761,
          -0.20792319055120373,
          -0.21202283707529207,
          -0.3474782915413024,
          -0.26430221584343544,
          -0.31599693959194325,
          -0.22279233950462918,
          -0.24636828877062547,
          -0.2739924098798672,
          -0.28216897128644847,
          0.12699986465221516,
          -0.31815064853366265,
          0.05189701471644619,
          0.21425727434201927,
          0.05387993028306306,
          -0.11265452781574392,
          -0.44999726282378844,
          0.05035819137357952,
          -0.0973275521055851,
          0.03634766930682964,
          -0.1728034664117194,
          0.19699516646491527,
          -0.34341717140647393,
          -0.2132073741664125,
          -0.01729427102002473,
          0.1755603128384041,
          -0.1387789002186564,
          -0.09686970434768534,
          0.000018001662555780655,
          -0.08770009634076058,
          -0.2901530284252198,
          0.17685241398596305,
          -0.11535611282006425,
          -0.01198672013423055,
          -0.01729427102002473,
          0.031915303176798956,
          -0.15992828652018556,
          -0.24783580453527246,
          -0.21684249636789366,
          -0.20503515279771067,
          0.17994636109440623,
          -0.4556069735683594,
          -0.28085002051717856,
          -0.35937023084518444,
          -0.2739924098798672
         ]
        },
        {
         "hovertemplate": "<b>%{hovertext}</b><br><br>color=0<br>0=%{x}<br>1=%{y}<br>2=%{z}<extra></extra>",
         "hovertext": [
          "Hi just wanted to let you know that I finished the project and it's ready for your review. Let me know if you need anything else from me.",
          "Good morning I'm running a few minutes late today due to traffic. I should be in the office by",
          "Hi I'm having trouble accessing the company database. Are you available to help troubleshoot the issue?",
          "Just a reminder that we have a team meeting attoday. Looking forward to seeing you there.",
          "Hi I need to take a personal day tomorrow. I've already notified and I will make sure to complete any outstanding tasks before I leave.",
          "Thanks for your feedback on the report. I've made the changes you suggested and will send the updated version to you shortly.",
          "Can we schedule a quick call to discuss the new project? I have some ideas I'd like to run by you.",
          "Good luck with the presentation today! Let me know how it goes.",
          "I'm not feeling well today and won't be able to make it into the office. I'll be available by email or phone if you need me.",
          "Just wanted to say thank you for your help on the project. I couldn't have done it without you!",
          "Hi just wanted to check in and see if you need anything from me today.",
          "Good morning I wanted to update you on the progress of the project. We're on track to meet the deadline.",
          "Hi I'm going to be out of the office today for a doctor's appointment. Is there anything urgent you need me to take care of before I go?",
          "Just wanted to let you know that I completed the training module and passed the quiz. Thanks for assigning it to me!",
          "Good afternoon can we schedule a meeting to discuss the budget for next quarter?",
          "Hi I wanted to share an idea I have for improving our customer service. When would be a good time to talk about it?",
          "I'm going to be working from home today. Is there anything you need me to take care of remotely?",
          "Hi I'm running late this morning due to traffic. I should be in the office by",
          "Just wanted to check in and make sure you received the report I sent yesterday. Let me know if you have any questions or feedback.",
          "Hi I need to take a personal day next week for a family event. Is there anything you need me to take care of before I go?",
          "Good morning I wanted to let you know that I finished the task you assigned me and it's ready for your review.",
          "Hi I'm having trouble with my computer. Can you or IT help me troubleshoot the issue?",
          "Just wanted to say thank you for your guidance on the project. I appreciate your support.",
          "Hi I'm going to be in a meeting for the next hour. Can I follow up with you afterwards?",
          "Good afternoon I wanted to let you know that I'll be out of the office for a training seminar next week. I've already coordinated withto cover my responsibilities.",
          "Hi I wanted to remind you that our team is presenting the new project to the client tomorrow. Is there anything else you need from me before then?",
          "Just wanted to check in and make sure we're still on track for our meeting tomorrow at",
          "Hi I received a request from a client for a new product feature. Can we discuss it further?",
          "Good morning I wanted to give you an update on the sales numbers for last quarter. We exceeded our target by",
          "Hi I'm going to be on vacation next week. I'll make sure to complete all outstanding tasks before I go.",
          "Just wanted to let you know that I'm running a few minutes late this morning due to an unexpected delay. I should be in the office by",
          "Hi I wanted to share some positive feedback we received from a client. They were very happy with the service we provided.",
          "Good afternoon I wanted to request a day off next month for a personal event. Is that possible?",
          "Hi I wanted to discuss my performance evaluation with you. When would be a good time to do that?",
          "Just wanted to remind you that the deadline for the project is coming up. Do you need any additional information or support from me?",
          "Hi I'm having trouble with a difficult customer",
          "Hi can you send me the latest version of the presentation? I need to review it before the meeting tomorrow.",
          "Good morning I wanted to check in and see if you need any help with the project.",
          "Hi I wanted to let you know that I completed my part of the task. Let me know if you need anything else from me.",
          "Just wanted to remind you that we have a team meeting attoday. Looking forward to seeing you there.",
          "Hi I'm going to be out of the office tomorrow for a doctor's appointment. Can you cover my responsibilities for the day?",
          "Good afternoon can you send me the file with the data we discussed earlier?",
          "Hi I wanted to discuss some ideas I have for the project. When would be a good time to talk about it?",
          "Just wanted to say thank you for your help on the project. I appreciate your support.",
          "Hi I'm having trouble with my computer. Do you have any suggestions on how to fix it?",
          "Good morning I wanted to let you know that I'll be out of the office for a training seminar next week. I'll make sure to complete all outstanding tasks before I go.",
          "Hi I received a request from a client for a new product feature. Can you help me research it?",
          "Just wanted to check in and see how you're doing on the project. Do you need any support or resources?",
          "Hi can you review the document I sent and give me your feedback by the end of the day?",
          "Good afternoon I'm going to be working from home tomorrow. Is there anything you need me to take care of remotely?",
          "Hi I need to take a personal day next week for a family event. Can you cover my responsibilities for the day?",
          "Just wanted to remind you that the deadline for the project is coming up. Do you need any additional information or support from me?",
          "Hi I wanted to share some positive feedback we received from a client. They were very happy with the service we provided.",
          "Good morning I'm going to be in a meeting for the next hour. Can I follow up with you afterwards?",
          "Hi I'm having trouble with a difficult customer. Can you offer any advice or support?",
          "Just wanted to say thank you for your hard work on the project. We're making great progress together.",
          "Good morning, Professor I wanted to check in and see if you had any feedback on my recent assignment.",
          "Hi Professor I'm going to be late to class today due to unforeseen circumstances. I will be there as soon as I can.",
          "Good afternoon, Professor I had a question about the reading assignment. Could we discuss it after class?",
          "Hi Professor I just wanted to say thank you for your guidance and support this semester. I appreciate your help.",
          "Good morning, Professor Could you let me know if there are any updates or changes to the schedule for this week?",
          "Hi Professor I'm having trouble understanding the concepts in this week's lecture. Do you have any additional resources or suggestions?",
          "Good afternoon, Professor I'm sorry to inform you that I won't be able to attend class today due to illness. I will make sure to catch up on the missed material.",
          "Hi Professor I was wondering if I could schedule some time to discuss my academic progress and future plans with you?",
          "Good morning, Professor Could you clarify the requirements for the upcoming assignment? I want to make sure I'm on the right track.",
          "Hi Professor I'm having trouble accessing the course materials online. Is there a solution to this issue?",
          "Good afternoon, Professor I just wanted to inform you that I'll be submitting my assignment a bit later than the deadline due to personal circumstances.",
          "Hi Professor I wanted to let you know that I won't be able to attend the lecture tomorrow. Is there anything I should be aware of before the next class?",
          "Good morning, Professor I was wondering if you could recommend some additional readings or sources related to the current topic.",
          "Hi Professor I'm really struggling with the class material. Do you have any advice or suggestions for how I can improve my understanding?",
          "Good afternoon, Professor I'm interested in pursuing a research project related to this course. Could we discuss potential ideas and resources?",
          "Hi Professor I just wanted to inform you that I won't be able to attend the final exam due to a medical emergency. Is there a possibility for a makeup exam?",
          "Good morning, Professor I wanted to inform you that I'll be submitting my assignment earlier than the deadline, as I want to receive feedback and improve my work.",
          "Hi Professor I'm having trouble finding the required textbook for this class. Is there a way to access it?",
          "Good afternoon, Professor I was wondering if you could provide some advice on how to prepare for the upcoming exam?",
          "Hi Professor I just wanted to express my appreciation for your passion and dedication to teaching. I'm learning so much from your class."
         ],
         "legendgroup": "0",
         "marker": {
          "color": "#EF553B",
          "symbol": "circle"
         },
         "mode": "markers",
         "name": "0",
         "scene": "scene",
         "showlegend": true,
         "type": "scatter3d",
         "x": [
          -0.4939190298296154,
          0.2230496077377926,
          -0.19142946143213738,
          0.08479234256096727,
          0.24875849299096361,
          -0.38727750959057117,
          -0.24537638277527563,
          -0.31399195632841365,
          0.2580656908175751,
          -0.22031988172445963,
          -0.05553579266860167,
          -0.3618973894558006,
          0.3030475581157725,
          -0.29923657161157263,
          -0.11552381704368435,
          -0.20859167403348514,
          0.26483810794791773,
          0.1979720445563097,
          -0.33815427013046623,
          0.3869985306637565,
          -0.262886425184745,
          -0.14122651458722352,
          -0.45302601832952594,
          0.07435257150858773,
          -0.18188439540791584,
          -0.22101883091266225,
          -0.10351364762814937,
          -0.369072534717531,
          -0.10112710915847799,
          -0.013478628172429416,
          0.06431557604028922,
          -0.3630044624231118,
          0.19544734892726945,
          -0.2292156724574406,
          -0.35896407118105506,
          -0.15758571335383278,
          -0.3807856592737982,
          -0.4257953927545231,
          -0.2727734044963026,
          0.09774320904446364,
          0.24375585795468666,
          -0.39135618331344174,
          -0.24011160548336735,
          -0.38353435570894806,
          -0.03917384096640235,
          -0.17154455343172467,
          -0.3718458463320396,
          -0.46435420405847244,
          -0.4306866503674513,
          0.24285737674350663,
          0.24594851757825195,
          -0.35896407118105506,
          -0.3630044624231118,
          0.10915113693569096,
          -0.18835215532805852,
          -0.3980070515196983,
          -0.515235312359605,
          -0.13305545257720355,
          -0.41528980729646475,
          -0.46865974627730295,
          -0.24096587631158695,
          -0.4985499343386889,
          -0.15875779833444917,
          -0.23858541735205518,
          -0.4814275638140439,
          -0.3305704687564488,
          -0.4531881556841403,
          -0.1780153200916957,
          -0.46336576816467184,
          -0.4280873562810161,
          -0.49738886872159316,
          -0.015677848557371095,
          -0.48808007331863346,
          -0.3504552475228165,
          -0.1648319790458624,
          -0.4320003777084952
         ],
         "y": [
          -0.28951113939990347,
          -0.12488190569970085,
          -0.24695565738886716,
          -0.26662277458040456,
          -0.19811030674037367,
          -0.21919879992288094,
          -0.25178906628468073,
          -0.13836039298945646,
          -0.15985557468160722,
          -0.1804553418726218,
          -0.3387914548987957,
          -0.3542380492072033,
          -0.01998446470266552,
          -0.02651026910810917,
          -0.14256185553762604,
          -0.27584585381771803,
          -0.23906019520205474,
          -0.15482876586779523,
          -0.26862748336244635,
          -0.11471136555902024,
          -0.21383263559478263,
          -0.2005934264393195,
          -0.265667735846503,
          -0.20918573389318035,
          -0.1374920204407152,
          -0.34551625896168564,
          -0.23606650006879915,
          -0.42622485873785154,
          -0.3017968046577239,
          -0.15794069933095076,
          -0.20115447385244836,
          -0.4195251910274556,
          -0.22959683112731744,
          -0.11967757870420262,
          -0.3572946125305974,
          -0.12820825991178827,
          -0.08294706042621858,
          -0.2048187081200443,
          -0.30320888219920317,
          -0.29521699852923117,
          -0.01644815448794216,
          -0.22125345235978502,
          -0.15122390374270653,
          -0.27559998310226047,
          -0.1762464690977599,
          -0.10791681960359005,
          -0.43172882041731514,
          -0.3802932724430285,
          -0.15856147472343224,
          -0.24092506770378294,
          -0.1332933101272637,
          -0.3572946125305974,
          -0.4195251910274556,
          -0.1922357886572026,
          -0.1986658857384522,
          -0.31085212045963634,
          0.16014986817139348,
          0.29515370381113554,
          0.3570514147630488,
          0.16503292342534634,
          0.050641175922252764,
          0.2436501173693918,
          0.31487426884181885,
          0.008441957423845126,
          0.1790344387659039,
          0.2557046789791938,
          0.1258245821920498,
          0.3910987308205716,
          0.18920692646591156,
          0.46922389792678665,
          0.040487322688093595,
          0.21922162815233517,
          0.049694385228543234,
          0.34639452428615053,
          0.3081550877408194,
          0.22445130988318532
         ],
         "z": [
          0.12097694682816745,
          0.3115227767196899,
          -0.20171892659881446,
          0.17934582107319894,
          0.3255503235788238,
          -0.15304733246635832,
          0.15657182091884328,
          0.09290653927572033,
          0.16258037317259386,
          -0.055154551774430384,
          0.24988063603867194,
          0.18582244954430285,
          0.23394821581703462,
          0.07401115931881003,
          0.306325770994569,
          0.058908092681691594,
          0.04270299256922012,
          0.3282930747761883,
          -0.003003592439301821,
          0.2620703336819259,
          0.10783459647757698,
          -0.21215718413432724,
          -0.06025583542697745,
          0.27522985012818246,
          0.20118378424821207,
          0.19980997002683748,
          0.27849551650251675,
          -0.15303525622291828,
          0.016319384645772348,
          0.23885861618495002,
          0.28457402053668474,
          -0.27172741913010484,
          0.22377207722119447,
          0.15752047977746916,
          0.17942562456442365,
          -0.24655449245341957,
          0.10893335581930029,
          0.11141726554151649,
          0.16235955927688916,
          0.20011285139269028,
          0.26147746070827926,
          0.10313852837619118,
          0.1777538424858476,
          -0.08031754728982064,
          -0.2542897567776302,
          0.23498718250914877,
          -0.2224933798302832,
          -0.014812105229620261,
          0.0074624604163900645,
          0.1123665398245493,
          0.286750622103409,
          0.17942562456442365,
          -0.27172741913010484,
          0.2671906639944501,
          -0.2819952880617153,
          -0.05384363296226729,
          0.12133336695729086,
          0.4865450110841504,
          0.18572512439303696,
          0.10745420996628385,
          0.31387792157853045,
          0.09055281863862412,
          0.29181714328896785,
          0.33001072103536,
          0.23910104465201873,
          0.0019294129235106268,
          0.2607013092072427,
          0.34527413094340237,
          0.15766835258941234,
          0.03723780454643395,
          0.03245698739642884,
          0.1577972187453923,
          0.21277206024492482,
          0.1305397462632395,
          0.2346910263697693,
          0.010647641744874484
         ]
        }
       ],
       "layout": {
        "legend": {
         "title": {
          "text": "color"
         },
         "tracegroupgap": 0
        },
        "margin": {
         "t": 60
        },
        "scene": {
         "domain": {
          "x": [
           0,
           1
          ],
          "y": [
           0,
           1
          ]
         },
         "xaxis": {
          "title": {
           "text": "0"
          }
         },
         "yaxis": {
          "title": {
           "text": "1"
          }
         },
         "zaxis": {
          "title": {
           "text": "2"
          }
         }
        },
        "template": {
         "data": {
          "bar": [
           {
            "error_x": {
             "color": "#2a3f5f"
            },
            "error_y": {
             "color": "#2a3f5f"
            },
            "marker": {
             "line": {
              "color": "#E5ECF6",
              "width": 0.5
             },
             "pattern": {
              "fillmode": "overlay",
              "size": 10,
              "solidity": 0.2
             }
            },
            "type": "bar"
           }
          ],
          "barpolar": [
           {
            "marker": {
             "line": {
              "color": "#E5ECF6",
              "width": 0.5
             },
             "pattern": {
              "fillmode": "overlay",
              "size": 10,
              "solidity": 0.2
             }
            },
            "type": "barpolar"
           }
          ],
          "carpet": [
           {
            "aaxis": {
             "endlinecolor": "#2a3f5f",
             "gridcolor": "white",
             "linecolor": "white",
             "minorgridcolor": "white",
             "startlinecolor": "#2a3f5f"
            },
            "baxis": {
             "endlinecolor": "#2a3f5f",
             "gridcolor": "white",
             "linecolor": "white",
             "minorgridcolor": "white",
             "startlinecolor": "#2a3f5f"
            },
            "type": "carpet"
           }
          ],
          "choropleth": [
           {
            "colorbar": {
             "outlinewidth": 0,
             "ticks": ""
            },
            "type": "choropleth"
           }
          ],
          "contour": [
           {
            "colorbar": {
             "outlinewidth": 0,
             "ticks": ""
            },
            "colorscale": [
             [
              0,
              "#0d0887"
             ],
             [
              0.1111111111111111,
              "#46039f"
             ],
             [
              0.2222222222222222,
              "#7201a8"
             ],
             [
              0.3333333333333333,
              "#9c179e"
             ],
             [
              0.4444444444444444,
              "#bd3786"
             ],
             [
              0.5555555555555556,
              "#d8576b"
             ],
             [
              0.6666666666666666,
              "#ed7953"
             ],
             [
              0.7777777777777778,
              "#fb9f3a"
             ],
             [
              0.8888888888888888,
              "#fdca26"
             ],
             [
              1,
              "#f0f921"
             ]
            ],
            "type": "contour"
           }
          ],
          "contourcarpet": [
           {
            "colorbar": {
             "outlinewidth": 0,
             "ticks": ""
            },
            "type": "contourcarpet"
           }
          ],
          "heatmap": [
           {
            "colorbar": {
             "outlinewidth": 0,
             "ticks": ""
            },
            "colorscale": [
             [
              0,
              "#0d0887"
             ],
             [
              0.1111111111111111,
              "#46039f"
             ],
             [
              0.2222222222222222,
              "#7201a8"
             ],
             [
              0.3333333333333333,
              "#9c179e"
             ],
             [
              0.4444444444444444,
              "#bd3786"
             ],
             [
              0.5555555555555556,
              "#d8576b"
             ],
             [
              0.6666666666666666,
              "#ed7953"
             ],
             [
              0.7777777777777778,
              "#fb9f3a"
             ],
             [
              0.8888888888888888,
              "#fdca26"
             ],
             [
              1,
              "#f0f921"
             ]
            ],
            "type": "heatmap"
           }
          ],
          "heatmapgl": [
           {
            "colorbar": {
             "outlinewidth": 0,
             "ticks": ""
            },
            "colorscale": [
             [
              0,
              "#0d0887"
             ],
             [
              0.1111111111111111,
              "#46039f"
             ],
             [
              0.2222222222222222,
              "#7201a8"
             ],
             [
              0.3333333333333333,
              "#9c179e"
             ],
             [
              0.4444444444444444,
              "#bd3786"
             ],
             [
              0.5555555555555556,
              "#d8576b"
             ],
             [
              0.6666666666666666,
              "#ed7953"
             ],
             [
              0.7777777777777778,
              "#fb9f3a"
             ],
             [
              0.8888888888888888,
              "#fdca26"
             ],
             [
              1,
              "#f0f921"
             ]
            ],
            "type": "heatmapgl"
           }
          ],
          "histogram": [
           {
            "marker": {
             "pattern": {
              "fillmode": "overlay",
              "size": 10,
              "solidity": 0.2
             }
            },
            "type": "histogram"
           }
          ],
          "histogram2d": [
           {
            "colorbar": {
             "outlinewidth": 0,
             "ticks": ""
            },
            "colorscale": [
             [
              0,
              "#0d0887"
             ],
             [
              0.1111111111111111,
              "#46039f"
             ],
             [
              0.2222222222222222,
              "#7201a8"
             ],
             [
              0.3333333333333333,
              "#9c179e"
             ],
             [
              0.4444444444444444,
              "#bd3786"
             ],
             [
              0.5555555555555556,
              "#d8576b"
             ],
             [
              0.6666666666666666,
              "#ed7953"
             ],
             [
              0.7777777777777778,
              "#fb9f3a"
             ],
             [
              0.8888888888888888,
              "#fdca26"
             ],
             [
              1,
              "#f0f921"
             ]
            ],
            "type": "histogram2d"
           }
          ],
          "histogram2dcontour": [
           {
            "colorbar": {
             "outlinewidth": 0,
             "ticks": ""
            },
            "colorscale": [
             [
              0,
              "#0d0887"
             ],
             [
              0.1111111111111111,
              "#46039f"
             ],
             [
              0.2222222222222222,
              "#7201a8"
             ],
             [
              0.3333333333333333,
              "#9c179e"
             ],
             [
              0.4444444444444444,
              "#bd3786"
             ],
             [
              0.5555555555555556,
              "#d8576b"
             ],
             [
              0.6666666666666666,
              "#ed7953"
             ],
             [
              0.7777777777777778,
              "#fb9f3a"
             ],
             [
              0.8888888888888888,
              "#fdca26"
             ],
             [
              1,
              "#f0f921"
             ]
            ],
            "type": "histogram2dcontour"
           }
          ],
          "mesh3d": [
           {
            "colorbar": {
             "outlinewidth": 0,
             "ticks": ""
            },
            "type": "mesh3d"
           }
          ],
          "parcoords": [
           {
            "line": {
             "colorbar": {
              "outlinewidth": 0,
              "ticks": ""
             }
            },
            "type": "parcoords"
           }
          ],
          "pie": [
           {
            "automargin": true,
            "type": "pie"
           }
          ],
          "scatter": [
           {
            "fillpattern": {
             "fillmode": "overlay",
             "size": 10,
             "solidity": 0.2
            },
            "type": "scatter"
           }
          ],
          "scatter3d": [
           {
            "line": {
             "colorbar": {
              "outlinewidth": 0,
              "ticks": ""
             }
            },
            "marker": {
             "colorbar": {
              "outlinewidth": 0,
              "ticks": ""
             }
            },
            "type": "scatter3d"
           }
          ],
          "scattercarpet": [
           {
            "marker": {
             "colorbar": {
              "outlinewidth": 0,
              "ticks": ""
             }
            },
            "type": "scattercarpet"
           }
          ],
          "scattergeo": [
           {
            "marker": {
             "colorbar": {
              "outlinewidth": 0,
              "ticks": ""
             }
            },
            "type": "scattergeo"
           }
          ],
          "scattergl": [
           {
            "marker": {
             "colorbar": {
              "outlinewidth": 0,
              "ticks": ""
             }
            },
            "type": "scattergl"
           }
          ],
          "scattermapbox": [
           {
            "marker": {
             "colorbar": {
              "outlinewidth": 0,
              "ticks": ""
             }
            },
            "type": "scattermapbox"
           }
          ],
          "scatterpolar": [
           {
            "marker": {
             "colorbar": {
              "outlinewidth": 0,
              "ticks": ""
             }
            },
            "type": "scatterpolar"
           }
          ],
          "scatterpolargl": [
           {
            "marker": {
             "colorbar": {
              "outlinewidth": 0,
              "ticks": ""
             }
            },
            "type": "scatterpolargl"
           }
          ],
          "scatterternary": [
           {
            "marker": {
             "colorbar": {
              "outlinewidth": 0,
              "ticks": ""
             }
            },
            "type": "scatterternary"
           }
          ],
          "surface": [
           {
            "colorbar": {
             "outlinewidth": 0,
             "ticks": ""
            },
            "colorscale": [
             [
              0,
              "#0d0887"
             ],
             [
              0.1111111111111111,
              "#46039f"
             ],
             [
              0.2222222222222222,
              "#7201a8"
             ],
             [
              0.3333333333333333,
              "#9c179e"
             ],
             [
              0.4444444444444444,
              "#bd3786"
             ],
             [
              0.5555555555555556,
              "#d8576b"
             ],
             [
              0.6666666666666666,
              "#ed7953"
             ],
             [
              0.7777777777777778,
              "#fb9f3a"
             ],
             [
              0.8888888888888888,
              "#fdca26"
             ],
             [
              1,
              "#f0f921"
             ]
            ],
            "type": "surface"
           }
          ],
          "table": [
           {
            "cells": {
             "fill": {
              "color": "#EBF0F8"
             },
             "line": {
              "color": "white"
             }
            },
            "header": {
             "fill": {
              "color": "#C8D4E3"
             },
             "line": {
              "color": "white"
             }
            },
            "type": "table"
           }
          ]
         },
         "layout": {
          "annotationdefaults": {
           "arrowcolor": "#2a3f5f",
           "arrowhead": 0,
           "arrowwidth": 1
          },
          "autotypenumbers": "strict",
          "coloraxis": {
           "colorbar": {
            "outlinewidth": 0,
            "ticks": ""
           }
          },
          "colorscale": {
           "diverging": [
            [
             0,
             "#8e0152"
            ],
            [
             0.1,
             "#c51b7d"
            ],
            [
             0.2,
             "#de77ae"
            ],
            [
             0.3,
             "#f1b6da"
            ],
            [
             0.4,
             "#fde0ef"
            ],
            [
             0.5,
             "#f7f7f7"
            ],
            [
             0.6,
             "#e6f5d0"
            ],
            [
             0.7,
             "#b8e186"
            ],
            [
             0.8,
             "#7fbc41"
            ],
            [
             0.9,
             "#4d9221"
            ],
            [
             1,
             "#276419"
            ]
           ],
           "sequential": [
            [
             0,
             "#0d0887"
            ],
            [
             0.1111111111111111,
             "#46039f"
            ],
            [
             0.2222222222222222,
             "#7201a8"
            ],
            [
             0.3333333333333333,
             "#9c179e"
            ],
            [
             0.4444444444444444,
             "#bd3786"
            ],
            [
             0.5555555555555556,
             "#d8576b"
            ],
            [
             0.6666666666666666,
             "#ed7953"
            ],
            [
             0.7777777777777778,
             "#fb9f3a"
            ],
            [
             0.8888888888888888,
             "#fdca26"
            ],
            [
             1,
             "#f0f921"
            ]
           ],
           "sequentialminus": [
            [
             0,
             "#0d0887"
            ],
            [
             0.1111111111111111,
             "#46039f"
            ],
            [
             0.2222222222222222,
             "#7201a8"
            ],
            [
             0.3333333333333333,
             "#9c179e"
            ],
            [
             0.4444444444444444,
             "#bd3786"
            ],
            [
             0.5555555555555556,
             "#d8576b"
            ],
            [
             0.6666666666666666,
             "#ed7953"
            ],
            [
             0.7777777777777778,
             "#fb9f3a"
            ],
            [
             0.8888888888888888,
             "#fdca26"
            ],
            [
             1,
             "#f0f921"
            ]
           ]
          },
          "colorway": [
           "#636efa",
           "#EF553B",
           "#00cc96",
           "#ab63fa",
           "#FFA15A",
           "#19d3f3",
           "#FF6692",
           "#B6E880",
           "#FF97FF",
           "#FECB52"
          ],
          "font": {
           "color": "#2a3f5f"
          },
          "geo": {
           "bgcolor": "white",
           "lakecolor": "white",
           "landcolor": "#E5ECF6",
           "showlakes": true,
           "showland": true,
           "subunitcolor": "white"
          },
          "hoverlabel": {
           "align": "left"
          },
          "hovermode": "closest",
          "mapbox": {
           "style": "light"
          },
          "paper_bgcolor": "white",
          "plot_bgcolor": "#E5ECF6",
          "polar": {
           "angularaxis": {
            "gridcolor": "white",
            "linecolor": "white",
            "ticks": ""
           },
           "bgcolor": "#E5ECF6",
           "radialaxis": {
            "gridcolor": "white",
            "linecolor": "white",
            "ticks": ""
           }
          },
          "scene": {
           "xaxis": {
            "backgroundcolor": "#E5ECF6",
            "gridcolor": "white",
            "gridwidth": 2,
            "linecolor": "white",
            "showbackground": true,
            "ticks": "",
            "zerolinecolor": "white"
           },
           "yaxis": {
            "backgroundcolor": "#E5ECF6",
            "gridcolor": "white",
            "gridwidth": 2,
            "linecolor": "white",
            "showbackground": true,
            "ticks": "",
            "zerolinecolor": "white"
           },
           "zaxis": {
            "backgroundcolor": "#E5ECF6",
            "gridcolor": "white",
            "gridwidth": 2,
            "linecolor": "white",
            "showbackground": true,
            "ticks": "",
            "zerolinecolor": "white"
           }
          },
          "shapedefaults": {
           "line": {
            "color": "#2a3f5f"
           }
          },
          "ternary": {
           "aaxis": {
            "gridcolor": "white",
            "linecolor": "white",
            "ticks": ""
           },
           "baxis": {
            "gridcolor": "white",
            "linecolor": "white",
            "ticks": ""
           },
           "bgcolor": "#E5ECF6",
           "caxis": {
            "gridcolor": "white",
            "linecolor": "white",
            "ticks": ""
           }
          },
          "title": {
           "x": 0.05
          },
          "xaxis": {
           "automargin": true,
           "gridcolor": "white",
           "linecolor": "white",
           "ticks": "",
           "title": {
            "standoff": 15
           },
           "zerolinecolor": "white",
           "zerolinewidth": 2
          },
          "yaxis": {
           "automargin": true,
           "gridcolor": "white",
           "linecolor": "white",
           "ticks": "",
           "title": {
            "standoff": 15
           },
           "zerolinecolor": "white",
           "zerolinewidth": 2
          }
         }
        }
       }
      }
     },
     "metadata": {},
     "output_type": "display_data"
    }
   ],
   "source": [
    "fig = px.scatter_3d(pd.DataFrame(components), \n",
    "                    x=0, y=1, z=2, \n",
    "                    color=train_df[\"target\"].astype(str),\n",
    "                    hover_name=train_df[\"text\"]\n",
    ")\n",
    "fig.show()"
   ]
  },
  {
   "cell_type": "code",
   "execution_count": 98,
   "id": "31882313",
   "metadata": {},
   "outputs": [
    {
     "name": "stdout",
     "output_type": "stream",
     "text": [
      "Train accuracy:  0.994\n",
      "Validation accuracy:  0.913\n"
     ]
    }
   ],
   "source": [
    "rf_emb = RandomForestClassifier(max_depth=10, n_estimators=7, n_jobs=-1)\n",
    "rf_emb.fit(embeddings_train.cpu().numpy(), train_df.target)\n",
    "\n",
    "y_pred_train = rf_emb.predict(embeddings_train)\n",
    "print('Train accuracy: ', (train_df.target == y_pred_train).mean().round(3))\n",
    "\n",
    "y_pred_val = rf_emb.predict(embeddings_val)\n",
    "print('Validation accuracy: ', (val_df.target == y_pred_val).mean().round(3))"
   ]
  },
  {
   "cell_type": "code",
   "execution_count": 99,
   "id": "5d35e0ee",
   "metadata": {},
   "outputs": [],
   "source": [
    "test_y = minilm.encode(\"Hi I'm running into some issues. I hate you\", convert_to_tensor=True)\n",
    "# test_y = minilm.encode(\"Hi I'm running into some issues.\", convert_to_tensor=True)"
   ]
  },
  {
   "cell_type": "code",
   "execution_count": 101,
   "id": "aec534bb",
   "metadata": {},
   "outputs": [
    {
     "data": {
      "text/plain": [
       "array([1])"
      ]
     },
     "execution_count": 101,
     "metadata": {},
     "output_type": "execute_result"
    }
   ],
   "source": [
    "rf_emb.predict(test_y.reshape(1, -1))\n",
    "# test_y.reshape(-1, 1)"
   ]
  },
  {
   "cell_type": "code",
   "execution_count": 108,
   "id": "7ec6c550",
   "metadata": {},
   "outputs": [
    {
     "data": {
      "text/plain": [
       "[\"Hi just wanted to let you know that I finished the project and it's ready for your review. Let me know if you need anything else from me.\",\n",
       " \"Good morning I'm running a few minutes late today due to traffic. I should be in the office by\",\n",
       " \"Hi I'm having trouble accessing the company database. Are you available to help troubleshoot the issue?\",\n",
       " 'Just a reminder that we have a team meeting attoday. Looking forward to seeing you there.',\n",
       " \"Hi I need to take a personal day tomorrow. I've already notified and I will make sure to complete any outstanding tasks before I leave.\",\n",
       " \"Thanks for your feedback on the report. I've made the changes you suggested and will send the updated version to you shortly.\",\n",
       " \"Can we schedule a quick call to discuss the new project? I have some ideas I'd like to run by you.\"]"
      ]
     },
     "execution_count": 108,
     "metadata": {},
     "output_type": "execute_result"
    }
   ],
   "source": [
    "neg_sents[:7]"
   ]
  },
  {
   "cell_type": "code",
   "execution_count": 109,
   "id": "8489d1fa",
   "metadata": {},
   "outputs": [],
   "source": [
    "test_y = minilm.encode(neg_sents[:3], convert_to_tensor=True)\n"
   ]
  },
  {
   "cell_type": "code",
   "execution_count": 110,
   "id": "acdfd99c",
   "metadata": {},
   "outputs": [
    {
     "data": {
      "text/plain": [
       "array([0, 0, 0])"
      ]
     },
     "execution_count": 110,
     "metadata": {},
     "output_type": "execute_result"
    }
   ],
   "source": [
    "rf_emb.predict(test_y)\n"
   ]
  },
  {
   "cell_type": "code",
   "execution_count": null,
   "id": "181a06ea",
   "metadata": {},
   "outputs": [],
   "source": []
  }
 ],
 "metadata": {
  "kernelspec": {
   "display_name": "base",
   "language": "python",
   "name": "python3"
  },
  "language_info": {
   "codemirror_mode": {
    "name": "ipython",
    "version": 3
   },
   "file_extension": ".py",
   "mimetype": "text/x-python",
   "name": "python",
   "nbconvert_exporter": "python",
   "pygments_lexer": "ipython3",
   "version": "3.8.11"
  },
  "vscode": {
   "interpreter": {
    "hash": "40d3a090f54c6569ab1632332b64b2c03c39dcf918b08424e98f38b5ae0af88f"
   }
  }
 },
 "nbformat": 4,
 "nbformat_minor": 5
}
