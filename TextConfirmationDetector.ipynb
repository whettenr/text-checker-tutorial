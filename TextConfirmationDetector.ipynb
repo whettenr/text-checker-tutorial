{
 "cells": [
  {
   "cell_type": "code",
   "execution_count": 10,
   "id": "86e97467",
   "metadata": {},
   "outputs": [],
   "source": [
    "import numpy as np\n",
    "import matplotlib.pyplot as plt # make figs.\n",
    "import re\n",
    "%matplotlib inline"
   ]
  },
  {
   "attachments": {},
   "cell_type": "markdown",
   "id": "84e2a1c6",
   "metadata": {},
   "source": [
    "# Read in and clean data"
   ]
  },
  {
   "cell_type": "code",
   "execution_count": 11,
   "id": "29736abb",
   "metadata": {},
   "outputs": [
    {
     "data": {
      "text/plain": [
       "[\"Hi [boss/coworker], just wanted to let you know that I finished the project and it's ready for your review. Let me know if you need anything else from me.\",\n",
       " '',\n",
       " \"Good morning [boss/coworker], I'm running a few minutes late today due to traffic. I should be in the office by [time].\",\n",
       " '']"
      ]
     },
     "execution_count": 11,
     "metadata": {},
     "output_type": "execute_result"
    }
   ],
   "source": [
    "pos_sents = open('pos_sentences.txt', 'r').read().splitlines()\n",
    "neg_sents = open('neg_sentences.txt', 'r').read().splitlines()\n",
    "neg_sents[:4]"
   ]
  },
  {
   "cell_type": "code",
   "execution_count": 26,
   "id": "bd28614c",
   "metadata": {},
   "outputs": [],
   "source": [
    "pos_sents = [s for s in pos_sents if s]\n",
    "neg_sents = [s for s in neg_sents if s]"
   ]
  },
  {
   "cell_type": "code",
   "execution_count": 27,
   "id": "4fbbc7f1",
   "metadata": {},
   "outputs": [
    {
     "data": {
      "text/plain": [
       "\"Good morning [boss/coworker], I'm running a few minutes late today due to traffic. I should be in the office by [time].\""
      ]
     },
     "execution_count": 27,
     "metadata": {},
     "output_type": "execute_result"
    }
   ],
   "source": [
    "neg_sents[1]"
   ]
  },
  {
   "cell_type": "code",
   "execution_count": 39,
   "id": "74aeaedf",
   "metadata": {},
   "outputs": [
    {
     "data": {
      "text/plain": [
       "\"Good morning I'm running a few minutes late today due to traffic. I should be in the office by\""
      ]
     },
     "execution_count": 39,
     "metadata": {},
     "output_type": "execute_result"
    }
   ],
   "source": [
    "re.sub('.\\[(.*?)\\].', '', neg_sents[1]) "
   ]
  },
  {
   "cell_type": "code",
   "execution_count": 41,
   "id": "dd4390fc",
   "metadata": {},
   "outputs": [],
   "source": [
    "neg_sents = [re.sub('.\\[(.*?)\\].', '', s) for s in neg_sents]"
   ]
  },
  {
   "cell_type": "code",
   "execution_count": null,
   "id": "5c9b9b3e",
   "metadata": {},
   "outputs": [],
   "source": []
  }
 ],
 "metadata": {
  "kernelspec": {
   "display_name": "base",
   "language": "python",
   "name": "python3"
  },
  "language_info": {
   "codemirror_mode": {
    "name": "ipython",
    "version": 3
   },
   "file_extension": ".py",
   "mimetype": "text/x-python",
   "name": "python",
   "nbconvert_exporter": "python",
   "pygments_lexer": "ipython3",
   "version": "3.8.11"
  },
  "vscode": {
   "interpreter": {
    "hash": "40d3a090f54c6569ab1632332b64b2c03c39dcf918b08424e98f38b5ae0af88f"
   }
  }
 },
 "nbformat": 4,
 "nbformat_minor": 5
}
