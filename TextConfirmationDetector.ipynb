{
 "cells": [
  {
   "cell_type": "code",
   "execution_count": 1,
   "id": "86e97467",
   "metadata": {},
   "outputs": [],
   "source": [
    "import numpy as np\n",
    "import pandas as pd\n",
    "import matplotlib.pyplot as plt # make figs.\n",
    "import re\n",
    "%matplotlib inline"
   ]
  },
  {
   "attachments": {},
   "cell_type": "markdown",
   "id": "84e2a1c6",
   "metadata": {},
   "source": [
    "## Read in and clean data"
   ]
  },
  {
   "cell_type": "code",
   "execution_count": 2,
   "id": "29736abb",
   "metadata": {},
   "outputs": [
    {
     "data": {
      "text/plain": [
       "[\"Hi [boss/coworker], just wanted to let you know that I finished the project and it's ready for your review. Let me know if you need anything else from me.\",\n",
       " '',\n",
       " \"Good morning [boss/coworker], I'm running a few minutes late today due to traffic. I should be in the office by [time].\",\n",
       " '']"
      ]
     },
     "execution_count": 2,
     "metadata": {},
     "output_type": "execute_result"
    }
   ],
   "source": [
    "pos_sents = open('pos_sentences.txt', 'r').read().splitlines() # read in data line-by-line\n",
    "neg_sents = open('neg_sentences.txt', 'r').read().splitlines()\n",
    "neg_sents[:4] # this line outputs the first 4 lines"
   ]
  },
  {
   "cell_type": "code",
   "execution_count": 3,
   "id": "bd28614c",
   "metadata": {},
   "outputs": [],
   "source": [
    "pos_sents = [s for s in pos_sents if s]\n",
    "neg_sents = [s for s in neg_sents if s]"
   ]
  },
  {
   "cell_type": "code",
   "execution_count": 4,
   "id": "4fbbc7f1",
   "metadata": {},
   "outputs": [
    {
     "data": {
      "text/plain": [
       "\"Good morning [boss/coworker], I'm running a few minutes late today due to traffic. I should be in the office by [time].\""
      ]
     },
     "execution_count": 4,
     "metadata": {},
     "output_type": "execute_result"
    }
   ],
   "source": [
    "neg_sents[1]"
   ]
  },
  {
   "cell_type": "code",
   "execution_count": 5,
   "id": "74aeaedf",
   "metadata": {},
   "outputs": [
    {
     "data": {
      "text/plain": [
       "\"Good morning I'm running a few minutes late today due to traffic. I should be in the office by\""
      ]
     },
     "execution_count": 5,
     "metadata": {},
     "output_type": "execute_result"
    }
   ],
   "source": [
    "re.sub('.\\[(.*?)\\].', '', neg_sents[1]) "
   ]
  },
  {
   "cell_type": "code",
   "execution_count": 6,
   "id": "dd4390fc",
   "metadata": {},
   "outputs": [],
   "source": [
    "neg_sents = [re.sub('.\\[(.*?)\\].', '', s) for s in neg_sents]"
   ]
  },
  {
   "cell_type": "code",
   "execution_count": 7,
   "id": "9907fa12",
   "metadata": {},
   "outputs": [
    {
     "name": "stdout",
     "output_type": "stream",
     "text": [
      "Train pos:  101\n",
      "Val pos:  26\n",
      "Train neg:  76\n",
      "Val neg:  20\n"
     ]
    }
   ],
   "source": [
    "train_pos = pos_sents[:int(len(pos_sents) * .8)]\n",
    "val_pos = pos_sents[int(len(pos_sents) * .8):]\n",
    "\n",
    "train_neg = neg_sents[:int(len(neg_sents) * .8)]\n",
    "val_neg = neg_sents[int(len(neg_sents) * .8):]\n",
    "\n",
    "print('Train pos: ', len(train_pos))\n",
    "print('Val pos: ', len(val_pos))\n",
    "print('Train neg: ', len(train_neg))\n",
    "print('Val neg: ', len(val_neg))\n",
    "\n",
    "# expected output\n",
    "# Train pos:  101\n",
    "# Val pos:  26\n",
    "# Train neg:  76\n",
    "# Val neg:  20\n"
   ]
  },
  {
   "cell_type": "code",
   "execution_count": 8,
   "id": "0f24033a",
   "metadata": {},
   "outputs": [
    {
     "data": {
      "text/plain": [
       "[1, 1, 0, 0, 0]"
      ]
     },
     "execution_count": 8,
     "metadata": {},
     "output_type": "execute_result"
    }
   ],
   "source": [
    "# [0] * len(train_pos) + [0] * len(train_neg)\n",
    "[1] * 2 + [0] * 3"
   ]
  },
  {
   "cell_type": "code",
   "execution_count": 9,
   "id": "1514e3a0",
   "metadata": {},
   "outputs": [
    {
     "data": {
      "text/html": [
       "<div>\n",
       "<style scoped>\n",
       "    .dataframe tbody tr th:only-of-type {\n",
       "        vertical-align: middle;\n",
       "    }\n",
       "\n",
       "    .dataframe tbody tr th {\n",
       "        vertical-align: top;\n",
       "    }\n",
       "\n",
       "    .dataframe thead th {\n",
       "        text-align: right;\n",
       "    }\n",
       "</style>\n",
       "<table border=\"1\" class=\"dataframe\">\n",
       "  <thead>\n",
       "    <tr style=\"text-align: right;\">\n",
       "      <th></th>\n",
       "      <th>target</th>\n",
       "      <th>text</th>\n",
       "    </tr>\n",
       "  </thead>\n",
       "  <tbody>\n",
       "    <tr>\n",
       "      <th>0</th>\n",
       "      <td>1</td>\n",
       "      <td>I can't stand working for this jerk. I'm so do...</td>\n",
       "    </tr>\n",
       "    <tr>\n",
       "      <th>1</th>\n",
       "      <td>1</td>\n",
       "      <td>I don't know how we're going to get this proje...</td>\n",
       "    </tr>\n",
       "    <tr>\n",
       "      <th>2</th>\n",
       "      <td>1</td>\n",
       "      <td>I'm so bored. Can't wait to get out of here an...</td>\n",
       "    </tr>\n",
       "    <tr>\n",
       "      <th>3</th>\n",
       "      <td>1</td>\n",
       "      <td>I'm calling in sick tomorrow. I can't handle a...</td>\n",
       "    </tr>\n",
       "    <tr>\n",
       "      <th>4</th>\n",
       "      <td>1</td>\n",
       "      <td>I just got offered a job with better pay and b...</td>\n",
       "    </tr>\n",
       "  </tbody>\n",
       "</table>\n",
       "</div>"
      ],
      "text/plain": [
       "   target                                               text\n",
       "0       1  I can't stand working for this jerk. I'm so do...\n",
       "1       1  I don't know how we're going to get this proje...\n",
       "2       1  I'm so bored. Can't wait to get out of here an...\n",
       "3       1  I'm calling in sick tomorrow. I can't handle a...\n",
       "4       1  I just got offered a job with better pay and b..."
      ]
     },
     "execution_count": 9,
     "metadata": {},
     "output_type": "execute_result"
    }
   ],
   "source": [
    "train_df = pd.DataFrame({\n",
    "    'target': [1] * len(train_pos) + [0] * len(train_neg),\n",
    "    'text': train_pos + train_neg,\n",
    "})\n",
    "\n",
    "val_df = pd.DataFrame({\n",
    "    'target': [1] * len(val_pos) + [0] * len(val_neg),\n",
    "    'text': val_pos + val_neg,\n",
    "})\n",
    "\n",
    "train_df.head()"
   ]
  },
  {
   "attachments": {},
   "cell_type": "markdown",
   "id": "8dee85ac",
   "metadata": {},
   "source": [
    "## EDA\n",
    "\n",
    "(Explore data)"
   ]
  },
  {
   "cell_type": "code",
   "execution_count": 10,
   "id": "702362cf",
   "metadata": {},
   "outputs": [],
   "source": [
    "# combine all text together\n",
    "pos_all = ' '.join(train_df[train_df.target == 1].text)\n",
    "neg_all = ' '.join(train_df[train_df.target == 0].text)\n"
   ]
  },
  {
   "cell_type": "code",
   "execution_count": 11,
   "id": "5c9b9b3e",
   "metadata": {},
   "outputs": [
    {
     "data": {
      "image/png": "[encoded data removed]",
      "text/plain": [
       "<Figure size 1200x800 with 1 Axes>"
      ]
     },
     "metadata": {},
     "output_type": "display_data"
    }
   ],
   "source": [
    "from wordcloud import WordCloud\n",
    "\n",
    "cloud = WordCloud(max_words=100,width=480, height=480, background_color='black', colormap='Reds')\n",
    "cloud.generate_from_text(pos_all)\n",
    "\n",
    "# cloud = WordCloud(max_words=100,width=480, height=480, background_color='black', colormap='Greens')\n",
    "# cloud.generate_from_text(neg_all)\n",
    "\n",
    "plt.figure(figsize=(12,8), dpi=100)\n",
    "plt.imshow(cloud)\n",
    "plt.axis('off')\n",
    "\n",
    "# plt.savefig('pos_sent_cloud.png', bbox_inches='tight', pad_inches=0, dpi=1000)\n",
    "# plt.savefig('neg_sent_cloud.png', bbox_inches='tight', pad_inches=0, dpi=1000)\n",
    "plt.show()\n"
   ]
  },
  {
   "cell_type": "code",
   "execution_count": 12,
   "id": "e0c57667",
   "metadata": {},
   "outputs": [
    {
     "name": "stdout",
     "output_type": "stream",
     "text": [
      "I\t114\n",
      "to\t80\n",
      "I'm\t59\n",
      "going\t35\n",
      "a\t35\n",
      "this\t25\n",
      "the\t24\n",
      "can't\t22\n",
      "my\t20\n",
      "have\t19\n"
     ]
    }
   ],
   "source": [
    "from collections import Counter\n",
    "\n",
    "pos_frequencies = Counter(pos_all.split())\n",
    "\n",
    "for word, freq in pos_frequencies.most_common(10):\n",
    "    print(\"{}\\t{}\".format(word, freq))\n"
   ]
  },
  {
   "cell_type": "code",
   "execution_count": 13,
   "id": "abc15705",
   "metadata": {},
   "outputs": [
    {
     "name": "stdout",
     "output_type": "stream",
     "text": [
      "to\t92\n",
      "the\t71\n",
      "I\t66\n",
      "you\t62\n",
      "a\t41\n",
      "Hi\t36\n",
      "for\t36\n",
      "wanted\t35\n",
      "I'm\t25\n",
      "be\t25\n"
     ]
    }
   ],
   "source": [
    "neg_frequencies = Counter(neg_all.split())\n",
    "\n",
    "for word, freq in neg_frequencies.most_common(10):\n",
    "    print(\"{}\\t{}\".format(word, freq))"
   ]
  },
  {
   "cell_type": "code",
   "execution_count": 14,
   "id": "fe44f290",
   "metadata": {},
   "outputs": [
    {
     "name": "stderr",
     "output_type": "stream",
     "text": [
      "[nltk_data] Downloading package stopwords to\n",
      "[nltk_data]     /Users/ryanwhetten/nltk_data...\n",
      "[nltk_data]   Package stopwords is already up-to-date!\n",
      "[nltk_data] Downloading package wordnet to\n",
      "[nltk_data]     /Users/ryanwhetten/nltk_data...\n",
      "[nltk_data]   Package wordnet is already up-to-date!\n"
     ]
    }
   ],
   "source": [
    "# cleaning more\n",
    "# nltk.download('omw-1.4')\n",
    "import nltk\n",
    "nltk.download('stopwords')\n",
    "nltk.download('wordnet')\n",
    "from nltk.stem import WordNetLemmatizer\n",
    "from nltk.corpus import stopwords\n",
    "\n",
    "wn = WordNetLemmatizer()\n",
    "sw = stopwords.words('english')\n",
    "\n",
    "def process_text(x):\n",
    "    x = x.lower()\n",
    "    tokens = x.split()\n",
    "    tokens = [tok for tok in tokens if tok.isalnum()]\n",
    "    tokens = [tok for tok in tokens if tok not in sw]\n",
    "    tokens = [wn.lemmatize(tok) for tok in tokens]\n",
    "    return \" \".join(tokens)\n",
    "\n",
    "train_df['processed_text'] = train_df.text.apply(process_text)\n",
    "val_df['processed_text'] = val_df.text.apply(process_text)"
   ]
  },
  {
   "cell_type": "code",
   "execution_count": 15,
   "id": "5ec6fa2a",
   "metadata": {},
   "outputs": [
    {
     "name": "stdout",
     "output_type": "stream",
     "text": [
      "going\t35\n",
      "need\t14\n",
      "take\t10\n",
      "late\t10\n",
      "believe\t8\n",
      "think\t8\n",
      "like\t7\n",
      "come\t7\n",
      "get\t6\n",
      "wait\t6\n"
     ]
    }
   ],
   "source": [
    "pos_frequencies_processed = Counter(process_text(pos_all).split())\n",
    "\n",
    "for word, freq in pos_frequencies_processed.most_common(10):\n",
    "    print(\"{}\\t{}\".format(word, freq))"
   ]
  },
  {
   "cell_type": "code",
   "execution_count": 16,
   "id": "2570e731",
   "metadata": {},
   "outputs": [
    {
     "name": "stdout",
     "output_type": "stream",
     "text": [
      "hi\t36\n",
      "wanted\t35\n",
      "good\t26\n",
      "professor\t20\n",
      "need\t17\n",
      "let\t13\n",
      "know\t13\n",
      "next\t10\n",
      "anything\t9\n",
      "morning\t9\n"
     ]
    }
   ],
   "source": [
    "neg_frequencies_processed = Counter(process_text(neg_all).split())\n",
    "\n",
    "for word, freq in neg_frequencies_processed.most_common(10):\n",
    "    print(\"{}\\t{}\".format(word, freq))"
   ]
  },
  {
   "attachments": {},
   "cell_type": "markdown",
   "id": "b4cb4a36",
   "metadata": {},
   "source": [
    "# Naive Bayes Classifier\n",
    "\n",
    "[Scikit-Learn Description](https://scikit-learn.org/stable/modules/naive_bayes.html#:~:text=Naive%20Bayes%20methods%20are%20a,value%20of%20the%20class%20variable.)\n",
    "\n",
    "*Bayes' Theorem:*\n",
    "\n",
    "$P(y|x_1, ..., x_n) = \\frac{P(y)P(x_1, ..., x_n|y)}{P(x_1, ..., x_n)}$ \n",
    "\n",
    "\n",
    "*The naive assumption (conditional independence)*\n",
    "\n",
    "$P(x_i|y, x_1, ..., x_n) = P(x_i|y)$ \n",
    "\n",
    "\n",
    "*Plugging assumtion in*\n",
    "\n",
    "$P(x_i|y, x_1, ..., x_n) \\propto P(y)\\Pi^{n}_{i=1}P(x_i|y)$ \n",
    "\n",
    "\n"
   ]
  },
  {
   "cell_type": "code",
   "execution_count": 17,
   "id": "fa5ea0fa",
   "metadata": {},
   "outputs": [
    {
     "name": "stdout",
     "output_type": "stream",
     "text": [
      "prob pos:  0.571\n",
      "prob neg:  0.429\n"
     ]
    },
    {
     "data": {
      "text/plain": [
       "True"
      ]
     },
     "execution_count": 17,
     "metadata": {},
     "output_type": "execute_result"
    }
   ],
   "source": [
    "# first let's get p(y == 1)\n",
    "# note mean of target is the same as (count of y==1) / (total count)\n",
    "\n",
    "pos_prob = train_df['target'].mean() \n",
    "print('prob pos: ', pos_prob.round(3))\n",
    "\n",
    "# now let's get p(y == 0)\n",
    "# similarly use mean trick to calculate (count of y==0) / (total count)\n",
    "\n",
    "neg_prob = (train_df['target'] == 0 ).mean()\n",
    "print('prob neg: ', neg_prob.round(3))\n",
    "\n",
    "# check for probabilit y distribution (should sum to 1)\n",
    "pos_prob + neg_prob == 1\n",
    "\n",
    "# expected output\n",
    "# prob pos:  0.571\n",
    "# prob neg:  0.429\n",
    "# True"
   ]
  },
  {
   "cell_type": "code",
   "execution_count": 18,
   "id": "98a99b24",
   "metadata": {},
   "outputs": [],
   "source": [
    "# now get P(x_i, y)\n",
    "def prob_wgt(word, target):\n",
    "  if target == 1:\n",
    "    count = pos_frequencies[word]\n",
    "    total = sum(pos_frequencies.values())\n",
    "  if target == 0:\n",
    "    count = neg_frequencies[word]\n",
    "    total = sum(neg_frequencies.values())\n",
    "  # smoothing\n",
    "  if count == 0:\n",
    "    count = 1e-5\n",
    "  return count/total\n",
    "\n",
    "# def prob_wgt(word, target):\n",
    "#   if target == 1:\n",
    "#     count = pos_frequencies_processed[word]\n",
    "#     total = sum(pos_frequencies_processed.values())\n",
    "#   if target == 0:\n",
    "#     count = neg_frequencies_processed[word]\n",
    "#     total = sum(neg_frequencies_processed.values())\n",
    "#   if count == 0:\n",
    "#     count = 1e-5\n",
    "#   return count/total"
   ]
  },
  {
   "cell_type": "code",
   "execution_count": 19,
   "id": "da66f9e7",
   "metadata": {},
   "outputs": [
    {
     "data": {
      "text/plain": [
       "0.0007062146892655367"
      ]
     },
     "execution_count": 19,
     "metadata": {},
     "output_type": "execute_result"
    }
   ],
   "source": [
    "prob_wgt('morning', 1)\n",
    "# 0.0007062146892655367"
   ]
  },
  {
   "cell_type": "code",
   "execution_count": 20,
   "id": "a806dc88",
   "metadata": {},
   "outputs": [
    {
     "data": {
      "text/plain": [
       "0.0056568196103079825"
      ]
     },
     "execution_count": 20,
     "metadata": {},
     "output_type": "execute_result"
    }
   ],
   "source": [
    "prob_wgt('morning', 0)\n",
    "# 0.0056568196103079825"
   ]
  },
  {
   "attachments": {},
   "cell_type": "markdown",
   "id": "2ac19220",
   "metadata": {},
   "source": [
    "Morning is more likely to come from class 0 than lass 1."
   ]
  },
  {
   "cell_type": "code",
   "execution_count": 21,
   "id": "a9c4689c",
   "metadata": {},
   "outputs": [
    {
     "data": {
      "text/plain": [
       "array([1, 0])"
      ]
     },
     "execution_count": 21,
     "metadata": {},
     "output_type": "execute_result"
    }
   ],
   "source": [
    "train_df.target.unique()"
   ]
  },
  {
   "cell_type": "code",
   "execution_count": 22,
   "id": "6a19a29d",
   "metadata": {},
   "outputs": [],
   "source": [
    "def predict_target(text):\n",
    "  probs = {}\n",
    "  for cat in [0,1]:\n",
    "    # print(f'Class: {cat}')\n",
    "    nll = 0\n",
    "    for w in text.split():\n",
    "      nll += -np.log(prob_wgt(w, cat))\n",
    "      # print(f'word: {w}\\t prob: {prob_wgt(w, cat):.5f}\\t current nll: {nll:.2f}')\n",
    "    probs[cat] = nll\n",
    "\n",
    "  # print(probs)\n",
    "  \n",
    "  if (probs[0] - np.log(pos_prob)) < (probs[1] - np.log(pos_prob)):\n",
    "    return 0  \n",
    "  if probs[0] >= probs[1]:\n",
    "    return 1 \n",
    "  \n",
    "  \n"
   ]
  },
  {
   "cell_type": "code",
   "execution_count": 23,
   "id": "bd866d15",
   "metadata": {},
   "outputs": [
    {
     "data": {
      "text/plain": [
       "1"
      ]
     },
     "execution_count": 23,
     "metadata": {},
     "output_type": "execute_result"
    }
   ],
   "source": [
    "predict_target(\"I hate you?\")\n",
    "\n",
    "# Class: 0\n",
    "# word: hate\t prob: 0.00000\t current nll: 18.89\n",
    "# word: you\t prob: 0.03897\t current nll: 22.13\n",
    "# Class: 1\n",
    "# word: hate\t prob: 0.00212\t current nll: 6.16\n",
    "# word: you\t prob: 0.01271\t current nll: 10.52\n",
    "# 1"
   ]
  },
  {
   "cell_type": "code",
   "execution_count": 24,
   "id": "ac833497",
   "metadata": {},
   "outputs": [
    {
     "data": {
      "text/html": [
       "<div>\n",
       "<style scoped>\n",
       "    .dataframe tbody tr th:only-of-type {\n",
       "        vertical-align: middle;\n",
       "    }\n",
       "\n",
       "    .dataframe tbody tr th {\n",
       "        vertical-align: top;\n",
       "    }\n",
       "\n",
       "    .dataframe thead th {\n",
       "        text-align: right;\n",
       "    }\n",
       "</style>\n",
       "<table border=\"1\" class=\"dataframe\">\n",
       "  <thead>\n",
       "    <tr style=\"text-align: right;\">\n",
       "      <th></th>\n",
       "      <th>target</th>\n",
       "      <th>text</th>\n",
       "      <th>processed_text</th>\n",
       "    </tr>\n",
       "  </thead>\n",
       "  <tbody>\n",
       "    <tr>\n",
       "      <th>0</th>\n",
       "      <td>1</td>\n",
       "      <td>I'm so mad at my partner right now. I can't be...</td>\n",
       "      <td>mad partner right believe</td>\n",
       "    </tr>\n",
       "    <tr>\n",
       "      <th>1</th>\n",
       "      <td>1</td>\n",
       "      <td>I'm going to fake being sick tomorrow so I can...</td>\n",
       "      <td>going fake sick tomorrow skip</td>\n",
       "    </tr>\n",
       "    <tr>\n",
       "      <th>2</th>\n",
       "      <td>1</td>\n",
       "      <td>I don't know how to tell my friend that I don'...</td>\n",
       "      <td>know tell friend want hang</td>\n",
       "    </tr>\n",
       "    <tr>\n",
       "      <th>3</th>\n",
       "      <td>1</td>\n",
       "      <td>I can't stand this professor. They have no ide...</td>\n",
       "      <td>stand idea teach</td>\n",
       "    </tr>\n",
       "    <tr>\n",
       "      <th>4</th>\n",
       "      <td>1</td>\n",
       "      <td>I'm going to cheat on this test. I need to pass.</td>\n",
       "      <td>going cheat need</td>\n",
       "    </tr>\n",
       "  </tbody>\n",
       "</table>\n",
       "</div>"
      ],
      "text/plain": [
       "   target                                               text  \\\n",
       "0       1  I'm so mad at my partner right now. I can't be...   \n",
       "1       1  I'm going to fake being sick tomorrow so I can...   \n",
       "2       1  I don't know how to tell my friend that I don'...   \n",
       "3       1  I can't stand this professor. They have no ide...   \n",
       "4       1   I'm going to cheat on this test. I need to pass.   \n",
       "\n",
       "                  processed_text  \n",
       "0      mad partner right believe  \n",
       "1  going fake sick tomorrow skip  \n",
       "2     know tell friend want hang  \n",
       "3               stand idea teach  \n",
       "4               going cheat need  "
      ]
     },
     "execution_count": 24,
     "metadata": {},
     "output_type": "execute_result"
    }
   ],
   "source": [
    "val_df.head()"
   ]
  },
  {
   "cell_type": "code",
   "execution_count": 25,
   "id": "8c935207",
   "metadata": {},
   "outputs": [],
   "source": [
    "train_df['nb_prediction'] = train_df.text.apply(predict_target)\n",
    "val_df['nb_prediction'] = val_df.text.apply(predict_target)\n"
   ]
  },
  {
   "cell_type": "code",
   "execution_count": 26,
   "id": "48de8663",
   "metadata": {},
   "outputs": [
    {
     "name": "stdout",
     "output_type": "stream",
     "text": [
      "train acc:  1.0\n",
      "val acc:    0.9565\n"
     ]
    }
   ],
   "source": [
    "print('train acc: ', (train_df.target == train_df.nb_prediction).mean().round(4))\n",
    "print('val acc:   ', (val_df.target == val_df.nb_prediction).mean().round(4))\n",
    "\n",
    "# train acc:  1.0\n",
    "# val acc:    0.9565"
   ]
  },
  {
   "cell_type": "code",
   "execution_count": 27,
   "id": "9328e0ae",
   "metadata": {},
   "outputs": [
    {
     "data": {
      "text/html": [
       "<div>\n",
       "<style scoped>\n",
       "    .dataframe tbody tr th:only-of-type {\n",
       "        vertical-align: middle;\n",
       "    }\n",
       "\n",
       "    .dataframe tbody tr th {\n",
       "        vertical-align: top;\n",
       "    }\n",
       "\n",
       "    .dataframe thead th {\n",
       "        text-align: right;\n",
       "    }\n",
       "</style>\n",
       "<table border=\"1\" class=\"dataframe\">\n",
       "  <thead>\n",
       "    <tr style=\"text-align: right;\">\n",
       "      <th></th>\n",
       "      <th>0</th>\n",
       "      <th>1</th>\n",
       "    </tr>\n",
       "  </thead>\n",
       "  <tbody>\n",
       "    <tr>\n",
       "      <th>0</th>\n",
       "      <td>76</td>\n",
       "      <td>0</td>\n",
       "    </tr>\n",
       "    <tr>\n",
       "      <th>1</th>\n",
       "      <td>0</td>\n",
       "      <td>101</td>\n",
       "    </tr>\n",
       "  </tbody>\n",
       "</table>\n",
       "</div>"
      ],
      "text/plain": [
       "    0    1\n",
       "0  76    0\n",
       "1   0  101"
      ]
     },
     "execution_count": 27,
     "metadata": {},
     "output_type": "execute_result"
    }
   ],
   "source": [
    "from sklearn.metrics import confusion_matrix\n",
    "\n",
    "pd.DataFrame(confusion_matrix(train_df.target, train_df.nb_prediction))\n"
   ]
  },
  {
   "cell_type": "code",
   "execution_count": 28,
   "id": "3e3a7303",
   "metadata": {},
   "outputs": [
    {
     "data": {
      "text/html": [
       "<div>\n",
       "<style scoped>\n",
       "    .dataframe tbody tr th:only-of-type {\n",
       "        vertical-align: middle;\n",
       "    }\n",
       "\n",
       "    .dataframe tbody tr th {\n",
       "        vertical-align: top;\n",
       "    }\n",
       "\n",
       "    .dataframe thead th {\n",
       "        text-align: right;\n",
       "    }\n",
       "</style>\n",
       "<table border=\"1\" class=\"dataframe\">\n",
       "  <thead>\n",
       "    <tr style=\"text-align: right;\">\n",
       "      <th></th>\n",
       "      <th>0</th>\n",
       "      <th>1</th>\n",
       "    </tr>\n",
       "  </thead>\n",
       "  <tbody>\n",
       "    <tr>\n",
       "      <th>0</th>\n",
       "      <td>20</td>\n",
       "      <td>0</td>\n",
       "    </tr>\n",
       "    <tr>\n",
       "      <th>1</th>\n",
       "      <td>2</td>\n",
       "      <td>24</td>\n",
       "    </tr>\n",
       "  </tbody>\n",
       "</table>\n",
       "</div>"
      ],
      "text/plain": [
       "    0   1\n",
       "0  20   0\n",
       "1   2  24"
      ]
     },
     "execution_count": 28,
     "metadata": {},
     "output_type": "execute_result"
    }
   ],
   "source": [
    "pd.DataFrame(confusion_matrix(val_df.target, val_df.nb_prediction))"
   ]
  },
  {
   "cell_type": "code",
   "execution_count": 29,
   "id": "b5639da0",
   "metadata": {},
   "outputs": [
    {
     "data": {
      "text/html": [
       "<div>\n",
       "<style scoped>\n",
       "    .dataframe tbody tr th:only-of-type {\n",
       "        vertical-align: middle;\n",
       "    }\n",
       "\n",
       "    .dataframe tbody tr th {\n",
       "        vertical-align: top;\n",
       "    }\n",
       "\n",
       "    .dataframe thead th {\n",
       "        text-align: right;\n",
       "    }\n",
       "</style>\n",
       "<table border=\"1\" class=\"dataframe\">\n",
       "  <thead>\n",
       "    <tr style=\"text-align: right;\">\n",
       "      <th></th>\n",
       "      <th>text</th>\n",
       "      <th>target</th>\n",
       "      <th>nb_prediction</th>\n",
       "    </tr>\n",
       "  </thead>\n",
       "  <tbody>\n",
       "    <tr>\n",
       "      <th>12</th>\n",
       "      <td>I hate my in-laws. They drive me crazy every t...</td>\n",
       "      <td>1</td>\n",
       "      <td>0</td>\n",
       "    </tr>\n",
       "    <tr>\n",
       "      <th>25</th>\n",
       "      <td>I'm going to talk badly about my friend to our...</td>\n",
       "      <td>1</td>\n",
       "      <td>0</td>\n",
       "    </tr>\n",
       "  </tbody>\n",
       "</table>\n",
       "</div>"
      ],
      "text/plain": [
       "                                                 text  target  nb_prediction\n",
       "12  I hate my in-laws. They drive me crazy every t...       1              0\n",
       "25  I'm going to talk badly about my friend to our...       1              0"
      ]
     },
     "execution_count": 29,
     "metadata": {},
     "output_type": "execute_result"
    }
   ],
   "source": [
    "val_df[val_df.target != val_df.nb_prediction][['text', 'target', 'nb_prediction']]\n"
   ]
  },
  {
   "cell_type": "code",
   "execution_count": 30,
   "id": "99b8bedd",
   "metadata": {},
   "outputs": [
    {
     "data": {
      "text/plain": [
       "\"I'm going to talk badly about my friend to our mutual friends. They need to know the truth.\""
      ]
     },
     "execution_count": 30,
     "metadata": {},
     "output_type": "execute_result"
    }
   ],
   "source": [
    "val_df[val_df.target != val_df.nb_prediction].text[25]\n"
   ]
  },
  {
   "cell_type": "code",
   "execution_count": 31,
   "id": "2598f687",
   "metadata": {},
   "outputs": [
    {
     "data": {
      "text/plain": [
       "0"
      ]
     },
     "execution_count": 31,
     "metadata": {},
     "output_type": "execute_result"
    }
   ],
   "source": [
    "# predict_target(\"I'm going to skip work\")\n",
    "predict_target(\"Hi I'm running into some issues.\")\n"
   ]
  },
  {
   "attachments": {},
   "cell_type": "markdown",
   "id": "fc07e316",
   "metadata": {},
   "source": [
    "## TF-IDF w/Random Forest"
   ]
  },
  {
   "cell_type": "code",
   "execution_count": 32,
   "id": "bd641c8e",
   "metadata": {},
   "outputs": [
    {
     "data": {
      "text/plain": [
       "<177x459 sparse matrix of type '<class 'numpy.float64'>'\n",
       "\twith 1293 stored elements in Compressed Sparse Row format>"
      ]
     },
     "execution_count": 32,
     "metadata": {},
     "output_type": "execute_result"
    }
   ],
   "source": [
    "from sklearn.feature_extraction.text import TfidfVectorizer\n",
    "from sklearn.ensemble import RandomForestClassifier\n",
    "\n",
    "vectorizer = TfidfVectorizer(stop_words='english')\n",
    "X = vectorizer.fit_transform(train_df.text)\n",
    "# X = vectorizer.fit_transform(train_df.processed_text)\n",
    "X"
   ]
  },
  {
   "cell_type": "code",
   "execution_count": 33,
   "id": "dfc2055c",
   "metadata": {},
   "outputs": [],
   "source": [
    "X_tfidf_val = vectorizer.transform(val_df.text)"
   ]
  },
  {
   "cell_type": "code",
   "execution_count": 34,
   "id": "0eb66574",
   "metadata": {},
   "outputs": [
    {
     "data": {
      "text/plain": [
       "(177, 3)"
      ]
     },
     "execution_count": 34,
     "metadata": {},
     "output_type": "execute_result"
    }
   ],
   "source": [
    "# visualize TF-IDF with PCA\n",
    "from sklearn.decomposition import PCA\n",
    "import plotly.express as px\n",
    "\n",
    "pca = PCA(n_components=3)\n",
    "components = pca.fit_transform(X.toarray())\n",
    "components.shape"
   ]
  },
  {
   "cell_type": "code",
   "execution_count": 35,
   "id": "b43a08e0",
   "metadata": {},
   "outputs": [
    {
     "data": {
      "application/vnd.plotly.v1+json": {
       "config": {
        "plotlyServerURL": "https://plot.ly"
       },
       "data": [
        {
         "diagonal": {
          "visible": false
         },
         "dimensions": [
          {
           "axis": {
            "matches": true
           },
           "label": "PC 1 (2.9%)",
           "values": [
            -0.08215276174763005,
            -0.0019895390309659896,
            -0.07254489645204631,
            -0.016011401200586202,
            0.011604668834673803,
            -0.019188845922038327,
            -0.02380440976267809,
            -0.002131876375368892,
            -0.06839950910969124,
            -0.10325226712079189,
            -0.0011035270170977793,
            -0.03564334682723287,
            -0.00857447779819294,
            -0.06212872962758435,
            0.009437717532326024,
            -0.24482190189393177,
            0.00501103526391137,
            -0.07245837752507256,
            -0.12246118411954848,
            -0.10038355822100824,
            -0.02118751101351531,
            -0.04670335683396619,
            0.02293695804926216,
            0.02555268663914872,
            -0.2382726114702541,
            -0.2030437644985891,
            -0.1756650808380607,
            -0.10783400354732885,
            -0.17053124386802104,
            -0.09459781048934161,
            -0.10493769052235999,
            -0.17955638490290796,
            -0.17564275278405908,
            -0.17427954181524097,
            -0.20866091562951294,
            -0.08543998312458309,
            -0.1723262672586714,
            0.07023642604846862,
            -0.09584725057988903,
            -0.17919288375394568,
            0.03286987241807774,
            -0.08771066231836996,
            -0.18158554051790832,
            -0.1848383151019429,
            0.09154288695886408,
            -0.1581249409997135,
            -0.08563488943998863,
            -0.17955638490290798,
            -0.048988884304700886,
            -0.010797231882497645,
            -0.10194904625172661,
            -0.1151275514791487,
            -0.24320519231322202,
            -0.24160010858512318,
            -0.014658072049991776,
            -0.040877397562615464,
            -0.030175935089515868,
            0.04872182487302633,
            0.1850520818057671,
            -0.06545887445004263,
            -0.018407434930151467,
            -0.0471111953277376,
            0.026205776543942745,
            0.047627230941142594,
            -0.10799223883509737,
            -0.10505834835181087,
            -0.26076829944183033,
            0.04113906805392782,
            -0.14029733564893074,
            -0.20640936200396026,
            -0.07444561513092574,
            -0.21413763427303872,
            0.007613846920440036,
            -0.20504557231183387,
            -0.04091757425711039,
            -0.09011650574206388,
            -0.14361525978998588,
            -0.3930542256639537,
            -0.10018167303405057,
            -0.13795561263441522,
            -0.22753594810876354,
            -0.3136309520940768,
            -0.19024028636058038,
            -0.10091102466099351,
            -0.01016386405093187,
            -0.12984618431874786,
            -0.010493830223223945,
            -0.31651215883604983,
            -0.15291753990349272,
            -0.1446686484404528,
            -0.22753594810876349,
            -0.12392543777648578,
            -0.08283094414124323,
            -0.04204483091286503,
            -0.07446753541674084,
            -0.011979815057784567,
            -0.37535893898253386,
            -0.09985684396302501,
            -0.090172920978944,
            -0.06906656835759066,
            -0.10799223883509738
           ]
          },
          {
           "axis": {
            "matches": true
           },
           "label": "PC 2 (2.3%)",
           "values": [
            0.05691941697415572,
            0.1100055603093434,
            -0.000868998776314304,
            -0.011040360619433049,
            0.10116997370628524,
            -0.03590435399276561,
            0.15465379752267897,
            0.12303512105257294,
            -0.008962513429233912,
            0.06891999978096877,
            -0.14179290391078747,
            -0.008257052685246204,
            0.16009639950466734,
            0.011266415670061208,
            0.05576591835450969,
            0.07606299262373248,
            0.040042568645794495,
            -0.004729024700200427,
            0.1747431266077679,
            -0.16603040090387983,
            0.09389951093888513,
            0.026905462235459972,
            0.025834940942161724,
            -0.10221806358748181,
            0.06054368195300813,
            -0.08790243144714485,
            0.06554145697729291,
            0.021172360377563846,
            0.037357955045872304,
            0.19192689327670026,
            0.0708492854232978,
            -0.0319603784153382,
            0.048918068893602375,
            -0.02760340138733911,
            0.058490091553724546,
            0.07227064890758311,
            0.03602336348716655,
            0.13207985402215444,
            0.01704682129639006,
            -0.022968389424243618,
            0.0433135006216966,
            0.023670629593357195,
            0.07366893671712307,
            -0.037415439540485214,
            0.11169656062700171,
            0.030507463678466934,
            0.016530063616377023,
            -0.03196037841533821,
            0.11179327502834693,
            0.06440401414128691,
            0.018746420368547193,
            0.05206151163314357,
            -0.04032024900565969,
            0.03879703652212593,
            -0.16021669610332703,
            -0.01813795889758103,
            -0.0016497634060085315,
            0.11237183564724214,
            0.16086677986490444,
            -0.030951958633643632,
            -0.010955548308362355,
            -0.002033955355290765,
            -0.0834893559060348,
            0.04660496317993305,
            0.1938275503406886,
            0.03887851658471734,
            0.15566156601580555,
            0.16975523715904375,
            0.19916461779373665,
            0.054609714510475055,
            -0.006006421959177333,
            0.07174273831011342,
            0.14437929619102036,
            0.05394942227277053,
            -0.006543405047123126,
            0.06805418457993721,
            0.01073564412848109,
            0.12319912795539384,
            0.031809792211767184,
            0.06563205276104436,
            0.2474075932798766,
            -0.0024200251638819953,
            0.023005633226213112,
            0.07562732680171569,
            -0.053844187007210866,
            0.0027150160173422537,
            -0.08989119924687956,
            0.06127895873582525,
            -0.024773886261225262,
            0.03858973542726993,
            0.24740759327987644,
            -0.06276536475510174,
            -0.048425883664648985,
            -0.016228041424785164,
            0.07345305686819721,
            0.032987330366713495,
            0.12033228930557573,
            0.07882236997619049,
            0.014545580442591181,
            -0.05722353904944127,
            0.1938275503406886
           ]
          },
          {
           "axis": {
            "matches": true
           },
           "label": "PC 3 (2.2%)",
           "values": [
            0.07744558806362904,
            -0.2546157825668922,
            0.10782096611727288,
            0.1243510070174084,
            0.04039702109419511,
            0.06115467501302855,
            0.05756564579991093,
            0.0012716550084448189,
            0.08256670611820119,
            -0.02957549621741222,
            -0.023103889944505927,
            0.07582236617121732,
            0.01793978299210349,
            0.08309912048108997,
            0.08823464233002563,
            -0.11900168106159141,
            0.06015208524818825,
            0.10965506354695219,
            -0.10234205834984077,
            -0.01501282822853142,
            0.12587825121324045,
            0.0788682320007203,
            0.11620558819266513,
            -0.27749143781796876,
            -0.09714320338045623,
            -0.007133911488419885,
            -0.06237593361659891,
            0.2606338403806146,
            -0.06387409807902757,
            -0.206558989713712,
            -0.016034775458031763,
            -0.03798764080543272,
            -0.05644490675132485,
            -0.029400043511123235,
            -0.11621408852970343,
            -0.04496739037698667,
            -0.06092668512242062,
            0.06309339570679079,
            0.22708223545979764,
            -0.03392282936120836,
            0.08605139156376737,
            0.22266709140039978,
            -0.07744166361960282,
            0.026053135311397194,
            0.06176040719069086,
            -0.04939684497463234,
            0.20669618159695538,
            -0.037987640805432814,
            0.08630718809586367,
            0.09849553482904108,
            0.24739900908237414,
            -0.09373367131144057,
            -0.07356567444582073,
            -0.0904821189698306,
            -0.08716876494450929,
            0.10309401945102177,
            0.08206576608610987,
            0.051220085475493754,
            -0.04309948927164112,
            0.02581635452180737,
            0.11594897195528008,
            0.0884295200524256,
            -0.028995454514150983,
            0.054797254503679706,
            0.05296064345193954,
            0.056337970672233964,
            -0.20051397843809987,
            -0.0011903332600366493,
            -0.1624784560926051,
            -0.07683538181266218,
            0.14750897396163198,
            -0.036796471075280404,
            0.025338926768300105,
            -0.030129357424603556,
            0.07255774387261078,
            -0.0021115188168777826,
            -0.046191237385986655,
            -0.23739908174597685,
            0.031594197034591626,
            -0.0007256744526659308,
            -0.3067169250078487,
            -0.17806204320255722,
            -0.015182970823515081,
            -0.001636331962423863,
            0.06823770333035614,
            -0.015349880843236746,
            -0.14360782170864908,
            -0.20451166583738298,
            -0.011009112360499828,
            -0.10649708031936601,
            -0.30671692500784864,
            -0.06325004862615508,
            0.010856839635797784,
            0.12427001815592983,
            -0.04277997471741195,
            0.0735271427778619,
            -0.2375773814105477,
            0.09487498481966103,
            0.16301528340269558,
            0.0994600999617418,
            0.05296064345193962
           ]
          }
         ],
         "hovertemplate": "<b>%{hovertext}</b><br><br>color=1<br>%{xaxis.title.text}=%{x}<br>%{yaxis.title.text}=%{y}<extra></extra>",
         "hovertext": [
          "I can't stand working for this jerk. I'm so done with this job.",
          "I don't know how we're going to get this project done. My team is useless.",
          "I'm so bored. Can't wait to get out of here and go home.",
          "I'm calling in sick tomorrow. I can't handle another day of this.",
          "I just got offered a job with better pay and benefits. Should I take it?",
          "This meeting is such a waste of time. I have better things to do.",
          "I hate having to pretend like I care about this project. It's pointless.",
          "I wish I could just quit and travel the world instead of being stuck here.",
          "I'm so tired of my coworkers' drama. I can't wait to leave this toxic environment.",
          "I don't understand why my boss is so obsessed with micromanaging everything.",
          "I'm counting down the minutes until I can leave this place for good.",
          "I can't handle the workload anymore. Something needs to change.",
          "I just heard that the company is going bankrupt. I need to start looking for a new job.",
          "I can't believe how unprofessional my coworker is being right now.",
          "I'm so over this job. I need to find something that actually makes me happy.",
          "I'm too hungover to come in today.",
          "Can I get a raise? I need to pay off some gambling debts.",
          "Hey, can I borrow some money? I spent all mine on partying last night.",
          "I don't feel like working today. Can I just take a mental health day?",
          "I'm running late because I overslept. Can you cover for me?",
          "I'm not feeling well, but it's probably just from all the drinking I did last night.",
          "I'm quitting. This job sucks.",
          "I accidentally sent that email to the wrong person. Can you help me fix it?",
          "I don't know how to do this task. Can you do it for me?",
          "Sorry, I can't come in today. I'm going to be busy smoking weed.",
          "I'm going to be late because I'm stuck in traffic. I shouldn't have stayed up so late partying last night.",
          "I'm too tired to come in today. Can I take a nap instead?",
          "I'm not feeling well. I think I might have caught something from one of my many one-night stands.",
          "Can I leave early today? I have a hot date tonight.",
          "I don't want to work today. Can we just go out and get drunk instead?",
          "I need to take a break. I'm going to go smoke a joint.",
          "I'm going to be late because I'm waiting for my drug dealer to show up.",
          "I'm too busy watching Netflix to come in today.",
          "I'm going to be late because I'm stuck in line at the liquor store.",
          "I'm too hungover to do anything today.",
          "I'm not coming in today. I have to go to court for my DUI.",
          "Can I leave early today? I have a poker game tonight.",
          "I need to take a sick day. My girlfriend just dumped me.",
          "I'm not feeling well. I think I have food poisoning from that sushi I had last night.",
          "I'm going to be late because I forgot my keys and I had to break into my own apartment.",
          "I need to take a day off. My ex is stalking me and I need to file a restraining order.",
          "I'm not feeling well. I think I have a hangover.",
          "I can't come in today. My car broke down and I don't have any money to fix it.",
          "I'm going to be late because I overslept. I was up all night playing video games.",
          "I need to take a personal day. I just found out my dog has cancer.",
          "Can I leave early today? I have a golf game scheduled.",
          "I'm not feeling well. I think I ate something bad.",
          "I'm going to be late because I have to drop my kid off at daycare.",
          "I can't come in today. My roommate is having a party and I need to help clean up.",
          "I need to take a mental health day. I'm really stressed out.",
          "I'm not feeling well. I think I caught something from that girl I hooked up with last night.",
          "Can I leave early today? I have a date tonight and I need to get ready.",
          "I'm going to be late because I have a dentist appointment.",
          "I can't come in today. I have a doctor's appointment.",
          "Good morning beautiful. I hope you have an amazing day today.",
          "I miss you so much already. Can't wait to see you later.",
          "You're the best thing that ever happened to me. I love you more than anything.",
          "I'm so grateful for you and everything you do for me. Thank you for being my partner.",
          "Just wanted to remind you how much I love you and how lucky I am to have you in my life.",
          "I can't stop thinking about you. You make my heart skip a beat.",
          "You're my sunshine on a cloudy day. Love you always.",
          "I feel so blessed to have you as my girlfriend. I can't wait to create more amazing memories together.",
          "You're the most beautiful person I know, both inside and out. Love you to the moon and back.",
          "You make me a better person. Thank you for being my inspiration and motivation.",
          "I'm going to tell the boss what I really think about this project. It's a disaster.",
          "Did you hear about that coworker's personal life? I can't believe it. I'm going to gossip about it at lunch.",
          "I'm going to sneak out of work early today. Don't tell anyone.",
          "I can't believe they put us on this project together. I can't work with them. They're so incompetent.",
          "I'm not doing any work today. I'm just going to pretend like I am and hope no one notices.",
          "I'm going to take a long lunch break today. Maybe even hit up a bar. Want to come?",
          "This is so boring. I can't wait until the day is over so I can go home.",
          "I'm going to play a prank on the boss. It's going to be hilarious.",
          "I hate this job. I wish I could just quit and travel the world.",
          "I can't believe how boring this class is. I'm going to fall asleep.",
          "I didn't study at all for this test. I'm screwed.",
          "I'm going to cheat on this test. I need to pass.",
          "This teacher is terrible. I'm not learning anything in this class.",
          "I'm going to skip class today. It's not like anything important is going to happen.",
          "I can't stand this teacher's voice. It's like nails on a chalkboard.",
          "I'm going to complain to the principal about this teacher. They're not doing their job right.",
          "I don't care about this class. I'm just going to wing it.",
          "I'm going to be late to class today. Hopefully, the teacher won't notice.",
          "I'm going to argue with the teacher about their grading. They're being unfair.",
          "I can't believe how useless this lecture is. I'm never going to use any of this information.",
          "I didn't do the assignment because I had better things to do.",
          "I'm going to copy and paste this entire paper from the internet. It's not like the professor will notice.",
          "This professor is terrible. They don't even know how to teach properly.",
          "I'm going to skip class today. This class is not worth my time.",
          "I'm going to argue with the professor about their grading. They're being unfair.",
          "I don't understand why I have to take this class. It's a waste of my time.",
          "I don't care about this class. I'm just going to wing it.",
          "I'm not going to attend the office hours. The professor doesn't even care about their students.",
          "I'm going to write a bad review about this professor on RateMyProfessor. They deserve it.",
          "I can't wait to get out of here. This family is driving me insane.",
          "I hate my job. I don't want to go back there tomorrow.",
          "I can't believe how much weight I've gained. I need to start dieting ASAP.",
          "I'm going to skip class today. It's not like it's important anyway.",
          "I can't believe what a jerk my boss is. I'm so sick of working here.",
          "I had such a wild night last night. You wouldn't believe what happened.",
          "I think I have a crush on someone in the office. I can't stop thinking about them.",
          "I'm going to tell the boss what I really think about this project. It's a disaster."
         ],
         "legendgroup": "1",
         "marker": {
          "color": "#636efa",
          "symbol": "circle"
         },
         "name": "1",
         "showlegend": true,
         "type": "splom"
        },
        {
         "diagonal": {
          "visible": false
         },
         "dimensions": [
          {
           "axis": {
            "matches": true
           },
           "label": "PC 1 (2.9%)",
           "values": [
            0.37839284750199964,
            -0.0673755738212518,
            0.059277344810550546,
            0.06880025801523663,
            0.07865569196378613,
            0.016721288987821933,
            0.06418145280377206,
            0.059275995109791334,
            -0.04195087480747233,
            0.39973399945882804,
            0.28553412969806546,
            0.2727781694039795,
            -0.1878811021087116,
            0.19498609197468814,
            0.07608761567748566,
            0.16046818432532914,
            -0.22670500720224132,
            -0.014616015116750007,
            0.2828002921998732,
            0.0747272219467835,
            0.2693587680237964,
            0.08119668639699504,
            0.4365491486470799,
            -0.07516540837877575,
            0.18561436280501142,
            0.27229717846603735,
            0.26598308421697286,
            0.0931255835390417,
            0.13840488925938768,
            0.01971356019125619,
            0.1759871524298846,
            0.18019555151232491,
            0.1371691883544131,
            0.18539993369330102,
            0.377225683528725,
            0.04640907208305616,
            0.07341776355683907,
            0.45278237432921487,
            0.3022124409157732,
            0.1782821044080924,
            -0.10348086003015965,
            0.0299656173582169,
            0.273754890302158,
            0.4757101224487387,
            0.023290368442851716,
            0.2311597388650738,
            0.11334279377578496,
            0.38756975608948024,
            0.06323405351464163,
            -0.08478913509750753,
            0.06629935911761464,
            0.377225683528725,
            0.1801955515123249,
            -0.019366671857339125,
            0.09191241654722132,
            0.2711293054369468,
            0.28039012484668474,
            -0.22598009687084272,
            0.019970930077576627,
            0.39768558439800644,
            0.1854511641256045,
            0.07207350646287501,
            -0.043533693807643034,
            0.05744558082021655,
            0.09415127785933111,
            0.028959133447177515,
            0.1984944426242795,
            0.1316784755282181,
            0.06839960038395661,
            -0.0382200337122845,
            0.11892309968424591,
            0.09986709237540048,
            0.17997182083665456,
            -0.02834911068034853,
            0.040079302186394106,
            0.0785106366131679
           ]
          },
          {
           "axis": {
            "matches": true
           },
           "label": "PC 2 (2.3%)",
           "values": [
            -0.12413794890391572,
            -0.34356128426164695,
            -0.009316993946431611,
            0.11693102853746128,
            -0.13305069080203735,
            -0.07657552312097628,
            0.04070386303228138,
            -0.22921042878762019,
            -0.08869766886422316,
            0.4160291817093338,
            0.1897085313329892,
            -0.05704497379720697,
            0.013028285112687487,
            -0.08129633635324424,
            -0.20322807748900057,
            -0.12422786949444131,
            0.14025351902827643,
            -0.3312272834375664,
            -0.11417585018979497,
            -0.01113207166352472,
            -0.31420893459379107,
            -0.01255487451282905,
            0.4913964713580335,
            -0.06614986752067281,
            -0.342697694267681,
            0.13888702803956926,
            0.011240838855570753,
            -0.07473462169406621,
            -0.15138819760744024,
            -0.19774211654099258,
            -0.26648000612726513,
            -0.07882271156382785,
            -0.13001955842853474,
            -0.1559920670589865,
            0.37486239583036346,
            -0.06947585849834027,
            -0.06567813804472582,
            0.03528193714054411,
            -0.2541561846810932,
            0.16175106353010438,
            -0.1196116211711165,
            -0.14231228887405908,
            -0.07376307066830014,
            0.5166026090529707,
            -0.06266999306179193,
            -0.4037058074675078,
            -0.014498435267252151,
            0.33604364944894355,
            -0.09927125273477433,
            -0.009468418298378018,
            -0.10254013848769315,
            0.3748623958303634,
            -0.07882271156382788,
            -0.19622680691976185,
            0.011237509241607378,
            0.31720509663856283,
            -0.23923234873721788,
            -0.06940008873127282,
            -0.21763826590631868,
            0.35042955072730897,
            -0.39566811235930466,
            -0.09573692673490865,
            -0.17527511073546898,
            -0.1314008608102548,
            -0.24577109130454347,
            -0.08669189810627394,
            -0.12998362115026516,
            -0.2034616543226501,
            -0.16205252381174926,
            -0.0712864908155143,
            -0.09105608762073016,
            -0.04322767658540315,
            -0.19454152203963518,
            -0.07131505719588216,
            -0.18289203832250425,
            0.02756815583385372
           ]
          },
          {
           "axis": {
            "matches": true
           },
           "label": "PC 3 (2.2%)",
           "values": [
            -0.29752517964433794,
            -0.21978205987915966,
            0.38008985432959597,
            -0.012500261584735531,
            0.0949328283483596,
            0.05587847444589848,
            0.04808483446804699,
            -0.24338400162668528,
            -0.010169311855092282,
            -0.06385809510237342,
            -0.15932429055755232,
            -0.12848424752714968,
            -0.09238406778797013,
            -0.18462734845962267,
            0.020058493799349656,
            0.11408816786221478,
            -0.11969581740242066,
            -0.0649075799347088,
            -0.16044682879725358,
            0.1411480513496966,
            -0.29973737222045876,
            0.4401227867976082,
            -0.09072637908220876,
            0.03875999602743192,
            -0.1593670461080629,
            0.06287205493964011,
            -0.1180659500724007,
            0.23951736795955786,
            -0.06739660775242393,
            0.011430674242339536,
            -0.304878276061865,
            0.18002441498384145,
            0.0694297594828265,
            0.04635696657968015,
            -0.09304129408132256,
            0.4423078528166639,
            0.07909062183163769,
            -0.157225277514998,
            -0.2754286856640376,
            -0.05283306633705863,
            0.051765643556101706,
            0.024582072091611333,
            0.026134836869032042,
            -0.06581996877351777,
            0.4132664249535991,
            -0.2116125266931776,
            0.2457926812783983,
            -0.11783739145964443,
            0.14384727647704584,
            -0.07641944800211199,
            0.19689892425602934,
            -0.09304129408132256,
            0.18002441498384145,
            -0.11212715980337433,
            0.37814879249645533,
            -0.08966107393700083,
            -0.13091139252891024,
            -0.10549459022537484,
            -0.041337563193172715,
            0.01250702066458637,
            -0.1904850278168019,
            0.29402568632766524,
            -0.10843060778070916,
            0.10796528304338666,
            -0.06954502564077171,
            0.33663551639841294,
            -0.07686423343167723,
            -0.14728881277548628,
            -0.005527604035985582,
            0.12511979587018213,
            0.04751441551260512,
            0.005698919086935247,
            -0.11014513519132738,
            0.22936933081831715,
            0.04424455139414994,
            -0.025669190717086742
           ]
          }
         ],
         "hovertemplate": "<b>%{hovertext}</b><br><br>color=0<br>%{xaxis.title.text}=%{x}<br>%{yaxis.title.text}=%{y}<extra></extra>",
         "hovertext": [
          "Hi just wanted to let you know that I finished the project and it's ready for your review. Let me know if you need anything else from me.",
          "Good morning I'm running a few minutes late today due to traffic. I should be in the office by",
          "Hi I'm having trouble accessing the company database. Are you available to help troubleshoot the issue?",
          "Just a reminder that we have a team meeting attoday. Looking forward to seeing you there.",
          "Hi I need to take a personal day tomorrow. I've already notified and I will make sure to complete any outstanding tasks before I leave.",
          "Thanks for your feedback on the report. I've made the changes you suggested and will send the updated version to you shortly.",
          "Can we schedule a quick call to discuss the new project? I have some ideas I'd like to run by you.",
          "Good luck with the presentation today! Let me know how it goes.",
          "I'm not feeling well today and won't be able to make it into the office. I'll be available by email or phone if you need me.",
          "Just wanted to say thank you for your help on the project. I couldn't have done it without you!",
          "Hi just wanted to check in and see if you need anything from me today.",
          "Good morning I wanted to update you on the progress of the project. We're on track to meet the deadline.",
          "Hi I'm going to be out of the office today for a doctor's appointment. Is there anything urgent you need me to take care of before I go?",
          "Just wanted to let you know that I completed the training module and passed the quiz. Thanks for assigning it to me!",
          "Good afternoon can we schedule a meeting to discuss the budget for next quarter?",
          "Hi I wanted to share an idea I have for improving our customer service. When would be a good time to talk about it?",
          "I'm going to be working from home today. Is there anything you need me to take care of remotely?",
          "Hi I'm running late this morning due to traffic. I should be in the office by",
          "Just wanted to check in and make sure you received the report I sent yesterday. Let me know if you have any questions or feedback.",
          "Hi I need to take a personal day next week for a family event. Is there anything you need me to take care of before I go?",
          "Good morning I wanted to let you know that I finished the task you assigned me and it's ready for your review.",
          "Hi I'm having trouble with my computer. Can you or IT help me troubleshoot the issue?",
          "Just wanted to say thank you for your guidance on the project. I appreciate your support.",
          "Hi I'm going to be in a meeting for the next hour. Can I follow up with you afterwards?",
          "Good afternoon I wanted to let you know that I'll be out of the office for a training seminar next week. I've already coordinated withto cover my responsibilities.",
          "Hi I wanted to remind you that our team is presenting the new project to the client tomorrow. Is there anything else you need from me before then?",
          "Just wanted to check in and make sure we're still on track for our meeting tomorrow at",
          "Hi I received a request from a client for a new product feature. Can we discuss it further?",
          "Good morning I wanted to give you an update on the sales numbers for last quarter. We exceeded our target by",
          "Hi I'm going to be on vacation next week. I'll make sure to complete all outstanding tasks before I go.",
          "Just wanted to let you know that I'm running a few minutes late this morning due to an unexpected delay. I should be in the office by",
          "Hi I wanted to share some positive feedback we received from a client. They were very happy with the service we provided.",
          "Good afternoon I wanted to request a day off next month for a personal event. Is that possible?",
          "Hi I wanted to discuss my performance evaluation with you. When would be a good time to do that?",
          "Just wanted to remind you that the deadline for the project is coming up. Do you need any additional information or support from me?",
          "Hi I'm having trouble with a difficult customer",
          "Hi can you send me the latest version of the presentation? I need to review it before the meeting tomorrow.",
          "Good morning I wanted to check in and see if you need any help with the project.",
          "Hi I wanted to let you know that I completed my part of the task. Let me know if you need anything else from me.",
          "Just wanted to remind you that we have a team meeting attoday. Looking forward to seeing you there.",
          "Hi I'm going to be out of the office tomorrow for a doctor's appointment. Can you cover my responsibilities for the day?",
          "Good afternoon can you send me the file with the data we discussed earlier?",
          "Hi I wanted to discuss some ideas I have for the project. When would be a good time to talk about it?",
          "Just wanted to say thank you for your help on the project. I appreciate your support.",
          "Hi I'm having trouble with my computer. Do you have any suggestions on how to fix it?",
          "Good morning I wanted to let you know that I'll be out of the office for a training seminar next week. I'll make sure to complete all outstanding tasks before I go.",
          "Hi I received a request from a client for a new product feature. Can you help me research it?",
          "Just wanted to check in and see how you're doing on the project. Do you need any support or resources?",
          "Hi can you review the document I sent and give me your feedback by the end of the day?",
          "Good afternoon I'm going to be working from home tomorrow. Is there anything you need me to take care of remotely?",
          "Hi I need to take a personal day next week for a family event. Can you cover my responsibilities for the day?",
          "Just wanted to remind you that the deadline for the project is coming up. Do you need any additional information or support from me?",
          "Hi I wanted to share some positive feedback we received from a client. They were very happy with the service we provided.",
          "Good morning I'm going to be in a meeting for the next hour. Can I follow up with you afterwards?",
          "Hi I'm having trouble with a difficult customer. Can you offer any advice or support?",
          "Just wanted to say thank you for your hard work on the project. We're making great progress together.",
          "Good morning, Professor I wanted to check in and see if you had any feedback on my recent assignment.",
          "Hi Professor I'm going to be late to class today due to unforeseen circumstances. I will be there as soon as I can.",
          "Good afternoon, Professor I had a question about the reading assignment. Could we discuss it after class?",
          "Hi Professor I just wanted to say thank you for your guidance and support this semester. I appreciate your help.",
          "Good morning, Professor Could you let me know if there are any updates or changes to the schedule for this week?",
          "Hi Professor I'm having trouble understanding the concepts in this week's lecture. Do you have any additional resources or suggestions?",
          "Good afternoon, Professor I'm sorry to inform you that I won't be able to attend class today due to illness. I will make sure to catch up on the missed material.",
          "Hi Professor I was wondering if I could schedule some time to discuss my academic progress and future plans with you?",
          "Good morning, Professor Could you clarify the requirements for the upcoming assignment? I want to make sure I'm on the right track.",
          "Hi Professor I'm having trouble accessing the course materials online. Is there a solution to this issue?",
          "Good afternoon, Professor I just wanted to inform you that I'll be submitting my assignment a bit later than the deadline due to personal circumstances.",
          "Hi Professor I wanted to let you know that I won't be able to attend the lecture tomorrow. Is there anything I should be aware of before the next class?",
          "Good morning, Professor I was wondering if you could recommend some additional readings or sources related to the current topic.",
          "Hi Professor I'm really struggling with the class material. Do you have any advice or suggestions for how I can improve my understanding?",
          "Good afternoon, Professor I'm interested in pursuing a research project related to this course. Could we discuss potential ideas and resources?",
          "Hi Professor I just wanted to inform you that I won't be able to attend the final exam due to a medical emergency. Is there a possibility for a makeup exam?",
          "Good morning, Professor I wanted to inform you that I'll be submitting my assignment earlier than the deadline, as I want to receive feedback and improve my work.",
          "Hi Professor I'm having trouble finding the required textbook for this class. Is there a way to access it?",
          "Good afternoon, Professor I was wondering if you could provide some advice on how to prepare for the upcoming exam?",
          "Hi Professor I just wanted to express my appreciation for your passion and dedication to teaching. I'm learning so much from your class."
         ],
         "legendgroup": "0",
         "marker": {
          "color": "#EF553B",
          "symbol": "circle"
         },
         "name": "0",
         "showlegend": true,
         "type": "splom"
        }
       ],
       "layout": {
        "dragmode": "select",
        "legend": {
         "title": {
          "text": "color"
         },
         "tracegroupgap": 0
        },
        "margin": {
         "t": 60
        },
        "template": {
         "data": {
          "bar": [
           {
            "error_x": {
             "color": "#2a3f5f"
            },
            "error_y": {
             "color": "#2a3f5f"
            },
            "marker": {
             "line": {
              "color": "#E5ECF6",
              "width": 0.5
             },
             "pattern": {
              "fillmode": "overlay",
              "size": 10,
              "solidity": 0.2
             }
            },
            "type": "bar"
           }
          ],
          "barpolar": [
           {
            "marker": {
             "line": {
              "color": "#E5ECF6",
              "width": 0.5
             },
             "pattern": {
              "fillmode": "overlay",
              "size": 10,
              "solidity": 0.2
             }
            },
            "type": "barpolar"
           }
          ],
          "carpet": [
           {
            "aaxis": {
             "endlinecolor": "#2a3f5f",
             "gridcolor": "white",
             "linecolor": "white",
             "minorgridcolor": "white",
             "startlinecolor": "#2a3f5f"
            },
            "baxis": {
             "endlinecolor": "#2a3f5f",
             "gridcolor": "white",
             "linecolor": "white",
             "minorgridcolor": "white",
             "startlinecolor": "#2a3f5f"
            },
            "type": "carpet"
           }
          ],
          "choropleth": [
           {
            "colorbar": {
             "outlinewidth": 0,
             "ticks": ""
            },
            "type": "choropleth"
           }
          ],
          "contour": [
           {
            "colorbar": {
             "outlinewidth": 0,
             "ticks": ""
            },
            "colorscale": [
             [
              0,
              "#0d0887"
             ],
             [
              0.1111111111111111,
              "#46039f"
             ],
             [
              0.2222222222222222,
              "#7201a8"
             ],
             [
              0.3333333333333333,
              "#9c179e"
             ],
             [
              0.4444444444444444,
              "#bd3786"
             ],
             [
              0.5555555555555556,
              "#d8576b"
             ],
             [
              0.6666666666666666,
              "#ed7953"
             ],
             [
              0.7777777777777778,
              "#fb9f3a"
             ],
             [
              0.8888888888888888,
              "#fdca26"
             ],
             [
              1,
              "#f0f921"
             ]
            ],
            "type": "contour"
           }
          ],
          "contourcarpet": [
           {
            "colorbar": {
             "outlinewidth": 0,
             "ticks": ""
            },
            "type": "contourcarpet"
           }
          ],
          "heatmap": [
           {
            "colorbar": {
             "outlinewidth": 0,
             "ticks": ""
            },
            "colorscale": [
             [
              0,
              "#0d0887"
             ],
             [
              0.1111111111111111,
              "#46039f"
             ],
             [
              0.2222222222222222,
              "#7201a8"
             ],
             [
              0.3333333333333333,
              "#9c179e"
             ],
             [
              0.4444444444444444,
              "#bd3786"
             ],
             [
              0.5555555555555556,
              "#d8576b"
             ],
             [
              0.6666666666666666,
              "#ed7953"
             ],
             [
              0.7777777777777778,
              "#fb9f3a"
             ],
             [
              0.8888888888888888,
              "#fdca26"
             ],
             [
              1,
              "#f0f921"
             ]
            ],
            "type": "heatmap"
           }
          ],
          "heatmapgl": [
           {
            "colorbar": {
             "outlinewidth": 0,
             "ticks": ""
            },
            "colorscale": [
             [
              0,
              "#0d0887"
             ],
             [
              0.1111111111111111,
              "#46039f"
             ],
             [
              0.2222222222222222,
              "#7201a8"
             ],
             [
              0.3333333333333333,
              "#9c179e"
             ],
             [
              0.4444444444444444,
              "#bd3786"
             ],
             [
              0.5555555555555556,
              "#d8576b"
             ],
             [
              0.6666666666666666,
              "#ed7953"
             ],
             [
              0.7777777777777778,
              "#fb9f3a"
             ],
             [
              0.8888888888888888,
              "#fdca26"
             ],
             [
              1,
              "#f0f921"
             ]
            ],
            "type": "heatmapgl"
           }
          ],
          "histogram": [
           {
            "marker": {
             "pattern": {
              "fillmode": "overlay",
              "size": 10,
              "solidity": 0.2
             }
            },
            "type": "histogram"
           }
          ],
          "histogram2d": [
           {
            "colorbar": {
             "outlinewidth": 0,
             "ticks": ""
            },
            "colorscale": [
             [
              0,
              "#0d0887"
             ],
             [
              0.1111111111111111,
              "#46039f"
             ],
             [
              0.2222222222222222,
              "#7201a8"
             ],
             [
              0.3333333333333333,
              "#9c179e"
             ],
             [
              0.4444444444444444,
              "#bd3786"
             ],
             [
              0.5555555555555556,
              "#d8576b"
             ],
             [
              0.6666666666666666,
              "#ed7953"
             ],
             [
              0.7777777777777778,
              "#fb9f3a"
             ],
             [
              0.8888888888888888,
              "#fdca26"
             ],
             [
              1,
              "#f0f921"
             ]
            ],
            "type": "histogram2d"
           }
          ],
          "histogram2dcontour": [
           {
            "colorbar": {
             "outlinewidth": 0,
             "ticks": ""
            },
            "colorscale": [
             [
              0,
              "#0d0887"
             ],
             [
              0.1111111111111111,
              "#46039f"
             ],
             [
              0.2222222222222222,
              "#7201a8"
             ],
             [
              0.3333333333333333,
              "#9c179e"
             ],
             [
              0.4444444444444444,
              "#bd3786"
             ],
             [
              0.5555555555555556,
              "#d8576b"
             ],
             [
              0.6666666666666666,
              "#ed7953"
             ],
             [
              0.7777777777777778,
              "#fb9f3a"
             ],
             [
              0.8888888888888888,
              "#fdca26"
             ],
             [
              1,
              "#f0f921"
             ]
            ],
            "type": "histogram2dcontour"
           }
          ],
          "mesh3d": [
           {
            "colorbar": {
             "outlinewidth": 0,
             "ticks": ""
            },
            "type": "mesh3d"
           }
          ],
          "parcoords": [
           {
            "line": {
             "colorbar": {
              "outlinewidth": 0,
              "ticks": ""
             }
            },
            "type": "parcoords"
           }
          ],
          "pie": [
           {
            "automargin": true,
            "type": "pie"
           }
          ],
          "scatter": [
           {
            "fillpattern": {
             "fillmode": "overlay",
             "size": 10,
             "solidity": 0.2
            },
            "type": "scatter"
           }
          ],
          "scatter3d": [
           {
            "line": {
             "colorbar": {
              "outlinewidth": 0,
              "ticks": ""
             }
            },
            "marker": {
             "colorbar": {
              "outlinewidth": 0,
              "ticks": ""
             }
            },
            "type": "scatter3d"
           }
          ],
          "scattercarpet": [
           {
            "marker": {
             "colorbar": {
              "outlinewidth": 0,
              "ticks": ""
             }
            },
            "type": "scattercarpet"
           }
          ],
          "scattergeo": [
           {
            "marker": {
             "colorbar": {
              "outlinewidth": 0,
              "ticks": ""
             }
            },
            "type": "scattergeo"
           }
          ],
          "scattergl": [
           {
            "marker": {
             "colorbar": {
              "outlinewidth": 0,
              "ticks": ""
             }
            },
            "type": "scattergl"
           }
          ],
          "scattermapbox": [
           {
            "marker": {
             "colorbar": {
              "outlinewidth": 0,
              "ticks": ""
             }
            },
            "type": "scattermapbox"
           }
          ],
          "scatterpolar": [
           {
            "marker": {
             "colorbar": {
              "outlinewidth": 0,
              "ticks": ""
             }
            },
            "type": "scatterpolar"
           }
          ],
          "scatterpolargl": [
           {
            "marker": {
             "colorbar": {
              "outlinewidth": 0,
              "ticks": ""
             }
            },
            "type": "scatterpolargl"
           }
          ],
          "scatterternary": [
           {
            "marker": {
             "colorbar": {
              "outlinewidth": 0,
              "ticks": ""
             }
            },
            "type": "scatterternary"
           }
          ],
          "surface": [
           {
            "colorbar": {
             "outlinewidth": 0,
             "ticks": ""
            },
            "colorscale": [
             [
              0,
              "#0d0887"
             ],
             [
              0.1111111111111111,
              "#46039f"
             ],
             [
              0.2222222222222222,
              "#7201a8"
             ],
             [
              0.3333333333333333,
              "#9c179e"
             ],
             [
              0.4444444444444444,
              "#bd3786"
             ],
             [
              0.5555555555555556,
              "#d8576b"
             ],
             [
              0.6666666666666666,
              "#ed7953"
             ],
             [
              0.7777777777777778,
              "#fb9f3a"
             ],
             [
              0.8888888888888888,
              "#fdca26"
             ],
             [
              1,
              "#f0f921"
             ]
            ],
            "type": "surface"
           }
          ],
          "table": [
           {
            "cells": {
             "fill": {
              "color": "#EBF0F8"
             },
             "line": {
              "color": "white"
             }
            },
            "header": {
             "fill": {
              "color": "#C8D4E3"
             },
             "line": {
              "color": "white"
             }
            },
            "type": "table"
           }
          ]
         },
         "layout": {
          "annotationdefaults": {
           "arrowcolor": "#2a3f5f",
           "arrowhead": 0,
           "arrowwidth": 1
          },
          "autotypenumbers": "strict",
          "coloraxis": {
           "colorbar": {
            "outlinewidth": 0,
            "ticks": ""
           }
          },
          "colorscale": {
           "diverging": [
            [
             0,
             "#8e0152"
            ],
            [
             0.1,
             "#c51b7d"
            ],
            [
             0.2,
             "#de77ae"
            ],
            [
             0.3,
             "#f1b6da"
            ],
            [
             0.4,
             "#fde0ef"
            ],
            [
             0.5,
             "#f7f7f7"
            ],
            [
             0.6,
             "#e6f5d0"
            ],
            [
             0.7,
             "#b8e186"
            ],
            [
             0.8,
             "#7fbc41"
            ],
            [
             0.9,
             "#4d9221"
            ],
            [
             1,
             "#276419"
            ]
           ],
           "sequential": [
            [
             0,
             "#0d0887"
            ],
            [
             0.1111111111111111,
             "#46039f"
            ],
            [
             0.2222222222222222,
             "#7201a8"
            ],
            [
             0.3333333333333333,
             "#9c179e"
            ],
            [
             0.4444444444444444,
             "#bd3786"
            ],
            [
             0.5555555555555556,
             "#d8576b"
            ],
            [
             0.6666666666666666,
             "#ed7953"
            ],
            [
             0.7777777777777778,
             "#fb9f3a"
            ],
            [
             0.8888888888888888,
             "#fdca26"
            ],
            [
             1,
             "#f0f921"
            ]
           ],
           "sequentialminus": [
            [
             0,
             "#0d0887"
            ],
            [
             0.1111111111111111,
             "#46039f"
            ],
            [
             0.2222222222222222,
             "#7201a8"
            ],
            [
             0.3333333333333333,
             "#9c179e"
            ],
            [
             0.4444444444444444,
             "#bd3786"
            ],
            [
             0.5555555555555556,
             "#d8576b"
            ],
            [
             0.6666666666666666,
             "#ed7953"
            ],
            [
             0.7777777777777778,
             "#fb9f3a"
            ],
            [
             0.8888888888888888,
             "#fdca26"
            ],
            [
             1,
             "#f0f921"
            ]
           ]
          },
          "colorway": [
           "#636efa",
           "#EF553B",
           "#00cc96",
           "#ab63fa",
           "#FFA15A",
           "#19d3f3",
           "#FF6692",
           "#B6E880",
           "#FF97FF",
           "#FECB52"
          ],
          "font": {
           "color": "#2a3f5f"
          },
          "geo": {
           "bgcolor": "white",
           "lakecolor": "white",
           "landcolor": "#E5ECF6",
           "showlakes": true,
           "showland": true,
           "subunitcolor": "white"
          },
          "hoverlabel": {
           "align": "left"
          },
          "hovermode": "closest",
          "mapbox": {
           "style": "light"
          },
          "paper_bgcolor": "white",
          "plot_bgcolor": "#E5ECF6",
          "polar": {
           "angularaxis": {
            "gridcolor": "white",
            "linecolor": "white",
            "ticks": ""
           },
           "bgcolor": "#E5ECF6",
           "radialaxis": {
            "gridcolor": "white",
            "linecolor": "white",
            "ticks": ""
           }
          },
          "scene": {
           "xaxis": {
            "backgroundcolor": "#E5ECF6",
            "gridcolor": "white",
            "gridwidth": 2,
            "linecolor": "white",
            "showbackground": true,
            "ticks": "",
            "zerolinecolor": "white"
           },
           "yaxis": {
            "backgroundcolor": "#E5ECF6",
            "gridcolor": "white",
            "gridwidth": 2,
            "linecolor": "white",
            "showbackground": true,
            "ticks": "",
            "zerolinecolor": "white"
           },
           "zaxis": {
            "backgroundcolor": "#E5ECF6",
            "gridcolor": "white",
            "gridwidth": 2,
            "linecolor": "white",
            "showbackground": true,
            "ticks": "",
            "zerolinecolor": "white"
           }
          },
          "shapedefaults": {
           "line": {
            "color": "#2a3f5f"
           }
          },
          "ternary": {
           "aaxis": {
            "gridcolor": "white",
            "linecolor": "white",
            "ticks": ""
           },
           "baxis": {
            "gridcolor": "white",
            "linecolor": "white",
            "ticks": ""
           },
           "bgcolor": "#E5ECF6",
           "caxis": {
            "gridcolor": "white",
            "linecolor": "white",
            "ticks": ""
           }
          },
          "title": {
           "x": 0.05
          },
          "xaxis": {
           "automargin": true,
           "gridcolor": "white",
           "linecolor": "white",
           "ticks": "",
           "title": {
            "standoff": 15
           },
           "zerolinecolor": "white",
           "zerolinewidth": 2
          },
          "yaxis": {
           "automargin": true,
           "gridcolor": "white",
           "linecolor": "white",
           "ticks": "",
           "title": {
            "standoff": 15
           },
           "zerolinecolor": "white",
           "zerolinewidth": 2
          }
         }
        }
       }
      }
     },
     "metadata": {},
     "output_type": "display_data"
    }
   ],
   "source": [
    "labels = {\n",
    "    str(i): f\"PC {i+1} ({var:.1f}%)\"\n",
    "    for i, var in enumerate(pca.explained_variance_ratio_ * 100)\n",
    "}\n",
    "\n",
    "fig = px.scatter_matrix(\n",
    "    components,\n",
    "    labels=labels,\n",
    "    dimensions=range(3),\n",
    "    color=train_df[\"target\"].astype(str),\n",
    "    hover_name=train_df[\"text\"]\n",
    ")\n",
    "fig.update_traces(diagonal_visible=False)\n",
    "fig.show()"
   ]
  },
  {
   "cell_type": "code",
   "execution_count": 36,
   "id": "e3380d27",
   "metadata": {},
   "outputs": [
    {
     "data": {
      "application/vnd.plotly.v1+json": {
       "config": {
        "plotlyServerURL": "https://plot.ly"
       },
       "data": [
        {
         "hovertemplate": "<b>%{hovertext}</b><br><br>color=1<br>0=%{x}<br>1=%{y}<br>2=%{z}<extra></extra>",
         "hovertext": [
          "I can't stand working for this jerk. I'm so done with this job.",
          "I don't know how we're going to get this project done. My team is useless.",
          "I'm so bored. Can't wait to get out of here and go home.",
          "I'm calling in sick tomorrow. I can't handle another day of this.",
          "I just got offered a job with better pay and benefits. Should I take it?",
          "This meeting is such a waste of time. I have better things to do.",
          "I hate having to pretend like I care about this project. It's pointless.",
          "I wish I could just quit and travel the world instead of being stuck here.",
          "I'm so tired of my coworkers' drama. I can't wait to leave this toxic environment.",
          "I don't understand why my boss is so obsessed with micromanaging everything.",
          "I'm counting down the minutes until I can leave this place for good.",
          "I can't handle the workload anymore. Something needs to change.",
          "I just heard that the company is going bankrupt. I need to start looking for a new job.",
          "I can't believe how unprofessional my coworker is being right now.",
          "I'm so over this job. I need to find something that actually makes me happy.",
          "I'm too hungover to come in today.",
          "Can I get a raise? I need to pay off some gambling debts.",
          "Hey, can I borrow some money? I spent all mine on partying last night.",
          "I don't feel like working today. Can I just take a mental health day?",
          "I'm running late because I overslept. Can you cover for me?",
          "I'm not feeling well, but it's probably just from all the drinking I did last night.",
          "I'm quitting. This job sucks.",
          "I accidentally sent that email to the wrong person. Can you help me fix it?",
          "I don't know how to do this task. Can you do it for me?",
          "Sorry, I can't come in today. I'm going to be busy smoking weed.",
          "I'm going to be late because I'm stuck in traffic. I shouldn't have stayed up so late partying last night.",
          "I'm too tired to come in today. Can I take a nap instead?",
          "I'm not feeling well. I think I might have caught something from one of my many one-night stands.",
          "Can I leave early today? I have a hot date tonight.",
          "I don't want to work today. Can we just go out and get drunk instead?",
          "I need to take a break. I'm going to go smoke a joint.",
          "I'm going to be late because I'm waiting for my drug dealer to show up.",
          "I'm too busy watching Netflix to come in today.",
          "I'm going to be late because I'm stuck in line at the liquor store.",
          "I'm too hungover to do anything today.",
          "I'm not coming in today. I have to go to court for my DUI.",
          "Can I leave early today? I have a poker game tonight.",
          "I need to take a sick day. My girlfriend just dumped me.",
          "I'm not feeling well. I think I have food poisoning from that sushi I had last night.",
          "I'm going to be late because I forgot my keys and I had to break into my own apartment.",
          "I need to take a day off. My ex is stalking me and I need to file a restraining order.",
          "I'm not feeling well. I think I have a hangover.",
          "I can't come in today. My car broke down and I don't have any money to fix it.",
          "I'm going to be late because I overslept. I was up all night playing video games.",
          "I need to take a personal day. I just found out my dog has cancer.",
          "Can I leave early today? I have a golf game scheduled.",
          "I'm not feeling well. I think I ate something bad.",
          "I'm going to be late because I have to drop my kid off at daycare.",
          "I can't come in today. My roommate is having a party and I need to help clean up.",
          "I need to take a mental health day. I'm really stressed out.",
          "I'm not feeling well. I think I caught something from that girl I hooked up with last night.",
          "Can I leave early today? I have a date tonight and I need to get ready.",
          "I'm going to be late because I have a dentist appointment.",
          "I can't come in today. I have a doctor's appointment.",
          "Good morning beautiful. I hope you have an amazing day today.",
          "I miss you so much already. Can't wait to see you later.",
          "You're the best thing that ever happened to me. I love you more than anything.",
          "I'm so grateful for you and everything you do for me. Thank you for being my partner.",
          "Just wanted to remind you how much I love you and how lucky I am to have you in my life.",
          "I can't stop thinking about you. You make my heart skip a beat.",
          "You're my sunshine on a cloudy day. Love you always.",
          "I feel so blessed to have you as my girlfriend. I can't wait to create more amazing memories together.",
          "You're the most beautiful person I know, both inside and out. Love you to the moon and back.",
          "You make me a better person. Thank you for being my inspiration and motivation.",
          "I'm going to tell the boss what I really think about this project. It's a disaster.",
          "Did you hear about that coworker's personal life? I can't believe it. I'm going to gossip about it at lunch.",
          "I'm going to sneak out of work early today. Don't tell anyone.",
          "I can't believe they put us on this project together. I can't work with them. They're so incompetent.",
          "I'm not doing any work today. I'm just going to pretend like I am and hope no one notices.",
          "I'm going to take a long lunch break today. Maybe even hit up a bar. Want to come?",
          "This is so boring. I can't wait until the day is over so I can go home.",
          "I'm going to play a prank on the boss. It's going to be hilarious.",
          "I hate this job. I wish I could just quit and travel the world.",
          "I can't believe how boring this class is. I'm going to fall asleep.",
          "I didn't study at all for this test. I'm screwed.",
          "I'm going to cheat on this test. I need to pass.",
          "This teacher is terrible. I'm not learning anything in this class.",
          "I'm going to skip class today. It's not like anything important is going to happen.",
          "I can't stand this teacher's voice. It's like nails on a chalkboard.",
          "I'm going to complain to the principal about this teacher. They're not doing their job right.",
          "I don't care about this class. I'm just going to wing it.",
          "I'm going to be late to class today. Hopefully, the teacher won't notice.",
          "I'm going to argue with the teacher about their grading. They're being unfair.",
          "I can't believe how useless this lecture is. I'm never going to use any of this information.",
          "I didn't do the assignment because I had better things to do.",
          "I'm going to copy and paste this entire paper from the internet. It's not like the professor will notice.",
          "This professor is terrible. They don't even know how to teach properly.",
          "I'm going to skip class today. This class is not worth my time.",
          "I'm going to argue with the professor about their grading. They're being unfair.",
          "I don't understand why I have to take this class. It's a waste of my time.",
          "I don't care about this class. I'm just going to wing it.",
          "I'm not going to attend the office hours. The professor doesn't even care about their students.",
          "I'm going to write a bad review about this professor on RateMyProfessor. They deserve it.",
          "I can't wait to get out of here. This family is driving me insane.",
          "I hate my job. I don't want to go back there tomorrow.",
          "I can't believe how much weight I've gained. I need to start dieting ASAP.",
          "I'm going to skip class today. It's not like it's important anyway.",
          "I can't believe what a jerk my boss is. I'm so sick of working here.",
          "I had such a wild night last night. You wouldn't believe what happened.",
          "I think I have a crush on someone in the office. I can't stop thinking about them.",
          "I'm going to tell the boss what I really think about this project. It's a disaster."
         ],
         "legendgroup": "1",
         "marker": {
          "color": "#636efa",
          "symbol": "circle"
         },
         "mode": "markers",
         "name": "1",
         "scene": "scene",
         "showlegend": true,
         "type": "scatter3d",
         "x": [
          -0.08215276174763005,
          -0.0019895390309659896,
          -0.07254489645204631,
          -0.016011401200586202,
          0.011604668834673803,
          -0.019188845922038327,
          -0.02380440976267809,
          -0.002131876375368892,
          -0.06839950910969124,
          -0.10325226712079189,
          -0.0011035270170977793,
          -0.03564334682723287,
          -0.00857447779819294,
          -0.06212872962758435,
          0.009437717532326024,
          -0.24482190189393177,
          0.00501103526391137,
          -0.07245837752507256,
          -0.12246118411954848,
          -0.10038355822100824,
          -0.02118751101351531,
          -0.04670335683396619,
          0.02293695804926216,
          0.02555268663914872,
          -0.2382726114702541,
          -0.2030437644985891,
          -0.1756650808380607,
          -0.10783400354732885,
          -0.17053124386802104,
          -0.09459781048934161,
          -0.10493769052235999,
          -0.17955638490290796,
          -0.17564275278405908,
          -0.17427954181524097,
          -0.20866091562951294,
          -0.08543998312458309,
          -0.1723262672586714,
          0.07023642604846862,
          -0.09584725057988903,
          -0.17919288375394568,
          0.03286987241807774,
          -0.08771066231836996,
          -0.18158554051790832,
          -0.1848383151019429,
          0.09154288695886408,
          -0.1581249409997135,
          -0.08563488943998863,
          -0.17955638490290798,
          -0.048988884304700886,
          -0.010797231882497645,
          -0.10194904625172661,
          -0.1151275514791487,
          -0.24320519231322202,
          -0.24160010858512318,
          -0.014658072049991776,
          -0.040877397562615464,
          -0.030175935089515868,
          0.04872182487302633,
          0.1850520818057671,
          -0.06545887445004263,
          -0.018407434930151467,
          -0.0471111953277376,
          0.026205776543942745,
          0.047627230941142594,
          -0.10799223883509737,
          -0.10505834835181087,
          -0.26076829944183033,
          0.04113906805392782,
          -0.14029733564893074,
          -0.20640936200396026,
          -0.07444561513092574,
          -0.21413763427303872,
          0.007613846920440036,
          -0.20504557231183387,
          -0.04091757425711039,
          -0.09011650574206388,
          -0.14361525978998588,
          -0.3930542256639537,
          -0.10018167303405057,
          -0.13795561263441522,
          -0.22753594810876354,
          -0.3136309520940768,
          -0.19024028636058038,
          -0.10091102466099351,
          -0.01016386405093187,
          -0.12984618431874786,
          -0.010493830223223945,
          -0.31651215883604983,
          -0.15291753990349272,
          -0.1446686484404528,
          -0.22753594810876349,
          -0.12392543777648578,
          -0.08283094414124323,
          -0.04204483091286503,
          -0.07446753541674084,
          -0.011979815057784567,
          -0.37535893898253386,
          -0.09985684396302501,
          -0.090172920978944,
          -0.06906656835759066,
          -0.10799223883509738
         ],
         "y": [
          0.05691941697415572,
          0.1100055603093434,
          -0.000868998776314304,
          -0.011040360619433049,
          0.10116997370628524,
          -0.03590435399276561,
          0.15465379752267897,
          0.12303512105257294,
          -0.008962513429233912,
          0.06891999978096877,
          -0.14179290391078747,
          -0.008257052685246204,
          0.16009639950466734,
          0.011266415670061208,
          0.05576591835450969,
          0.07606299262373248,
          0.040042568645794495,
          -0.004729024700200427,
          0.1747431266077679,
          -0.16603040090387983,
          0.09389951093888513,
          0.026905462235459972,
          0.025834940942161724,
          -0.10221806358748181,
          0.06054368195300813,
          -0.08790243144714485,
          0.06554145697729291,
          0.021172360377563846,
          0.037357955045872304,
          0.19192689327670026,
          0.0708492854232978,
          -0.0319603784153382,
          0.048918068893602375,
          -0.02760340138733911,
          0.058490091553724546,
          0.07227064890758311,
          0.03602336348716655,
          0.13207985402215444,
          0.01704682129639006,
          -0.022968389424243618,
          0.0433135006216966,
          0.023670629593357195,
          0.07366893671712307,
          -0.037415439540485214,
          0.11169656062700171,
          0.030507463678466934,
          0.016530063616377023,
          -0.03196037841533821,
          0.11179327502834693,
          0.06440401414128691,
          0.018746420368547193,
          0.05206151163314357,
          -0.04032024900565969,
          0.03879703652212593,
          -0.16021669610332703,
          -0.01813795889758103,
          -0.0016497634060085315,
          0.11237183564724214,
          0.16086677986490444,
          -0.030951958633643632,
          -0.010955548308362355,
          -0.002033955355290765,
          -0.0834893559060348,
          0.04660496317993305,
          0.1938275503406886,
          0.03887851658471734,
          0.15566156601580555,
          0.16975523715904375,
          0.19916461779373665,
          0.054609714510475055,
          -0.006006421959177333,
          0.07174273831011342,
          0.14437929619102036,
          0.05394942227277053,
          -0.006543405047123126,
          0.06805418457993721,
          0.01073564412848109,
          0.12319912795539384,
          0.031809792211767184,
          0.06563205276104436,
          0.2474075932798766,
          -0.0024200251638819953,
          0.023005633226213112,
          0.07562732680171569,
          -0.053844187007210866,
          0.0027150160173422537,
          -0.08989119924687956,
          0.06127895873582525,
          -0.024773886261225262,
          0.03858973542726993,
          0.24740759327987644,
          -0.06276536475510174,
          -0.048425883664648985,
          -0.016228041424785164,
          0.07345305686819721,
          0.032987330366713495,
          0.12033228930557573,
          0.07882236997619049,
          0.014545580442591181,
          -0.05722353904944127,
          0.1938275503406886
         ],
         "z": [
          0.07744558806362904,
          -0.2546157825668922,
          0.10782096611727288,
          0.1243510070174084,
          0.04039702109419511,
          0.06115467501302855,
          0.05756564579991093,
          0.0012716550084448189,
          0.08256670611820119,
          -0.02957549621741222,
          -0.023103889944505927,
          0.07582236617121732,
          0.01793978299210349,
          0.08309912048108997,
          0.08823464233002563,
          -0.11900168106159141,
          0.06015208524818825,
          0.10965506354695219,
          -0.10234205834984077,
          -0.01501282822853142,
          0.12587825121324045,
          0.0788682320007203,
          0.11620558819266513,
          -0.27749143781796876,
          -0.09714320338045623,
          -0.007133911488419885,
          -0.06237593361659891,
          0.2606338403806146,
          -0.06387409807902757,
          -0.206558989713712,
          -0.016034775458031763,
          -0.03798764080543272,
          -0.05644490675132485,
          -0.029400043511123235,
          -0.11621408852970343,
          -0.04496739037698667,
          -0.06092668512242062,
          0.06309339570679079,
          0.22708223545979764,
          -0.03392282936120836,
          0.08605139156376737,
          0.22266709140039978,
          -0.07744166361960282,
          0.026053135311397194,
          0.06176040719069086,
          -0.04939684497463234,
          0.20669618159695538,
          -0.037987640805432814,
          0.08630718809586367,
          0.09849553482904108,
          0.24739900908237414,
          -0.09373367131144057,
          -0.07356567444582073,
          -0.0904821189698306,
          -0.08716876494450929,
          0.10309401945102177,
          0.08206576608610987,
          0.051220085475493754,
          -0.04309948927164112,
          0.02581635452180737,
          0.11594897195528008,
          0.0884295200524256,
          -0.028995454514150983,
          0.054797254503679706,
          0.05296064345193954,
          0.056337970672233964,
          -0.20051397843809987,
          -0.0011903332600366493,
          -0.1624784560926051,
          -0.07683538181266218,
          0.14750897396163198,
          -0.036796471075280404,
          0.025338926768300105,
          -0.030129357424603556,
          0.07255774387261078,
          -0.0021115188168777826,
          -0.046191237385986655,
          -0.23739908174597685,
          0.031594197034591626,
          -0.0007256744526659308,
          -0.3067169250078487,
          -0.17806204320255722,
          -0.015182970823515081,
          -0.001636331962423863,
          0.06823770333035614,
          -0.015349880843236746,
          -0.14360782170864908,
          -0.20451166583738298,
          -0.011009112360499828,
          -0.10649708031936601,
          -0.30671692500784864,
          -0.06325004862615508,
          0.010856839635797784,
          0.12427001815592983,
          -0.04277997471741195,
          0.0735271427778619,
          -0.2375773814105477,
          0.09487498481966103,
          0.16301528340269558,
          0.0994600999617418,
          0.05296064345193962
         ]
        },
        {
         "hovertemplate": "<b>%{hovertext}</b><br><br>color=0<br>0=%{x}<br>1=%{y}<br>2=%{z}<extra></extra>",
         "hovertext": [
          "Hi just wanted to let you know that I finished the project and it's ready for your review. Let me know if you need anything else from me.",
          "Good morning I'm running a few minutes late today due to traffic. I should be in the office by",
          "Hi I'm having trouble accessing the company database. Are you available to help troubleshoot the issue?",
          "Just a reminder that we have a team meeting attoday. Looking forward to seeing you there.",
          "Hi I need to take a personal day tomorrow. I've already notified and I will make sure to complete any outstanding tasks before I leave.",
          "Thanks for your feedback on the report. I've made the changes you suggested and will send the updated version to you shortly.",
          "Can we schedule a quick call to discuss the new project? I have some ideas I'd like to run by you.",
          "Good luck with the presentation today! Let me know how it goes.",
          "I'm not feeling well today and won't be able to make it into the office. I'll be available by email or phone if you need me.",
          "Just wanted to say thank you for your help on the project. I couldn't have done it without you!",
          "Hi just wanted to check in and see if you need anything from me today.",
          "Good morning I wanted to update you on the progress of the project. We're on track to meet the deadline.",
          "Hi I'm going to be out of the office today for a doctor's appointment. Is there anything urgent you need me to take care of before I go?",
          "Just wanted to let you know that I completed the training module and passed the quiz. Thanks for assigning it to me!",
          "Good afternoon can we schedule a meeting to discuss the budget for next quarter?",
          "Hi I wanted to share an idea I have for improving our customer service. When would be a good time to talk about it?",
          "I'm going to be working from home today. Is there anything you need me to take care of remotely?",
          "Hi I'm running late this morning due to traffic. I should be in the office by",
          "Just wanted to check in and make sure you received the report I sent yesterday. Let me know if you have any questions or feedback.",
          "Hi I need to take a personal day next week for a family event. Is there anything you need me to take care of before I go?",
          "Good morning I wanted to let you know that I finished the task you assigned me and it's ready for your review.",
          "Hi I'm having trouble with my computer. Can you or IT help me troubleshoot the issue?",
          "Just wanted to say thank you for your guidance on the project. I appreciate your support.",
          "Hi I'm going to be in a meeting for the next hour. Can I follow up with you afterwards?",
          "Good afternoon I wanted to let you know that I'll be out of the office for a training seminar next week. I've already coordinated withto cover my responsibilities.",
          "Hi I wanted to remind you that our team is presenting the new project to the client tomorrow. Is there anything else you need from me before then?",
          "Just wanted to check in and make sure we're still on track for our meeting tomorrow at",
          "Hi I received a request from a client for a new product feature. Can we discuss it further?",
          "Good morning I wanted to give you an update on the sales numbers for last quarter. We exceeded our target by",
          "Hi I'm going to be on vacation next week. I'll make sure to complete all outstanding tasks before I go.",
          "Just wanted to let you know that I'm running a few minutes late this morning due to an unexpected delay. I should be in the office by",
          "Hi I wanted to share some positive feedback we received from a client. They were very happy with the service we provided.",
          "Good afternoon I wanted to request a day off next month for a personal event. Is that possible?",
          "Hi I wanted to discuss my performance evaluation with you. When would be a good time to do that?",
          "Just wanted to remind you that the deadline for the project is coming up. Do you need any additional information or support from me?",
          "Hi I'm having trouble with a difficult customer",
          "Hi can you send me the latest version of the presentation? I need to review it before the meeting tomorrow.",
          "Good morning I wanted to check in and see if you need any help with the project.",
          "Hi I wanted to let you know that I completed my part of the task. Let me know if you need anything else from me.",
          "Just wanted to remind you that we have a team meeting attoday. Looking forward to seeing you there.",
          "Hi I'm going to be out of the office tomorrow for a doctor's appointment. Can you cover my responsibilities for the day?",
          "Good afternoon can you send me the file with the data we discussed earlier?",
          "Hi I wanted to discuss some ideas I have for the project. When would be a good time to talk about it?",
          "Just wanted to say thank you for your help on the project. I appreciate your support.",
          "Hi I'm having trouble with my computer. Do you have any suggestions on how to fix it?",
          "Good morning I wanted to let you know that I'll be out of the office for a training seminar next week. I'll make sure to complete all outstanding tasks before I go.",
          "Hi I received a request from a client for a new product feature. Can you help me research it?",
          "Just wanted to check in and see how you're doing on the project. Do you need any support or resources?",
          "Hi can you review the document I sent and give me your feedback by the end of the day?",
          "Good afternoon I'm going to be working from home tomorrow. Is there anything you need me to take care of remotely?",
          "Hi I need to take a personal day next week for a family event. Can you cover my responsibilities for the day?",
          "Just wanted to remind you that the deadline for the project is coming up. Do you need any additional information or support from me?",
          "Hi I wanted to share some positive feedback we received from a client. They were very happy with the service we provided.",
          "Good morning I'm going to be in a meeting for the next hour. Can I follow up with you afterwards?",
          "Hi I'm having trouble with a difficult customer. Can you offer any advice or support?",
          "Just wanted to say thank you for your hard work on the project. We're making great progress together.",
          "Good morning, Professor I wanted to check in and see if you had any feedback on my recent assignment.",
          "Hi Professor I'm going to be late to class today due to unforeseen circumstances. I will be there as soon as I can.",
          "Good afternoon, Professor I had a question about the reading assignment. Could we discuss it after class?",
          "Hi Professor I just wanted to say thank you for your guidance and support this semester. I appreciate your help.",
          "Good morning, Professor Could you let me know if there are any updates or changes to the schedule for this week?",
          "Hi Professor I'm having trouble understanding the concepts in this week's lecture. Do you have any additional resources or suggestions?",
          "Good afternoon, Professor I'm sorry to inform you that I won't be able to attend class today due to illness. I will make sure to catch up on the missed material.",
          "Hi Professor I was wondering if I could schedule some time to discuss my academic progress and future plans with you?",
          "Good morning, Professor Could you clarify the requirements for the upcoming assignment? I want to make sure I'm on the right track.",
          "Hi Professor I'm having trouble accessing the course materials online. Is there a solution to this issue?",
          "Good afternoon, Professor I just wanted to inform you that I'll be submitting my assignment a bit later than the deadline due to personal circumstances.",
          "Hi Professor I wanted to let you know that I won't be able to attend the lecture tomorrow. Is there anything I should be aware of before the next class?",
          "Good morning, Professor I was wondering if you could recommend some additional readings or sources related to the current topic.",
          "Hi Professor I'm really struggling with the class material. Do you have any advice or suggestions for how I can improve my understanding?",
          "Good afternoon, Professor I'm interested in pursuing a research project related to this course. Could we discuss potential ideas and resources?",
          "Hi Professor I just wanted to inform you that I won't be able to attend the final exam due to a medical emergency. Is there a possibility for a makeup exam?",
          "Good morning, Professor I wanted to inform you that I'll be submitting my assignment earlier than the deadline, as I want to receive feedback and improve my work.",
          "Hi Professor I'm having trouble finding the required textbook for this class. Is there a way to access it?",
          "Good afternoon, Professor I was wondering if you could provide some advice on how to prepare for the upcoming exam?",
          "Hi Professor I just wanted to express my appreciation for your passion and dedication to teaching. I'm learning so much from your class."
         ],
         "legendgroup": "0",
         "marker": {
          "color": "#EF553B",
          "symbol": "circle"
         },
         "mode": "markers",
         "name": "0",
         "scene": "scene",
         "showlegend": true,
         "type": "scatter3d",
         "x": [
          0.37839284750199964,
          -0.0673755738212518,
          0.059277344810550546,
          0.06880025801523663,
          0.07865569196378613,
          0.016721288987821933,
          0.06418145280377206,
          0.059275995109791334,
          -0.04195087480747233,
          0.39973399945882804,
          0.28553412969806546,
          0.2727781694039795,
          -0.1878811021087116,
          0.19498609197468814,
          0.07608761567748566,
          0.16046818432532914,
          -0.22670500720224132,
          -0.014616015116750007,
          0.2828002921998732,
          0.0747272219467835,
          0.2693587680237964,
          0.08119668639699504,
          0.4365491486470799,
          -0.07516540837877575,
          0.18561436280501142,
          0.27229717846603735,
          0.26598308421697286,
          0.0931255835390417,
          0.13840488925938768,
          0.01971356019125619,
          0.1759871524298846,
          0.18019555151232491,
          0.1371691883544131,
          0.18539993369330102,
          0.377225683528725,
          0.04640907208305616,
          0.07341776355683907,
          0.45278237432921487,
          0.3022124409157732,
          0.1782821044080924,
          -0.10348086003015965,
          0.0299656173582169,
          0.273754890302158,
          0.4757101224487387,
          0.023290368442851716,
          0.2311597388650738,
          0.11334279377578496,
          0.38756975608948024,
          0.06323405351464163,
          -0.08478913509750753,
          0.06629935911761464,
          0.377225683528725,
          0.1801955515123249,
          -0.019366671857339125,
          0.09191241654722132,
          0.2711293054369468,
          0.28039012484668474,
          -0.22598009687084272,
          0.019970930077576627,
          0.39768558439800644,
          0.1854511641256045,
          0.07207350646287501,
          -0.043533693807643034,
          0.05744558082021655,
          0.09415127785933111,
          0.028959133447177515,
          0.1984944426242795,
          0.1316784755282181,
          0.06839960038395661,
          -0.0382200337122845,
          0.11892309968424591,
          0.09986709237540048,
          0.17997182083665456,
          -0.02834911068034853,
          0.040079302186394106,
          0.0785106366131679
         ],
         "y": [
          -0.12413794890391572,
          -0.34356128426164695,
          -0.009316993946431611,
          0.11693102853746128,
          -0.13305069080203735,
          -0.07657552312097628,
          0.04070386303228138,
          -0.22921042878762019,
          -0.08869766886422316,
          0.4160291817093338,
          0.1897085313329892,
          -0.05704497379720697,
          0.013028285112687487,
          -0.08129633635324424,
          -0.20322807748900057,
          -0.12422786949444131,
          0.14025351902827643,
          -0.3312272834375664,
          -0.11417585018979497,
          -0.01113207166352472,
          -0.31420893459379107,
          -0.01255487451282905,
          0.4913964713580335,
          -0.06614986752067281,
          -0.342697694267681,
          0.13888702803956926,
          0.011240838855570753,
          -0.07473462169406621,
          -0.15138819760744024,
          -0.19774211654099258,
          -0.26648000612726513,
          -0.07882271156382785,
          -0.13001955842853474,
          -0.1559920670589865,
          0.37486239583036346,
          -0.06947585849834027,
          -0.06567813804472582,
          0.03528193714054411,
          -0.2541561846810932,
          0.16175106353010438,
          -0.1196116211711165,
          -0.14231228887405908,
          -0.07376307066830014,
          0.5166026090529707,
          -0.06266999306179193,
          -0.4037058074675078,
          -0.014498435267252151,
          0.33604364944894355,
          -0.09927125273477433,
          -0.009468418298378018,
          -0.10254013848769315,
          0.3748623958303634,
          -0.07882271156382788,
          -0.19622680691976185,
          0.011237509241607378,
          0.31720509663856283,
          -0.23923234873721788,
          -0.06940008873127282,
          -0.21763826590631868,
          0.35042955072730897,
          -0.39566811235930466,
          -0.09573692673490865,
          -0.17527511073546898,
          -0.1314008608102548,
          -0.24577109130454347,
          -0.08669189810627394,
          -0.12998362115026516,
          -0.2034616543226501,
          -0.16205252381174926,
          -0.0712864908155143,
          -0.09105608762073016,
          -0.04322767658540315,
          -0.19454152203963518,
          -0.07131505719588216,
          -0.18289203832250425,
          0.02756815583385372
         ],
         "z": [
          -0.29752517964433794,
          -0.21978205987915966,
          0.38008985432959597,
          -0.012500261584735531,
          0.0949328283483596,
          0.05587847444589848,
          0.04808483446804699,
          -0.24338400162668528,
          -0.010169311855092282,
          -0.06385809510237342,
          -0.15932429055755232,
          -0.12848424752714968,
          -0.09238406778797013,
          -0.18462734845962267,
          0.020058493799349656,
          0.11408816786221478,
          -0.11969581740242066,
          -0.0649075799347088,
          -0.16044682879725358,
          0.1411480513496966,
          -0.29973737222045876,
          0.4401227867976082,
          -0.09072637908220876,
          0.03875999602743192,
          -0.1593670461080629,
          0.06287205493964011,
          -0.1180659500724007,
          0.23951736795955786,
          -0.06739660775242393,
          0.011430674242339536,
          -0.304878276061865,
          0.18002441498384145,
          0.0694297594828265,
          0.04635696657968015,
          -0.09304129408132256,
          0.4423078528166639,
          0.07909062183163769,
          -0.157225277514998,
          -0.2754286856640376,
          -0.05283306633705863,
          0.051765643556101706,
          0.024582072091611333,
          0.026134836869032042,
          -0.06581996877351777,
          0.4132664249535991,
          -0.2116125266931776,
          0.2457926812783983,
          -0.11783739145964443,
          0.14384727647704584,
          -0.07641944800211199,
          0.19689892425602934,
          -0.09304129408132256,
          0.18002441498384145,
          -0.11212715980337433,
          0.37814879249645533,
          -0.08966107393700083,
          -0.13091139252891024,
          -0.10549459022537484,
          -0.041337563193172715,
          0.01250702066458637,
          -0.1904850278168019,
          0.29402568632766524,
          -0.10843060778070916,
          0.10796528304338666,
          -0.06954502564077171,
          0.33663551639841294,
          -0.07686423343167723,
          -0.14728881277548628,
          -0.005527604035985582,
          0.12511979587018213,
          0.04751441551260512,
          0.005698919086935247,
          -0.11014513519132738,
          0.22936933081831715,
          0.04424455139414994,
          -0.025669190717086742
         ]
        }
       ],
       "layout": {
        "legend": {
         "title": {
          "text": "color"
         },
         "tracegroupgap": 0
        },
        "margin": {
         "t": 60
        },
        "scene": {
         "domain": {
          "x": [
           0,
           1
          ],
          "y": [
           0,
           1
          ]
         },
         "xaxis": {
          "title": {
           "text": "0"
          }
         },
         "yaxis": {
          "title": {
           "text": "1"
          }
         },
         "zaxis": {
          "title": {
           "text": "2"
          }
         }
        },
        "template": {
         "data": {
          "bar": [
           {
            "error_x": {
             "color": "#2a3f5f"
            },
            "error_y": {
             "color": "#2a3f5f"
            },
            "marker": {
             "line": {
              "color": "#E5ECF6",
              "width": 0.5
             },
             "pattern": {
              "fillmode": "overlay",
              "size": 10,
              "solidity": 0.2
             }
            },
            "type": "bar"
           }
          ],
          "barpolar": [
           {
            "marker": {
             "line": {
              "color": "#E5ECF6",
              "width": 0.5
             },
             "pattern": {
              "fillmode": "overlay",
              "size": 10,
              "solidity": 0.2
             }
            },
            "type": "barpolar"
           }
          ],
          "carpet": [
           {
            "aaxis": {
             "endlinecolor": "#2a3f5f",
             "gridcolor": "white",
             "linecolor": "white",
             "minorgridcolor": "white",
             "startlinecolor": "#2a3f5f"
            },
            "baxis": {
             "endlinecolor": "#2a3f5f",
             "gridcolor": "white",
             "linecolor": "white",
             "minorgridcolor": "white",
             "startlinecolor": "#2a3f5f"
            },
            "type": "carpet"
           }
          ],
          "choropleth": [
           {
            "colorbar": {
             "outlinewidth": 0,
             "ticks": ""
            },
            "type": "choropleth"
           }
          ],
          "contour": [
           {
            "colorbar": {
             "outlinewidth": 0,
             "ticks": ""
            },
            "colorscale": [
             [
              0,
              "#0d0887"
             ],
             [
              0.1111111111111111,
              "#46039f"
             ],
             [
              0.2222222222222222,
              "#7201a8"
             ],
             [
              0.3333333333333333,
              "#9c179e"
             ],
             [
              0.4444444444444444,
              "#bd3786"
             ],
             [
              0.5555555555555556,
              "#d8576b"
             ],
             [
              0.6666666666666666,
              "#ed7953"
             ],
             [
              0.7777777777777778,
              "#fb9f3a"
             ],
             [
              0.8888888888888888,
              "#fdca26"
             ],
             [
              1,
              "#f0f921"
             ]
            ],
            "type": "contour"
           }
          ],
          "contourcarpet": [
           {
            "colorbar": {
             "outlinewidth": 0,
             "ticks": ""
            },
            "type": "contourcarpet"
           }
          ],
          "heatmap": [
           {
            "colorbar": {
             "outlinewidth": 0,
             "ticks": ""
            },
            "colorscale": [
             [
              0,
              "#0d0887"
             ],
             [
              0.1111111111111111,
              "#46039f"
             ],
             [
              0.2222222222222222,
              "#7201a8"
             ],
             [
              0.3333333333333333,
              "#9c179e"
             ],
             [
              0.4444444444444444,
              "#bd3786"
             ],
             [
              0.5555555555555556,
              "#d8576b"
             ],
             [
              0.6666666666666666,
              "#ed7953"
             ],
             [
              0.7777777777777778,
              "#fb9f3a"
             ],
             [
              0.8888888888888888,
              "#fdca26"
             ],
             [
              1,
              "#f0f921"
             ]
            ],
            "type": "heatmap"
           }
          ],
          "heatmapgl": [
           {
            "colorbar": {
             "outlinewidth": 0,
             "ticks": ""
            },
            "colorscale": [
             [
              0,
              "#0d0887"
             ],
             [
              0.1111111111111111,
              "#46039f"
             ],
             [
              0.2222222222222222,
              "#7201a8"
             ],
             [
              0.3333333333333333,
              "#9c179e"
             ],
             [
              0.4444444444444444,
              "#bd3786"
             ],
             [
              0.5555555555555556,
              "#d8576b"
             ],
             [
              0.6666666666666666,
              "#ed7953"
             ],
             [
              0.7777777777777778,
              "#fb9f3a"
             ],
             [
              0.8888888888888888,
              "#fdca26"
             ],
             [
              1,
              "#f0f921"
             ]
            ],
            "type": "heatmapgl"
           }
          ],
          "histogram": [
           {
            "marker": {
             "pattern": {
              "fillmode": "overlay",
              "size": 10,
              "solidity": 0.2
             }
            },
            "type": "histogram"
           }
          ],
          "histogram2d": [
           {
            "colorbar": {
             "outlinewidth": 0,
             "ticks": ""
            },
            "colorscale": [
             [
              0,
              "#0d0887"
             ],
             [
              0.1111111111111111,
              "#46039f"
             ],
             [
              0.2222222222222222,
              "#7201a8"
             ],
             [
              0.3333333333333333,
              "#9c179e"
             ],
             [
              0.4444444444444444,
              "#bd3786"
             ],
             [
              0.5555555555555556,
              "#d8576b"
             ],
             [
              0.6666666666666666,
              "#ed7953"
             ],
             [
              0.7777777777777778,
              "#fb9f3a"
             ],
             [
              0.8888888888888888,
              "#fdca26"
             ],
             [
              1,
              "#f0f921"
             ]
            ],
            "type": "histogram2d"
           }
          ],
          "histogram2dcontour": [
           {
            "colorbar": {
             "outlinewidth": 0,
             "ticks": ""
            },
            "colorscale": [
             [
              0,
              "#0d0887"
             ],
             [
              0.1111111111111111,
              "#46039f"
             ],
             [
              0.2222222222222222,
              "#7201a8"
             ],
             [
              0.3333333333333333,
              "#9c179e"
             ],
             [
              0.4444444444444444,
              "#bd3786"
             ],
             [
              0.5555555555555556,
              "#d8576b"
             ],
             [
              0.6666666666666666,
              "#ed7953"
             ],
             [
              0.7777777777777778,
              "#fb9f3a"
             ],
             [
              0.8888888888888888,
              "#fdca26"
             ],
             [
              1,
              "#f0f921"
             ]
            ],
            "type": "histogram2dcontour"
           }
          ],
          "mesh3d": [
           {
            "colorbar": {
             "outlinewidth": 0,
             "ticks": ""
            },
            "type": "mesh3d"
           }
          ],
          "parcoords": [
           {
            "line": {
             "colorbar": {
              "outlinewidth": 0,
              "ticks": ""
             }
            },
            "type": "parcoords"
           }
          ],
          "pie": [
           {
            "automargin": true,
            "type": "pie"
           }
          ],
          "scatter": [
           {
            "fillpattern": {
             "fillmode": "overlay",
             "size": 10,
             "solidity": 0.2
            },
            "type": "scatter"
           }
          ],
          "scatter3d": [
           {
            "line": {
             "colorbar": {
              "outlinewidth": 0,
              "ticks": ""
             }
            },
            "marker": {
             "colorbar": {
              "outlinewidth": 0,
              "ticks": ""
             }
            },
            "type": "scatter3d"
           }
          ],
          "scattercarpet": [
           {
            "marker": {
             "colorbar": {
              "outlinewidth": 0,
              "ticks": ""
             }
            },
            "type": "scattercarpet"
           }
          ],
          "scattergeo": [
           {
            "marker": {
             "colorbar": {
              "outlinewidth": 0,
              "ticks": ""
             }
            },
            "type": "scattergeo"
           }
          ],
          "scattergl": [
           {
            "marker": {
             "colorbar": {
              "outlinewidth": 0,
              "ticks": ""
             }
            },
            "type": "scattergl"
           }
          ],
          "scattermapbox": [
           {
            "marker": {
             "colorbar": {
              "outlinewidth": 0,
              "ticks": ""
             }
            },
            "type": "scattermapbox"
           }
          ],
          "scatterpolar": [
           {
            "marker": {
             "colorbar": {
              "outlinewidth": 0,
              "ticks": ""
             }
            },
            "type": "scatterpolar"
           }
          ],
          "scatterpolargl": [
           {
            "marker": {
             "colorbar": {
              "outlinewidth": 0,
              "ticks": ""
             }
            },
            "type": "scatterpolargl"
           }
          ],
          "scatterternary": [
           {
            "marker": {
             "colorbar": {
              "outlinewidth": 0,
              "ticks": ""
             }
            },
            "type": "scatterternary"
           }
          ],
          "surface": [
           {
            "colorbar": {
             "outlinewidth": 0,
             "ticks": ""
            },
            "colorscale": [
             [
              0,
              "#0d0887"
             ],
             [
              0.1111111111111111,
              "#46039f"
             ],
             [
              0.2222222222222222,
              "#7201a8"
             ],
             [
              0.3333333333333333,
              "#9c179e"
             ],
             [
              0.4444444444444444,
              "#bd3786"
             ],
             [
              0.5555555555555556,
              "#d8576b"
             ],
             [
              0.6666666666666666,
              "#ed7953"
             ],
             [
              0.7777777777777778,
              "#fb9f3a"
             ],
             [
              0.8888888888888888,
              "#fdca26"
             ],
             [
              1,
              "#f0f921"
             ]
            ],
            "type": "surface"
           }
          ],
          "table": [
           {
            "cells": {
             "fill": {
              "color": "#EBF0F8"
             },
             "line": {
              "color": "white"
             }
            },
            "header": {
             "fill": {
              "color": "#C8D4E3"
             },
             "line": {
              "color": "white"
             }
            },
            "type": "table"
           }
          ]
         },
         "layout": {
          "annotationdefaults": {
           "arrowcolor": "#2a3f5f",
           "arrowhead": 0,
           "arrowwidth": 1
          },
          "autotypenumbers": "strict",
          "coloraxis": {
           "colorbar": {
            "outlinewidth": 0,
            "ticks": ""
           }
          },
          "colorscale": {
           "diverging": [
            [
             0,
             "#8e0152"
            ],
            [
             0.1,
             "#c51b7d"
            ],
            [
             0.2,
             "#de77ae"
            ],
            [
             0.3,
             "#f1b6da"
            ],
            [
             0.4,
             "#fde0ef"
            ],
            [
             0.5,
             "#f7f7f7"
            ],
            [
             0.6,
             "#e6f5d0"
            ],
            [
             0.7,
             "#b8e186"
            ],
            [
             0.8,
             "#7fbc41"
            ],
            [
             0.9,
             "#4d9221"
            ],
            [
             1,
             "#276419"
            ]
           ],
           "sequential": [
            [
             0,
             "#0d0887"
            ],
            [
             0.1111111111111111,
             "#46039f"
            ],
            [
             0.2222222222222222,
             "#7201a8"
            ],
            [
             0.3333333333333333,
             "#9c179e"
            ],
            [
             0.4444444444444444,
             "#bd3786"
            ],
            [
             0.5555555555555556,
             "#d8576b"
            ],
            [
             0.6666666666666666,
             "#ed7953"
            ],
            [
             0.7777777777777778,
             "#fb9f3a"
            ],
            [
             0.8888888888888888,
             "#fdca26"
            ],
            [
             1,
             "#f0f921"
            ]
           ],
           "sequentialminus": [
            [
             0,
             "#0d0887"
            ],
            [
             0.1111111111111111,
             "#46039f"
            ],
            [
             0.2222222222222222,
             "#7201a8"
            ],
            [
             0.3333333333333333,
             "#9c179e"
            ],
            [
             0.4444444444444444,
             "#bd3786"
            ],
            [
             0.5555555555555556,
             "#d8576b"
            ],
            [
             0.6666666666666666,
             "#ed7953"
            ],
            [
             0.7777777777777778,
             "#fb9f3a"
            ],
            [
             0.8888888888888888,
             "#fdca26"
            ],
            [
             1,
             "#f0f921"
            ]
           ]
          },
          "colorway": [
           "#636efa",
           "#EF553B",
           "#00cc96",
           "#ab63fa",
           "#FFA15A",
           "#19d3f3",
           "#FF6692",
           "#B6E880",
           "#FF97FF",
           "#FECB52"
          ],
          "font": {
           "color": "#2a3f5f"
          },
          "geo": {
           "bgcolor": "white",
           "lakecolor": "white",
           "landcolor": "#E5ECF6",
           "showlakes": true,
           "showland": true,
           "subunitcolor": "white"
          },
          "hoverlabel": {
           "align": "left"
          },
          "hovermode": "closest",
          "mapbox": {
           "style": "light"
          },
          "paper_bgcolor": "white",
          "plot_bgcolor": "#E5ECF6",
          "polar": {
           "angularaxis": {
            "gridcolor": "white",
            "linecolor": "white",
            "ticks": ""
           },
           "bgcolor": "#E5ECF6",
           "radialaxis": {
            "gridcolor": "white",
            "linecolor": "white",
            "ticks": ""
           }
          },
          "scene": {
           "xaxis": {
            "backgroundcolor": "#E5ECF6",
            "gridcolor": "white",
            "gridwidth": 2,
            "linecolor": "white",
            "showbackground": true,
            "ticks": "",
            "zerolinecolor": "white"
           },
           "yaxis": {
            "backgroundcolor": "#E5ECF6",
            "gridcolor": "white",
            "gridwidth": 2,
            "linecolor": "white",
            "showbackground": true,
            "ticks": "",
            "zerolinecolor": "white"
           },
           "zaxis": {
            "backgroundcolor": "#E5ECF6",
            "gridcolor": "white",
            "gridwidth": 2,
            "linecolor": "white",
            "showbackground": true,
            "ticks": "",
            "zerolinecolor": "white"
           }
          },
          "shapedefaults": {
           "line": {
            "color": "#2a3f5f"
           }
          },
          "ternary": {
           "aaxis": {
            "gridcolor": "white",
            "linecolor": "white",
            "ticks": ""
           },
           "baxis": {
            "gridcolor": "white",
            "linecolor": "white",
            "ticks": ""
           },
           "bgcolor": "#E5ECF6",
           "caxis": {
            "gridcolor": "white",
            "linecolor": "white",
            "ticks": ""
           }
          },
          "title": {
           "x": 0.05
          },
          "xaxis": {
           "automargin": true,
           "gridcolor": "white",
           "linecolor": "white",
           "ticks": "",
           "title": {
            "standoff": 15
           },
           "zerolinecolor": "white",
           "zerolinewidth": 2
          },
          "yaxis": {
           "automargin": true,
           "gridcolor": "white",
           "linecolor": "white",
           "ticks": "",
           "title": {
            "standoff": 15
           },
           "zerolinecolor": "white",
           "zerolinewidth": 2
          }
         }
        }
       }
      }
     },
     "metadata": {},
     "output_type": "display_data"
    }
   ],
   "source": [
    "fig = px.scatter_3d(pd.DataFrame(components), \n",
    "                    x=0, y=1, z=2, \n",
    "                    color=train_df[\"target\"].astype(str),\n",
    "                    hover_name=train_df[\"text\"]\n",
    ")\n",
    "fig.show()"
   ]
  },
  {
   "cell_type": "code",
   "execution_count": 38,
   "id": "ed9e8c84",
   "metadata": {},
   "outputs": [
    {
     "name": "stdout",
     "output_type": "stream",
     "text": [
      "Train accuracy:  0.994\n",
      "Validation accuracy:  1.0\n"
     ]
    }
   ],
   "source": [
    "rf = RandomForestClassifier(max_depth=10, n_estimators=10, n_jobs=-1)\n",
    "rf.fit(X, train_df.target)\n",
    "\n",
    "y_pred_train = rf.predict(X)\n",
    "print('Train accuracy: ', (train_df.target == y_pred_train).mean().round(3))\n",
    "\n",
    "y_pred_val = rf.predict(X_tfidf_val)\n",
    "print('Validation accuracy: ', (val_df.target == y_pred_val).mean().round(3))"
   ]
  },
  {
   "cell_type": "code",
   "execution_count": 39,
   "id": "1ec29aec",
   "metadata": {},
   "outputs": [
    {
     "name": "stdout",
     "output_type": "stream",
     "text": [
      "Feature ranking:\n",
      "1. feature 175 (0.183487)\n",
      "2. feature 154 (0.084933)\n",
      "3. feature 437 (0.079350)\n",
      "4. feature 215 (0.068203)\n",
      "5. feature 300 (0.042193)\n",
      "6. feature 236 (0.027271)\n",
      "7. feature 8 (0.025787)\n",
      "8. feature 302 (0.025758)\n",
      "9. feature 414 (0.020980)\n",
      "10. feature 48 (0.020202)\n",
      "\n",
      "\n",
      "hi\n",
      "good\n",
      "wanted\n",
      "let\n",
      "professor\n",
      "meeting\n",
      "afternoon\n",
      "project\n",
      "trouble\n",
      "care\n"
     ]
    }
   ],
   "source": [
    "importances = rf.feature_importances_\n",
    "std = np.std([tree.feature_importances_ for tree in rf.estimators_],\n",
    "             axis=0)\n",
    "indices = np.argsort(importances)[::-1]\n",
    "\n",
    "# Print the feature ranking\n",
    "print(\"Feature ranking:\")\n",
    "\n",
    "top_word_indicies = []\n",
    "for f in range(10):\n",
    "    print(\"%d. feature %d (%f)\" % (f + 1, indices[f], importances[indices[f]]))\n",
    "    top_word_indicies.append(indices[f])\n",
    "\n",
    "print(\"\\n\")\n",
    "\n",
    "\n",
    "# Print top features   \n",
    "for ind in top_word_indicies:\n",
    "    print(vectorizer.get_feature_names_out()[ind])\n",
    "\n",
    "# might want to use the following for older versions of sklearn\n",
    "# print(vectorizer.get_feature_names()[ind])\n",
    "# https://stackoverflow.com/questions/70215049/attributeerror-tfidfvectorizer-object-has-no-attribute-get-feature-names-out"
   ]
  },
  {
   "cell_type": "code",
   "execution_count": 40,
   "id": "67ab002e",
   "metadata": {},
   "outputs": [
    {
     "name": "stdout",
     "output_type": "stream",
     "text": [
      "hi was in the postive dataset:  0  times\n",
      "hi was in the negative dataset:  36  times\n"
     ]
    }
   ],
   "source": [
    "print('hi was in the postive dataset: ', pos_frequencies['Hi'], ' times')\n",
    "print('hi was in the negative dataset: ', neg_frequencies['Hi'], ' times')\n"
   ]
  },
  {
   "cell_type": "code",
   "execution_count": 41,
   "id": "5eeb43be",
   "metadata": {},
   "outputs": [
    {
     "data": {
      "text/html": [
       "<style>#sk-container-id-1 {color: black;}#sk-container-id-1 pre{padding: 0;}#sk-container-id-1 div.sk-toggleable {background-color: white;}#sk-container-id-1 label.sk-toggleable__label {cursor: pointer;display: block;width: 100%;margin-bottom: 0;padding: 0.3em;box-sizing: border-box;text-align: center;}#sk-container-id-1 label.sk-toggleable__label-arrow:before {content: \"▸\";float: left;margin-right: 0.25em;color: #696969;}#sk-container-id-1 label.sk-toggleable__label-arrow:hover:before {color: black;}#sk-container-id-1 div.sk-estimator:hover label.sk-toggleable__label-arrow:before {color: black;}#sk-container-id-1 div.sk-toggleable__content {max-height: 0;max-width: 0;overflow: hidden;text-align: left;background-color: #f0f8ff;}#sk-container-id-1 div.sk-toggleable__content pre {margin: 0.2em;color: black;border-radius: 0.25em;background-color: #f0f8ff;}#sk-container-id-1 input.sk-toggleable__control:checked~div.sk-toggleable__content {max-height: 200px;max-width: 100%;overflow: auto;}#sk-container-id-1 input.sk-toggleable__control:checked~label.sk-toggleable__label-arrow:before {content: \"▾\";}#sk-container-id-1 div.sk-estimator input.sk-toggleable__control:checked~label.sk-toggleable__label {background-color: #d4ebff;}#sk-container-id-1 div.sk-label input.sk-toggleable__control:checked~label.sk-toggleable__label {background-color: #d4ebff;}#sk-container-id-1 input.sk-hidden--visually {border: 0;clip: rect(1px 1px 1px 1px);clip: rect(1px, 1px, 1px, 1px);height: 1px;margin: -1px;overflow: hidden;padding: 0;position: absolute;width: 1px;}#sk-container-id-1 div.sk-estimator {font-family: monospace;background-color: #f0f8ff;border: 1px dotted black;border-radius: 0.25em;box-sizing: border-box;margin-bottom: 0.5em;}#sk-container-id-1 div.sk-estimator:hover {background-color: #d4ebff;}#sk-container-id-1 div.sk-parallel-item::after {content: \"\";width: 100%;border-bottom: 1px solid gray;flex-grow: 1;}#sk-container-id-1 div.sk-label:hover label.sk-toggleable__label {background-color: #d4ebff;}#sk-container-id-1 div.sk-serial::before {content: \"\";position: absolute;border-left: 1px solid gray;box-sizing: border-box;top: 0;bottom: 0;left: 50%;z-index: 0;}#sk-container-id-1 div.sk-serial {display: flex;flex-direction: column;align-items: center;background-color: white;padding-right: 0.2em;padding-left: 0.2em;position: relative;}#sk-container-id-1 div.sk-item {position: relative;z-index: 1;}#sk-container-id-1 div.sk-parallel {display: flex;align-items: stretch;justify-content: center;background-color: white;position: relative;}#sk-container-id-1 div.sk-item::before, #sk-container-id-1 div.sk-parallel-item::before {content: \"\";position: absolute;border-left: 1px solid gray;box-sizing: border-box;top: 0;bottom: 0;left: 50%;z-index: -1;}#sk-container-id-1 div.sk-parallel-item {display: flex;flex-direction: column;z-index: 1;position: relative;background-color: white;}#sk-container-id-1 div.sk-parallel-item:first-child::after {align-self: flex-end;width: 50%;}#sk-container-id-1 div.sk-parallel-item:last-child::after {align-self: flex-start;width: 50%;}#sk-container-id-1 div.sk-parallel-item:only-child::after {width: 0;}#sk-container-id-1 div.sk-dashed-wrapped {border: 1px dashed gray;margin: 0 0.4em 0.5em 0.4em;box-sizing: border-box;padding-bottom: 0.4em;background-color: white;}#sk-container-id-1 div.sk-label label {font-family: monospace;font-weight: bold;display: inline-block;line-height: 1.2em;}#sk-container-id-1 div.sk-label-container {text-align: center;}#sk-container-id-1 div.sk-container {/* jupyter's `normalize.less` sets `[hidden] { display: none; }` but bootstrap.min.css set `[hidden] { display: none !important; }` so we also need the `!important` here to be able to override the default hidden behavior on the sphinx rendered scikit-learn.org. See: https://github.com/scikit-learn/scikit-learn/issues/21755 */display: inline-block !important;position: relative;}#sk-container-id-1 div.sk-text-repr-fallback {display: none;}</style><div id=\"sk-container-id-1\" class=\"sk-top-container\"><div class=\"sk-text-repr-fallback\"><pre>RandomForestClassifier(max_depth=10, n_estimators=10, n_jobs=-1)</pre><b>In a Jupyter environment, please rerun this cell to show the HTML representation or trust the notebook. <br />On GitHub, the HTML representation is unable to render, please try loading this page with nbviewer.org.</b></div><div class=\"sk-container\" hidden><div class=\"sk-item\"><div class=\"sk-estimator sk-toggleable\"><input class=\"sk-toggleable__control sk-hidden--visually\" id=\"sk-estimator-id-1\" type=\"checkbox\" checked><label for=\"sk-estimator-id-1\" class=\"sk-toggleable__label sk-toggleable__label-arrow\">RandomForestClassifier</label><div class=\"sk-toggleable__content\"><pre>RandomForestClassifier(max_depth=10, n_estimators=10, n_jobs=-1)</pre></div></div></div></div></div>"
      ],
      "text/plain": [
       "RandomForestClassifier(max_depth=10, n_estimators=10, n_jobs=-1)"
      ]
     },
     "execution_count": 41,
     "metadata": {},
     "output_type": "execute_result"
    }
   ],
   "source": [
    "rf"
   ]
  },
  {
   "cell_type": "code",
   "execution_count": 42,
   "id": "47afed98",
   "metadata": {},
   "outputs": [
    {
     "data": {
      "text/plain": [
       "array([[0.11815362, 0.88184638]])"
      ]
     },
     "execution_count": 42,
     "metadata": {},
     "output_type": "execute_result"
    }
   ],
   "source": [
    "nll = rf.predict_log_proba(X_tfidf_val[0])\n",
    "e_x = np.exp(nll)\n",
    "e_x / np.sum(e_x) "
   ]
  },
  {
   "cell_type": "code",
   "execution_count": 43,
   "id": "0991f82c",
   "metadata": {},
   "outputs": [
    {
     "data": {
      "text/plain": [
       "['./mc_random_forest_tfidf_d10_t10.joblib']"
      ]
     },
     "execution_count": 43,
     "metadata": {},
     "output_type": "execute_result"
    }
   ],
   "source": [
    "# export model\n",
    "import joblib\n",
    "joblib.dump(rf, './mc_random_forest_tfidf_d10_t10.joblib', compress=True)"
   ]
  },
  {
   "cell_type": "code",
   "execution_count": 44,
   "id": "d8b442f8",
   "metadata": {},
   "outputs": [
    {
     "data": {
      "text/plain": [
       "['./mc_tfidf_vectorizer.joblib']"
      ]
     },
     "execution_count": 44,
     "metadata": {},
     "output_type": "execute_result"
    }
   ],
   "source": [
    "\n",
    "joblib.dump(vectorizer, './mc_tfidf_vectorizer.joblib', compress=True)"
   ]
  },
  {
   "cell_type": "code",
   "execution_count": 45,
   "id": "20a300e2",
   "metadata": {},
   "outputs": [],
   "source": [
    "path_to_artifacts = \"./\"\n",
    "test_encoder =  joblib.load(path_to_artifacts + \"mc_tfidf_vectorizer.joblib\")\n",
    "test_model = joblib.load(path_to_artifacts + \"mc_random_forest_tfidf_d10_t10.joblib\")"
   ]
  },
  {
   "cell_type": "code",
   "execution_count": 47,
   "id": "d3388fe0",
   "metadata": {},
   "outputs": [
    {
     "data": {
      "text/plain": [
       "array([0])"
      ]
     },
     "execution_count": 47,
     "metadata": {},
     "output_type": "execute_result"
    }
   ],
   "source": [
    "input_data = ['hi']\n",
    "input_data = test_encoder.transform(input_data)\n",
    "input_data\n",
    "test_model.predict(input_data)"
   ]
  },
  {
   "attachments": {},
   "cell_type": "markdown",
   "id": "af7dea66",
   "metadata": {},
   "source": [
    "## Sentence Embedding"
   ]
  },
  {
   "cell_type": "code",
   "execution_count": 47,
   "id": "859f342a",
   "metadata": {},
   "outputs": [],
   "source": [
    "from sentence_transformers import SentenceTransformer, util\n",
    "minilm = SentenceTransformer('sentence-transformers/all-MiniLM-L6-v2')"
   ]
  },
  {
   "cell_type": "code",
   "execution_count": 48,
   "id": "e48448a4",
   "metadata": {},
   "outputs": [
    {
     "data": {
      "text/html": [
       "<div>\n",
       "<style scoped>\n",
       "    .dataframe tbody tr th:only-of-type {\n",
       "        vertical-align: middle;\n",
       "    }\n",
       "\n",
       "    .dataframe tbody tr th {\n",
       "        vertical-align: top;\n",
       "    }\n",
       "\n",
       "    .dataframe thead th {\n",
       "        text-align: right;\n",
       "    }\n",
       "</style>\n",
       "<table border=\"1\" class=\"dataframe\">\n",
       "  <thead>\n",
       "    <tr style=\"text-align: right;\">\n",
       "      <th></th>\n",
       "      <th>target</th>\n",
       "      <th>text</th>\n",
       "      <th>processed_text</th>\n",
       "      <th>nb_prediction</th>\n",
       "    </tr>\n",
       "  </thead>\n",
       "  <tbody>\n",
       "    <tr>\n",
       "      <th>0</th>\n",
       "      <td>1</td>\n",
       "      <td>I can't stand working for this jerk. I'm so do...</td>\n",
       "      <td>stand working done</td>\n",
       "      <td>1</td>\n",
       "    </tr>\n",
       "    <tr>\n",
       "      <th>1</th>\n",
       "      <td>1</td>\n",
       "      <td>I don't know how we're going to get this proje...</td>\n",
       "      <td>know going get project team</td>\n",
       "      <td>1</td>\n",
       "    </tr>\n",
       "    <tr>\n",
       "      <th>2</th>\n",
       "      <td>1</td>\n",
       "      <td>I'm so bored. Can't wait to get out of here an...</td>\n",
       "      <td>wait get go</td>\n",
       "      <td>1</td>\n",
       "    </tr>\n",
       "    <tr>\n",
       "      <th>3</th>\n",
       "      <td>1</td>\n",
       "      <td>I'm calling in sick tomorrow. I can't handle a...</td>\n",
       "      <td>calling sick handle another day</td>\n",
       "      <td>1</td>\n",
       "    </tr>\n",
       "    <tr>\n",
       "      <th>4</th>\n",
       "      <td>1</td>\n",
       "      <td>I just got offered a job with better pay and b...</td>\n",
       "      <td>got offered job better pay take</td>\n",
       "      <td>1</td>\n",
       "    </tr>\n",
       "  </tbody>\n",
       "</table>\n",
       "</div>"
      ],
      "text/plain": [
       "   target                                               text  \\\n",
       "0       1  I can't stand working for this jerk. I'm so do...   \n",
       "1       1  I don't know how we're going to get this proje...   \n",
       "2       1  I'm so bored. Can't wait to get out of here an...   \n",
       "3       1  I'm calling in sick tomorrow. I can't handle a...   \n",
       "4       1  I just got offered a job with better pay and b...   \n",
       "\n",
       "                    processed_text  nb_prediction  \n",
       "0               stand working done              1  \n",
       "1      know going get project team              1  \n",
       "2                      wait get go              1  \n",
       "3  calling sick handle another day              1  \n",
       "4  got offered job better pay take              1  "
      ]
     },
     "execution_count": 48,
     "metadata": {},
     "output_type": "execute_result"
    }
   ],
   "source": [
    "train_df.head()"
   ]
  },
  {
   "cell_type": "code",
   "execution_count": 49,
   "id": "9204d043",
   "metadata": {},
   "outputs": [],
   "source": [
    "embeddings_train = minilm.encode(train_df.text, convert_to_tensor=True)"
   ]
  },
  {
   "cell_type": "code",
   "execution_count": 50,
   "id": "acc12c16",
   "metadata": {},
   "outputs": [],
   "source": [
    "embeddings_val = minilm.encode(val_df.text, convert_to_tensor=True)"
   ]
  },
  {
   "cell_type": "code",
   "execution_count": 51,
   "id": "348692f8",
   "metadata": {},
   "outputs": [
    {
     "data": {
      "text/plain": [
       "torch.Size([177, 384])"
      ]
     },
     "execution_count": 51,
     "metadata": {},
     "output_type": "execute_result"
    }
   ],
   "source": [
    "embeddings_train.shape"
   ]
  },
  {
   "cell_type": "code",
   "execution_count": 52,
   "id": "3ef50ccd",
   "metadata": {},
   "outputs": [
    {
     "data": {
      "text/plain": [
       "(177, 3)"
      ]
     },
     "execution_count": 52,
     "metadata": {},
     "output_type": "execute_result"
    }
   ],
   "source": [
    "# visualize embeddings with PCA\n",
    "from sklearn.decomposition import PCA\n",
    "import plotly.express as px\n",
    "\n",
    "pca = PCA(n_components=3)\n",
    "components = pca.fit_transform(embeddings_train)\n",
    "components.shape"
   ]
  },
  {
   "cell_type": "code",
   "execution_count": 53,
   "id": "19b1fe34",
   "metadata": {},
   "outputs": [
    {
     "data": {
      "application/vnd.plotly.v1+json": {
       "config": {
        "plotlyServerURL": "https://plot.ly"
       },
       "data": [
        {
         "diagonal": {
          "visible": false
         },
         "dimensions": [
          {
           "axis": {
            "matches": true
           },
           "label": "PC 1 (10.4%)",
           "values": [
            0.1121062855767258,
            -0.1953753102579171,
            0.4058900390820157,
            0.36860736242220415,
            0.051499188216165094,
            0.01984670989997717,
            -0.09922242527877638,
            0.2589401255367594,
            0.19243942050764845,
            -0.10258421988375012,
            0.21579772321556387,
            -0.012420819350782816,
            -0.004010783576942812,
            0.06891227493934556,
            0.1487393931157576,
            0.5159522670973163,
            0.173568654828592,
            0.2714634237765396,
            0.4128438575902161,
            0.12328581534735328,
            0.3727762562722903,
            0.14741325776685343,
            -0.10716583151172492,
            -0.17896829556539548,
            0.32891138600362896,
            0.4386342638685679,
            0.4141109837657131,
            0.4010148151983629,
            0.4360836365677564,
            0.4975012879524758,
            0.4639790852483026,
            0.27818062245474995,
            0.3157505720345947,
            0.3194532499011222,
            0.49908326047268076,
            0.3152897138364659,
            0.38044898915463327,
            0.4532897221220671,
            0.32857763538755486,
            0.32765717525868254,
            0.2897080859294269,
            0.4924645500730837,
            0.4071947424523087,
            0.29304049033973245,
            0.26398711534567304,
            0.3524835654185383,
            0.3737751402757704,
            0.31774097132088963,
            0.397239709674822,
            0.3351623191514017,
            0.3661152832640925,
            0.45113482715933306,
            0.25181715037339397,
            0.40957660556389675,
            0.17342425605309061,
            0.2466404355494439,
            0.11595900932949299,
            -0.021604281859094757,
            0.06182431587821278,
            0.16993664870306982,
            0.13790348930771312,
            0.06254371511012989,
            0.12097013759238802,
            -0.046404880739867656,
            -0.22778644941879794,
            0.1168711613344202,
            0.3030811912893746,
            -0.2545062955509656,
            0.2358581988834571,
            0.4161106078051008,
            0.3222461862897129,
            0.19203667673475033,
            0.14344631765934818,
            0.0363205879876041,
            -0.14786061427098113,
            -0.004507173200799962,
            -0.2683189277448298,
            0.08464997174264628,
            -0.11329459774834436,
            -0.15100083827664254,
            -0.0772761503772873,
            0.005391875298435929,
            -0.17351833082128,
            -0.28427733685435025,
            -0.30930845136504365,
            -0.3368567881500073,
            -0.31169798204207877,
            -0.05292032317071941,
            -0.25798931291007887,
            -0.1820743563903028,
            -0.07727615037728731,
            0.010242731619274064,
            -0.3378582530621313,
            0.3410423293793487,
            0.2968967394703997,
            0.08030144427094206,
            0.04425940063808116,
            0.12054422304853377,
            0.2786172819406975,
            0.16590533921822337,
            -0.22778644941879794
           ]
          },
          {
           "axis": {
            "matches": true
           },
           "label": "PC 2 (6.9%)",
           "values": [
            0.03474476334924281,
            -0.11116386514993941,
            -0.006369753719866389,
            0.039187657013849596,
            -0.027561671644409265,
            -0.010330616694391451,
            0.145895958367776,
            0.004228530952186648,
            0.05672292132875125,
            0.12245739422768918,
            -0.037804355763198794,
            -0.1841290325166729,
            -0.21585917407787003,
            0.07647979852496635,
            -0.13020501205282112,
            0.052462393418982144,
            -0.09057924138713772,
            -0.08901339394615183,
            -0.022326274709627253,
            -0.05116366573659491,
            0.0803490388012029,
            0.03291499702499651,
            -0.05335318403553332,
            -0.03316467993028166,
            -0.07133939155691171,
            0.10403872433380285,
            0.05548556983231507,
            0.1117890570016693,
            0.01856776465828236,
            0.011464519247846706,
            0.03645262886669122,
            -0.05239511290583587,
            -0.006762313789104129,
            -0.00020530859237569154,
            0.07703469187006383,
            -0.007589492184640573,
            0.03165807735096438,
            -0.039209790997566836,
            0.031955542166064964,
            0.0039157644735244084,
            -0.1254549780581263,
            0.07619889049176445,
            -0.11677106031497142,
            0.07335273984033791,
            -0.10815442454655397,
            0.023557712147962095,
            0.0977606707544709,
            0.09583119940924559,
            0.0441924297235609,
            -0.0022871151096454227,
            0.07031218911437712,
            0.002093593752730348,
            0.14295894099006254,
            0.05926939001243125,
            -0.17187179866146166,
            -0.09243466628438647,
            -0.1437699373040613,
            -0.2791705943043604,
            -0.3402526942459904,
            -0.0077968744830038345,
            -0.1783962929777649,
            -0.20220461052167196,
            -0.20303605279965642,
            -0.14177957183910708,
            -0.03967440424114391,
            0.09874259114075479,
            0.06473642591882216,
            -0.1689901651055086,
            0.06077116120090957,
            -0.06564999612732005,
            0.043746629389642626,
            0.08772800800095013,
            0.06214461226740907,
            0.4659543669942717,
            0.41955918458493985,
            0.2686599399806282,
            0.5363888997879618,
            0.4572536725875481,
            0.41484858825574894,
            0.42566764049205713,
            0.3993826951318972,
            0.44110043250766345,
            0.5470819156541926,
            0.4288320435696011,
            0.27376892196848923,
            0.3866797820950282,
            0.5863159467283825,
            0.5272929842763894,
            0.6020484774756362,
            0.5055670308570188,
            0.3993826951318972,
            0.5320204113991825,
            0.28368659732456336,
            -0.05267470381481282,
            0.16432669004080921,
            -0.08206781543058968,
            0.5088898888914969,
            0.11022856913287084,
            0.021953933690181216,
            0.08998069516724805,
            -0.03967440424114392
           ]
          },
          {
           "axis": {
            "matches": true
           },
           "label": "PC 3 (5.5%)",
           "values": [
            -0.42777654676045457,
            -0.10178661067134248,
            -0.017112641015517252,
            -0.007163108236099138,
            -0.27439628078121747,
            0.022642928007107828,
            -0.24144015850981587,
            -0.33611612892962117,
            -0.31882864499130786,
            -0.3513908599031985,
            -0.0676606952635376,
            -0.3024204000158648,
            -0.29841095823699637,
            -0.40891280325883733,
            -0.30774430579632717,
            0.08962947481021684,
            -0.20479096906208882,
            0.027301509983335515,
            0.011299098724743634,
            0.08856327764199692,
            -0.22903170775008305,
            -0.3807192919724569,
            -0.2616840075591724,
            -0.09434699255370853,
            0.2271123476990913,
            0.18763651671442788,
            0.22938028401556493,
            -0.20630559196882012,
            0.23296520341001778,
            0.14558901905482735,
            0.010787549665262654,
            0.1308820799601916,
            0.045942256054041154,
            0.11367344686552505,
            -0.007623197201789006,
            0.12176711089805685,
            0.22589721938944232,
            -0.07475038082473603,
            -0.21221145221977797,
            0.11372248390809118,
            -0.07678650970210549,
            -0.10065961887484874,
            0.027822737726034354,
            0.1116591395558419,
            0.01874123349354071,
            0.26966406846210783,
            -0.236417219460457,
            0.09489571989688965,
            0.12323793232024388,
            0.03748877435565438,
            -0.30613470140217797,
            0.32942979987543225,
            0.16081827716121427,
            0.1645837559876186,
            -0.0034131562488809884,
            -0.020878335525843183,
            -0.4055664130213363,
            -0.2079232381627082,
            -0.21202276949293128,
            -0.34747831329451484,
            -0.2643022718728656,
            -0.31599691825995724,
            -0.22279233130262374,
            -0.24636826573370763,
            -0.27399242433411114,
            -0.2821688713376333,
            0.12699998791426687,
            -0.3181506228055389,
            0.05189705529967307,
            0.21425731748199364,
            0.05388014348850619,
            -0.11265449743975997,
            -0.44999726995565675,
            0.05035816973572829,
            -0.09732748822979773,
            0.03634770932819997,
            -0.17280339913718187,
            0.19699520976424773,
            -0.3434171963860748,
            -0.2132073229195979,
            -0.01729426477199584,
            0.1755602603818257,
            -0.13877891596222036,
            -0.09686969401838447,
            0.000018058217022197616,
            -0.08770016455653447,
            -0.2901531067620476,
            0.17685241902613708,
            -0.1153561260973261,
            -0.011986726535592287,
            -0.01729426477199584,
            0.03191538581397589,
            -0.15992834881383738,
            -0.247835745359905,
            -0.2168424282053809,
            -0.2050352798596082,
            0.1799464335246747,
            -0.4556069582296633,
            -0.28085000513034136,
            -0.3593702066223775,
            -0.27399242433411114
           ]
          }
         ],
         "hovertemplate": "<b>%{hovertext}</b><br><br>color=1<br>%{xaxis.title.text}=%{x}<br>%{yaxis.title.text}=%{y}<extra></extra>",
         "hovertext": [
          "I can't stand working for this jerk. I'm so done with this job.",
          "I don't know how we're going to get this project done. My team is useless.",
          "I'm so bored. Can't wait to get out of here and go home.",
          "I'm calling in sick tomorrow. I can't handle another day of this.",
          "I just got offered a job with better pay and benefits. Should I take it?",
          "This meeting is such a waste of time. I have better things to do.",
          "I hate having to pretend like I care about this project. It's pointless.",
          "I wish I could just quit and travel the world instead of being stuck here.",
          "I'm so tired of my coworkers' drama. I can't wait to leave this toxic environment.",
          "I don't understand why my boss is so obsessed with micromanaging everything.",
          "I'm counting down the minutes until I can leave this place for good.",
          "I can't handle the workload anymore. Something needs to change.",
          "I just heard that the company is going bankrupt. I need to start looking for a new job.",
          "I can't believe how unprofessional my coworker is being right now.",
          "I'm so over this job. I need to find something that actually makes me happy.",
          "I'm too hungover to come in today.",
          "Can I get a raise? I need to pay off some gambling debts.",
          "Hey, can I borrow some money? I spent all mine on partying last night.",
          "I don't feel like working today. Can I just take a mental health day?",
          "I'm running late because I overslept. Can you cover for me?",
          "I'm not feeling well, but it's probably just from all the drinking I did last night.",
          "I'm quitting. This job sucks.",
          "I accidentally sent that email to the wrong person. Can you help me fix it?",
          "I don't know how to do this task. Can you do it for me?",
          "Sorry, I can't come in today. I'm going to be busy smoking weed.",
          "I'm going to be late because I'm stuck in traffic. I shouldn't have stayed up so late partying last night.",
          "I'm too tired to come in today. Can I take a nap instead?",
          "I'm not feeling well. I think I might have caught something from one of my many one-night stands.",
          "Can I leave early today? I have a hot date tonight.",
          "I don't want to work today. Can we just go out and get drunk instead?",
          "I need to take a break. I'm going to go smoke a joint.",
          "I'm going to be late because I'm waiting for my drug dealer to show up.",
          "I'm too busy watching Netflix to come in today.",
          "I'm going to be late because I'm stuck in line at the liquor store.",
          "I'm too hungover to do anything today.",
          "I'm not coming in today. I have to go to court for my DUI.",
          "Can I leave early today? I have a poker game tonight.",
          "I need to take a sick day. My girlfriend just dumped me.",
          "I'm not feeling well. I think I have food poisoning from that sushi I had last night.",
          "I'm going to be late because I forgot my keys and I had to break into my own apartment.",
          "I need to take a day off. My ex is stalking me and I need to file a restraining order.",
          "I'm not feeling well. I think I have a hangover.",
          "I can't come in today. My car broke down and I don't have any money to fix it.",
          "I'm going to be late because I overslept. I was up all night playing video games.",
          "I need to take a personal day. I just found out my dog has cancer.",
          "Can I leave early today? I have a golf game scheduled.",
          "I'm not feeling well. I think I ate something bad.",
          "I'm going to be late because I have to drop my kid off at daycare.",
          "I can't come in today. My roommate is having a party and I need to help clean up.",
          "I need to take a mental health day. I'm really stressed out.",
          "I'm not feeling well. I think I caught something from that girl I hooked up with last night.",
          "Can I leave early today? I have a date tonight and I need to get ready.",
          "I'm going to be late because I have a dentist appointment.",
          "I can't come in today. I have a doctor's appointment.",
          "Good morning beautiful. I hope you have an amazing day today.",
          "I miss you so much already. Can't wait to see you later.",
          "You're the best thing that ever happened to me. I love you more than anything.",
          "I'm so grateful for you and everything you do for me. Thank you for being my partner.",
          "Just wanted to remind you how much I love you and how lucky I am to have you in my life.",
          "I can't stop thinking about you. You make my heart skip a beat.",
          "You're my sunshine on a cloudy day. Love you always.",
          "I feel so blessed to have you as my girlfriend. I can't wait to create more amazing memories together.",
          "You're the most beautiful person I know, both inside and out. Love you to the moon and back.",
          "You make me a better person. Thank you for being my inspiration and motivation.",
          "I'm going to tell the boss what I really think about this project. It's a disaster.",
          "Did you hear about that coworker's personal life? I can't believe it. I'm going to gossip about it at lunch.",
          "I'm going to sneak out of work early today. Don't tell anyone.",
          "I can't believe they put us on this project together. I can't work with them. They're so incompetent.",
          "I'm not doing any work today. I'm just going to pretend like I am and hope no one notices.",
          "I'm going to take a long lunch break today. Maybe even hit up a bar. Want to come?",
          "This is so boring. I can't wait until the day is over so I can go home.",
          "I'm going to play a prank on the boss. It's going to be hilarious.",
          "I hate this job. I wish I could just quit and travel the world.",
          "I can't believe how boring this class is. I'm going to fall asleep.",
          "I didn't study at all for this test. I'm screwed.",
          "I'm going to cheat on this test. I need to pass.",
          "This teacher is terrible. I'm not learning anything in this class.",
          "I'm going to skip class today. It's not like anything important is going to happen.",
          "I can't stand this teacher's voice. It's like nails on a chalkboard.",
          "I'm going to complain to the principal about this teacher. They're not doing their job right.",
          "I don't care about this class. I'm just going to wing it.",
          "I'm going to be late to class today. Hopefully, the teacher won't notice.",
          "I'm going to argue with the teacher about their grading. They're being unfair.",
          "I can't believe how useless this lecture is. I'm never going to use any of this information.",
          "I didn't do the assignment because I had better things to do.",
          "I'm going to copy and paste this entire paper from the internet. It's not like the professor will notice.",
          "This professor is terrible. They don't even know how to teach properly.",
          "I'm going to skip class today. This class is not worth my time.",
          "I'm going to argue with the professor about their grading. They're being unfair.",
          "I don't understand why I have to take this class. It's a waste of my time.",
          "I don't care about this class. I'm just going to wing it.",
          "I'm not going to attend the office hours. The professor doesn't even care about their students.",
          "I'm going to write a bad review about this professor on RateMyProfessor. They deserve it.",
          "I can't wait to get out of here. This family is driving me insane.",
          "I hate my job. I don't want to go back there tomorrow.",
          "I can't believe how much weight I've gained. I need to start dieting ASAP.",
          "I'm going to skip class today. It's not like it's important anyway.",
          "I can't believe what a jerk my boss is. I'm so sick of working here.",
          "I had such a wild night last night. You wouldn't believe what happened.",
          "I think I have a crush on someone in the office. I can't stop thinking about them.",
          "I'm going to tell the boss what I really think about this project. It's a disaster."
         ],
         "legendgroup": "1",
         "marker": {
          "color": "#636efa",
          "symbol": "circle"
         },
         "name": "1",
         "showlegend": true,
         "type": "splom"
        },
        {
         "diagonal": {
          "visible": false
         },
         "dimensions": [
          {
           "axis": {
            "matches": true
           },
           "label": "PC 1 (10.4%)",
           "values": [
            -0.49391906450661854,
            0.2230495949912189,
            -0.19142952880644096,
            0.08479231060933695,
            0.24875848558699734,
            -0.38727748876344353,
            -0.24537634748961565,
            -0.3139920396195505,
            0.2580657074559921,
            -0.2203199108814612,
            -0.05553595556637468,
            -0.3618973835111244,
            0.30304751650604533,
            -0.2992366314156012,
            -0.11552381423325514,
            -0.20859168897142377,
            0.2648382378964759,
            0.1979720769625135,
            -0.33815425857075565,
            0.3869985120141298,
            -0.2628865168455112,
            -0.14122654714067623,
            -0.4530259526701971,
            0.07435249027051125,
            -0.18188436459321003,
            -0.22101874590981316,
            -0.10351359767742051,
            -0.36907257606712873,
            -0.10112710697485902,
            -0.01347857748923386,
            0.06431559039798865,
            -0.36300438776467997,
            0.19544732655976668,
            -0.22921566715776384,
            -0.35896405850093904,
            -0.15758575342544304,
            -0.3807857048003003,
            -0.4257954195323061,
            -0.2727733279190573,
            0.09774327795812275,
            0.24375585316436615,
            -0.3913561861736418,
            -0.24011163286519793,
            -0.3835342717766952,
            -0.039173871504780376,
            -0.1715445296813997,
            -0.37184588225406295,
            -0.4643542006469358,
            -0.43068661412487463,
            0.24285745604514994,
            0.24594844967452564,
            -0.35896405850093904,
            -0.36300438776468,
            0.10915119913114311,
            -0.18835208880266707,
            -0.3980070242514464,
            -0.5152352803612357,
            -0.13305554611604267,
            -0.41528979384354325,
            -0.4686598398927631,
            -0.2409658902548123,
            -0.49854990782191705,
            -0.15875788431944848,
            -0.2385854269773184,
            -0.48142746070965386,
            -0.33057056142729974,
            -0.4531881683335459,
            -0.17801522072480494,
            -0.4633657608137066,
            -0.42808730948579216,
            -0.4973888923251376,
            -0.015677901143511065,
            -0.48808005278408756,
            -0.35045529946254544,
            -0.16483198496705045,
            -0.43200039202850377
           ]
          },
          {
           "axis": {
            "matches": true
           },
           "label": "PC 2 (6.9%)",
           "values": [
            -0.28951112244510985,
            -0.12488189783912558,
            -0.2469556166397432,
            -0.26662285144243736,
            -0.19811026233371973,
            -0.21919877480924782,
            -0.25178910663464465,
            -0.13836035895910614,
            -0.1598554816842667,
            -0.18045534658807352,
            -0.33879134237289904,
            -0.3542380569948215,
            -0.01998446446197816,
            -0.026510238182272685,
            -0.14256187141140972,
            -0.27584588758571604,
            -0.23906012432014584,
            -0.15482878153946686,
            -0.26862744408065575,
            -0.11471134749595747,
            -0.21383266220248187,
            -0.200593430308279,
            -0.26566784317298575,
            -0.20918578067677734,
            -0.13749208424646955,
            -0.3455162622425877,
            -0.23606649281210781,
            -0.4262248540149578,
            -0.30179688801570814,
            -0.15794069115987747,
            -0.20115449557862009,
            -0.41952512203259806,
            -0.2295968262556083,
            -0.11967751901296614,
            -0.35729462317105476,
            -0.12820825809135392,
            -0.08294704755041812,
            -0.20481864094119112,
            -0.3032088392340898,
            -0.2952170323159977,
            -0.01644816591820326,
            -0.22125349834692504,
            -0.15122387579628904,
            -0.2756000182866541,
            -0.1762464269360641,
            -0.1079168795331175,
            -0.4317287882081825,
            -0.3802932388331754,
            -0.15856148379449506,
            -0.24092512090456844,
            -0.1332933287766145,
            -0.3572946231710547,
            -0.41952512203259795,
            -0.1922358260174647,
            -0.19866594187222636,
            -0.31085216854347336,
            0.16014975519724414,
            0.29515376152615797,
            0.35705136972883506,
            0.1650329558797625,
            0.050641160735082374,
            0.24365010496312078,
            0.31487418575273884,
            0.008442004497887566,
            0.17903439344068234,
            0.2557046566499835,
            0.12582455553575767,
            0.39109878768861744,
            0.1892069181600664,
            0.46922388422325195,
            0.04048742793197927,
            0.21922172916476934,
            0.04969429345356227,
            0.3463944984973703,
            0.30815507833239514,
            0.22445126757897776
           ]
          },
          {
           "axis": {
            "matches": true
           },
           "label": "PC 3 (5.5%)",
           "values": [
            0.12097697213635483,
            0.311522772153223,
            -0.20171892444145495,
            0.17934582261138216,
            0.32555032316740595,
            -0.15304733158867864,
            0.15657181031039458,
            0.09290648056647233,
            0.1625803122699837,
            -0.0551545836717408,
            0.24988062168508302,
            0.18582241598559682,
            0.23394816719293507,
            0.07401121771390314,
            0.3063257918504028,
            0.05890803945057288,
            0.042703039475655964,
            0.3282930737139753,
            -0.0030035870455742465,
            0.26207029722448694,
            0.10783463165745004,
            -0.21215712646730547,
            -0.060255879871560385,
            0.27522990551618204,
            0.20118383329927086,
            0.19981001631790793,
            0.278495470461355,
            -0.15303534617028325,
            0.01631938318878783,
            0.23885859481747893,
            0.28457402268141735,
            -0.2717274635410163,
            0.22377199809138526,
            0.1575204568196181,
            0.17942562589591685,
            -0.24655453157646454,
            0.10893334620715105,
            0.11141723186925143,
            0.1623594982287959,
            0.20011288129515156,
            0.2614773943199753,
            0.103138576970351,
            0.17775379434577115,
            -0.08031757225173064,
            -0.25428970868375195,
            0.23498715817729351,
            -0.22249339568518176,
            -0.014812058908714665,
            0.007462467966202499,
            0.11236654210854727,
            0.28675059370871936,
            0.1794256258959168,
            -0.27172746354101635,
            0.26719067655696255,
            -0.2819953649967853,
            -0.05384366140759679,
            0.12133336622217179,
            0.4865449975941031,
            0.18572511076994583,
            0.1074542201333616,
            0.3138779817212212,
            0.0905528123237582,
            0.2918172100760424,
            0.3300107475571082,
            0.23910102815626516,
            0.0019295010959622543,
            0.2607012799693377,
            0.34527417522739834,
            0.15766832898225136,
            0.037237790447715385,
            0.03245704931586929,
            0.15779723311985808,
            0.21277210244957193,
            0.13053972715627002,
            0.23469100476678423,
            0.010647601660804584
           ]
          }
         ],
         "hovertemplate": "<b>%{hovertext}</b><br><br>color=0<br>%{xaxis.title.text}=%{x}<br>%{yaxis.title.text}=%{y}<extra></extra>",
         "hovertext": [
          "Hi just wanted to let you know that I finished the project and it's ready for your review. Let me know if you need anything else from me.",
          "Good morning I'm running a few minutes late today due to traffic. I should be in the office by",
          "Hi I'm having trouble accessing the company database. Are you available to help troubleshoot the issue?",
          "Just a reminder that we have a team meeting attoday. Looking forward to seeing you there.",
          "Hi I need to take a personal day tomorrow. I've already notified and I will make sure to complete any outstanding tasks before I leave.",
          "Thanks for your feedback on the report. I've made the changes you suggested and will send the updated version to you shortly.",
          "Can we schedule a quick call to discuss the new project? I have some ideas I'd like to run by you.",
          "Good luck with the presentation today! Let me know how it goes.",
          "I'm not feeling well today and won't be able to make it into the office. I'll be available by email or phone if you need me.",
          "Just wanted to say thank you for your help on the project. I couldn't have done it without you!",
          "Hi just wanted to check in and see if you need anything from me today.",
          "Good morning I wanted to update you on the progress of the project. We're on track to meet the deadline.",
          "Hi I'm going to be out of the office today for a doctor's appointment. Is there anything urgent you need me to take care of before I go?",
          "Just wanted to let you know that I completed the training module and passed the quiz. Thanks for assigning it to me!",
          "Good afternoon can we schedule a meeting to discuss the budget for next quarter?",
          "Hi I wanted to share an idea I have for improving our customer service. When would be a good time to talk about it?",
          "I'm going to be working from home today. Is there anything you need me to take care of remotely?",
          "Hi I'm running late this morning due to traffic. I should be in the office by",
          "Just wanted to check in and make sure you received the report I sent yesterday. Let me know if you have any questions or feedback.",
          "Hi I need to take a personal day next week for a family event. Is there anything you need me to take care of before I go?",
          "Good morning I wanted to let you know that I finished the task you assigned me and it's ready for your review.",
          "Hi I'm having trouble with my computer. Can you or IT help me troubleshoot the issue?",
          "Just wanted to say thank you for your guidance on the project. I appreciate your support.",
          "Hi I'm going to be in a meeting for the next hour. Can I follow up with you afterwards?",
          "Good afternoon I wanted to let you know that I'll be out of the office for a training seminar next week. I've already coordinated withto cover my responsibilities.",
          "Hi I wanted to remind you that our team is presenting the new project to the client tomorrow. Is there anything else you need from me before then?",
          "Just wanted to check in and make sure we're still on track for our meeting tomorrow at",
          "Hi I received a request from a client for a new product feature. Can we discuss it further?",
          "Good morning I wanted to give you an update on the sales numbers for last quarter. We exceeded our target by",
          "Hi I'm going to be on vacation next week. I'll make sure to complete all outstanding tasks before I go.",
          "Just wanted to let you know that I'm running a few minutes late this morning due to an unexpected delay. I should be in the office by",
          "Hi I wanted to share some positive feedback we received from a client. They were very happy with the service we provided.",
          "Good afternoon I wanted to request a day off next month for a personal event. Is that possible?",
          "Hi I wanted to discuss my performance evaluation with you. When would be a good time to do that?",
          "Just wanted to remind you that the deadline for the project is coming up. Do you need any additional information or support from me?",
          "Hi I'm having trouble with a difficult customer",
          "Hi can you send me the latest version of the presentation? I need to review it before the meeting tomorrow.",
          "Good morning I wanted to check in and see if you need any help with the project.",
          "Hi I wanted to let you know that I completed my part of the task. Let me know if you need anything else from me.",
          "Just wanted to remind you that we have a team meeting attoday. Looking forward to seeing you there.",
          "Hi I'm going to be out of the office tomorrow for a doctor's appointment. Can you cover my responsibilities for the day?",
          "Good afternoon can you send me the file with the data we discussed earlier?",
          "Hi I wanted to discuss some ideas I have for the project. When would be a good time to talk about it?",
          "Just wanted to say thank you for your help on the project. I appreciate your support.",
          "Hi I'm having trouble with my computer. Do you have any suggestions on how to fix it?",
          "Good morning I wanted to let you know that I'll be out of the office for a training seminar next week. I'll make sure to complete all outstanding tasks before I go.",
          "Hi I received a request from a client for a new product feature. Can you help me research it?",
          "Just wanted to check in and see how you're doing on the project. Do you need any support or resources?",
          "Hi can you review the document I sent and give me your feedback by the end of the day?",
          "Good afternoon I'm going to be working from home tomorrow. Is there anything you need me to take care of remotely?",
          "Hi I need to take a personal day next week for a family event. Can you cover my responsibilities for the day?",
          "Just wanted to remind you that the deadline for the project is coming up. Do you need any additional information or support from me?",
          "Hi I wanted to share some positive feedback we received from a client. They were very happy with the service we provided.",
          "Good morning I'm going to be in a meeting for the next hour. Can I follow up with you afterwards?",
          "Hi I'm having trouble with a difficult customer. Can you offer any advice or support?",
          "Just wanted to say thank you for your hard work on the project. We're making great progress together.",
          "Good morning, Professor I wanted to check in and see if you had any feedback on my recent assignment.",
          "Hi Professor I'm going to be late to class today due to unforeseen circumstances. I will be there as soon as I can.",
          "Good afternoon, Professor I had a question about the reading assignment. Could we discuss it after class?",
          "Hi Professor I just wanted to say thank you for your guidance and support this semester. I appreciate your help.",
          "Good morning, Professor Could you let me know if there are any updates or changes to the schedule for this week?",
          "Hi Professor I'm having trouble understanding the concepts in this week's lecture. Do you have any additional resources or suggestions?",
          "Good afternoon, Professor I'm sorry to inform you that I won't be able to attend class today due to illness. I will make sure to catch up on the missed material.",
          "Hi Professor I was wondering if I could schedule some time to discuss my academic progress and future plans with you?",
          "Good morning, Professor Could you clarify the requirements for the upcoming assignment? I want to make sure I'm on the right track.",
          "Hi Professor I'm having trouble accessing the course materials online. Is there a solution to this issue?",
          "Good afternoon, Professor I just wanted to inform you that I'll be submitting my assignment a bit later than the deadline due to personal circumstances.",
          "Hi Professor I wanted to let you know that I won't be able to attend the lecture tomorrow. Is there anything I should be aware of before the next class?",
          "Good morning, Professor I was wondering if you could recommend some additional readings or sources related to the current topic.",
          "Hi Professor I'm really struggling with the class material. Do you have any advice or suggestions for how I can improve my understanding?",
          "Good afternoon, Professor I'm interested in pursuing a research project related to this course. Could we discuss potential ideas and resources?",
          "Hi Professor I just wanted to inform you that I won't be able to attend the final exam due to a medical emergency. Is there a possibility for a makeup exam?",
          "Good morning, Professor I wanted to inform you that I'll be submitting my assignment earlier than the deadline, as I want to receive feedback and improve my work.",
          "Hi Professor I'm having trouble finding the required textbook for this class. Is there a way to access it?",
          "Good afternoon, Professor I was wondering if you could provide some advice on how to prepare for the upcoming exam?",
          "Hi Professor I just wanted to express my appreciation for your passion and dedication to teaching. I'm learning so much from your class."
         ],
         "legendgroup": "0",
         "marker": {
          "color": "#EF553B",
          "symbol": "circle"
         },
         "name": "0",
         "showlegend": true,
         "type": "splom"
        }
       ],
       "layout": {
        "dragmode": "select",
        "legend": {
         "title": {
          "text": "color"
         },
         "tracegroupgap": 0
        },
        "margin": {
         "t": 60
        },
        "template": {
         "data": {
          "bar": [
           {
            "error_x": {
             "color": "#2a3f5f"
            },
            "error_y": {
             "color": "#2a3f5f"
            },
            "marker": {
             "line": {
              "color": "#E5ECF6",
              "width": 0.5
             },
             "pattern": {
              "fillmode": "overlay",
              "size": 10,
              "solidity": 0.2
             }
            },
            "type": "bar"
           }
          ],
          "barpolar": [
           {
            "marker": {
             "line": {
              "color": "#E5ECF6",
              "width": 0.5
             },
             "pattern": {
              "fillmode": "overlay",
              "size": 10,
              "solidity": 0.2
             }
            },
            "type": "barpolar"
           }
          ],
          "carpet": [
           {
            "aaxis": {
             "endlinecolor": "#2a3f5f",
             "gridcolor": "white",
             "linecolor": "white",
             "minorgridcolor": "white",
             "startlinecolor": "#2a3f5f"
            },
            "baxis": {
             "endlinecolor": "#2a3f5f",
             "gridcolor": "white",
             "linecolor": "white",
             "minorgridcolor": "white",
             "startlinecolor": "#2a3f5f"
            },
            "type": "carpet"
           }
          ],
          "choropleth": [
           {
            "colorbar": {
             "outlinewidth": 0,
             "ticks": ""
            },
            "type": "choropleth"
           }
          ],
          "contour": [
           {
            "colorbar": {
             "outlinewidth": 0,
             "ticks": ""
            },
            "colorscale": [
             [
              0,
              "#0d0887"
             ],
             [
              0.1111111111111111,
              "#46039f"
             ],
             [
              0.2222222222222222,
              "#7201a8"
             ],
             [
              0.3333333333333333,
              "#9c179e"
             ],
             [
              0.4444444444444444,
              "#bd3786"
             ],
             [
              0.5555555555555556,
              "#d8576b"
             ],
             [
              0.6666666666666666,
              "#ed7953"
             ],
             [
              0.7777777777777778,
              "#fb9f3a"
             ],
             [
              0.8888888888888888,
              "#fdca26"
             ],
             [
              1,
              "#f0f921"
             ]
            ],
            "type": "contour"
           }
          ],
          "contourcarpet": [
           {
            "colorbar": {
             "outlinewidth": 0,
             "ticks": ""
            },
            "type": "contourcarpet"
           }
          ],
          "heatmap": [
           {
            "colorbar": {
             "outlinewidth": 0,
             "ticks": ""
            },
            "colorscale": [
             [
              0,
              "#0d0887"
             ],
             [
              0.1111111111111111,
              "#46039f"
             ],
             [
              0.2222222222222222,
              "#7201a8"
             ],
             [
              0.3333333333333333,
              "#9c179e"
             ],
             [
              0.4444444444444444,
              "#bd3786"
             ],
             [
              0.5555555555555556,
              "#d8576b"
             ],
             [
              0.6666666666666666,
              "#ed7953"
             ],
             [
              0.7777777777777778,
              "#fb9f3a"
             ],
             [
              0.8888888888888888,
              "#fdca26"
             ],
             [
              1,
              "#f0f921"
             ]
            ],
            "type": "heatmap"
           }
          ],
          "heatmapgl": [
           {
            "colorbar": {
             "outlinewidth": 0,
             "ticks": ""
            },
            "colorscale": [
             [
              0,
              "#0d0887"
             ],
             [
              0.1111111111111111,
              "#46039f"
             ],
             [
              0.2222222222222222,
              "#7201a8"
             ],
             [
              0.3333333333333333,
              "#9c179e"
             ],
             [
              0.4444444444444444,
              "#bd3786"
             ],
             [
              0.5555555555555556,
              "#d8576b"
             ],
             [
              0.6666666666666666,
              "#ed7953"
             ],
             [
              0.7777777777777778,
              "#fb9f3a"
             ],
             [
              0.8888888888888888,
              "#fdca26"
             ],
             [
              1,
              "#f0f921"
             ]
            ],
            "type": "heatmapgl"
           }
          ],
          "histogram": [
           {
            "marker": {
             "pattern": {
              "fillmode": "overlay",
              "size": 10,
              "solidity": 0.2
             }
            },
            "type": "histogram"
           }
          ],
          "histogram2d": [
           {
            "colorbar": {
             "outlinewidth": 0,
             "ticks": ""
            },
            "colorscale": [
             [
              0,
              "#0d0887"
             ],
             [
              0.1111111111111111,
              "#46039f"
             ],
             [
              0.2222222222222222,
              "#7201a8"
             ],
             [
              0.3333333333333333,
              "#9c179e"
             ],
             [
              0.4444444444444444,
              "#bd3786"
             ],
             [
              0.5555555555555556,
              "#d8576b"
             ],
             [
              0.6666666666666666,
              "#ed7953"
             ],
             [
              0.7777777777777778,
              "#fb9f3a"
             ],
             [
              0.8888888888888888,
              "#fdca26"
             ],
             [
              1,
              "#f0f921"
             ]
            ],
            "type": "histogram2d"
           }
          ],
          "histogram2dcontour": [
           {
            "colorbar": {
             "outlinewidth": 0,
             "ticks": ""
            },
            "colorscale": [
             [
              0,
              "#0d0887"
             ],
             [
              0.1111111111111111,
              "#46039f"
             ],
             [
              0.2222222222222222,
              "#7201a8"
             ],
             [
              0.3333333333333333,
              "#9c179e"
             ],
             [
              0.4444444444444444,
              "#bd3786"
             ],
             [
              0.5555555555555556,
              "#d8576b"
             ],
             [
              0.6666666666666666,
              "#ed7953"
             ],
             [
              0.7777777777777778,
              "#fb9f3a"
             ],
             [
              0.8888888888888888,
              "#fdca26"
             ],
             [
              1,
              "#f0f921"
             ]
            ],
            "type": "histogram2dcontour"
           }
          ],
          "mesh3d": [
           {
            "colorbar": {
             "outlinewidth": 0,
             "ticks": ""
            },
            "type": "mesh3d"
           }
          ],
          "parcoords": [
           {
            "line": {
             "colorbar": {
              "outlinewidth": 0,
              "ticks": ""
             }
            },
            "type": "parcoords"
           }
          ],
          "pie": [
           {
            "automargin": true,
            "type": "pie"
           }
          ],
          "scatter": [
           {
            "fillpattern": {
             "fillmode": "overlay",
             "size": 10,
             "solidity": 0.2
            },
            "type": "scatter"
           }
          ],
          "scatter3d": [
           {
            "line": {
             "colorbar": {
              "outlinewidth": 0,
              "ticks": ""
             }
            },
            "marker": {
             "colorbar": {
              "outlinewidth": 0,
              "ticks": ""
             }
            },
            "type": "scatter3d"
           }
          ],
          "scattercarpet": [
           {
            "marker": {
             "colorbar": {
              "outlinewidth": 0,
              "ticks": ""
             }
            },
            "type": "scattercarpet"
           }
          ],
          "scattergeo": [
           {
            "marker": {
             "colorbar": {
              "outlinewidth": 0,
              "ticks": ""
             }
            },
            "type": "scattergeo"
           }
          ],
          "scattergl": [
           {
            "marker": {
             "colorbar": {
              "outlinewidth": 0,
              "ticks": ""
             }
            },
            "type": "scattergl"
           }
          ],
          "scattermapbox": [
           {
            "marker": {
             "colorbar": {
              "outlinewidth": 0,
              "ticks": ""
             }
            },
            "type": "scattermapbox"
           }
          ],
          "scatterpolar": [
           {
            "marker": {
             "colorbar": {
              "outlinewidth": 0,
              "ticks": ""
             }
            },
            "type": "scatterpolar"
           }
          ],
          "scatterpolargl": [
           {
            "marker": {
             "colorbar": {
              "outlinewidth": 0,
              "ticks": ""
             }
            },
            "type": "scatterpolargl"
           }
          ],
          "scatterternary": [
           {
            "marker": {
             "colorbar": {
              "outlinewidth": 0,
              "ticks": ""
             }
            },
            "type": "scatterternary"
           }
          ],
          "surface": [
           {
            "colorbar": {
             "outlinewidth": 0,
             "ticks": ""
            },
            "colorscale": [
             [
              0,
              "#0d0887"
             ],
             [
              0.1111111111111111,
              "#46039f"
             ],
             [
              0.2222222222222222,
              "#7201a8"
             ],
             [
              0.3333333333333333,
              "#9c179e"
             ],
             [
              0.4444444444444444,
              "#bd3786"
             ],
             [
              0.5555555555555556,
              "#d8576b"
             ],
             [
              0.6666666666666666,
              "#ed7953"
             ],
             [
              0.7777777777777778,
              "#fb9f3a"
             ],
             [
              0.8888888888888888,
              "#fdca26"
             ],
             [
              1,
              "#f0f921"
             ]
            ],
            "type": "surface"
           }
          ],
          "table": [
           {
            "cells": {
             "fill": {
              "color": "#EBF0F8"
             },
             "line": {
              "color": "white"
             }
            },
            "header": {
             "fill": {
              "color": "#C8D4E3"
             },
             "line": {
              "color": "white"
             }
            },
            "type": "table"
           }
          ]
         },
         "layout": {
          "annotationdefaults": {
           "arrowcolor": "#2a3f5f",
           "arrowhead": 0,
           "arrowwidth": 1
          },
          "autotypenumbers": "strict",
          "coloraxis": {
           "colorbar": {
            "outlinewidth": 0,
            "ticks": ""
           }
          },
          "colorscale": {
           "diverging": [
            [
             0,
             "#8e0152"
            ],
            [
             0.1,
             "#c51b7d"
            ],
            [
             0.2,
             "#de77ae"
            ],
            [
             0.3,
             "#f1b6da"
            ],
            [
             0.4,
             "#fde0ef"
            ],
            [
             0.5,
             "#f7f7f7"
            ],
            [
             0.6,
             "#e6f5d0"
            ],
            [
             0.7,
             "#b8e186"
            ],
            [
             0.8,
             "#7fbc41"
            ],
            [
             0.9,
             "#4d9221"
            ],
            [
             1,
             "#276419"
            ]
           ],
           "sequential": [
            [
             0,
             "#0d0887"
            ],
            [
             0.1111111111111111,
             "#46039f"
            ],
            [
             0.2222222222222222,
             "#7201a8"
            ],
            [
             0.3333333333333333,
             "#9c179e"
            ],
            [
             0.4444444444444444,
             "#bd3786"
            ],
            [
             0.5555555555555556,
             "#d8576b"
            ],
            [
             0.6666666666666666,
             "#ed7953"
            ],
            [
             0.7777777777777778,
             "#fb9f3a"
            ],
            [
             0.8888888888888888,
             "#fdca26"
            ],
            [
             1,
             "#f0f921"
            ]
           ],
           "sequentialminus": [
            [
             0,
             "#0d0887"
            ],
            [
             0.1111111111111111,
             "#46039f"
            ],
            [
             0.2222222222222222,
             "#7201a8"
            ],
            [
             0.3333333333333333,
             "#9c179e"
            ],
            [
             0.4444444444444444,
             "#bd3786"
            ],
            [
             0.5555555555555556,
             "#d8576b"
            ],
            [
             0.6666666666666666,
             "#ed7953"
            ],
            [
             0.7777777777777778,
             "#fb9f3a"
            ],
            [
             0.8888888888888888,
             "#fdca26"
            ],
            [
             1,
             "#f0f921"
            ]
           ]
          },
          "colorway": [
           "#636efa",
           "#EF553B",
           "#00cc96",
           "#ab63fa",
           "#FFA15A",
           "#19d3f3",
           "#FF6692",
           "#B6E880",
           "#FF97FF",
           "#FECB52"
          ],
          "font": {
           "color": "#2a3f5f"
          },
          "geo": {
           "bgcolor": "white",
           "lakecolor": "white",
           "landcolor": "#E5ECF6",
           "showlakes": true,
           "showland": true,
           "subunitcolor": "white"
          },
          "hoverlabel": {
           "align": "left"
          },
          "hovermode": "closest",
          "mapbox": {
           "style": "light"
          },
          "paper_bgcolor": "white",
          "plot_bgcolor": "#E5ECF6",
          "polar": {
           "angularaxis": {
            "gridcolor": "white",
            "linecolor": "white",
            "ticks": ""
           },
           "bgcolor": "#E5ECF6",
           "radialaxis": {
            "gridcolor": "white",
            "linecolor": "white",
            "ticks": ""
           }
          },
          "scene": {
           "xaxis": {
            "backgroundcolor": "#E5ECF6",
            "gridcolor": "white",
            "gridwidth": 2,
            "linecolor": "white",
            "showbackground": true,
            "ticks": "",
            "zerolinecolor": "white"
           },
           "yaxis": {
            "backgroundcolor": "#E5ECF6",
            "gridcolor": "white",
            "gridwidth": 2,
            "linecolor": "white",
            "showbackground": true,
            "ticks": "",
            "zerolinecolor": "white"
           },
           "zaxis": {
            "backgroundcolor": "#E5ECF6",
            "gridcolor": "white",
            "gridwidth": 2,
            "linecolor": "white",
            "showbackground": true,
            "ticks": "",
            "zerolinecolor": "white"
           }
          },
          "shapedefaults": {
           "line": {
            "color": "#2a3f5f"
           }
          },
          "ternary": {
           "aaxis": {
            "gridcolor": "white",
            "linecolor": "white",
            "ticks": ""
           },
           "baxis": {
            "gridcolor": "white",
            "linecolor": "white",
            "ticks": ""
           },
           "bgcolor": "#E5ECF6",
           "caxis": {
            "gridcolor": "white",
            "linecolor": "white",
            "ticks": ""
           }
          },
          "title": {
           "x": 0.05
          },
          "xaxis": {
           "automargin": true,
           "gridcolor": "white",
           "linecolor": "white",
           "ticks": "",
           "title": {
            "standoff": 15
           },
           "zerolinecolor": "white",
           "zerolinewidth": 2
          },
          "yaxis": {
           "automargin": true,
           "gridcolor": "white",
           "linecolor": "white",
           "ticks": "",
           "title": {
            "standoff": 15
           },
           "zerolinecolor": "white",
           "zerolinewidth": 2
          }
         }
        }
       }
      }
     },
     "metadata": {},
     "output_type": "display_data"
    }
   ],
   "source": [
    "labels = {\n",
    "    str(i): f\"PC {i+1} ({var:.1f}%)\"\n",
    "    for i, var in enumerate(pca.explained_variance_ratio_ * 100)\n",
    "}\n",
    "\n",
    "fig = px.scatter_matrix(\n",
    "    components,\n",
    "    labels=labels,\n",
    "    dimensions=range(3),\n",
    "    color=train_df[\"target\"].astype(str),\n",
    "    hover_name=train_df[\"text\"]\n",
    ")\n",
    "fig.update_traces(diagonal_visible=False)\n",
    "fig.show()"
   ]
  },
  {
   "cell_type": "code",
   "execution_count": 54,
   "id": "1427f93c",
   "metadata": {},
   "outputs": [
    {
     "data": {
      "application/vnd.plotly.v1+json": {
       "config": {
        "plotlyServerURL": "https://plot.ly"
       },
       "data": [
        {
         "hovertemplate": "<b>%{hovertext}</b><br><br>color=1<br>0=%{x}<br>1=%{y}<br>2=%{z}<extra></extra>",
         "hovertext": [
          "I can't stand working for this jerk. I'm so done with this job.",
          "I don't know how we're going to get this project done. My team is useless.",
          "I'm so bored. Can't wait to get out of here and go home.",
          "I'm calling in sick tomorrow. I can't handle another day of this.",
          "I just got offered a job with better pay and benefits. Should I take it?",
          "This meeting is such a waste of time. I have better things to do.",
          "I hate having to pretend like I care about this project. It's pointless.",
          "I wish I could just quit and travel the world instead of being stuck here.",
          "I'm so tired of my coworkers' drama. I can't wait to leave this toxic environment.",
          "I don't understand why my boss is so obsessed with micromanaging everything.",
          "I'm counting down the minutes until I can leave this place for good.",
          "I can't handle the workload anymore. Something needs to change.",
          "I just heard that the company is going bankrupt. I need to start looking for a new job.",
          "I can't believe how unprofessional my coworker is being right now.",
          "I'm so over this job. I need to find something that actually makes me happy.",
          "I'm too hungover to come in today.",
          "Can I get a raise? I need to pay off some gambling debts.",
          "Hey, can I borrow some money? I spent all mine on partying last night.",
          "I don't feel like working today. Can I just take a mental health day?",
          "I'm running late because I overslept. Can you cover for me?",
          "I'm not feeling well, but it's probably just from all the drinking I did last night.",
          "I'm quitting. This job sucks.",
          "I accidentally sent that email to the wrong person. Can you help me fix it?",
          "I don't know how to do this task. Can you do it for me?",
          "Sorry, I can't come in today. I'm going to be busy smoking weed.",
          "I'm going to be late because I'm stuck in traffic. I shouldn't have stayed up so late partying last night.",
          "I'm too tired to come in today. Can I take a nap instead?",
          "I'm not feeling well. I think I might have caught something from one of my many one-night stands.",
          "Can I leave early today? I have a hot date tonight.",
          "I don't want to work today. Can we just go out and get drunk instead?",
          "I need to take a break. I'm going to go smoke a joint.",
          "I'm going to be late because I'm waiting for my drug dealer to show up.",
          "I'm too busy watching Netflix to come in today.",
          "I'm going to be late because I'm stuck in line at the liquor store.",
          "I'm too hungover to do anything today.",
          "I'm not coming in today. I have to go to court for my DUI.",
          "Can I leave early today? I have a poker game tonight.",
          "I need to take a sick day. My girlfriend just dumped me.",
          "I'm not feeling well. I think I have food poisoning from that sushi I had last night.",
          "I'm going to be late because I forgot my keys and I had to break into my own apartment.",
          "I need to take a day off. My ex is stalking me and I need to file a restraining order.",
          "I'm not feeling well. I think I have a hangover.",
          "I can't come in today. My car broke down and I don't have any money to fix it.",
          "I'm going to be late because I overslept. I was up all night playing video games.",
          "I need to take a personal day. I just found out my dog has cancer.",
          "Can I leave early today? I have a golf game scheduled.",
          "I'm not feeling well. I think I ate something bad.",
          "I'm going to be late because I have to drop my kid off at daycare.",
          "I can't come in today. My roommate is having a party and I need to help clean up.",
          "I need to take a mental health day. I'm really stressed out.",
          "I'm not feeling well. I think I caught something from that girl I hooked up with last night.",
          "Can I leave early today? I have a date tonight and I need to get ready.",
          "I'm going to be late because I have a dentist appointment.",
          "I can't come in today. I have a doctor's appointment.",
          "Good morning beautiful. I hope you have an amazing day today.",
          "I miss you so much already. Can't wait to see you later.",
          "You're the best thing that ever happened to me. I love you more than anything.",
          "I'm so grateful for you and everything you do for me. Thank you for being my partner.",
          "Just wanted to remind you how much I love you and how lucky I am to have you in my life.",
          "I can't stop thinking about you. You make my heart skip a beat.",
          "You're my sunshine on a cloudy day. Love you always.",
          "I feel so blessed to have you as my girlfriend. I can't wait to create more amazing memories together.",
          "You're the most beautiful person I know, both inside and out. Love you to the moon and back.",
          "You make me a better person. Thank you for being my inspiration and motivation.",
          "I'm going to tell the boss what I really think about this project. It's a disaster.",
          "Did you hear about that coworker's personal life? I can't believe it. I'm going to gossip about it at lunch.",
          "I'm going to sneak out of work early today. Don't tell anyone.",
          "I can't believe they put us on this project together. I can't work with them. They're so incompetent.",
          "I'm not doing any work today. I'm just going to pretend like I am and hope no one notices.",
          "I'm going to take a long lunch break today. Maybe even hit up a bar. Want to come?",
          "This is so boring. I can't wait until the day is over so I can go home.",
          "I'm going to play a prank on the boss. It's going to be hilarious.",
          "I hate this job. I wish I could just quit and travel the world.",
          "I can't believe how boring this class is. I'm going to fall asleep.",
          "I didn't study at all for this test. I'm screwed.",
          "I'm going to cheat on this test. I need to pass.",
          "This teacher is terrible. I'm not learning anything in this class.",
          "I'm going to skip class today. It's not like anything important is going to happen.",
          "I can't stand this teacher's voice. It's like nails on a chalkboard.",
          "I'm going to complain to the principal about this teacher. They're not doing their job right.",
          "I don't care about this class. I'm just going to wing it.",
          "I'm going to be late to class today. Hopefully, the teacher won't notice.",
          "I'm going to argue with the teacher about their grading. They're being unfair.",
          "I can't believe how useless this lecture is. I'm never going to use any of this information.",
          "I didn't do the assignment because I had better things to do.",
          "I'm going to copy and paste this entire paper from the internet. It's not like the professor will notice.",
          "This professor is terrible. They don't even know how to teach properly.",
          "I'm going to skip class today. This class is not worth my time.",
          "I'm going to argue with the professor about their grading. They're being unfair.",
          "I don't understand why I have to take this class. It's a waste of my time.",
          "I don't care about this class. I'm just going to wing it.",
          "I'm not going to attend the office hours. The professor doesn't even care about their students.",
          "I'm going to write a bad review about this professor on RateMyProfessor. They deserve it.",
          "I can't wait to get out of here. This family is driving me insane.",
          "I hate my job. I don't want to go back there tomorrow.",
          "I can't believe how much weight I've gained. I need to start dieting ASAP.",
          "I'm going to skip class today. It's not like it's important anyway.",
          "I can't believe what a jerk my boss is. I'm so sick of working here.",
          "I had such a wild night last night. You wouldn't believe what happened.",
          "I think I have a crush on someone in the office. I can't stop thinking about them.",
          "I'm going to tell the boss what I really think about this project. It's a disaster."
         ],
         "legendgroup": "1",
         "marker": {
          "color": "#636efa",
          "symbol": "circle"
         },
         "mode": "markers",
         "name": "1",
         "scene": "scene",
         "showlegend": true,
         "type": "scatter3d",
         "x": [
          0.1121062855767258,
          -0.1953753102579171,
          0.4058900390820157,
          0.36860736242220415,
          0.051499188216165094,
          0.01984670989997717,
          -0.09922242527877638,
          0.2589401255367594,
          0.19243942050764845,
          -0.10258421988375012,
          0.21579772321556387,
          -0.012420819350782816,
          -0.004010783576942812,
          0.06891227493934556,
          0.1487393931157576,
          0.5159522670973163,
          0.173568654828592,
          0.2714634237765396,
          0.4128438575902161,
          0.12328581534735328,
          0.3727762562722903,
          0.14741325776685343,
          -0.10716583151172492,
          -0.17896829556539548,
          0.32891138600362896,
          0.4386342638685679,
          0.4141109837657131,
          0.4010148151983629,
          0.4360836365677564,
          0.4975012879524758,
          0.4639790852483026,
          0.27818062245474995,
          0.3157505720345947,
          0.3194532499011222,
          0.49908326047268076,
          0.3152897138364659,
          0.38044898915463327,
          0.4532897221220671,
          0.32857763538755486,
          0.32765717525868254,
          0.2897080859294269,
          0.4924645500730837,
          0.4071947424523087,
          0.29304049033973245,
          0.26398711534567304,
          0.3524835654185383,
          0.3737751402757704,
          0.31774097132088963,
          0.397239709674822,
          0.3351623191514017,
          0.3661152832640925,
          0.45113482715933306,
          0.25181715037339397,
          0.40957660556389675,
          0.17342425605309061,
          0.2466404355494439,
          0.11595900932949299,
          -0.021604281859094757,
          0.06182431587821278,
          0.16993664870306982,
          0.13790348930771312,
          0.06254371511012989,
          0.12097013759238802,
          -0.046404880739867656,
          -0.22778644941879794,
          0.1168711613344202,
          0.3030811912893746,
          -0.2545062955509656,
          0.2358581988834571,
          0.4161106078051008,
          0.3222461862897129,
          0.19203667673475033,
          0.14344631765934818,
          0.0363205879876041,
          -0.14786061427098113,
          -0.004507173200799962,
          -0.2683189277448298,
          0.08464997174264628,
          -0.11329459774834436,
          -0.15100083827664254,
          -0.0772761503772873,
          0.005391875298435929,
          -0.17351833082128,
          -0.28427733685435025,
          -0.30930845136504365,
          -0.3368567881500073,
          -0.31169798204207877,
          -0.05292032317071941,
          -0.25798931291007887,
          -0.1820743563903028,
          -0.07727615037728731,
          0.010242731619274064,
          -0.3378582530621313,
          0.3410423293793487,
          0.2968967394703997,
          0.08030144427094206,
          0.04425940063808116,
          0.12054422304853377,
          0.2786172819406975,
          0.16590533921822337,
          -0.22778644941879794
         ],
         "y": [
          0.03474476334924281,
          -0.11116386514993941,
          -0.006369753719866389,
          0.039187657013849596,
          -0.027561671644409265,
          -0.010330616694391451,
          0.145895958367776,
          0.004228530952186648,
          0.05672292132875125,
          0.12245739422768918,
          -0.037804355763198794,
          -0.1841290325166729,
          -0.21585917407787003,
          0.07647979852496635,
          -0.13020501205282112,
          0.052462393418982144,
          -0.09057924138713772,
          -0.08901339394615183,
          -0.022326274709627253,
          -0.05116366573659491,
          0.0803490388012029,
          0.03291499702499651,
          -0.05335318403553332,
          -0.03316467993028166,
          -0.07133939155691171,
          0.10403872433380285,
          0.05548556983231507,
          0.1117890570016693,
          0.01856776465828236,
          0.011464519247846706,
          0.03645262886669122,
          -0.05239511290583587,
          -0.006762313789104129,
          -0.00020530859237569154,
          0.07703469187006383,
          -0.007589492184640573,
          0.03165807735096438,
          -0.039209790997566836,
          0.031955542166064964,
          0.0039157644735244084,
          -0.1254549780581263,
          0.07619889049176445,
          -0.11677106031497142,
          0.07335273984033791,
          -0.10815442454655397,
          0.023557712147962095,
          0.0977606707544709,
          0.09583119940924559,
          0.0441924297235609,
          -0.0022871151096454227,
          0.07031218911437712,
          0.002093593752730348,
          0.14295894099006254,
          0.05926939001243125,
          -0.17187179866146166,
          -0.09243466628438647,
          -0.1437699373040613,
          -0.2791705943043604,
          -0.3402526942459904,
          -0.0077968744830038345,
          -0.1783962929777649,
          -0.20220461052167196,
          -0.20303605279965642,
          -0.14177957183910708,
          -0.03967440424114391,
          0.09874259114075479,
          0.06473642591882216,
          -0.1689901651055086,
          0.06077116120090957,
          -0.06564999612732005,
          0.043746629389642626,
          0.08772800800095013,
          0.06214461226740907,
          0.4659543669942717,
          0.41955918458493985,
          0.2686599399806282,
          0.5363888997879618,
          0.4572536725875481,
          0.41484858825574894,
          0.42566764049205713,
          0.3993826951318972,
          0.44110043250766345,
          0.5470819156541926,
          0.4288320435696011,
          0.27376892196848923,
          0.3866797820950282,
          0.5863159467283825,
          0.5272929842763894,
          0.6020484774756362,
          0.5055670308570188,
          0.3993826951318972,
          0.5320204113991825,
          0.28368659732456336,
          -0.05267470381481282,
          0.16432669004080921,
          -0.08206781543058968,
          0.5088898888914969,
          0.11022856913287084,
          0.021953933690181216,
          0.08998069516724805,
          -0.03967440424114392
         ],
         "z": [
          -0.42777654676045457,
          -0.10178661067134248,
          -0.017112641015517252,
          -0.007163108236099138,
          -0.27439628078121747,
          0.022642928007107828,
          -0.24144015850981587,
          -0.33611612892962117,
          -0.31882864499130786,
          -0.3513908599031985,
          -0.0676606952635376,
          -0.3024204000158648,
          -0.29841095823699637,
          -0.40891280325883733,
          -0.30774430579632717,
          0.08962947481021684,
          -0.20479096906208882,
          0.027301509983335515,
          0.011299098724743634,
          0.08856327764199692,
          -0.22903170775008305,
          -0.3807192919724569,
          -0.2616840075591724,
          -0.09434699255370853,
          0.2271123476990913,
          0.18763651671442788,
          0.22938028401556493,
          -0.20630559196882012,
          0.23296520341001778,
          0.14558901905482735,
          0.010787549665262654,
          0.1308820799601916,
          0.045942256054041154,
          0.11367344686552505,
          -0.007623197201789006,
          0.12176711089805685,
          0.22589721938944232,
          -0.07475038082473603,
          -0.21221145221977797,
          0.11372248390809118,
          -0.07678650970210549,
          -0.10065961887484874,
          0.027822737726034354,
          0.1116591395558419,
          0.01874123349354071,
          0.26966406846210783,
          -0.236417219460457,
          0.09489571989688965,
          0.12323793232024388,
          0.03748877435565438,
          -0.30613470140217797,
          0.32942979987543225,
          0.16081827716121427,
          0.1645837559876186,
          -0.0034131562488809884,
          -0.020878335525843183,
          -0.4055664130213363,
          -0.2079232381627082,
          -0.21202276949293128,
          -0.34747831329451484,
          -0.2643022718728656,
          -0.31599691825995724,
          -0.22279233130262374,
          -0.24636826573370763,
          -0.27399242433411114,
          -0.2821688713376333,
          0.12699998791426687,
          -0.3181506228055389,
          0.05189705529967307,
          0.21425731748199364,
          0.05388014348850619,
          -0.11265449743975997,
          -0.44999726995565675,
          0.05035816973572829,
          -0.09732748822979773,
          0.03634770932819997,
          -0.17280339913718187,
          0.19699520976424773,
          -0.3434171963860748,
          -0.2132073229195979,
          -0.01729426477199584,
          0.1755602603818257,
          -0.13877891596222036,
          -0.09686969401838447,
          0.000018058217022197616,
          -0.08770016455653447,
          -0.2901531067620476,
          0.17685241902613708,
          -0.1153561260973261,
          -0.011986726535592287,
          -0.01729426477199584,
          0.03191538581397589,
          -0.15992834881383738,
          -0.247835745359905,
          -0.2168424282053809,
          -0.2050352798596082,
          0.1799464335246747,
          -0.4556069582296633,
          -0.28085000513034136,
          -0.3593702066223775,
          -0.27399242433411114
         ]
        },
        {
         "hovertemplate": "<b>%{hovertext}</b><br><br>color=0<br>0=%{x}<br>1=%{y}<br>2=%{z}<extra></extra>",
         "hovertext": [
          "Hi just wanted to let you know that I finished the project and it's ready for your review. Let me know if you need anything else from me.",
          "Good morning I'm running a few minutes late today due to traffic. I should be in the office by",
          "Hi I'm having trouble accessing the company database. Are you available to help troubleshoot the issue?",
          "Just a reminder that we have a team meeting attoday. Looking forward to seeing you there.",
          "Hi I need to take a personal day tomorrow. I've already notified and I will make sure to complete any outstanding tasks before I leave.",
          "Thanks for your feedback on the report. I've made the changes you suggested and will send the updated version to you shortly.",
          "Can we schedule a quick call to discuss the new project? I have some ideas I'd like to run by you.",
          "Good luck with the presentation today! Let me know how it goes.",
          "I'm not feeling well today and won't be able to make it into the office. I'll be available by email or phone if you need me.",
          "Just wanted to say thank you for your help on the project. I couldn't have done it without you!",
          "Hi just wanted to check in and see if you need anything from me today.",
          "Good morning I wanted to update you on the progress of the project. We're on track to meet the deadline.",
          "Hi I'm going to be out of the office today for a doctor's appointment. Is there anything urgent you need me to take care of before I go?",
          "Just wanted to let you know that I completed the training module and passed the quiz. Thanks for assigning it to me!",
          "Good afternoon can we schedule a meeting to discuss the budget for next quarter?",
          "Hi I wanted to share an idea I have for improving our customer service. When would be a good time to talk about it?",
          "I'm going to be working from home today. Is there anything you need me to take care of remotely?",
          "Hi I'm running late this morning due to traffic. I should be in the office by",
          "Just wanted to check in and make sure you received the report I sent yesterday. Let me know if you have any questions or feedback.",
          "Hi I need to take a personal day next week for a family event. Is there anything you need me to take care of before I go?",
          "Good morning I wanted to let you know that I finished the task you assigned me and it's ready for your review.",
          "Hi I'm having trouble with my computer. Can you or IT help me troubleshoot the issue?",
          "Just wanted to say thank you for your guidance on the project. I appreciate your support.",
          "Hi I'm going to be in a meeting for the next hour. Can I follow up with you afterwards?",
          "Good afternoon I wanted to let you know that I'll be out of the office for a training seminar next week. I've already coordinated withto cover my responsibilities.",
          "Hi I wanted to remind you that our team is presenting the new project to the client tomorrow. Is there anything else you need from me before then?",
          "Just wanted to check in and make sure we're still on track for our meeting tomorrow at",
          "Hi I received a request from a client for a new product feature. Can we discuss it further?",
          "Good morning I wanted to give you an update on the sales numbers for last quarter. We exceeded our target by",
          "Hi I'm going to be on vacation next week. I'll make sure to complete all outstanding tasks before I go.",
          "Just wanted to let you know that I'm running a few minutes late this morning due to an unexpected delay. I should be in the office by",
          "Hi I wanted to share some positive feedback we received from a client. They were very happy with the service we provided.",
          "Good afternoon I wanted to request a day off next month for a personal event. Is that possible?",
          "Hi I wanted to discuss my performance evaluation with you. When would be a good time to do that?",
          "Just wanted to remind you that the deadline for the project is coming up. Do you need any additional information or support from me?",
          "Hi I'm having trouble with a difficult customer",
          "Hi can you send me the latest version of the presentation? I need to review it before the meeting tomorrow.",
          "Good morning I wanted to check in and see if you need any help with the project.",
          "Hi I wanted to let you know that I completed my part of the task. Let me know if you need anything else from me.",
          "Just wanted to remind you that we have a team meeting attoday. Looking forward to seeing you there.",
          "Hi I'm going to be out of the office tomorrow for a doctor's appointment. Can you cover my responsibilities for the day?",
          "Good afternoon can you send me the file with the data we discussed earlier?",
          "Hi I wanted to discuss some ideas I have for the project. When would be a good time to talk about it?",
          "Just wanted to say thank you for your help on the project. I appreciate your support.",
          "Hi I'm having trouble with my computer. Do you have any suggestions on how to fix it?",
          "Good morning I wanted to let you know that I'll be out of the office for a training seminar next week. I'll make sure to complete all outstanding tasks before I go.",
          "Hi I received a request from a client for a new product feature. Can you help me research it?",
          "Just wanted to check in and see how you're doing on the project. Do you need any support or resources?",
          "Hi can you review the document I sent and give me your feedback by the end of the day?",
          "Good afternoon I'm going to be working from home tomorrow. Is there anything you need me to take care of remotely?",
          "Hi I need to take a personal day next week for a family event. Can you cover my responsibilities for the day?",
          "Just wanted to remind you that the deadline for the project is coming up. Do you need any additional information or support from me?",
          "Hi I wanted to share some positive feedback we received from a client. They were very happy with the service we provided.",
          "Good morning I'm going to be in a meeting for the next hour. Can I follow up with you afterwards?",
          "Hi I'm having trouble with a difficult customer. Can you offer any advice or support?",
          "Just wanted to say thank you for your hard work on the project. We're making great progress together.",
          "Good morning, Professor I wanted to check in and see if you had any feedback on my recent assignment.",
          "Hi Professor I'm going to be late to class today due to unforeseen circumstances. I will be there as soon as I can.",
          "Good afternoon, Professor I had a question about the reading assignment. Could we discuss it after class?",
          "Hi Professor I just wanted to say thank you for your guidance and support this semester. I appreciate your help.",
          "Good morning, Professor Could you let me know if there are any updates or changes to the schedule for this week?",
          "Hi Professor I'm having trouble understanding the concepts in this week's lecture. Do you have any additional resources or suggestions?",
          "Good afternoon, Professor I'm sorry to inform you that I won't be able to attend class today due to illness. I will make sure to catch up on the missed material.",
          "Hi Professor I was wondering if I could schedule some time to discuss my academic progress and future plans with you?",
          "Good morning, Professor Could you clarify the requirements for the upcoming assignment? I want to make sure I'm on the right track.",
          "Hi Professor I'm having trouble accessing the course materials online. Is there a solution to this issue?",
          "Good afternoon, Professor I just wanted to inform you that I'll be submitting my assignment a bit later than the deadline due to personal circumstances.",
          "Hi Professor I wanted to let you know that I won't be able to attend the lecture tomorrow. Is there anything I should be aware of before the next class?",
          "Good morning, Professor I was wondering if you could recommend some additional readings or sources related to the current topic.",
          "Hi Professor I'm really struggling with the class material. Do you have any advice or suggestions for how I can improve my understanding?",
          "Good afternoon, Professor I'm interested in pursuing a research project related to this course. Could we discuss potential ideas and resources?",
          "Hi Professor I just wanted to inform you that I won't be able to attend the final exam due to a medical emergency. Is there a possibility for a makeup exam?",
          "Good morning, Professor I wanted to inform you that I'll be submitting my assignment earlier than the deadline, as I want to receive feedback and improve my work.",
          "Hi Professor I'm having trouble finding the required textbook for this class. Is there a way to access it?",
          "Good afternoon, Professor I was wondering if you could provide some advice on how to prepare for the upcoming exam?",
          "Hi Professor I just wanted to express my appreciation for your passion and dedication to teaching. I'm learning so much from your class."
         ],
         "legendgroup": "0",
         "marker": {
          "color": "#EF553B",
          "symbol": "circle"
         },
         "mode": "markers",
         "name": "0",
         "scene": "scene",
         "showlegend": true,
         "type": "scatter3d",
         "x": [
          -0.49391906450661854,
          0.2230495949912189,
          -0.19142952880644096,
          0.08479231060933695,
          0.24875848558699734,
          -0.38727748876344353,
          -0.24537634748961565,
          -0.3139920396195505,
          0.2580657074559921,
          -0.2203199108814612,
          -0.05553595556637468,
          -0.3618973835111244,
          0.30304751650604533,
          -0.2992366314156012,
          -0.11552381423325514,
          -0.20859168897142377,
          0.2648382378964759,
          0.1979720769625135,
          -0.33815425857075565,
          0.3869985120141298,
          -0.2628865168455112,
          -0.14122654714067623,
          -0.4530259526701971,
          0.07435249027051125,
          -0.18188436459321003,
          -0.22101874590981316,
          -0.10351359767742051,
          -0.36907257606712873,
          -0.10112710697485902,
          -0.01347857748923386,
          0.06431559039798865,
          -0.36300438776467997,
          0.19544732655976668,
          -0.22921566715776384,
          -0.35896405850093904,
          -0.15758575342544304,
          -0.3807857048003003,
          -0.4257954195323061,
          -0.2727733279190573,
          0.09774327795812275,
          0.24375585316436615,
          -0.3913561861736418,
          -0.24011163286519793,
          -0.3835342717766952,
          -0.039173871504780376,
          -0.1715445296813997,
          -0.37184588225406295,
          -0.4643542006469358,
          -0.43068661412487463,
          0.24285745604514994,
          0.24594844967452564,
          -0.35896405850093904,
          -0.36300438776468,
          0.10915119913114311,
          -0.18835208880266707,
          -0.3980070242514464,
          -0.5152352803612357,
          -0.13305554611604267,
          -0.41528979384354325,
          -0.4686598398927631,
          -0.2409658902548123,
          -0.49854990782191705,
          -0.15875788431944848,
          -0.2385854269773184,
          -0.48142746070965386,
          -0.33057056142729974,
          -0.4531881683335459,
          -0.17801522072480494,
          -0.4633657608137066,
          -0.42808730948579216,
          -0.4973888923251376,
          -0.015677901143511065,
          -0.48808005278408756,
          -0.35045529946254544,
          -0.16483198496705045,
          -0.43200039202850377
         ],
         "y": [
          -0.28951112244510985,
          -0.12488189783912558,
          -0.2469556166397432,
          -0.26662285144243736,
          -0.19811026233371973,
          -0.21919877480924782,
          -0.25178910663464465,
          -0.13836035895910614,
          -0.1598554816842667,
          -0.18045534658807352,
          -0.33879134237289904,
          -0.3542380569948215,
          -0.01998446446197816,
          -0.026510238182272685,
          -0.14256187141140972,
          -0.27584588758571604,
          -0.23906012432014584,
          -0.15482878153946686,
          -0.26862744408065575,
          -0.11471134749595747,
          -0.21383266220248187,
          -0.200593430308279,
          -0.26566784317298575,
          -0.20918578067677734,
          -0.13749208424646955,
          -0.3455162622425877,
          -0.23606649281210781,
          -0.4262248540149578,
          -0.30179688801570814,
          -0.15794069115987747,
          -0.20115449557862009,
          -0.41952512203259806,
          -0.2295968262556083,
          -0.11967751901296614,
          -0.35729462317105476,
          -0.12820825809135392,
          -0.08294704755041812,
          -0.20481864094119112,
          -0.3032088392340898,
          -0.2952170323159977,
          -0.01644816591820326,
          -0.22125349834692504,
          -0.15122387579628904,
          -0.2756000182866541,
          -0.1762464269360641,
          -0.1079168795331175,
          -0.4317287882081825,
          -0.3802932388331754,
          -0.15856148379449506,
          -0.24092512090456844,
          -0.1332933287766145,
          -0.3572946231710547,
          -0.41952512203259795,
          -0.1922358260174647,
          -0.19866594187222636,
          -0.31085216854347336,
          0.16014975519724414,
          0.29515376152615797,
          0.35705136972883506,
          0.1650329558797625,
          0.050641160735082374,
          0.24365010496312078,
          0.31487418575273884,
          0.008442004497887566,
          0.17903439344068234,
          0.2557046566499835,
          0.12582455553575767,
          0.39109878768861744,
          0.1892069181600664,
          0.46922388422325195,
          0.04048742793197927,
          0.21922172916476934,
          0.04969429345356227,
          0.3463944984973703,
          0.30815507833239514,
          0.22445126757897776
         ],
         "z": [
          0.12097697213635483,
          0.311522772153223,
          -0.20171892444145495,
          0.17934582261138216,
          0.32555032316740595,
          -0.15304733158867864,
          0.15657181031039458,
          0.09290648056647233,
          0.1625803122699837,
          -0.0551545836717408,
          0.24988062168508302,
          0.18582241598559682,
          0.23394816719293507,
          0.07401121771390314,
          0.3063257918504028,
          0.05890803945057288,
          0.042703039475655964,
          0.3282930737139753,
          -0.0030035870455742465,
          0.26207029722448694,
          0.10783463165745004,
          -0.21215712646730547,
          -0.060255879871560385,
          0.27522990551618204,
          0.20118383329927086,
          0.19981001631790793,
          0.278495470461355,
          -0.15303534617028325,
          0.01631938318878783,
          0.23885859481747893,
          0.28457402268141735,
          -0.2717274635410163,
          0.22377199809138526,
          0.1575204568196181,
          0.17942562589591685,
          -0.24655453157646454,
          0.10893334620715105,
          0.11141723186925143,
          0.1623594982287959,
          0.20011288129515156,
          0.2614773943199753,
          0.103138576970351,
          0.17775379434577115,
          -0.08031757225173064,
          -0.25428970868375195,
          0.23498715817729351,
          -0.22249339568518176,
          -0.014812058908714665,
          0.007462467966202499,
          0.11236654210854727,
          0.28675059370871936,
          0.1794256258959168,
          -0.27172746354101635,
          0.26719067655696255,
          -0.2819953649967853,
          -0.05384366140759679,
          0.12133336622217179,
          0.4865449975941031,
          0.18572511076994583,
          0.1074542201333616,
          0.3138779817212212,
          0.0905528123237582,
          0.2918172100760424,
          0.3300107475571082,
          0.23910102815626516,
          0.0019295010959622543,
          0.2607012799693377,
          0.34527417522739834,
          0.15766832898225136,
          0.037237790447715385,
          0.03245704931586929,
          0.15779723311985808,
          0.21277210244957193,
          0.13053972715627002,
          0.23469100476678423,
          0.010647601660804584
         ]
        }
       ],
       "layout": {
        "legend": {
         "title": {
          "text": "color"
         },
         "tracegroupgap": 0
        },
        "margin": {
         "t": 60
        },
        "scene": {
         "domain": {
          "x": [
           0,
           1
          ],
          "y": [
           0,
           1
          ]
         },
         "xaxis": {
          "title": {
           "text": "0"
          }
         },
         "yaxis": {
          "title": {
           "text": "1"
          }
         },
         "zaxis": {
          "title": {
           "text": "2"
          }
         }
        },
        "template": {
         "data": {
          "bar": [
           {
            "error_x": {
             "color": "#2a3f5f"
            },
            "error_y": {
             "color": "#2a3f5f"
            },
            "marker": {
             "line": {
              "color": "#E5ECF6",
              "width": 0.5
             },
             "pattern": {
              "fillmode": "overlay",
              "size": 10,
              "solidity": 0.2
             }
            },
            "type": "bar"
           }
          ],
          "barpolar": [
           {
            "marker": {
             "line": {
              "color": "#E5ECF6",
              "width": 0.5
             },
             "pattern": {
              "fillmode": "overlay",
              "size": 10,
              "solidity": 0.2
             }
            },
            "type": "barpolar"
           }
          ],
          "carpet": [
           {
            "aaxis": {
             "endlinecolor": "#2a3f5f",
             "gridcolor": "white",
             "linecolor": "white",
             "minorgridcolor": "white",
             "startlinecolor": "#2a3f5f"
            },
            "baxis": {
             "endlinecolor": "#2a3f5f",
             "gridcolor": "white",
             "linecolor": "white",
             "minorgridcolor": "white",
             "startlinecolor": "#2a3f5f"
            },
            "type": "carpet"
           }
          ],
          "choropleth": [
           {
            "colorbar": {
             "outlinewidth": 0,
             "ticks": ""
            },
            "type": "choropleth"
           }
          ],
          "contour": [
           {
            "colorbar": {
             "outlinewidth": 0,
             "ticks": ""
            },
            "colorscale": [
             [
              0,
              "#0d0887"
             ],
             [
              0.1111111111111111,
              "#46039f"
             ],
             [
              0.2222222222222222,
              "#7201a8"
             ],
             [
              0.3333333333333333,
              "#9c179e"
             ],
             [
              0.4444444444444444,
              "#bd3786"
             ],
             [
              0.5555555555555556,
              "#d8576b"
             ],
             [
              0.6666666666666666,
              "#ed7953"
             ],
             [
              0.7777777777777778,
              "#fb9f3a"
             ],
             [
              0.8888888888888888,
              "#fdca26"
             ],
             [
              1,
              "#f0f921"
             ]
            ],
            "type": "contour"
           }
          ],
          "contourcarpet": [
           {
            "colorbar": {
             "outlinewidth": 0,
             "ticks": ""
            },
            "type": "contourcarpet"
           }
          ],
          "heatmap": [
           {
            "colorbar": {
             "outlinewidth": 0,
             "ticks": ""
            },
            "colorscale": [
             [
              0,
              "#0d0887"
             ],
             [
              0.1111111111111111,
              "#46039f"
             ],
             [
              0.2222222222222222,
              "#7201a8"
             ],
             [
              0.3333333333333333,
              "#9c179e"
             ],
             [
              0.4444444444444444,
              "#bd3786"
             ],
             [
              0.5555555555555556,
              "#d8576b"
             ],
             [
              0.6666666666666666,
              "#ed7953"
             ],
             [
              0.7777777777777778,
              "#fb9f3a"
             ],
             [
              0.8888888888888888,
              "#fdca26"
             ],
             [
              1,
              "#f0f921"
             ]
            ],
            "type": "heatmap"
           }
          ],
          "heatmapgl": [
           {
            "colorbar": {
             "outlinewidth": 0,
             "ticks": ""
            },
            "colorscale": [
             [
              0,
              "#0d0887"
             ],
             [
              0.1111111111111111,
              "#46039f"
             ],
             [
              0.2222222222222222,
              "#7201a8"
             ],
             [
              0.3333333333333333,
              "#9c179e"
             ],
             [
              0.4444444444444444,
              "#bd3786"
             ],
             [
              0.5555555555555556,
              "#d8576b"
             ],
             [
              0.6666666666666666,
              "#ed7953"
             ],
             [
              0.7777777777777778,
              "#fb9f3a"
             ],
             [
              0.8888888888888888,
              "#fdca26"
             ],
             [
              1,
              "#f0f921"
             ]
            ],
            "type": "heatmapgl"
           }
          ],
          "histogram": [
           {
            "marker": {
             "pattern": {
              "fillmode": "overlay",
              "size": 10,
              "solidity": 0.2
             }
            },
            "type": "histogram"
           }
          ],
          "histogram2d": [
           {
            "colorbar": {
             "outlinewidth": 0,
             "ticks": ""
            },
            "colorscale": [
             [
              0,
              "#0d0887"
             ],
             [
              0.1111111111111111,
              "#46039f"
             ],
             [
              0.2222222222222222,
              "#7201a8"
             ],
             [
              0.3333333333333333,
              "#9c179e"
             ],
             [
              0.4444444444444444,
              "#bd3786"
             ],
             [
              0.5555555555555556,
              "#d8576b"
             ],
             [
              0.6666666666666666,
              "#ed7953"
             ],
             [
              0.7777777777777778,
              "#fb9f3a"
             ],
             [
              0.8888888888888888,
              "#fdca26"
             ],
             [
              1,
              "#f0f921"
             ]
            ],
            "type": "histogram2d"
           }
          ],
          "histogram2dcontour": [
           {
            "colorbar": {
             "outlinewidth": 0,
             "ticks": ""
            },
            "colorscale": [
             [
              0,
              "#0d0887"
             ],
             [
              0.1111111111111111,
              "#46039f"
             ],
             [
              0.2222222222222222,
              "#7201a8"
             ],
             [
              0.3333333333333333,
              "#9c179e"
             ],
             [
              0.4444444444444444,
              "#bd3786"
             ],
             [
              0.5555555555555556,
              "#d8576b"
             ],
             [
              0.6666666666666666,
              "#ed7953"
             ],
             [
              0.7777777777777778,
              "#fb9f3a"
             ],
             [
              0.8888888888888888,
              "#fdca26"
             ],
             [
              1,
              "#f0f921"
             ]
            ],
            "type": "histogram2dcontour"
           }
          ],
          "mesh3d": [
           {
            "colorbar": {
             "outlinewidth": 0,
             "ticks": ""
            },
            "type": "mesh3d"
           }
          ],
          "parcoords": [
           {
            "line": {
             "colorbar": {
              "outlinewidth": 0,
              "ticks": ""
             }
            },
            "type": "parcoords"
           }
          ],
          "pie": [
           {
            "automargin": true,
            "type": "pie"
           }
          ],
          "scatter": [
           {
            "fillpattern": {
             "fillmode": "overlay",
             "size": 10,
             "solidity": 0.2
            },
            "type": "scatter"
           }
          ],
          "scatter3d": [
           {
            "line": {
             "colorbar": {
              "outlinewidth": 0,
              "ticks": ""
             }
            },
            "marker": {
             "colorbar": {
              "outlinewidth": 0,
              "ticks": ""
             }
            },
            "type": "scatter3d"
           }
          ],
          "scattercarpet": [
           {
            "marker": {
             "colorbar": {
              "outlinewidth": 0,
              "ticks": ""
             }
            },
            "type": "scattercarpet"
           }
          ],
          "scattergeo": [
           {
            "marker": {
             "colorbar": {
              "outlinewidth": 0,
              "ticks": ""
             }
            },
            "type": "scattergeo"
           }
          ],
          "scattergl": [
           {
            "marker": {
             "colorbar": {
              "outlinewidth": 0,
              "ticks": ""
             }
            },
            "type": "scattergl"
           }
          ],
          "scattermapbox": [
           {
            "marker": {
             "colorbar": {
              "outlinewidth": 0,
              "ticks": ""
             }
            },
            "type": "scattermapbox"
           }
          ],
          "scatterpolar": [
           {
            "marker": {
             "colorbar": {
              "outlinewidth": 0,
              "ticks": ""
             }
            },
            "type": "scatterpolar"
           }
          ],
          "scatterpolargl": [
           {
            "marker": {
             "colorbar": {
              "outlinewidth": 0,
              "ticks": ""
             }
            },
            "type": "scatterpolargl"
           }
          ],
          "scatterternary": [
           {
            "marker": {
             "colorbar": {
              "outlinewidth": 0,
              "ticks": ""
             }
            },
            "type": "scatterternary"
           }
          ],
          "surface": [
           {
            "colorbar": {
             "outlinewidth": 0,
             "ticks": ""
            },
            "colorscale": [
             [
              0,
              "#0d0887"
             ],
             [
              0.1111111111111111,
              "#46039f"
             ],
             [
              0.2222222222222222,
              "#7201a8"
             ],
             [
              0.3333333333333333,
              "#9c179e"
             ],
             [
              0.4444444444444444,
              "#bd3786"
             ],
             [
              0.5555555555555556,
              "#d8576b"
             ],
             [
              0.6666666666666666,
              "#ed7953"
             ],
             [
              0.7777777777777778,
              "#fb9f3a"
             ],
             [
              0.8888888888888888,
              "#fdca26"
             ],
             [
              1,
              "#f0f921"
             ]
            ],
            "type": "surface"
           }
          ],
          "table": [
           {
            "cells": {
             "fill": {
              "color": "#EBF0F8"
             },
             "line": {
              "color": "white"
             }
            },
            "header": {
             "fill": {
              "color": "#C8D4E3"
             },
             "line": {
              "color": "white"
             }
            },
            "type": "table"
           }
          ]
         },
         "layout": {
          "annotationdefaults": {
           "arrowcolor": "#2a3f5f",
           "arrowhead": 0,
           "arrowwidth": 1
          },
          "autotypenumbers": "strict",
          "coloraxis": {
           "colorbar": {
            "outlinewidth": 0,
            "ticks": ""
           }
          },
          "colorscale": {
           "diverging": [
            [
             0,
             "#8e0152"
            ],
            [
             0.1,
             "#c51b7d"
            ],
            [
             0.2,
             "#de77ae"
            ],
            [
             0.3,
             "#f1b6da"
            ],
            [
             0.4,
             "#fde0ef"
            ],
            [
             0.5,
             "#f7f7f7"
            ],
            [
             0.6,
             "#e6f5d0"
            ],
            [
             0.7,
             "#b8e186"
            ],
            [
             0.8,
             "#7fbc41"
            ],
            [
             0.9,
             "#4d9221"
            ],
            [
             1,
             "#276419"
            ]
           ],
           "sequential": [
            [
             0,
             "#0d0887"
            ],
            [
             0.1111111111111111,
             "#46039f"
            ],
            [
             0.2222222222222222,
             "#7201a8"
            ],
            [
             0.3333333333333333,
             "#9c179e"
            ],
            [
             0.4444444444444444,
             "#bd3786"
            ],
            [
             0.5555555555555556,
             "#d8576b"
            ],
            [
             0.6666666666666666,
             "#ed7953"
            ],
            [
             0.7777777777777778,
             "#fb9f3a"
            ],
            [
             0.8888888888888888,
             "#fdca26"
            ],
            [
             1,
             "#f0f921"
            ]
           ],
           "sequentialminus": [
            [
             0,
             "#0d0887"
            ],
            [
             0.1111111111111111,
             "#46039f"
            ],
            [
             0.2222222222222222,
             "#7201a8"
            ],
            [
             0.3333333333333333,
             "#9c179e"
            ],
            [
             0.4444444444444444,
             "#bd3786"
            ],
            [
             0.5555555555555556,
             "#d8576b"
            ],
            [
             0.6666666666666666,
             "#ed7953"
            ],
            [
             0.7777777777777778,
             "#fb9f3a"
            ],
            [
             0.8888888888888888,
             "#fdca26"
            ],
            [
             1,
             "#f0f921"
            ]
           ]
          },
          "colorway": [
           "#636efa",
           "#EF553B",
           "#00cc96",
           "#ab63fa",
           "#FFA15A",
           "#19d3f3",
           "#FF6692",
           "#B6E880",
           "#FF97FF",
           "#FECB52"
          ],
          "font": {
           "color": "#2a3f5f"
          },
          "geo": {
           "bgcolor": "white",
           "lakecolor": "white",
           "landcolor": "#E5ECF6",
           "showlakes": true,
           "showland": true,
           "subunitcolor": "white"
          },
          "hoverlabel": {
           "align": "left"
          },
          "hovermode": "closest",
          "mapbox": {
           "style": "light"
          },
          "paper_bgcolor": "white",
          "plot_bgcolor": "#E5ECF6",
          "polar": {
           "angularaxis": {
            "gridcolor": "white",
            "linecolor": "white",
            "ticks": ""
           },
           "bgcolor": "#E5ECF6",
           "radialaxis": {
            "gridcolor": "white",
            "linecolor": "white",
            "ticks": ""
           }
          },
          "scene": {
           "xaxis": {
            "backgroundcolor": "#E5ECF6",
            "gridcolor": "white",
            "gridwidth": 2,
            "linecolor": "white",
            "showbackground": true,
            "ticks": "",
            "zerolinecolor": "white"
           },
           "yaxis": {
            "backgroundcolor": "#E5ECF6",
            "gridcolor": "white",
            "gridwidth": 2,
            "linecolor": "white",
            "showbackground": true,
            "ticks": "",
            "zerolinecolor": "white"
           },
           "zaxis": {
            "backgroundcolor": "#E5ECF6",
            "gridcolor": "white",
            "gridwidth": 2,
            "linecolor": "white",
            "showbackground": true,
            "ticks": "",
            "zerolinecolor": "white"
           }
          },
          "shapedefaults": {
           "line": {
            "color": "#2a3f5f"
           }
          },
          "ternary": {
           "aaxis": {
            "gridcolor": "white",
            "linecolor": "white",
            "ticks": ""
           },
           "baxis": {
            "gridcolor": "white",
            "linecolor": "white",
            "ticks": ""
           },
           "bgcolor": "#E5ECF6",
           "caxis": {
            "gridcolor": "white",
            "linecolor": "white",
            "ticks": ""
           }
          },
          "title": {
           "x": 0.05
          },
          "xaxis": {
           "automargin": true,
           "gridcolor": "white",
           "linecolor": "white",
           "ticks": "",
           "title": {
            "standoff": 15
           },
           "zerolinecolor": "white",
           "zerolinewidth": 2
          },
          "yaxis": {
           "automargin": true,
           "gridcolor": "white",
           "linecolor": "white",
           "ticks": "",
           "title": {
            "standoff": 15
           },
           "zerolinecolor": "white",
           "zerolinewidth": 2
          }
         }
        }
       }
      }
     },
     "metadata": {},
     "output_type": "display_data"
    }
   ],
   "source": [
    "fig = px.scatter_3d(pd.DataFrame(components), \n",
    "                    x=0, y=1, z=2, \n",
    "                    color=train_df[\"target\"].astype(str),\n",
    "                    hover_name=train_df[\"text\"]\n",
    ")\n",
    "fig.show()"
   ]
  },
  {
   "cell_type": "code",
   "execution_count": 75,
   "id": "31882313",
   "metadata": {},
   "outputs": [
    {
     "name": "stdout",
     "output_type": "stream",
     "text": [
      "Train accuracy:  1.0\n",
      "Validation accuracy:  0.978\n"
     ]
    }
   ],
   "source": [
    "rf_emb = RandomForestClassifier(max_depth=10, n_estimators=7, n_jobs=-1)\n",
    "rf_emb.fit(embeddings_train.cpu().numpy(), train_df.target)\n",
    "\n",
    "y_pred_train = rf_emb.predict(embeddings_train)\n",
    "print('Train accuracy: ', (train_df.target == y_pred_train).mean().round(3))\n",
    "\n",
    "y_pred_val = rf_emb.predict(embeddings_val)\n",
    "print('Validation accuracy: ', (val_df.target == y_pred_val).mean().round(3))"
   ]
  },
  {
   "cell_type": "code",
   "execution_count": 76,
   "id": "cd350ea6",
   "metadata": {},
   "outputs": [
    {
     "data": {
      "text/html": [
       "<style>#sk-container-id-5 {color: black;background-color: white;}#sk-container-id-5 pre{padding: 0;}#sk-container-id-5 div.sk-toggleable {background-color: white;}#sk-container-id-5 label.sk-toggleable__label {cursor: pointer;display: block;width: 100%;margin-bottom: 0;padding: 0.3em;box-sizing: border-box;text-align: center;}#sk-container-id-5 label.sk-toggleable__label-arrow:before {content: \"▸\";float: left;margin-right: 0.25em;color: #696969;}#sk-container-id-5 label.sk-toggleable__label-arrow:hover:before {color: black;}#sk-container-id-5 div.sk-estimator:hover label.sk-toggleable__label-arrow:before {color: black;}#sk-container-id-5 div.sk-toggleable__content {max-height: 0;max-width: 0;overflow: hidden;text-align: left;background-color: #f0f8ff;}#sk-container-id-5 div.sk-toggleable__content pre {margin: 0.2em;color: black;border-radius: 0.25em;background-color: #f0f8ff;}#sk-container-id-5 input.sk-toggleable__control:checked~div.sk-toggleable__content {max-height: 200px;max-width: 100%;overflow: auto;}#sk-container-id-5 input.sk-toggleable__control:checked~label.sk-toggleable__label-arrow:before {content: \"▾\";}#sk-container-id-5 div.sk-estimator input.sk-toggleable__control:checked~label.sk-toggleable__label {background-color: #d4ebff;}#sk-container-id-5 div.sk-label input.sk-toggleable__control:checked~label.sk-toggleable__label {background-color: #d4ebff;}#sk-container-id-5 input.sk-hidden--visually {border: 0;clip: rect(1px 1px 1px 1px);clip: rect(1px, 1px, 1px, 1px);height: 1px;margin: -1px;overflow: hidden;padding: 0;position: absolute;width: 1px;}#sk-container-id-5 div.sk-estimator {font-family: monospace;background-color: #f0f8ff;border: 1px dotted black;border-radius: 0.25em;box-sizing: border-box;margin-bottom: 0.5em;}#sk-container-id-5 div.sk-estimator:hover {background-color: #d4ebff;}#sk-container-id-5 div.sk-parallel-item::after {content: \"\";width: 100%;border-bottom: 1px solid gray;flex-grow: 1;}#sk-container-id-5 div.sk-label:hover label.sk-toggleable__label {background-color: #d4ebff;}#sk-container-id-5 div.sk-serial::before {content: \"\";position: absolute;border-left: 1px solid gray;box-sizing: border-box;top: 0;bottom: 0;left: 50%;z-index: 0;}#sk-container-id-5 div.sk-serial {display: flex;flex-direction: column;align-items: center;background-color: white;padding-right: 0.2em;padding-left: 0.2em;position: relative;}#sk-container-id-5 div.sk-item {position: relative;z-index: 1;}#sk-container-id-5 div.sk-parallel {display: flex;align-items: stretch;justify-content: center;background-color: white;position: relative;}#sk-container-id-5 div.sk-item::before, #sk-container-id-5 div.sk-parallel-item::before {content: \"\";position: absolute;border-left: 1px solid gray;box-sizing: border-box;top: 0;bottom: 0;left: 50%;z-index: -1;}#sk-container-id-5 div.sk-parallel-item {display: flex;flex-direction: column;z-index: 1;position: relative;background-color: white;}#sk-container-id-5 div.sk-parallel-item:first-child::after {align-self: flex-end;width: 50%;}#sk-container-id-5 div.sk-parallel-item:last-child::after {align-self: flex-start;width: 50%;}#sk-container-id-5 div.sk-parallel-item:only-child::after {width: 0;}#sk-container-id-5 div.sk-dashed-wrapped {border: 1px dashed gray;margin: 0 0.4em 0.5em 0.4em;box-sizing: border-box;padding-bottom: 0.4em;background-color: white;}#sk-container-id-5 div.sk-label label {font-family: monospace;font-weight: bold;display: inline-block;line-height: 1.2em;}#sk-container-id-5 div.sk-label-container {text-align: center;}#sk-container-id-5 div.sk-container {/* jupyter's `normalize.less` sets `[hidden] { display: none; }` but bootstrap.min.css set `[hidden] { display: none !important; }` so we also need the `!important` here to be able to override the default hidden behavior on the sphinx rendered scikit-learn.org. See: https://github.com/scikit-learn/scikit-learn/issues/21755 */display: inline-block !important;position: relative;}#sk-container-id-5 div.sk-text-repr-fallback {display: none;}</style><div id=\"sk-container-id-5\" class=\"sk-top-container\"><div class=\"sk-text-repr-fallback\"><pre>RandomForestClassifier(max_depth=10, n_estimators=7, n_jobs=-1)</pre><b>In a Jupyter environment, please rerun this cell to show the HTML representation or trust the notebook. <br />On GitHub, the HTML representation is unable to render, please try loading this page with nbviewer.org.</b></div><div class=\"sk-container\" hidden><div class=\"sk-item\"><div class=\"sk-estimator sk-toggleable\"><input class=\"sk-toggleable__control sk-hidden--visually\" id=\"sk-estimator-id-5\" type=\"checkbox\" checked><label for=\"sk-estimator-id-5\" class=\"sk-toggleable__label sk-toggleable__label-arrow\">RandomForestClassifier</label><div class=\"sk-toggleable__content\"><pre>RandomForestClassifier(max_depth=10, n_estimators=7, n_jobs=-1)</pre></div></div></div></div></div>"
      ],
      "text/plain": [
       "RandomForestClassifier(max_depth=10, n_estimators=7, n_jobs=-1)"
      ]
     },
     "execution_count": 76,
     "metadata": {},
     "output_type": "execute_result"
    }
   ],
   "source": [
    "rf_emb"
   ]
  },
  {
   "cell_type": "code",
   "execution_count": 77,
   "id": "5d35e0ee",
   "metadata": {},
   "outputs": [],
   "source": [
    "test_y = minilm.encode(\"Hi I'm running into some issues.\", convert_to_tensor=True)\n",
    "# test_y = minilm.encode(\"Hi I'm running into some issues. I hate you\", convert_to_tensor=True)\n",
    "# test_y = minilm.encode(\"This stinks.\", convert_to_tensor=True)"
   ]
  },
  {
   "cell_type": "code",
   "execution_count": 78,
   "id": "aec534bb",
   "metadata": {},
   "outputs": [
    {
     "data": {
      "text/plain": [
       "array([0])"
      ]
     },
     "execution_count": 78,
     "metadata": {},
     "output_type": "execute_result"
    }
   ],
   "source": [
    "rf_emb.predict(test_y.reshape(1, -1))\n",
    "# test_y.reshape(-1, 1)"
   ]
  },
  {
   "cell_type": "code",
   "execution_count": 79,
   "id": "7ec6c550",
   "metadata": {},
   "outputs": [
    {
     "data": {
      "text/plain": [
       "[\"Hi just wanted to let you know that I finished the project and it's ready for your review. Let me know if you need anything else from me.\",\n",
       " \"Good morning I'm running a few minutes late today due to traffic. I should be in the office by\",\n",
       " \"Hi I'm having trouble accessing the company database. Are you available to help troubleshoot the issue?\",\n",
       " 'Just a reminder that we have a team meeting attoday. Looking forward to seeing you there.',\n",
       " \"Hi I need to take a personal day tomorrow. I've already notified and I will make sure to complete any outstanding tasks before I leave.\",\n",
       " \"Thanks for your feedback on the report. I've made the changes you suggested and will send the updated version to you shortly.\",\n",
       " \"Can we schedule a quick call to discuss the new project? I have some ideas I'd like to run by you.\"]"
      ]
     },
     "execution_count": 79,
     "metadata": {},
     "output_type": "execute_result"
    }
   ],
   "source": [
    "neg_sents[:7]"
   ]
  },
  {
   "cell_type": "code",
   "execution_count": 80,
   "id": "8489d1fa",
   "metadata": {},
   "outputs": [],
   "source": [
    "test_y = minilm.encode(neg_sents[:7], convert_to_tensor=True)\n"
   ]
  },
  {
   "cell_type": "code",
   "execution_count": 81,
   "id": "acdfd99c",
   "metadata": {},
   "outputs": [
    {
     "data": {
      "text/plain": [
       "array([0, 0, 0, 0, 0, 0, 0])"
      ]
     },
     "execution_count": 81,
     "metadata": {},
     "output_type": "execute_result"
    }
   ],
   "source": [
    "rf_emb.predict(test_y)\n"
   ]
  },
  {
   "cell_type": "code",
   "execution_count": 82,
   "id": "181a06ea",
   "metadata": {},
   "outputs": [
    {
     "data": {
      "text/plain": [
       "['./tcd_random_forest_all-MiniLM-L6-v2_d10_t7.joblib']"
      ]
     },
     "execution_count": 82,
     "metadata": {},
     "output_type": "execute_result"
    }
   ],
   "source": [
    "# export model\n",
    "import joblib\n",
    "joblib.dump(rf_emb, './mc_random_forest_all-MiniLM-L6-v2_d10_t7.joblib', compress=True)"
   ]
  },
  {
   "cell_type": "code",
   "execution_count": null,
   "id": "a31c08d5",
   "metadata": {},
   "outputs": [],
   "source": []
  }
 ],
 "metadata": {
  "kernelspec": {
   "display_name": "base",
   "language": "python",
   "name": "python3"
  },
  "language_info": {
   "codemirror_mode": {
    "name": "ipython",
    "version": 3
   },
   "file_extension": ".py",
   "mimetype": "text/x-python",
   "name": "python",
   "nbconvert_exporter": "python",
   "pygments_lexer": "ipython3",
   "version": "3.9.6"
  },
  "vscode": {
   "interpreter": {
    "hash": "40d3a090f54c6569ab1632332b64b2c03c39dcf918b08424e98f38b5ae0af88f"
   }
  }
 },
 "nbformat": 4,
 "nbformat_minor": 5
}
